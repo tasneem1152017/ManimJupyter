{
 "cells": [
  {
   "cell_type": "code",
   "execution_count": 2,
   "metadata": {},
   "outputs": [
    {
     "data": {
      "text/html": [
       "<pre style=\"white-space:pre;overflow-x:auto;line-height:normal;font-family:Menlo,'DejaVu Sans Mono',consolas,'Courier New',monospace\">Manim Community <span style=\"color: #008000; text-decoration-color: #008000\">v0.17.3</span>\n",
       "\n",
       "</pre>\n"
      ],
      "text/plain": [
       "Manim Community \u001b[32mv0.\u001b[0m\u001b[32m17.3\u001b[0m\n",
       "\n"
      ]
     },
     "metadata": {},
     "output_type": "display_data"
    }
   ],
   "source": [
    "from manim import*\n",
    "import numpy as np\n",
    "config.media_width = \"50%\""
   ]
  },
  {
   "cell_type": "code",
   "execution_count": 3,
   "metadata": {},
   "outputs": [
    {
     "data": {
      "text/html": [
       "<pre style=\"white-space:pre;overflow-x:auto;line-height:normal;font-family:Menlo,'DejaVu Sans Mono',consolas,'Courier New',monospace\"><span style=\"color: #7fbfbf; text-decoration-color: #7fbfbf\">[10/24/23 22:58:06] </span><span style=\"color: #008000; text-decoration-color: #008000\">INFO    </span>                                                               <a href=\"file://c:\\Users\\PC\\Desktop\\ManimCE1\\mce\\lib\\site-packages\\manim\\scene\\scene_file_writer.py\" target=\"_blank\"><span style=\"color: #7f7f7f; text-decoration-color: #7f7f7f\">scene_file_writer.py</span></a><span style=\"color: #7f7f7f; text-decoration-color: #7f7f7f\">:</span><a href=\"file://c:\\Users\\PC\\Desktop\\ManimCE1\\mce\\lib\\site-packages\\manim\\scene\\scene_file_writer.py#736\" target=\"_blank\"><span style=\"color: #7f7f7f; text-decoration-color: #7f7f7f\">736</span></a>\n",
       "<span style=\"color: #7fbfbf; text-decoration-color: #7fbfbf\">                    </span>         <span style=\"color: #808000; text-decoration-color: #808000; font-weight: bold\">File</span> ready at                                                 <span style=\"color: #7f7f7f; text-decoration-color: #7f7f7f\">                        </span>\n",
       "<span style=\"color: #7fbfbf; text-decoration-color: #7fbfbf\">                    </span>         <span style=\"color: #008000; text-decoration-color: #008000\">'C:\\Users\\PC\\Desktop\\ManimCE1\\media\\images\\ManimCE1\\MyScene_M</span> <span style=\"color: #7f7f7f; text-decoration-color: #7f7f7f\">                        </span>\n",
       "<span style=\"color: #7fbfbf; text-decoration-color: #7fbfbf\">                    </span>         <span style=\"color: #008000; text-decoration-color: #008000\">animCE_v0.17.3.png'</span>                                           <span style=\"color: #7f7f7f; text-decoration-color: #7f7f7f\">                        </span>\n",
       "<span style=\"color: #7fbfbf; text-decoration-color: #7fbfbf\">                    </span>                                                                       <span style=\"color: #7f7f7f; text-decoration-color: #7f7f7f\">                        </span>\n",
       "</pre>\n"
      ],
      "text/plain": [
       "\u001b[2;36m[10/24/23 22:58:06]\u001b[0m\u001b[2;36m \u001b[0m\u001b[32mINFO    \u001b[0m                                                               \u001b]8;id=89693;file://c:\\Users\\PC\\Desktop\\ManimCE1\\mce\\lib\\site-packages\\manim\\scene\\scene_file_writer.py\u001b\\\u001b[2mscene_file_writer.py\u001b[0m\u001b]8;;\u001b\\\u001b[2m:\u001b[0m\u001b]8;id=174059;file://c:\\Users\\PC\\Desktop\\ManimCE1\\mce\\lib\\site-packages\\manim\\scene\\scene_file_writer.py#736\u001b\\\u001b[2m736\u001b[0m\u001b]8;;\u001b\\\n",
       "\u001b[2;36m                    \u001b[0m         \u001b[1;33mFile\u001b[0m ready at                                                 \u001b[2m                        \u001b[0m\n",
       "\u001b[2;36m                    \u001b[0m         \u001b[32m'C:\\Users\\PC\\Desktop\\ManimCE1\\media\\images\\ManimCE1\\MyScene_M\u001b[0m \u001b[2m                        \u001b[0m\n",
       "\u001b[2;36m                    \u001b[0m         \u001b[32manimCE_v0.17.3.png'\u001b[0m                                           \u001b[2m                        \u001b[0m\n",
       "\u001b[2;36m                    \u001b[0m                                                                       \u001b[2m                        \u001b[0m\n"
      ]
     },
     "metadata": {},
     "output_type": "display_data"
    },
    {
     "data": {
      "text/html": [
       "<pre style=\"white-space:pre;overflow-x:auto;line-height:normal;font-family:Menlo,'DejaVu Sans Mono',consolas,'Courier New',monospace\"><span style=\"color: #7fbfbf; text-decoration-color: #7fbfbf\">                    </span><span style=\"color: #008000; text-decoration-color: #008000\">INFO    </span> <span style=\"color: #808000; text-decoration-color: #808000; font-weight: bold\">Rendered</span> MyScene                                                          <a href=\"file://c:\\Users\\PC\\Desktop\\ManimCE1\\mce\\lib\\site-packages\\manim\\scene\\scene.py\" target=\"_blank\"><span style=\"color: #7f7f7f; text-decoration-color: #7f7f7f\">scene.py</span></a><span style=\"color: #7f7f7f; text-decoration-color: #7f7f7f\">:</span><a href=\"file://c:\\Users\\PC\\Desktop\\ManimCE1\\mce\\lib\\site-packages\\manim\\scene\\scene.py#241\" target=\"_blank\"><span style=\"color: #7f7f7f; text-decoration-color: #7f7f7f\">241</span></a>\n",
       "<span style=\"color: #7fbfbf; text-decoration-color: #7fbfbf\">                    </span>         <span style=\"color: #808000; text-decoration-color: #808000; font-weight: bold\">Played</span> <span style=\"color: #008000; text-decoration-color: #008000\">0</span> <span style=\"color: #808000; text-decoration-color: #808000; font-weight: bold\">animations</span>                                                       <span style=\"color: #7f7f7f; text-decoration-color: #7f7f7f\">            </span>\n",
       "</pre>\n"
      ],
      "text/plain": [
       "\u001b[2;36m                   \u001b[0m\u001b[2;36m \u001b[0m\u001b[32mINFO    \u001b[0m \u001b[1;33mRendered\u001b[0m MyScene                                                          \u001b]8;id=153723;file://c:\\Users\\PC\\Desktop\\ManimCE1\\mce\\lib\\site-packages\\manim\\scene\\scene.py\u001b\\\u001b[2mscene.py\u001b[0m\u001b]8;;\u001b\\\u001b[2m:\u001b[0m\u001b]8;id=307189;file://c:\\Users\\PC\\Desktop\\ManimCE1\\mce\\lib\\site-packages\\manim\\scene\\scene.py#241\u001b\\\u001b[2m241\u001b[0m\u001b]8;;\u001b\\\n",
       "\u001b[2;36m                    \u001b[0m         \u001b[1;33mPlayed\u001b[0m \u001b[32m0\u001b[0m \u001b[1;33manimations\u001b[0m                                                       \u001b[2m            \u001b[0m\n"
      ]
     },
     "metadata": {},
     "output_type": "display_data"
    },
    {
     "data": {
      "image/png": "[encoded data removed]",
      "text/plain": [
       "<IPython.core.display.Image object>"
      ]
     },
     "metadata": {},
     "output_type": "display_data"
    }
   ],
   "source": [
    "%%manim -qm MyScene\n",
    "\n",
    "class MyScene(ThreeDScene):\n",
    "\n",
    "    def construct(self):\n",
    "        axes = ThreeDAxes()\n",
    "        self.add(axes)\n",
    "        self.set_camera_orientation(phi=60 * DEGREES, theta=10 * DEGREES)\n",
    "\n",
    "        fn_text = MathTex(\"z = (1 + x + y)\").set_color(PINK)\n",
    "        self.add_fixed_in_frame_mobjects(fn_text)\n",
    "        fn_text.to_edge(UP, buff=0.1)\n",
    "        self.fn_text = fn_text"
   ]
  },
  {
   "cell_type": "code",
   "execution_count": 3,
   "metadata": {},
   "outputs": [
    {
     "data": {
      "text/html": [
       "<pre style=\"white-space:pre;overflow-x:auto;line-height:normal;font-family:Menlo,'DejaVu Sans Mono',consolas,'Courier New',monospace\"><span style=\"color: #7fbfbf; text-decoration-color: #7fbfbf\">[10/27/23 09:20:08] </span><span style=\"color: #008000; text-decoration-color: #008000\">INFO    </span> Animation <span style=\"color: #008000; text-decoration-color: #008000\">0</span> : Using cached data <span style=\"font-weight: bold\">(</span>hash :                           <a href=\"file://c:\\Users\\PC\\Desktop\\ManimCE1\\mce\\lib\\site-packages\\manim\\renderer\\cairo_renderer.py\" target=\"_blank\"><span style=\"color: #7f7f7f; text-decoration-color: #7f7f7f\">cairo_renderer.py</span></a><span style=\"color: #7f7f7f; text-decoration-color: #7f7f7f\">:</span><a href=\"file://c:\\Users\\PC\\Desktop\\ManimCE1\\mce\\lib\\site-packages\\manim\\renderer\\cairo_renderer.py#78\" target=\"_blank\"><span style=\"color: #7f7f7f; text-decoration-color: #7f7f7f\">78</span></a>\n",
       "<span style=\"color: #7fbfbf; text-decoration-color: #7fbfbf\">                    </span>         3398757782_1451024220_223132457<span style=\"font-weight: bold\">)</span>                                  <span style=\"color: #7f7f7f; text-decoration-color: #7f7f7f\">                    </span>\n",
       "</pre>\n"
      ],
      "text/plain": [
       "\u001b[2;36m[10/27/23 09:20:08]\u001b[0m\u001b[2;36m \u001b[0m\u001b[32mINFO    \u001b[0m Animation \u001b[32m0\u001b[0m : Using cached data \u001b[1m(\u001b[0mhash :                           \u001b]8;id=714772;file://c:\\Users\\PC\\Desktop\\ManimCE1\\mce\\lib\\site-packages\\manim\\renderer\\cairo_renderer.py\u001b\\\u001b[2mcairo_renderer.py\u001b[0m\u001b]8;;\u001b\\\u001b[2m:\u001b[0m\u001b]8;id=370413;file://c:\\Users\\PC\\Desktop\\ManimCE1\\mce\\lib\\site-packages\\manim\\renderer\\cairo_renderer.py#78\u001b\\\u001b[2m78\u001b[0m\u001b]8;;\u001b\\\n",
       "\u001b[2;36m                    \u001b[0m         3398757782_1451024220_223132457\u001b[1m)\u001b[0m                                  \u001b[2m                    \u001b[0m\n"
      ]
     },
     "metadata": {},
     "output_type": "display_data"
    },
    {
     "name": "stderr",
     "output_type": "stream",
     "text": [
      "                                                                                       \r"
     ]
    },
    {
     "data": {
      "text/html": [
       "<pre style=\"white-space:pre;overflow-x:auto;line-height:normal;font-family:Menlo,'DejaVu Sans Mono',consolas,'Courier New',monospace\"><span style=\"color: #7fbfbf; text-decoration-color: #7fbfbf\">                    </span><span style=\"color: #008000; text-decoration-color: #008000\">INFO    </span> Animation <span style=\"color: #008000; text-decoration-color: #008000\">1</span> : Using cached data <span style=\"font-weight: bold\">(</span>hash :                           <a href=\"file://c:\\Users\\PC\\Desktop\\ManimCE1\\mce\\lib\\site-packages\\manim\\renderer\\cairo_renderer.py\" target=\"_blank\"><span style=\"color: #7f7f7f; text-decoration-color: #7f7f7f\">cairo_renderer.py</span></a><span style=\"color: #7f7f7f; text-decoration-color: #7f7f7f\">:</span><a href=\"file://c:\\Users\\PC\\Desktop\\ManimCE1\\mce\\lib\\site-packages\\manim\\renderer\\cairo_renderer.py#78\" target=\"_blank\"><span style=\"color: #7f7f7f; text-decoration-color: #7f7f7f\">78</span></a>\n",
       "<span style=\"color: #7fbfbf; text-decoration-color: #7fbfbf\">                    </span>         621861868_925154946_74832077<span style=\"font-weight: bold\">)</span>                                     <span style=\"color: #7f7f7f; text-decoration-color: #7f7f7f\">                    </span>\n",
       "</pre>\n"
      ],
      "text/plain": [
       "\u001b[2;36m                   \u001b[0m\u001b[2;36m \u001b[0m\u001b[32mINFO    \u001b[0m Animation \u001b[32m1\u001b[0m : Using cached data \u001b[1m(\u001b[0mhash :                           \u001b]8;id=156003;file://c:\\Users\\PC\\Desktop\\ManimCE1\\mce\\lib\\site-packages\\manim\\renderer\\cairo_renderer.py\u001b\\\u001b[2mcairo_renderer.py\u001b[0m\u001b]8;;\u001b\\\u001b[2m:\u001b[0m\u001b]8;id=541396;file://c:\\Users\\PC\\Desktop\\ManimCE1\\mce\\lib\\site-packages\\manim\\renderer\\cairo_renderer.py#78\u001b\\\u001b[2m78\u001b[0m\u001b]8;;\u001b\\\n",
       "\u001b[2;36m                    \u001b[0m         621861868_925154946_74832077\u001b[1m)\u001b[0m                                     \u001b[2m                    \u001b[0m\n"
      ]
     },
     "metadata": {},
     "output_type": "display_data"
    },
    {
     "name": "stderr",
     "output_type": "stream",
     "text": [
      "                                                                              \r"
     ]
    },
    {
     "data": {
      "text/html": [
       "<pre style=\"white-space:pre;overflow-x:auto;line-height:normal;font-family:Menlo,'DejaVu Sans Mono',consolas,'Courier New',monospace\"><span style=\"color: #7fbfbf; text-decoration-color: #7fbfbf\">                    </span><span style=\"color: #008000; text-decoration-color: #008000\">INFO    </span> Animation <span style=\"color: #008000; text-decoration-color: #008000\">2</span> : Using cached data <span style=\"font-weight: bold\">(</span>hash :                           <a href=\"file://c:\\Users\\PC\\Desktop\\ManimCE1\\mce\\lib\\site-packages\\manim\\renderer\\cairo_renderer.py\" target=\"_blank\"><span style=\"color: #7f7f7f; text-decoration-color: #7f7f7f\">cairo_renderer.py</span></a><span style=\"color: #7f7f7f; text-decoration-color: #7f7f7f\">:</span><a href=\"file://c:\\Users\\PC\\Desktop\\ManimCE1\\mce\\lib\\site-packages\\manim\\renderer\\cairo_renderer.py#78\" target=\"_blank\"><span style=\"color: #7f7f7f; text-decoration-color: #7f7f7f\">78</span></a>\n",
       "<span style=\"color: #7fbfbf; text-decoration-color: #7fbfbf\">                    </span>         621861868_2041549872_1571095272<span style=\"font-weight: bold\">)</span>                                  <span style=\"color: #7f7f7f; text-decoration-color: #7f7f7f\">                    </span>\n",
       "</pre>\n"
      ],
      "text/plain": [
       "\u001b[2;36m                   \u001b[0m\u001b[2;36m \u001b[0m\u001b[32mINFO    \u001b[0m Animation \u001b[32m2\u001b[0m : Using cached data \u001b[1m(\u001b[0mhash :                           \u001b]8;id=890894;file://c:\\Users\\PC\\Desktop\\ManimCE1\\mce\\lib\\site-packages\\manim\\renderer\\cairo_renderer.py\u001b\\\u001b[2mcairo_renderer.py\u001b[0m\u001b]8;;\u001b\\\u001b[2m:\u001b[0m\u001b]8;id=937331;file://c:\\Users\\PC\\Desktop\\ManimCE1\\mce\\lib\\site-packages\\manim\\renderer\\cairo_renderer.py#78\u001b\\\u001b[2m78\u001b[0m\u001b]8;;\u001b\\\n",
       "\u001b[2;36m                    \u001b[0m         621861868_2041549872_1571095272\u001b[1m)\u001b[0m                                  \u001b[2m                    \u001b[0m\n"
      ]
     },
     "metadata": {},
     "output_type": "display_data"
    },
    {
     "name": "stderr",
     "output_type": "stream",
     "text": [
      "                                                                     \r"
     ]
    },
    {
     "data": {
      "text/html": [
       "<pre style=\"white-space:pre;overflow-x:auto;line-height:normal;font-family:Menlo,'DejaVu Sans Mono',consolas,'Courier New',monospace\"><span style=\"color: #7fbfbf; text-decoration-color: #7fbfbf\">[10/27/23 09:20:09] </span><span style=\"color: #008000; text-decoration-color: #008000\">INFO    </span> Animation <span style=\"color: #008000; text-decoration-color: #008000\">3</span> : Using cached data <span style=\"font-weight: bold\">(</span>hash :                           <a href=\"file://c:\\Users\\PC\\Desktop\\ManimCE1\\mce\\lib\\site-packages\\manim\\renderer\\cairo_renderer.py\" target=\"_blank\"><span style=\"color: #7f7f7f; text-decoration-color: #7f7f7f\">cairo_renderer.py</span></a><span style=\"color: #7f7f7f; text-decoration-color: #7f7f7f\">:</span><a href=\"file://c:\\Users\\PC\\Desktop\\ManimCE1\\mce\\lib\\site-packages\\manim\\renderer\\cairo_renderer.py#78\" target=\"_blank\"><span style=\"color: #7f7f7f; text-decoration-color: #7f7f7f\">78</span></a>\n",
       "<span style=\"color: #7fbfbf; text-decoration-color: #7fbfbf\">                    </span>         621861868_3038165733_3101647978<span style=\"font-weight: bold\">)</span>                                  <span style=\"color: #7f7f7f; text-decoration-color: #7f7f7f\">                    </span>\n",
       "</pre>\n"
      ],
      "text/plain": [
       "\u001b[2;36m[10/27/23 09:20:09]\u001b[0m\u001b[2;36m \u001b[0m\u001b[32mINFO    \u001b[0m Animation \u001b[32m3\u001b[0m : Using cached data \u001b[1m(\u001b[0mhash :                           \u001b]8;id=624019;file://c:\\Users\\PC\\Desktop\\ManimCE1\\mce\\lib\\site-packages\\manim\\renderer\\cairo_renderer.py\u001b\\\u001b[2mcairo_renderer.py\u001b[0m\u001b]8;;\u001b\\\u001b[2m:\u001b[0m\u001b]8;id=986156;file://c:\\Users\\PC\\Desktop\\ManimCE1\\mce\\lib\\site-packages\\manim\\renderer\\cairo_renderer.py#78\u001b\\\u001b[2m78\u001b[0m\u001b]8;;\u001b\\\n",
       "\u001b[2;36m                    \u001b[0m         621861868_3038165733_3101647978\u001b[1m)\u001b[0m                                  \u001b[2m                    \u001b[0m\n"
      ]
     },
     "metadata": {},
     "output_type": "display_data"
    },
    {
     "name": "stderr",
     "output_type": "stream",
     "text": [
      "                                                                              \r"
     ]
    },
    {
     "data": {
      "text/html": [
       "<pre style=\"white-space:pre;overflow-x:auto;line-height:normal;font-family:Menlo,'DejaVu Sans Mono',consolas,'Courier New',monospace\"><span style=\"color: #7fbfbf; text-decoration-color: #7fbfbf\">[10/27/23 09:20:10] </span><span style=\"color: #008000; text-decoration-color: #008000\">INFO    </span> Animation <span style=\"color: #008000; text-decoration-color: #008000\">4</span> : Partial movie file written in                   <a href=\"file://c:\\Users\\PC\\Desktop\\ManimCE1\\mce\\lib\\site-packages\\manim\\scene\\scene_file_writer.py\" target=\"_blank\"><span style=\"color: #7f7f7f; text-decoration-color: #7f7f7f\">scene_file_writer.py</span></a><span style=\"color: #7f7f7f; text-decoration-color: #7f7f7f\">:</span><a href=\"file://c:\\Users\\PC\\Desktop\\ManimCE1\\mce\\lib\\site-packages\\manim\\scene\\scene_file_writer.py#527\" target=\"_blank\"><span style=\"color: #7f7f7f; text-decoration-color: #7f7f7f\">527</span></a>\n",
       "<span style=\"color: #7fbfbf; text-decoration-color: #7fbfbf\">                    </span>         <span style=\"color: #008000; text-decoration-color: #008000\">'C:\\Users\\PC\\Desktop\\ManimCE1\\media\\videos\\720p30\\partial_mov</span> <span style=\"color: #7f7f7f; text-decoration-color: #7f7f7f\">                        </span>\n",
       "<span style=\"color: #7fbfbf; text-decoration-color: #7fbfbf\">                    </span>         <span style=\"color: #008000; text-decoration-color: #008000\">ie_files\\IntegralAnimation\\621861868_4264318522_3708751258.mp</span> <span style=\"color: #7f7f7f; text-decoration-color: #7f7f7f\">                        </span>\n",
       "<span style=\"color: #7fbfbf; text-decoration-color: #7fbfbf\">                    </span>         <span style=\"color: #008000; text-decoration-color: #008000\">4'</span>                                                            <span style=\"color: #7f7f7f; text-decoration-color: #7f7f7f\">                        </span>\n",
       "</pre>\n"
      ],
      "text/plain": [
       "\u001b[2;36m[10/27/23 09:20:10]\u001b[0m\u001b[2;36m \u001b[0m\u001b[32mINFO    \u001b[0m Animation \u001b[32m4\u001b[0m : Partial movie file written in                   \u001b]8;id=744676;file://c:\\Users\\PC\\Desktop\\ManimCE1\\mce\\lib\\site-packages\\manim\\scene\\scene_file_writer.py\u001b\\\u001b[2mscene_file_writer.py\u001b[0m\u001b]8;;\u001b\\\u001b[2m:\u001b[0m\u001b]8;id=107019;file://c:\\Users\\PC\\Desktop\\ManimCE1\\mce\\lib\\site-packages\\manim\\scene\\scene_file_writer.py#527\u001b\\\u001b[2m527\u001b[0m\u001b]8;;\u001b\\\n",
       "\u001b[2;36m                    \u001b[0m         \u001b[32m'C:\\Users\\PC\\Desktop\\ManimCE1\\media\\videos\\720p30\\partial_mov\u001b[0m \u001b[2m                        \u001b[0m\n",
       "\u001b[2;36m                    \u001b[0m         \u001b[32mie_files\\IntegralAnimation\\621861868_4264318522_3708751258.mp\u001b[0m \u001b[2m                        \u001b[0m\n",
       "\u001b[2;36m                    \u001b[0m         \u001b[32m4'\u001b[0m                                                            \u001b[2m                        \u001b[0m\n"
      ]
     },
     "metadata": {},
     "output_type": "display_data"
    },
    {
     "name": "stderr",
     "output_type": "stream",
     "text": [
      "                                                                              \r"
     ]
    },
    {
     "data": {
      "text/html": [
       "<pre style=\"white-space:pre;overflow-x:auto;line-height:normal;font-family:Menlo,'DejaVu Sans Mono',consolas,'Courier New',monospace\"><span style=\"color: #7fbfbf; text-decoration-color: #7fbfbf\">[10/27/23 09:20:11] </span><span style=\"color: #008000; text-decoration-color: #008000\">INFO    </span> Animation <span style=\"color: #008000; text-decoration-color: #008000\">5</span> : Partial movie file written in                   <a href=\"file://c:\\Users\\PC\\Desktop\\ManimCE1\\mce\\lib\\site-packages\\manim\\scene\\scene_file_writer.py\" target=\"_blank\"><span style=\"color: #7f7f7f; text-decoration-color: #7f7f7f\">scene_file_writer.py</span></a><span style=\"color: #7f7f7f; text-decoration-color: #7f7f7f\">:</span><a href=\"file://c:\\Users\\PC\\Desktop\\ManimCE1\\mce\\lib\\site-packages\\manim\\scene\\scene_file_writer.py#527\" target=\"_blank\"><span style=\"color: #7f7f7f; text-decoration-color: #7f7f7f\">527</span></a>\n",
       "<span style=\"color: #7fbfbf; text-decoration-color: #7fbfbf\">                    </span>         <span style=\"color: #008000; text-decoration-color: #008000\">'C:\\Users\\PC\\Desktop\\ManimCE1\\media\\videos\\720p30\\partial_mov</span> <span style=\"color: #7f7f7f; text-decoration-color: #7f7f7f\">                        </span>\n",
       "<span style=\"color: #7fbfbf; text-decoration-color: #7fbfbf\">                    </span>         <span style=\"color: #008000; text-decoration-color: #008000\">ie_files\\IntegralAnimation\\621861868_835158179_1072902639.mp4</span> <span style=\"color: #7f7f7f; text-decoration-color: #7f7f7f\">                        </span>\n",
       "<span style=\"color: #7fbfbf; text-decoration-color: #7fbfbf\">                    </span>         <span style=\"color: #008000; text-decoration-color: #008000\">'</span>                                                             <span style=\"color: #7f7f7f; text-decoration-color: #7f7f7f\">                        </span>\n",
       "</pre>\n"
      ],
      "text/plain": [
       "\u001b[2;36m[10/27/23 09:20:11]\u001b[0m\u001b[2;36m \u001b[0m\u001b[32mINFO    \u001b[0m Animation \u001b[32m5\u001b[0m : Partial movie file written in                   \u001b]8;id=871626;file://c:\\Users\\PC\\Desktop\\ManimCE1\\mce\\lib\\site-packages\\manim\\scene\\scene_file_writer.py\u001b\\\u001b[2mscene_file_writer.py\u001b[0m\u001b]8;;\u001b\\\u001b[2m:\u001b[0m\u001b]8;id=992509;file://c:\\Users\\PC\\Desktop\\ManimCE1\\mce\\lib\\site-packages\\manim\\scene\\scene_file_writer.py#527\u001b\\\u001b[2m527\u001b[0m\u001b]8;;\u001b\\\n",
       "\u001b[2;36m                    \u001b[0m         \u001b[32m'C:\\Users\\PC\\Desktop\\ManimCE1\\media\\videos\\720p30\\partial_mov\u001b[0m \u001b[2m                        \u001b[0m\n",
       "\u001b[2;36m                    \u001b[0m         \u001b[32mie_files\\IntegralAnimation\\621861868_835158179_1072902639.mp4\u001b[0m \u001b[2m                        \u001b[0m\n",
       "\u001b[2;36m                    \u001b[0m         \u001b[32m'\u001b[0m                                                             \u001b[2m                        \u001b[0m\n"
      ]
     },
     "metadata": {},
     "output_type": "display_data"
    },
    {
     "name": "stderr",
     "output_type": "stream",
     "text": [
      "                                                                                \r"
     ]
    },
    {
     "data": {
      "text/html": [
       "<pre style=\"white-space:pre;overflow-x:auto;line-height:normal;font-family:Menlo,'DejaVu Sans Mono',consolas,'Courier New',monospace\"><span style=\"color: #7fbfbf; text-decoration-color: #7fbfbf\">                    </span><span style=\"color: #008000; text-decoration-color: #008000\">INFO    </span> Animation <span style=\"color: #008000; text-decoration-color: #008000\">6</span> : Partial movie file written in                   <a href=\"file://c:\\Users\\PC\\Desktop\\ManimCE1\\mce\\lib\\site-packages\\manim\\scene\\scene_file_writer.py\" target=\"_blank\"><span style=\"color: #7f7f7f; text-decoration-color: #7f7f7f\">scene_file_writer.py</span></a><span style=\"color: #7f7f7f; text-decoration-color: #7f7f7f\">:</span><a href=\"file://c:\\Users\\PC\\Desktop\\ManimCE1\\mce\\lib\\site-packages\\manim\\scene\\scene_file_writer.py#527\" target=\"_blank\"><span style=\"color: #7f7f7f; text-decoration-color: #7f7f7f\">527</span></a>\n",
       "<span style=\"color: #7fbfbf; text-decoration-color: #7fbfbf\">                    </span>         <span style=\"color: #008000; text-decoration-color: #008000\">'C:\\Users\\PC\\Desktop\\ManimCE1\\media\\videos\\720p30\\partial_mov</span> <span style=\"color: #7f7f7f; text-decoration-color: #7f7f7f\">                        </span>\n",
       "<span style=\"color: #7fbfbf; text-decoration-color: #7fbfbf\">                    </span>         <span style=\"color: #008000; text-decoration-color: #008000\">ie_files\\IntegralAnimation\\621861868_3168824207_2515639100.mp</span> <span style=\"color: #7f7f7f; text-decoration-color: #7f7f7f\">                        </span>\n",
       "<span style=\"color: #7fbfbf; text-decoration-color: #7fbfbf\">                    </span>         <span style=\"color: #008000; text-decoration-color: #008000\">4'</span>                                                            <span style=\"color: #7f7f7f; text-decoration-color: #7f7f7f\">                        </span>\n",
       "</pre>\n"
      ],
      "text/plain": [
       "\u001b[2;36m                   \u001b[0m\u001b[2;36m \u001b[0m\u001b[32mINFO    \u001b[0m Animation \u001b[32m6\u001b[0m : Partial movie file written in                   \u001b]8;id=176831;file://c:\\Users\\PC\\Desktop\\ManimCE1\\mce\\lib\\site-packages\\manim\\scene\\scene_file_writer.py\u001b\\\u001b[2mscene_file_writer.py\u001b[0m\u001b]8;;\u001b\\\u001b[2m:\u001b[0m\u001b]8;id=381349;file://c:\\Users\\PC\\Desktop\\ManimCE1\\mce\\lib\\site-packages\\manim\\scene\\scene_file_writer.py#527\u001b\\\u001b[2m527\u001b[0m\u001b]8;;\u001b\\\n",
       "\u001b[2;36m                    \u001b[0m         \u001b[32m'C:\\Users\\PC\\Desktop\\ManimCE1\\media\\videos\\720p30\\partial_mov\u001b[0m \u001b[2m                        \u001b[0m\n",
       "\u001b[2;36m                    \u001b[0m         \u001b[32mie_files\\IntegralAnimation\\621861868_3168824207_2515639100.mp\u001b[0m \u001b[2m                        \u001b[0m\n",
       "\u001b[2;36m                    \u001b[0m         \u001b[32m4'\u001b[0m                                                            \u001b[2m                        \u001b[0m\n"
      ]
     },
     "metadata": {},
     "output_type": "display_data"
    },
    {
     "name": "stderr",
     "output_type": "stream",
     "text": [
      "                                                                                \r"
     ]
    },
    {
     "data": {
      "text/html": [
       "<pre style=\"white-space:pre;overflow-x:auto;line-height:normal;font-family:Menlo,'DejaVu Sans Mono',consolas,'Courier New',monospace\"><span style=\"color: #7fbfbf; text-decoration-color: #7fbfbf\">[10/27/23 09:20:12] </span><span style=\"color: #008000; text-decoration-color: #008000\">INFO    </span> Animation <span style=\"color: #008000; text-decoration-color: #008000\">7</span> : Partial movie file written in                   <a href=\"file://c:\\Users\\PC\\Desktop\\ManimCE1\\mce\\lib\\site-packages\\manim\\scene\\scene_file_writer.py\" target=\"_blank\"><span style=\"color: #7f7f7f; text-decoration-color: #7f7f7f\">scene_file_writer.py</span></a><span style=\"color: #7f7f7f; text-decoration-color: #7f7f7f\">:</span><a href=\"file://c:\\Users\\PC\\Desktop\\ManimCE1\\mce\\lib\\site-packages\\manim\\scene\\scene_file_writer.py#527\" target=\"_blank\"><span style=\"color: #7f7f7f; text-decoration-color: #7f7f7f\">527</span></a>\n",
       "<span style=\"color: #7fbfbf; text-decoration-color: #7fbfbf\">                    </span>         <span style=\"color: #008000; text-decoration-color: #008000\">'C:\\Users\\PC\\Desktop\\ManimCE1\\media\\videos\\720p30\\partial_mov</span> <span style=\"color: #7f7f7f; text-decoration-color: #7f7f7f\">                        </span>\n",
       "<span style=\"color: #7fbfbf; text-decoration-color: #7fbfbf\">                    </span>         <span style=\"color: #008000; text-decoration-color: #008000\">ie_files\\IntegralAnimation\\621861868_3904093505_2605732337.mp</span> <span style=\"color: #7f7f7f; text-decoration-color: #7f7f7f\">                        </span>\n",
       "<span style=\"color: #7fbfbf; text-decoration-color: #7fbfbf\">                    </span>         <span style=\"color: #008000; text-decoration-color: #008000\">4'</span>                                                            <span style=\"color: #7f7f7f; text-decoration-color: #7f7f7f\">                        </span>\n",
       "</pre>\n"
      ],
      "text/plain": [
       "\u001b[2;36m[10/27/23 09:20:12]\u001b[0m\u001b[2;36m \u001b[0m\u001b[32mINFO    \u001b[0m Animation \u001b[32m7\u001b[0m : Partial movie file written in                   \u001b]8;id=522944;file://c:\\Users\\PC\\Desktop\\ManimCE1\\mce\\lib\\site-packages\\manim\\scene\\scene_file_writer.py\u001b\\\u001b[2mscene_file_writer.py\u001b[0m\u001b]8;;\u001b\\\u001b[2m:\u001b[0m\u001b]8;id=942474;file://c:\\Users\\PC\\Desktop\\ManimCE1\\mce\\lib\\site-packages\\manim\\scene\\scene_file_writer.py#527\u001b\\\u001b[2m527\u001b[0m\u001b]8;;\u001b\\\n",
       "\u001b[2;36m                    \u001b[0m         \u001b[32m'C:\\Users\\PC\\Desktop\\ManimCE1\\media\\videos\\720p30\\partial_mov\u001b[0m \u001b[2m                        \u001b[0m\n",
       "\u001b[2;36m                    \u001b[0m         \u001b[32mie_files\\IntegralAnimation\\621861868_3904093505_2605732337.mp\u001b[0m \u001b[2m                        \u001b[0m\n",
       "\u001b[2;36m                    \u001b[0m         \u001b[32m4'\u001b[0m                                                            \u001b[2m                        \u001b[0m\n"
      ]
     },
     "metadata": {},
     "output_type": "display_data"
    },
    {
     "name": "stderr",
     "output_type": "stream",
     "text": [
      "                                                                              \r"
     ]
    },
    {
     "data": {
      "text/html": [
       "<pre style=\"white-space:pre;overflow-x:auto;line-height:normal;font-family:Menlo,'DejaVu Sans Mono',consolas,'Courier New',monospace\"><span style=\"color: #7fbfbf; text-decoration-color: #7fbfbf\">[10/27/23 09:20:14] </span><span style=\"color: #008000; text-decoration-color: #008000\">INFO    </span> Animation <span style=\"color: #008000; text-decoration-color: #008000\">8</span> : Partial movie file written in                   <a href=\"file://c:\\Users\\PC\\Desktop\\ManimCE1\\mce\\lib\\site-packages\\manim\\scene\\scene_file_writer.py\" target=\"_blank\"><span style=\"color: #7f7f7f; text-decoration-color: #7f7f7f\">scene_file_writer.py</span></a><span style=\"color: #7f7f7f; text-decoration-color: #7f7f7f\">:</span><a href=\"file://c:\\Users\\PC\\Desktop\\ManimCE1\\mce\\lib\\site-packages\\manim\\scene\\scene_file_writer.py#527\" target=\"_blank\"><span style=\"color: #7f7f7f; text-decoration-color: #7f7f7f\">527</span></a>\n",
       "<span style=\"color: #7fbfbf; text-decoration-color: #7fbfbf\">                    </span>         <span style=\"color: #008000; text-decoration-color: #008000\">'C:\\Users\\PC\\Desktop\\ManimCE1\\media\\videos\\720p30\\partial_mov</span> <span style=\"color: #7f7f7f; text-decoration-color: #7f7f7f\">                        </span>\n",
       "<span style=\"color: #7fbfbf; text-decoration-color: #7fbfbf\">                    </span>         <span style=\"color: #008000; text-decoration-color: #008000\">ie_files\\IntegralAnimation\\621861868_1721100161_2358810818.mp</span> <span style=\"color: #7f7f7f; text-decoration-color: #7f7f7f\">                        </span>\n",
       "<span style=\"color: #7fbfbf; text-decoration-color: #7fbfbf\">                    </span>         <span style=\"color: #008000; text-decoration-color: #008000\">4'</span>                                                            <span style=\"color: #7f7f7f; text-decoration-color: #7f7f7f\">                        </span>\n",
       "</pre>\n"
      ],
      "text/plain": [
       "\u001b[2;36m[10/27/23 09:20:14]\u001b[0m\u001b[2;36m \u001b[0m\u001b[32mINFO    \u001b[0m Animation \u001b[32m8\u001b[0m : Partial movie file written in                   \u001b]8;id=80440;file://c:\\Users\\PC\\Desktop\\ManimCE1\\mce\\lib\\site-packages\\manim\\scene\\scene_file_writer.py\u001b\\\u001b[2mscene_file_writer.py\u001b[0m\u001b]8;;\u001b\\\u001b[2m:\u001b[0m\u001b]8;id=251695;file://c:\\Users\\PC\\Desktop\\ManimCE1\\mce\\lib\\site-packages\\manim\\scene\\scene_file_writer.py#527\u001b\\\u001b[2m527\u001b[0m\u001b]8;;\u001b\\\n",
       "\u001b[2;36m                    \u001b[0m         \u001b[32m'C:\\Users\\PC\\Desktop\\ManimCE1\\media\\videos\\720p30\\partial_mov\u001b[0m \u001b[2m                        \u001b[0m\n",
       "\u001b[2;36m                    \u001b[0m         \u001b[32mie_files\\IntegralAnimation\\621861868_1721100161_2358810818.mp\u001b[0m \u001b[2m                        \u001b[0m\n",
       "\u001b[2;36m                    \u001b[0m         \u001b[32m4'\u001b[0m                                                            \u001b[2m                        \u001b[0m\n"
      ]
     },
     "metadata": {},
     "output_type": "display_data"
    },
    {
     "name": "stderr",
     "output_type": "stream",
     "text": [
      "                                                                              \r"
     ]
    },
    {
     "data": {
      "text/html": [
       "<pre style=\"white-space:pre;overflow-x:auto;line-height:normal;font-family:Menlo,'DejaVu Sans Mono',consolas,'Courier New',monospace\"><span style=\"color: #7fbfbf; text-decoration-color: #7fbfbf\">[10/27/23 09:20:24] </span><span style=\"color: #008000; text-decoration-color: #008000\">INFO    </span> Animation <span style=\"color: #008000; text-decoration-color: #008000\">9</span> : Partial movie file written in                   <a href=\"file://c:\\Users\\PC\\Desktop\\ManimCE1\\mce\\lib\\site-packages\\manim\\scene\\scene_file_writer.py\" target=\"_blank\"><span style=\"color: #7f7f7f; text-decoration-color: #7f7f7f\">scene_file_writer.py</span></a><span style=\"color: #7f7f7f; text-decoration-color: #7f7f7f\">:</span><a href=\"file://c:\\Users\\PC\\Desktop\\ManimCE1\\mce\\lib\\site-packages\\manim\\scene\\scene_file_writer.py#527\" target=\"_blank\"><span style=\"color: #7f7f7f; text-decoration-color: #7f7f7f\">527</span></a>\n",
       "<span style=\"color: #7fbfbf; text-decoration-color: #7fbfbf\">                    </span>         <span style=\"color: #008000; text-decoration-color: #008000\">'C:\\Users\\PC\\Desktop\\ManimCE1\\media\\videos\\720p30\\partial_mov</span> <span style=\"color: #7f7f7f; text-decoration-color: #7f7f7f\">                        </span>\n",
       "<span style=\"color: #7fbfbf; text-decoration-color: #7fbfbf\">                    </span>         <span style=\"color: #008000; text-decoration-color: #008000\">ie_files\\IntegralAnimation\\621861868_3174196662_219832391.mp4</span> <span style=\"color: #7f7f7f; text-decoration-color: #7f7f7f\">                        </span>\n",
       "<span style=\"color: #7fbfbf; text-decoration-color: #7fbfbf\">                    </span>         <span style=\"color: #008000; text-decoration-color: #008000\">'</span>                                                             <span style=\"color: #7f7f7f; text-decoration-color: #7f7f7f\">                        </span>\n",
       "</pre>\n"
      ],
      "text/plain": [
       "\u001b[2;36m[10/27/23 09:20:24]\u001b[0m\u001b[2;36m \u001b[0m\u001b[32mINFO    \u001b[0m Animation \u001b[32m9\u001b[0m : Partial movie file written in                   \u001b]8;id=469534;file://c:\\Users\\PC\\Desktop\\ManimCE1\\mce\\lib\\site-packages\\manim\\scene\\scene_file_writer.py\u001b\\\u001b[2mscene_file_writer.py\u001b[0m\u001b]8;;\u001b\\\u001b[2m:\u001b[0m\u001b]8;id=821199;file://c:\\Users\\PC\\Desktop\\ManimCE1\\mce\\lib\\site-packages\\manim\\scene\\scene_file_writer.py#527\u001b\\\u001b[2m527\u001b[0m\u001b]8;;\u001b\\\n",
       "\u001b[2;36m                    \u001b[0m         \u001b[32m'C:\\Users\\PC\\Desktop\\ManimCE1\\media\\videos\\720p30\\partial_mov\u001b[0m \u001b[2m                        \u001b[0m\n",
       "\u001b[2;36m                    \u001b[0m         \u001b[32mie_files\\IntegralAnimation\\621861868_3174196662_219832391.mp4\u001b[0m \u001b[2m                        \u001b[0m\n",
       "\u001b[2;36m                    \u001b[0m         \u001b[32m'\u001b[0m                                                             \u001b[2m                        \u001b[0m\n"
      ]
     },
     "metadata": {},
     "output_type": "display_data"
    },
    {
     "name": "stderr",
     "output_type": "stream",
     "text": [
      "                                                                               \r"
     ]
    },
    {
     "data": {
      "text/html": [
       "<pre style=\"white-space:pre;overflow-x:auto;line-height:normal;font-family:Menlo,'DejaVu Sans Mono',consolas,'Courier New',monospace\"><span style=\"color: #7fbfbf; text-decoration-color: #7fbfbf\">[10/27/23 09:20:35] </span><span style=\"color: #008000; text-decoration-color: #008000\">INFO    </span> Animation <span style=\"color: #008000; text-decoration-color: #008000\">10</span> : Partial movie file written in                  <a href=\"file://c:\\Users\\PC\\Desktop\\ManimCE1\\mce\\lib\\site-packages\\manim\\scene\\scene_file_writer.py\" target=\"_blank\"><span style=\"color: #7f7f7f; text-decoration-color: #7f7f7f\">scene_file_writer.py</span></a><span style=\"color: #7f7f7f; text-decoration-color: #7f7f7f\">:</span><a href=\"file://c:\\Users\\PC\\Desktop\\ManimCE1\\mce\\lib\\site-packages\\manim\\scene\\scene_file_writer.py#527\" target=\"_blank\"><span style=\"color: #7f7f7f; text-decoration-color: #7f7f7f\">527</span></a>\n",
       "<span style=\"color: #7fbfbf; text-decoration-color: #7fbfbf\">                    </span>         <span style=\"color: #008000; text-decoration-color: #008000\">'C:\\Users\\PC\\Desktop\\ManimCE1\\media\\videos\\720p30\\partial_mov</span> <span style=\"color: #7f7f7f; text-decoration-color: #7f7f7f\">                        </span>\n",
       "<span style=\"color: #7fbfbf; text-decoration-color: #7fbfbf\">                    </span>         <span style=\"color: #008000; text-decoration-color: #008000\">ie_files\\IntegralAnimation\\621861868_760097792_2188039775.mp4</span> <span style=\"color: #7f7f7f; text-decoration-color: #7f7f7f\">                        </span>\n",
       "<span style=\"color: #7fbfbf; text-decoration-color: #7fbfbf\">                    </span>         <span style=\"color: #008000; text-decoration-color: #008000\">'</span>                                                             <span style=\"color: #7f7f7f; text-decoration-color: #7f7f7f\">                        </span>\n",
       "</pre>\n"
      ],
      "text/plain": [
       "\u001b[2;36m[10/27/23 09:20:35]\u001b[0m\u001b[2;36m \u001b[0m\u001b[32mINFO    \u001b[0m Animation \u001b[32m10\u001b[0m : Partial movie file written in                  \u001b]8;id=435020;file://c:\\Users\\PC\\Desktop\\ManimCE1\\mce\\lib\\site-packages\\manim\\scene\\scene_file_writer.py\u001b\\\u001b[2mscene_file_writer.py\u001b[0m\u001b]8;;\u001b\\\u001b[2m:\u001b[0m\u001b]8;id=673585;file://c:\\Users\\PC\\Desktop\\ManimCE1\\mce\\lib\\site-packages\\manim\\scene\\scene_file_writer.py#527\u001b\\\u001b[2m527\u001b[0m\u001b]8;;\u001b\\\n",
       "\u001b[2;36m                    \u001b[0m         \u001b[32m'C:\\Users\\PC\\Desktop\\ManimCE1\\media\\videos\\720p30\\partial_mov\u001b[0m \u001b[2m                        \u001b[0m\n",
       "\u001b[2;36m                    \u001b[0m         \u001b[32mie_files\\IntegralAnimation\\621861868_760097792_2188039775.mp4\u001b[0m \u001b[2m                        \u001b[0m\n",
       "\u001b[2;36m                    \u001b[0m         \u001b[32m'\u001b[0m                                                             \u001b[2m                        \u001b[0m\n"
      ]
     },
     "metadata": {},
     "output_type": "display_data"
    },
    {
     "name": "stderr",
     "output_type": "stream",
     "text": [
      "                                                                               \r"
     ]
    },
    {
     "data": {
      "text/html": [
       "<pre style=\"white-space:pre;overflow-x:auto;line-height:normal;font-family:Menlo,'DejaVu Sans Mono',consolas,'Courier New',monospace\"><span style=\"color: #7fbfbf; text-decoration-color: #7fbfbf\">[10/27/23 09:20:45] </span><span style=\"color: #008000; text-decoration-color: #008000\">INFO    </span> Animation <span style=\"color: #008000; text-decoration-color: #008000\">11</span> : Partial movie file written in                  <a href=\"file://c:\\Users\\PC\\Desktop\\ManimCE1\\mce\\lib\\site-packages\\manim\\scene\\scene_file_writer.py\" target=\"_blank\"><span style=\"color: #7f7f7f; text-decoration-color: #7f7f7f\">scene_file_writer.py</span></a><span style=\"color: #7f7f7f; text-decoration-color: #7f7f7f\">:</span><a href=\"file://c:\\Users\\PC\\Desktop\\ManimCE1\\mce\\lib\\site-packages\\manim\\scene\\scene_file_writer.py#527\" target=\"_blank\"><span style=\"color: #7f7f7f; text-decoration-color: #7f7f7f\">527</span></a>\n",
       "<span style=\"color: #7fbfbf; text-decoration-color: #7fbfbf\">                    </span>         <span style=\"color: #008000; text-decoration-color: #008000\">'C:\\Users\\PC\\Desktop\\ManimCE1\\media\\videos\\720p30\\partial_mov</span> <span style=\"color: #7f7f7f; text-decoration-color: #7f7f7f\">                        </span>\n",
       "<span style=\"color: #7fbfbf; text-decoration-color: #7fbfbf\">                    </span>         <span style=\"color: #008000; text-decoration-color: #008000\">ie_files\\IntegralAnimation\\621861868_2641316838_1440039086.mp</span> <span style=\"color: #7f7f7f; text-decoration-color: #7f7f7f\">                        </span>\n",
       "<span style=\"color: #7fbfbf; text-decoration-color: #7fbfbf\">                    </span>         <span style=\"color: #008000; text-decoration-color: #008000\">4'</span>                                                            <span style=\"color: #7f7f7f; text-decoration-color: #7f7f7f\">                        </span>\n",
       "</pre>\n"
      ],
      "text/plain": [
       "\u001b[2;36m[10/27/23 09:20:45]\u001b[0m\u001b[2;36m \u001b[0m\u001b[32mINFO    \u001b[0m Animation \u001b[32m11\u001b[0m : Partial movie file written in                  \u001b]8;id=41911;file://c:\\Users\\PC\\Desktop\\ManimCE1\\mce\\lib\\site-packages\\manim\\scene\\scene_file_writer.py\u001b\\\u001b[2mscene_file_writer.py\u001b[0m\u001b]8;;\u001b\\\u001b[2m:\u001b[0m\u001b]8;id=830122;file://c:\\Users\\PC\\Desktop\\ManimCE1\\mce\\lib\\site-packages\\manim\\scene\\scene_file_writer.py#527\u001b\\\u001b[2m527\u001b[0m\u001b]8;;\u001b\\\n",
       "\u001b[2;36m                    \u001b[0m         \u001b[32m'C:\\Users\\PC\\Desktop\\ManimCE1\\media\\videos\\720p30\\partial_mov\u001b[0m \u001b[2m                        \u001b[0m\n",
       "\u001b[2;36m                    \u001b[0m         \u001b[32mie_files\\IntegralAnimation\\621861868_2641316838_1440039086.mp\u001b[0m \u001b[2m                        \u001b[0m\n",
       "\u001b[2;36m                    \u001b[0m         \u001b[32m4'\u001b[0m                                                            \u001b[2m                        \u001b[0m\n"
      ]
     },
     "metadata": {},
     "output_type": "display_data"
    },
    {
     "name": "stderr",
     "output_type": "stream",
     "text": [
      "                                                                               \r"
     ]
    },
    {
     "data": {
      "text/html": [
       "<pre style=\"white-space:pre;overflow-x:auto;line-height:normal;font-family:Menlo,'DejaVu Sans Mono',consolas,'Courier New',monospace\"><span style=\"color: #7fbfbf; text-decoration-color: #7fbfbf\">[10/27/23 09:20:56] </span><span style=\"color: #008000; text-decoration-color: #008000\">INFO    </span> Animation <span style=\"color: #008000; text-decoration-color: #008000\">12</span> : Partial movie file written in                  <a href=\"file://c:\\Users\\PC\\Desktop\\ManimCE1\\mce\\lib\\site-packages\\manim\\scene\\scene_file_writer.py\" target=\"_blank\"><span style=\"color: #7f7f7f; text-decoration-color: #7f7f7f\">scene_file_writer.py</span></a><span style=\"color: #7f7f7f; text-decoration-color: #7f7f7f\">:</span><a href=\"file://c:\\Users\\PC\\Desktop\\ManimCE1\\mce\\lib\\site-packages\\manim\\scene\\scene_file_writer.py#527\" target=\"_blank\"><span style=\"color: #7f7f7f; text-decoration-color: #7f7f7f\">527</span></a>\n",
       "<span style=\"color: #7fbfbf; text-decoration-color: #7fbfbf\">                    </span>         <span style=\"color: #008000; text-decoration-color: #008000\">'C:\\Users\\PC\\Desktop\\ManimCE1\\media\\videos\\720p30\\partial_mov</span> <span style=\"color: #7f7f7f; text-decoration-color: #7f7f7f\">                        </span>\n",
       "<span style=\"color: #7fbfbf; text-decoration-color: #7fbfbf\">                    </span>         <span style=\"color: #008000; text-decoration-color: #008000\">ie_files\\IntegralAnimation\\621861868_843687293_2634011400.mp4</span> <span style=\"color: #7f7f7f; text-decoration-color: #7f7f7f\">                        </span>\n",
       "<span style=\"color: #7fbfbf; text-decoration-color: #7fbfbf\">                    </span>         <span style=\"color: #008000; text-decoration-color: #008000\">'</span>                                                             <span style=\"color: #7f7f7f; text-decoration-color: #7f7f7f\">                        </span>\n",
       "</pre>\n"
      ],
      "text/plain": [
       "\u001b[2;36m[10/27/23 09:20:56]\u001b[0m\u001b[2;36m \u001b[0m\u001b[32mINFO    \u001b[0m Animation \u001b[32m12\u001b[0m : Partial movie file written in                  \u001b]8;id=421993;file://c:\\Users\\PC\\Desktop\\ManimCE1\\mce\\lib\\site-packages\\manim\\scene\\scene_file_writer.py\u001b\\\u001b[2mscene_file_writer.py\u001b[0m\u001b]8;;\u001b\\\u001b[2m:\u001b[0m\u001b]8;id=101617;file://c:\\Users\\PC\\Desktop\\ManimCE1\\mce\\lib\\site-packages\\manim\\scene\\scene_file_writer.py#527\u001b\\\u001b[2m527\u001b[0m\u001b]8;;\u001b\\\n",
       "\u001b[2;36m                    \u001b[0m         \u001b[32m'C:\\Users\\PC\\Desktop\\ManimCE1\\media\\videos\\720p30\\partial_mov\u001b[0m \u001b[2m                        \u001b[0m\n",
       "\u001b[2;36m                    \u001b[0m         \u001b[32mie_files\\IntegralAnimation\\621861868_843687293_2634011400.mp4\u001b[0m \u001b[2m                        \u001b[0m\n",
       "\u001b[2;36m                    \u001b[0m         \u001b[32m'\u001b[0m                                                             \u001b[2m                        \u001b[0m\n"
      ]
     },
     "metadata": {},
     "output_type": "display_data"
    },
    {
     "data": {
      "text/html": [
       "<pre style=\"white-space:pre;overflow-x:auto;line-height:normal;font-family:Menlo,'DejaVu Sans Mono',consolas,'Courier New',monospace\"><span style=\"color: #7fbfbf; text-decoration-color: #7fbfbf\">                    </span><span style=\"color: #008000; text-decoration-color: #008000\">INFO    </span> <span style=\"color: #808000; text-decoration-color: #808000; font-weight: bold\">Writing</span> $S_<span style=\"font-weight: bold\">{</span><span style=\"color: #008000; text-decoration-color: #008000\">1</span><span style=\"font-weight: bold\">}</span> = <span style=\"color: #800080; text-decoration-color: #800080; font-weight: bold\">u</span><span style=\"font-weight: bold\">(</span>b<span style=\"font-weight: bold\">)</span><span style=\"color: #800080; text-decoration-color: #800080; font-weight: bold\">v</span><span style=\"font-weight: bold\">(</span>b<span style=\"font-weight: bold\">)</span>$ to media\\Tex\\104233ad7c19971e.tex    <a href=\"file://c:\\Users\\PC\\Desktop\\ManimCE1\\mce\\lib\\site-packages\\manim\\utils\\tex_file_writing.py\" target=\"_blank\"><span style=\"color: #7f7f7f; text-decoration-color: #7f7f7f\">tex_file_writing.py</span></a><span style=\"color: #7f7f7f; text-decoration-color: #7f7f7f\">:</span><a href=\"file://c:\\Users\\PC\\Desktop\\ManimCE1\\mce\\lib\\site-packages\\manim\\utils\\tex_file_writing.py#97\" target=\"_blank\"><span style=\"color: #7f7f7f; text-decoration-color: #7f7f7f\">97</span></a>\n",
       "</pre>\n"
      ],
      "text/plain": [
       "\u001b[2;36m                   \u001b[0m\u001b[2;36m \u001b[0m\u001b[32mINFO    \u001b[0m \u001b[1;33mWriting\u001b[0m $S_\u001b[1m{\u001b[0m\u001b[32m1\u001b[0m\u001b[1m}\u001b[0m = \u001b[1;35mu\u001b[0m\u001b[1m(\u001b[0mb\u001b[1m)\u001b[0m\u001b[1;35mv\u001b[0m\u001b[1m(\u001b[0mb\u001b[1m)\u001b[0m$ to media\\Tex\\104233ad7c19971e.tex    \u001b]8;id=889553;file://c:\\Users\\PC\\Desktop\\ManimCE1\\mce\\lib\\site-packages\\manim\\utils\\tex_file_writing.py\u001b\\\u001b[2mtex_file_writing.py\u001b[0m\u001b]8;;\u001b\\\u001b[2m:\u001b[0m\u001b]8;id=910345;file://c:\\Users\\PC\\Desktop\\ManimCE1\\mce\\lib\\site-packages\\manim\\utils\\tex_file_writing.py#97\u001b\\\u001b[2m97\u001b[0m\u001b]8;;\u001b\\\n"
      ]
     },
     "metadata": {},
     "output_type": "display_data"
    },
    {
     "data": {
      "text/html": [
       "<pre style=\"white-space:pre;overflow-x:auto;line-height:normal;font-family:Menlo,'DejaVu Sans Mono',consolas,'Courier New',monospace\"><span style=\"color: #7fbfbf; text-decoration-color: #7fbfbf\">[10/27/23 09:20:57] </span><span style=\"color: #008000; text-decoration-color: #008000\">INFO    </span> <span style=\"color: #808000; text-decoration-color: #808000; font-weight: bold\">Writing</span> $S_<span style=\"font-weight: bold\">{</span><span style=\"color: #008000; text-decoration-color: #008000\">2</span><span style=\"font-weight: bold\">}</span> = <span style=\"color: #800080; text-decoration-color: #800080; font-weight: bold\">u</span><span style=\"font-weight: bold\">(</span>a<span style=\"font-weight: bold\">)</span><span style=\"color: #800080; text-decoration-color: #800080; font-weight: bold\">v</span><span style=\"font-weight: bold\">(</span>a<span style=\"font-weight: bold\">)</span>$ to media\\Tex\\4f86ea2a5ce146c2.tex    <a href=\"file://c:\\Users\\PC\\Desktop\\ManimCE1\\mce\\lib\\site-packages\\manim\\utils\\tex_file_writing.py\" target=\"_blank\"><span style=\"color: #7f7f7f; text-decoration-color: #7f7f7f\">tex_file_writing.py</span></a><span style=\"color: #7f7f7f; text-decoration-color: #7f7f7f\">:</span><a href=\"file://c:\\Users\\PC\\Desktop\\ManimCE1\\mce\\lib\\site-packages\\manim\\utils\\tex_file_writing.py#97\" target=\"_blank\"><span style=\"color: #7f7f7f; text-decoration-color: #7f7f7f\">97</span></a>\n",
       "</pre>\n"
      ],
      "text/plain": [
       "\u001b[2;36m[10/27/23 09:20:57]\u001b[0m\u001b[2;36m \u001b[0m\u001b[32mINFO    \u001b[0m \u001b[1;33mWriting\u001b[0m $S_\u001b[1m{\u001b[0m\u001b[32m2\u001b[0m\u001b[1m}\u001b[0m = \u001b[1;35mu\u001b[0m\u001b[1m(\u001b[0ma\u001b[1m)\u001b[0m\u001b[1;35mv\u001b[0m\u001b[1m(\u001b[0ma\u001b[1m)\u001b[0m$ to media\\Tex\\4f86ea2a5ce146c2.tex    \u001b]8;id=885769;file://c:\\Users\\PC\\Desktop\\ManimCE1\\mce\\lib\\site-packages\\manim\\utils\\tex_file_writing.py\u001b\\\u001b[2mtex_file_writing.py\u001b[0m\u001b]8;;\u001b\\\u001b[2m:\u001b[0m\u001b]8;id=324318;file://c:\\Users\\PC\\Desktop\\ManimCE1\\mce\\lib\\site-packages\\manim\\utils\\tex_file_writing.py#97\u001b\\\u001b[2m97\u001b[0m\u001b]8;;\u001b\\\n"
      ]
     },
     "metadata": {},
     "output_type": "display_data"
    },
    {
     "data": {
      "text/html": [
       "<pre style=\"white-space:pre;overflow-x:auto;line-height:normal;font-family:Menlo,'DejaVu Sans Mono',consolas,'Courier New',monospace\"><span style=\"color: #7fbfbf; text-decoration-color: #7fbfbf\">[10/27/23 09:20:59] </span><span style=\"color: #008000; text-decoration-color: #008000\">INFO    </span> <span style=\"color: #808000; text-decoration-color: #808000; font-weight: bold\">Writing</span> $S_<span style=\"font-weight: bold\">{</span><span style=\"color: #008000; text-decoration-color: #008000\">3</span><span style=\"font-weight: bold\">}</span> = \\int_<span style=\"font-weight: bold\">{</span>a<span style=\"font-weight: bold\">}</span>^<span style=\"font-weight: bold\">{</span>b<span style=\"font-weight: bold\">}</span>v\\frac<span style=\"font-weight: bold\">{</span>du<span style=\"font-weight: bold\">}{</span>dx<span style=\"font-weight: bold\">}</span>dx$ to               <a href=\"file://c:\\Users\\PC\\Desktop\\ManimCE1\\mce\\lib\\site-packages\\manim\\utils\\tex_file_writing.py\" target=\"_blank\"><span style=\"color: #7f7f7f; text-decoration-color: #7f7f7f\">tex_file_writing.py</span></a><span style=\"color: #7f7f7f; text-decoration-color: #7f7f7f\">:</span><a href=\"file://c:\\Users\\PC\\Desktop\\ManimCE1\\mce\\lib\\site-packages\\manim\\utils\\tex_file_writing.py#97\" target=\"_blank\"><span style=\"color: #7f7f7f; text-decoration-color: #7f7f7f\">97</span></a>\n",
       "<span style=\"color: #7fbfbf; text-decoration-color: #7fbfbf\">                    </span>         media\\Tex\\5c96f0c9823a99a0.tex                                  <span style=\"color: #7f7f7f; text-decoration-color: #7f7f7f\">                      </span>\n",
       "</pre>\n"
      ],
      "text/plain": [
       "\u001b[2;36m[10/27/23 09:20:59]\u001b[0m\u001b[2;36m \u001b[0m\u001b[32mINFO    \u001b[0m \u001b[1;33mWriting\u001b[0m $S_\u001b[1m{\u001b[0m\u001b[32m3\u001b[0m\u001b[1m}\u001b[0m = \\int_\u001b[1m{\u001b[0ma\u001b[1m}\u001b[0m^\u001b[1m{\u001b[0mb\u001b[1m}\u001b[0mv\\frac\u001b[1m{\u001b[0mdu\u001b[1m}\u001b[0m\u001b[1m{\u001b[0mdx\u001b[1m}\u001b[0mdx$ to               \u001b]8;id=591477;file://c:\\Users\\PC\\Desktop\\ManimCE1\\mce\\lib\\site-packages\\manim\\utils\\tex_file_writing.py\u001b\\\u001b[2mtex_file_writing.py\u001b[0m\u001b]8;;\u001b\\\u001b[2m:\u001b[0m\u001b]8;id=695388;file://c:\\Users\\PC\\Desktop\\ManimCE1\\mce\\lib\\site-packages\\manim\\utils\\tex_file_writing.py#97\u001b\\\u001b[2m97\u001b[0m\u001b]8;;\u001b\\\n",
       "\u001b[2;36m                    \u001b[0m         media\\Tex\\5c96f0c9823a99a0.tex                                  \u001b[2m                      \u001b[0m\n"
      ]
     },
     "metadata": {},
     "output_type": "display_data"
    },
    {
     "data": {
      "text/html": [
       "<pre style=\"white-space:pre;overflow-x:auto;line-height:normal;font-family:Menlo,'DejaVu Sans Mono',consolas,'Courier New',monospace\"><span style=\"color: #7fbfbf; text-decoration-color: #7fbfbf\">[10/27/23 09:21:00] </span><span style=\"color: #008000; text-decoration-color: #008000\">INFO    </span> <span style=\"color: #808000; text-decoration-color: #808000; font-weight: bold\">Writing</span> $S_<span style=\"font-weight: bold\">{</span><span style=\"color: #008000; text-decoration-color: #008000\">4</span><span style=\"font-weight: bold\">}</span> = \\int_<span style=\"font-weight: bold\">{</span>a<span style=\"font-weight: bold\">}</span>^<span style=\"font-weight: bold\">{</span>b<span style=\"font-weight: bold\">}</span>u\\frac<span style=\"font-weight: bold\">{</span>dv<span style=\"font-weight: bold\">}{</span>dx<span style=\"font-weight: bold\">}</span>dx$ to               <a href=\"file://c:\\Users\\PC\\Desktop\\ManimCE1\\mce\\lib\\site-packages\\manim\\utils\\tex_file_writing.py\" target=\"_blank\"><span style=\"color: #7f7f7f; text-decoration-color: #7f7f7f\">tex_file_writing.py</span></a><span style=\"color: #7f7f7f; text-decoration-color: #7f7f7f\">:</span><a href=\"file://c:\\Users\\PC\\Desktop\\ManimCE1\\mce\\lib\\site-packages\\manim\\utils\\tex_file_writing.py#97\" target=\"_blank\"><span style=\"color: #7f7f7f; text-decoration-color: #7f7f7f\">97</span></a>\n",
       "<span style=\"color: #7fbfbf; text-decoration-color: #7fbfbf\">                    </span>         media\\Tex\\9284d648ffbc1028.tex                                  <span style=\"color: #7f7f7f; text-decoration-color: #7f7f7f\">                      </span>\n",
       "</pre>\n"
      ],
      "text/plain": [
       "\u001b[2;36m[10/27/23 09:21:00]\u001b[0m\u001b[2;36m \u001b[0m\u001b[32mINFO    \u001b[0m \u001b[1;33mWriting\u001b[0m $S_\u001b[1m{\u001b[0m\u001b[32m4\u001b[0m\u001b[1m}\u001b[0m = \\int_\u001b[1m{\u001b[0ma\u001b[1m}\u001b[0m^\u001b[1m{\u001b[0mb\u001b[1m}\u001b[0mu\\frac\u001b[1m{\u001b[0mdv\u001b[1m}\u001b[0m\u001b[1m{\u001b[0mdx\u001b[1m}\u001b[0mdx$ to               \u001b]8;id=222532;file://c:\\Users\\PC\\Desktop\\ManimCE1\\mce\\lib\\site-packages\\manim\\utils\\tex_file_writing.py\u001b\\\u001b[2mtex_file_writing.py\u001b[0m\u001b]8;;\u001b\\\u001b[2m:\u001b[0m\u001b]8;id=176170;file://c:\\Users\\PC\\Desktop\\ManimCE1\\mce\\lib\\site-packages\\manim\\utils\\tex_file_writing.py#97\u001b\\\u001b[2m97\u001b[0m\u001b]8;;\u001b\\\n",
       "\u001b[2;36m                    \u001b[0m         media\\Tex\\9284d648ffbc1028.tex                                  \u001b[2m                      \u001b[0m\n"
      ]
     },
     "metadata": {},
     "output_type": "display_data"
    },
    {
     "name": "stderr",
     "output_type": "stream",
     "text": [
      "                                                                                                      \r"
     ]
    },
    {
     "data": {
      "text/html": [
       "<pre style=\"white-space:pre;overflow-x:auto;line-height:normal;font-family:Menlo,'DejaVu Sans Mono',consolas,'Courier New',monospace\"><span style=\"color: #7fbfbf; text-decoration-color: #7fbfbf\">[10/27/23 09:21:06] </span><span style=\"color: #008000; text-decoration-color: #008000\">INFO    </span> Animation <span style=\"color: #008000; text-decoration-color: #008000\">13</span> : Partial movie file written in                  <a href=\"file://c:\\Users\\PC\\Desktop\\ManimCE1\\mce\\lib\\site-packages\\manim\\scene\\scene_file_writer.py\" target=\"_blank\"><span style=\"color: #7f7f7f; text-decoration-color: #7f7f7f\">scene_file_writer.py</span></a><span style=\"color: #7f7f7f; text-decoration-color: #7f7f7f\">:</span><a href=\"file://c:\\Users\\PC\\Desktop\\ManimCE1\\mce\\lib\\site-packages\\manim\\scene\\scene_file_writer.py#527\" target=\"_blank\"><span style=\"color: #7f7f7f; text-decoration-color: #7f7f7f\">527</span></a>\n",
       "<span style=\"color: #7fbfbf; text-decoration-color: #7fbfbf\">                    </span>         <span style=\"color: #008000; text-decoration-color: #008000\">'C:\\Users\\PC\\Desktop\\ManimCE1\\media\\videos\\720p30\\partial_mov</span> <span style=\"color: #7f7f7f; text-decoration-color: #7f7f7f\">                        </span>\n",
       "<span style=\"color: #7fbfbf; text-decoration-color: #7fbfbf\">                    </span>         <span style=\"color: #008000; text-decoration-color: #008000\">ie_files\\IntegralAnimation\\621861868_3546150138_3442179789.mp</span> <span style=\"color: #7f7f7f; text-decoration-color: #7f7f7f\">                        </span>\n",
       "<span style=\"color: #7fbfbf; text-decoration-color: #7fbfbf\">                    </span>         <span style=\"color: #008000; text-decoration-color: #008000\">4'</span>                                                            <span style=\"color: #7f7f7f; text-decoration-color: #7f7f7f\">                        </span>\n",
       "</pre>\n"
      ],
      "text/plain": [
       "\u001b[2;36m[10/27/23 09:21:06]\u001b[0m\u001b[2;36m \u001b[0m\u001b[32mINFO    \u001b[0m Animation \u001b[32m13\u001b[0m : Partial movie file written in                  \u001b]8;id=594748;file://c:\\Users\\PC\\Desktop\\ManimCE1\\mce\\lib\\site-packages\\manim\\scene\\scene_file_writer.py\u001b\\\u001b[2mscene_file_writer.py\u001b[0m\u001b]8;;\u001b\\\u001b[2m:\u001b[0m\u001b]8;id=950415;file://c:\\Users\\PC\\Desktop\\ManimCE1\\mce\\lib\\site-packages\\manim\\scene\\scene_file_writer.py#527\u001b\\\u001b[2m527\u001b[0m\u001b]8;;\u001b\\\n",
       "\u001b[2;36m                    \u001b[0m         \u001b[32m'C:\\Users\\PC\\Desktop\\ManimCE1\\media\\videos\\720p30\\partial_mov\u001b[0m \u001b[2m                        \u001b[0m\n",
       "\u001b[2;36m                    \u001b[0m         \u001b[32mie_files\\IntegralAnimation\\621861868_3546150138_3442179789.mp\u001b[0m \u001b[2m                        \u001b[0m\n",
       "\u001b[2;36m                    \u001b[0m         \u001b[32m4'\u001b[0m                                                            \u001b[2m                        \u001b[0m\n"
      ]
     },
     "metadata": {},
     "output_type": "display_data"
    },
    {
     "data": {
      "text/html": [
       "<pre style=\"white-space:pre;overflow-x:auto;line-height:normal;font-family:Menlo,'DejaVu Sans Mono',consolas,'Courier New',monospace\"><span style=\"color: #7fbfbf; text-decoration-color: #7fbfbf\">                    </span><span style=\"color: #008000; text-decoration-color: #008000\">INFO    </span> <span style=\"color: #808000; text-decoration-color: #808000; font-weight: bold\">Writing</span> $-$ to media\\Tex\\ec77e86465896964.tex                   <a href=\"file://c:\\Users\\PC\\Desktop\\ManimCE1\\mce\\lib\\site-packages\\manim\\utils\\tex_file_writing.py\" target=\"_blank\"><span style=\"color: #7f7f7f; text-decoration-color: #7f7f7f\">tex_file_writing.py</span></a><span style=\"color: #7f7f7f; text-decoration-color: #7f7f7f\">:</span><a href=\"file://c:\\Users\\PC\\Desktop\\ManimCE1\\mce\\lib\\site-packages\\manim\\utils\\tex_file_writing.py#97\" target=\"_blank\"><span style=\"color: #7f7f7f; text-decoration-color: #7f7f7f\">97</span></a>\n",
       "</pre>\n"
      ],
      "text/plain": [
       "\u001b[2;36m                   \u001b[0m\u001b[2;36m \u001b[0m\u001b[32mINFO    \u001b[0m \u001b[1;33mWriting\u001b[0m $-$ to media\\Tex\\ec77e86465896964.tex                   \u001b]8;id=800028;file://c:\\Users\\PC\\Desktop\\ManimCE1\\mce\\lib\\site-packages\\manim\\utils\\tex_file_writing.py\u001b\\\u001b[2mtex_file_writing.py\u001b[0m\u001b]8;;\u001b\\\u001b[2m:\u001b[0m\u001b]8;id=752757;file://c:\\Users\\PC\\Desktop\\ManimCE1\\mce\\lib\\site-packages\\manim\\utils\\tex_file_writing.py#97\u001b\\\u001b[2m97\u001b[0m\u001b]8;;\u001b\\\n"
      ]
     },
     "metadata": {},
     "output_type": "display_data"
    },
    {
     "data": {
      "text/html": [
       "<pre style=\"white-space:pre;overflow-x:auto;line-height:normal;font-family:Menlo,'DejaVu Sans Mono',consolas,'Courier New',monospace\"><span style=\"color: #7fbfbf; text-decoration-color: #7fbfbf\">[10/27/23 09:21:08] </span><span style=\"color: #008000; text-decoration-color: #008000\">INFO    </span> <span style=\"color: #808000; text-decoration-color: #808000; font-weight: bold\">Writing</span> $=$ to media\\Tex\\eb91efa5b2c3f24f.tex                   <a href=\"file://c:\\Users\\PC\\Desktop\\ManimCE1\\mce\\lib\\site-packages\\manim\\utils\\tex_file_writing.py\" target=\"_blank\"><span style=\"color: #7f7f7f; text-decoration-color: #7f7f7f\">tex_file_writing.py</span></a><span style=\"color: #7f7f7f; text-decoration-color: #7f7f7f\">:</span><a href=\"file://c:\\Users\\PC\\Desktop\\ManimCE1\\mce\\lib\\site-packages\\manim\\utils\\tex_file_writing.py#97\" target=\"_blank\"><span style=\"color: #7f7f7f; text-decoration-color: #7f7f7f\">97</span></a>\n",
       "</pre>\n"
      ],
      "text/plain": [
       "\u001b[2;36m[10/27/23 09:21:08]\u001b[0m\u001b[2;36m \u001b[0m\u001b[32mINFO    \u001b[0m \u001b[1;33mWriting\u001b[0m $=$ to media\\Tex\\eb91efa5b2c3f24f.tex                   \u001b]8;id=462862;file://c:\\Users\\PC\\Desktop\\ManimCE1\\mce\\lib\\site-packages\\manim\\utils\\tex_file_writing.py\u001b\\\u001b[2mtex_file_writing.py\u001b[0m\u001b]8;;\u001b\\\u001b[2m:\u001b[0m\u001b]8;id=78965;file://c:\\Users\\PC\\Desktop\\ManimCE1\\mce\\lib\\site-packages\\manim\\utils\\tex_file_writing.py#97\u001b\\\u001b[2m97\u001b[0m\u001b]8;;\u001b\\\n"
      ]
     },
     "metadata": {},
     "output_type": "display_data"
    },
    {
     "data": {
      "text/html": [
       "<pre style=\"white-space:pre;overflow-x:auto;line-height:normal;font-family:Menlo,'DejaVu Sans Mono',consolas,'Courier New',monospace\"><span style=\"color: #7fbfbf; text-decoration-color: #7fbfbf\">[10/27/23 09:21:09] </span><span style=\"color: #008000; text-decoration-color: #008000\">INFO    </span> <span style=\"color: #808000; text-decoration-color: #808000; font-weight: bold\">Writing</span> $+$ to media\\Tex\\b712a448e2086364.tex                   <a href=\"file://c:\\Users\\PC\\Desktop\\ManimCE1\\mce\\lib\\site-packages\\manim\\utils\\tex_file_writing.py\" target=\"_blank\"><span style=\"color: #7f7f7f; text-decoration-color: #7f7f7f\">tex_file_writing.py</span></a><span style=\"color: #7f7f7f; text-decoration-color: #7f7f7f\">:</span><a href=\"file://c:\\Users\\PC\\Desktop\\ManimCE1\\mce\\lib\\site-packages\\manim\\utils\\tex_file_writing.py#97\" target=\"_blank\"><span style=\"color: #7f7f7f; text-decoration-color: #7f7f7f\">97</span></a>\n",
       "</pre>\n"
      ],
      "text/plain": [
       "\u001b[2;36m[10/27/23 09:21:09]\u001b[0m\u001b[2;36m \u001b[0m\u001b[32mINFO    \u001b[0m \u001b[1;33mWriting\u001b[0m $+$ to media\\Tex\\b712a448e2086364.tex                   \u001b]8;id=228702;file://c:\\Users\\PC\\Desktop\\ManimCE1\\mce\\lib\\site-packages\\manim\\utils\\tex_file_writing.py\u001b\\\u001b[2mtex_file_writing.py\u001b[0m\u001b]8;;\u001b\\\u001b[2m:\u001b[0m\u001b]8;id=273924;file://c:\\Users\\PC\\Desktop\\ManimCE1\\mce\\lib\\site-packages\\manim\\utils\\tex_file_writing.py#97\u001b\\\u001b[2m97\u001b[0m\u001b]8;;\u001b\\\n"
      ]
     },
     "metadata": {},
     "output_type": "display_data"
    },
    {
     "name": "stderr",
     "output_type": "stream",
     "text": [
      "                                                                                        \r"
     ]
    },
    {
     "data": {
      "text/html": [
       "<pre style=\"white-space:pre;overflow-x:auto;line-height:normal;font-family:Menlo,'DejaVu Sans Mono',consolas,'Courier New',monospace\"><span style=\"color: #7fbfbf; text-decoration-color: #7fbfbf\">[10/27/23 09:21:15] </span><span style=\"color: #008000; text-decoration-color: #008000\">INFO    </span> Animation <span style=\"color: #008000; text-decoration-color: #008000\">14</span> : Partial movie file written in                  <a href=\"file://c:\\Users\\PC\\Desktop\\ManimCE1\\mce\\lib\\site-packages\\manim\\scene\\scene_file_writer.py\" target=\"_blank\"><span style=\"color: #7f7f7f; text-decoration-color: #7f7f7f\">scene_file_writer.py</span></a><span style=\"color: #7f7f7f; text-decoration-color: #7f7f7f\">:</span><a href=\"file://c:\\Users\\PC\\Desktop\\ManimCE1\\mce\\lib\\site-packages\\manim\\scene\\scene_file_writer.py#527\" target=\"_blank\"><span style=\"color: #7f7f7f; text-decoration-color: #7f7f7f\">527</span></a>\n",
       "<span style=\"color: #7fbfbf; text-decoration-color: #7fbfbf\">                    </span>         <span style=\"color: #008000; text-decoration-color: #008000\">'C:\\Users\\PC\\Desktop\\ManimCE1\\media\\videos\\720p30\\partial_mov</span> <span style=\"color: #7f7f7f; text-decoration-color: #7f7f7f\">                        </span>\n",
       "<span style=\"color: #7fbfbf; text-decoration-color: #7fbfbf\">                    </span>         <span style=\"color: #008000; text-decoration-color: #008000\">ie_files\\IntegralAnimation\\621861868_3516128155_4112162476.mp</span> <span style=\"color: #7f7f7f; text-decoration-color: #7f7f7f\">                        </span>\n",
       "<span style=\"color: #7fbfbf; text-decoration-color: #7fbfbf\">                    </span>         <span style=\"color: #008000; text-decoration-color: #008000\">4'</span>                                                            <span style=\"color: #7f7f7f; text-decoration-color: #7f7f7f\">                        </span>\n",
       "</pre>\n"
      ],
      "text/plain": [
       "\u001b[2;36m[10/27/23 09:21:15]\u001b[0m\u001b[2;36m \u001b[0m\u001b[32mINFO    \u001b[0m Animation \u001b[32m14\u001b[0m : Partial movie file written in                  \u001b]8;id=588095;file://c:\\Users\\PC\\Desktop\\ManimCE1\\mce\\lib\\site-packages\\manim\\scene\\scene_file_writer.py\u001b\\\u001b[2mscene_file_writer.py\u001b[0m\u001b]8;;\u001b\\\u001b[2m:\u001b[0m\u001b]8;id=73256;file://c:\\Users\\PC\\Desktop\\ManimCE1\\mce\\lib\\site-packages\\manim\\scene\\scene_file_writer.py#527\u001b\\\u001b[2m527\u001b[0m\u001b]8;;\u001b\\\n",
       "\u001b[2;36m                    \u001b[0m         \u001b[32m'C:\\Users\\PC\\Desktop\\ManimCE1\\media\\videos\\720p30\\partial_mov\u001b[0m \u001b[2m                        \u001b[0m\n",
       "\u001b[2;36m                    \u001b[0m         \u001b[32mie_files\\IntegralAnimation\\621861868_3516128155_4112162476.mp\u001b[0m \u001b[2m                        \u001b[0m\n",
       "\u001b[2;36m                    \u001b[0m         \u001b[32m4'\u001b[0m                                                            \u001b[2m                        \u001b[0m\n"
      ]
     },
     "metadata": {},
     "output_type": "display_data"
    },
    {
     "data": {
      "text/html": [
       "<pre style=\"white-space:pre;overflow-x:auto;line-height:normal;font-family:Menlo,'DejaVu Sans Mono',consolas,'Courier New',monospace\"><span style=\"color: #7fbfbf; text-decoration-color: #7fbfbf\">[10/27/23 09:21:18] </span><span style=\"color: #008000; text-decoration-color: #008000\">INFO    </span> Animation <span style=\"color: #008000; text-decoration-color: #008000\">15</span> : Partial movie file written in                  <a href=\"file://c:\\Users\\PC\\Desktop\\ManimCE1\\mce\\lib\\site-packages\\manim\\scene\\scene_file_writer.py\" target=\"_blank\"><span style=\"color: #7f7f7f; text-decoration-color: #7f7f7f\">scene_file_writer.py</span></a><span style=\"color: #7f7f7f; text-decoration-color: #7f7f7f\">:</span><a href=\"file://c:\\Users\\PC\\Desktop\\ManimCE1\\mce\\lib\\site-packages\\manim\\scene\\scene_file_writer.py#527\" target=\"_blank\"><span style=\"color: #7f7f7f; text-decoration-color: #7f7f7f\">527</span></a>\n",
       "<span style=\"color: #7fbfbf; text-decoration-color: #7fbfbf\">                    </span>         <span style=\"color: #008000; text-decoration-color: #008000\">'C:\\Users\\PC\\Desktop\\ManimCE1\\media\\videos\\720p30\\partial_mov</span> <span style=\"color: #7f7f7f; text-decoration-color: #7f7f7f\">                        </span>\n",
       "<span style=\"color: #7fbfbf; text-decoration-color: #7fbfbf\">                    </span>         <span style=\"color: #008000; text-decoration-color: #008000\">ie_files\\IntegralAnimation\\621861868_3847688501_2383737687.mp</span> <span style=\"color: #7f7f7f; text-decoration-color: #7f7f7f\">                        </span>\n",
       "<span style=\"color: #7fbfbf; text-decoration-color: #7fbfbf\">                    </span>         <span style=\"color: #008000; text-decoration-color: #008000\">4'</span>                                                            <span style=\"color: #7f7f7f; text-decoration-color: #7f7f7f\">                        </span>\n",
       "</pre>\n"
      ],
      "text/plain": [
       "\u001b[2;36m[10/27/23 09:21:18]\u001b[0m\u001b[2;36m \u001b[0m\u001b[32mINFO    \u001b[0m Animation \u001b[32m15\u001b[0m : Partial movie file written in                  \u001b]8;id=236476;file://c:\\Users\\PC\\Desktop\\ManimCE1\\mce\\lib\\site-packages\\manim\\scene\\scene_file_writer.py\u001b\\\u001b[2mscene_file_writer.py\u001b[0m\u001b]8;;\u001b\\\u001b[2m:\u001b[0m\u001b]8;id=946754;file://c:\\Users\\PC\\Desktop\\ManimCE1\\mce\\lib\\site-packages\\manim\\scene\\scene_file_writer.py#527\u001b\\\u001b[2m527\u001b[0m\u001b]8;;\u001b\\\n",
       "\u001b[2;36m                    \u001b[0m         \u001b[32m'C:\\Users\\PC\\Desktop\\ManimCE1\\media\\videos\\720p30\\partial_mov\u001b[0m \u001b[2m                        \u001b[0m\n",
       "\u001b[2;36m                    \u001b[0m         \u001b[32mie_files\\IntegralAnimation\\621861868_3847688501_2383737687.mp\u001b[0m \u001b[2m                        \u001b[0m\n",
       "\u001b[2;36m                    \u001b[0m         \u001b[32m4'\u001b[0m                                                            \u001b[2m                        \u001b[0m\n"
      ]
     },
     "metadata": {},
     "output_type": "display_data"
    },
    {
     "data": {
      "text/html": [
       "<pre style=\"white-space:pre;overflow-x:auto;line-height:normal;font-family:Menlo,'DejaVu Sans Mono',consolas,'Courier New',monospace\"><span style=\"color: #7fbfbf; text-decoration-color: #7fbfbf\">                    </span><span style=\"color: #008000; text-decoration-color: #008000\">INFO    </span> <span style=\"color: #808000; text-decoration-color: #808000; font-weight: bold\">Writing</span> $<span style=\"color: #800080; text-decoration-color: #800080; font-weight: bold\">u</span><span style=\"font-weight: bold\">(</span>b<span style=\"font-weight: bold\">)</span><span style=\"color: #800080; text-decoration-color: #800080; font-weight: bold\">v</span><span style=\"font-weight: bold\">(</span>b<span style=\"font-weight: bold\">)</span>-<span style=\"color: #800080; text-decoration-color: #800080; font-weight: bold\">u</span><span style=\"font-weight: bold\">(</span>a<span style=\"font-weight: bold\">)</span><span style=\"color: #800080; text-decoration-color: #800080; font-weight: bold\">v</span><span style=\"font-weight: bold\">(</span>a<span style=\"font-weight: bold\">)</span> =                                    <a href=\"file://c:\\Users\\PC\\Desktop\\ManimCE1\\mce\\lib\\site-packages\\manim\\utils\\tex_file_writing.py\" target=\"_blank\"><span style=\"color: #7f7f7f; text-decoration-color: #7f7f7f\">tex_file_writing.py</span></a><span style=\"color: #7f7f7f; text-decoration-color: #7f7f7f\">:</span><a href=\"file://c:\\Users\\PC\\Desktop\\ManimCE1\\mce\\lib\\site-packages\\manim\\utils\\tex_file_writing.py#97\" target=\"_blank\"><span style=\"color: #7f7f7f; text-decoration-color: #7f7f7f\">97</span></a>\n",
       "<span style=\"color: #7fbfbf; text-decoration-color: #7fbfbf\">                    </span>         \\int_<span style=\"font-weight: bold\">{</span>a<span style=\"font-weight: bold\">}</span>^<span style=\"font-weight: bold\">{</span>b<span style=\"font-weight: bold\">}</span>v\\frac<span style=\"font-weight: bold\">{</span>du<span style=\"font-weight: bold\">}{</span>dx<span style=\"font-weight: bold\">}</span>dx+\\int_<span style=\"font-weight: bold\">{</span>a<span style=\"font-weight: bold\">}</span>^<span style=\"font-weight: bold\">{</span>b<span style=\"font-weight: bold\">}</span>u\\frac<span style=\"font-weight: bold\">{</span>dv<span style=\"font-weight: bold\">}{</span>dx<span style=\"font-weight: bold\">}</span>dx$ to   <span style=\"color: #7f7f7f; text-decoration-color: #7f7f7f\">                      </span>\n",
       "<span style=\"color: #7fbfbf; text-decoration-color: #7fbfbf\">                    </span>         media\\Tex\\9dbe83ffe45d2d1d.tex                                  <span style=\"color: #7f7f7f; text-decoration-color: #7f7f7f\">                      </span>\n",
       "</pre>\n"
      ],
      "text/plain": [
       "\u001b[2;36m                   \u001b[0m\u001b[2;36m \u001b[0m\u001b[32mINFO    \u001b[0m \u001b[1;33mWriting\u001b[0m $\u001b[1;35mu\u001b[0m\u001b[1m(\u001b[0mb\u001b[1m)\u001b[0m\u001b[1;35mv\u001b[0m\u001b[1m(\u001b[0mb\u001b[1m)\u001b[0m-\u001b[1;35mu\u001b[0m\u001b[1m(\u001b[0ma\u001b[1m)\u001b[0m\u001b[1;35mv\u001b[0m\u001b[1m(\u001b[0ma\u001b[1m)\u001b[0m =                                    \u001b]8;id=199904;file://c:\\Users\\PC\\Desktop\\ManimCE1\\mce\\lib\\site-packages\\manim\\utils\\tex_file_writing.py\u001b\\\u001b[2mtex_file_writing.py\u001b[0m\u001b]8;;\u001b\\\u001b[2m:\u001b[0m\u001b]8;id=810964;file://c:\\Users\\PC\\Desktop\\ManimCE1\\mce\\lib\\site-packages\\manim\\utils\\tex_file_writing.py#97\u001b\\\u001b[2m97\u001b[0m\u001b]8;;\u001b\\\n",
       "\u001b[2;36m                    \u001b[0m         \\int_\u001b[1m{\u001b[0ma\u001b[1m}\u001b[0m^\u001b[1m{\u001b[0mb\u001b[1m}\u001b[0mv\\frac\u001b[1m{\u001b[0mdu\u001b[1m}\u001b[0m\u001b[1m{\u001b[0mdx\u001b[1m}\u001b[0mdx+\\int_\u001b[1m{\u001b[0ma\u001b[1m}\u001b[0m^\u001b[1m{\u001b[0mb\u001b[1m}\u001b[0mu\\frac\u001b[1m{\u001b[0mdv\u001b[1m}\u001b[0m\u001b[1m{\u001b[0mdx\u001b[1m}\u001b[0mdx$ to   \u001b[2m                      \u001b[0m\n",
       "\u001b[2;36m                    \u001b[0m         media\\Tex\\9dbe83ffe45d2d1d.tex                                  \u001b[2m                      \u001b[0m\n"
      ]
     },
     "metadata": {},
     "output_type": "display_data"
    },
    {
     "name": "stderr",
     "output_type": "stream",
     "text": [
      "                                                                               \r"
     ]
    },
    {
     "data": {
      "text/html": [
       "<pre style=\"white-space:pre;overflow-x:auto;line-height:normal;font-family:Menlo,'DejaVu Sans Mono',consolas,'Courier New',monospace\"><span style=\"color: #7fbfbf; text-decoration-color: #7fbfbf\">[10/27/23 09:21:57] </span><span style=\"color: #008000; text-decoration-color: #008000\">INFO    </span> Animation <span style=\"color: #008000; text-decoration-color: #008000\">16</span> : Partial movie file written in                  <a href=\"file://c:\\Users\\PC\\Desktop\\ManimCE1\\mce\\lib\\site-packages\\manim\\scene\\scene_file_writer.py\" target=\"_blank\"><span style=\"color: #7f7f7f; text-decoration-color: #7f7f7f\">scene_file_writer.py</span></a><span style=\"color: #7f7f7f; text-decoration-color: #7f7f7f\">:</span><a href=\"file://c:\\Users\\PC\\Desktop\\ManimCE1\\mce\\lib\\site-packages\\manim\\scene\\scene_file_writer.py#527\" target=\"_blank\"><span style=\"color: #7f7f7f; text-decoration-color: #7f7f7f\">527</span></a>\n",
       "<span style=\"color: #7fbfbf; text-decoration-color: #7fbfbf\">                    </span>         <span style=\"color: #008000; text-decoration-color: #008000\">'C:\\Users\\PC\\Desktop\\ManimCE1\\media\\videos\\720p30\\partial_mov</span> <span style=\"color: #7f7f7f; text-decoration-color: #7f7f7f\">                        </span>\n",
       "<span style=\"color: #7fbfbf; text-decoration-color: #7fbfbf\">                    </span>         <span style=\"color: #008000; text-decoration-color: #008000\">ie_files\\IntegralAnimation\\621861868_2739249813_2604412744.mp</span> <span style=\"color: #7f7f7f; text-decoration-color: #7f7f7f\">                        </span>\n",
       "<span style=\"color: #7fbfbf; text-decoration-color: #7fbfbf\">                    </span>         <span style=\"color: #008000; text-decoration-color: #008000\">4'</span>                                                            <span style=\"color: #7f7f7f; text-decoration-color: #7f7f7f\">                        </span>\n",
       "</pre>\n"
      ],
      "text/plain": [
       "\u001b[2;36m[10/27/23 09:21:57]\u001b[0m\u001b[2;36m \u001b[0m\u001b[32mINFO    \u001b[0m Animation \u001b[32m16\u001b[0m : Partial movie file written in                  \u001b]8;id=206210;file://c:\\Users\\PC\\Desktop\\ManimCE1\\mce\\lib\\site-packages\\manim\\scene\\scene_file_writer.py\u001b\\\u001b[2mscene_file_writer.py\u001b[0m\u001b]8;;\u001b\\\u001b[2m:\u001b[0m\u001b]8;id=454912;file://c:\\Users\\PC\\Desktop\\ManimCE1\\mce\\lib\\site-packages\\manim\\scene\\scene_file_writer.py#527\u001b\\\u001b[2m527\u001b[0m\u001b]8;;\u001b\\\n",
       "\u001b[2;36m                    \u001b[0m         \u001b[32m'C:\\Users\\PC\\Desktop\\ManimCE1\\media\\videos\\720p30\\partial_mov\u001b[0m \u001b[2m                        \u001b[0m\n",
       "\u001b[2;36m                    \u001b[0m         \u001b[32mie_files\\IntegralAnimation\\621861868_2739249813_2604412744.mp\u001b[0m \u001b[2m                        \u001b[0m\n",
       "\u001b[2;36m                    \u001b[0m         \u001b[32m4'\u001b[0m                                                            \u001b[2m                        \u001b[0m\n"
      ]
     },
     "metadata": {},
     "output_type": "display_data"
    },
    {
     "data": {
      "text/html": [
       "<pre style=\"white-space:pre;overflow-x:auto;line-height:normal;font-family:Menlo,'DejaVu Sans Mono',consolas,'Courier New',monospace\"><span style=\"color: #7fbfbf; text-decoration-color: #7fbfbf\">[10/27/23 09:22:10] </span><span style=\"color: #008000; text-decoration-color: #008000\">INFO    </span> Animation <span style=\"color: #008000; text-decoration-color: #008000\">17</span> : Partial movie file written in                  <a href=\"file://c:\\Users\\PC\\Desktop\\ManimCE1\\mce\\lib\\site-packages\\manim\\scene\\scene_file_writer.py\" target=\"_blank\"><span style=\"color: #7f7f7f; text-decoration-color: #7f7f7f\">scene_file_writer.py</span></a><span style=\"color: #7f7f7f; text-decoration-color: #7f7f7f\">:</span><a href=\"file://c:\\Users\\PC\\Desktop\\ManimCE1\\mce\\lib\\site-packages\\manim\\scene\\scene_file_writer.py#527\" target=\"_blank\"><span style=\"color: #7f7f7f; text-decoration-color: #7f7f7f\">527</span></a>\n",
       "<span style=\"color: #7fbfbf; text-decoration-color: #7fbfbf\">                    </span>         <span style=\"color: #008000; text-decoration-color: #008000\">'C:\\Users\\PC\\Desktop\\ManimCE1\\media\\videos\\720p30\\partial_mov</span> <span style=\"color: #7f7f7f; text-decoration-color: #7f7f7f\">                        </span>\n",
       "<span style=\"color: #7fbfbf; text-decoration-color: #7fbfbf\">                    </span>         <span style=\"color: #008000; text-decoration-color: #008000\">ie_files\\IntegralAnimation\\621861868_3847688501_1483631030.mp</span> <span style=\"color: #7f7f7f; text-decoration-color: #7f7f7f\">                        </span>\n",
       "<span style=\"color: #7fbfbf; text-decoration-color: #7fbfbf\">                    </span>         <span style=\"color: #008000; text-decoration-color: #008000\">4'</span>                                                            <span style=\"color: #7f7f7f; text-decoration-color: #7f7f7f\">                        </span>\n",
       "</pre>\n"
      ],
      "text/plain": [
       "\u001b[2;36m[10/27/23 09:22:10]\u001b[0m\u001b[2;36m \u001b[0m\u001b[32mINFO    \u001b[0m Animation \u001b[32m17\u001b[0m : Partial movie file written in                  \u001b]8;id=383831;file://c:\\Users\\PC\\Desktop\\ManimCE1\\mce\\lib\\site-packages\\manim\\scene\\scene_file_writer.py\u001b\\\u001b[2mscene_file_writer.py\u001b[0m\u001b]8;;\u001b\\\u001b[2m:\u001b[0m\u001b]8;id=936107;file://c:\\Users\\PC\\Desktop\\ManimCE1\\mce\\lib\\site-packages\\manim\\scene\\scene_file_writer.py#527\u001b\\\u001b[2m527\u001b[0m\u001b]8;;\u001b\\\n",
       "\u001b[2;36m                    \u001b[0m         \u001b[32m'C:\\Users\\PC\\Desktop\\ManimCE1\\media\\videos\\720p30\\partial_mov\u001b[0m \u001b[2m                        \u001b[0m\n",
       "\u001b[2;36m                    \u001b[0m         \u001b[32mie_files\\IntegralAnimation\\621861868_3847688501_1483631030.mp\u001b[0m \u001b[2m                        \u001b[0m\n",
       "\u001b[2;36m                    \u001b[0m         \u001b[32m4'\u001b[0m                                                            \u001b[2m                        \u001b[0m\n"
      ]
     },
     "metadata": {},
     "output_type": "display_data"
    },
    {
     "data": {
      "text/html": [
       "<pre style=\"white-space:pre;overflow-x:auto;line-height:normal;font-family:Menlo,'DejaVu Sans Mono',consolas,'Courier New',monospace\"><span style=\"color: #7fbfbf; text-decoration-color: #7fbfbf\">                    </span><span style=\"color: #008000; text-decoration-color: #008000\">INFO    </span> Combining to Movie file.                                      <a href=\"file://c:\\Users\\PC\\Desktop\\ManimCE1\\mce\\lib\\site-packages\\manim\\scene\\scene_file_writer.py\" target=\"_blank\"><span style=\"color: #7f7f7f; text-decoration-color: #7f7f7f\">scene_file_writer.py</span></a><span style=\"color: #7f7f7f; text-decoration-color: #7f7f7f\">:</span><a href=\"file://c:\\Users\\PC\\Desktop\\ManimCE1\\mce\\lib\\site-packages\\manim\\scene\\scene_file_writer.py#617\" target=\"_blank\"><span style=\"color: #7f7f7f; text-decoration-color: #7f7f7f\">617</span></a>\n",
       "</pre>\n"
      ],
      "text/plain": [
       "\u001b[2;36m                   \u001b[0m\u001b[2;36m \u001b[0m\u001b[32mINFO    \u001b[0m Combining to Movie file.                                      \u001b]8;id=63803;file://c:\\Users\\PC\\Desktop\\ManimCE1\\mce\\lib\\site-packages\\manim\\scene\\scene_file_writer.py\u001b\\\u001b[2mscene_file_writer.py\u001b[0m\u001b]8;;\u001b\\\u001b[2m:\u001b[0m\u001b]8;id=210683;file://c:\\Users\\PC\\Desktop\\ManimCE1\\mce\\lib\\site-packages\\manim\\scene\\scene_file_writer.py#617\u001b\\\u001b[2m617\u001b[0m\u001b]8;;\u001b\\\n"
      ]
     },
     "metadata": {},
     "output_type": "display_data"
    },
    {
     "data": {
      "text/html": [
       "<pre style=\"white-space:pre;overflow-x:auto;line-height:normal;font-family:Menlo,'DejaVu Sans Mono',consolas,'Courier New',monospace\"><span style=\"color: #7fbfbf; text-decoration-color: #7fbfbf\">                    </span><span style=\"color: #008000; text-decoration-color: #008000\">INFO    </span>                                                               <a href=\"file://c:\\Users\\PC\\Desktop\\ManimCE1\\mce\\lib\\site-packages\\manim\\scene\\scene_file_writer.py\" target=\"_blank\"><span style=\"color: #7f7f7f; text-decoration-color: #7f7f7f\">scene_file_writer.py</span></a><span style=\"color: #7f7f7f; text-decoration-color: #7f7f7f\">:</span><a href=\"file://c:\\Users\\PC\\Desktop\\ManimCE1\\mce\\lib\\site-packages\\manim\\scene\\scene_file_writer.py#736\" target=\"_blank\"><span style=\"color: #7f7f7f; text-decoration-color: #7f7f7f\">736</span></a>\n",
       "<span style=\"color: #7fbfbf; text-decoration-color: #7fbfbf\">                    </span>         <span style=\"color: #808000; text-decoration-color: #808000; font-weight: bold\">File</span> ready at                                                 <span style=\"color: #7f7f7f; text-decoration-color: #7f7f7f\">                        </span>\n",
       "<span style=\"color: #7fbfbf; text-decoration-color: #7fbfbf\">                    </span>         <span style=\"color: #008000; text-decoration-color: #008000\">'C:\\Users\\PC\\Desktop\\ManimCE1\\media\\videos\\720p30\\IntegralAni</span> <span style=\"color: #7f7f7f; text-decoration-color: #7f7f7f\">                        </span>\n",
       "<span style=\"color: #7fbfbf; text-decoration-color: #7fbfbf\">                    </span>         <span style=\"color: #008000; text-decoration-color: #008000\">mation.mp4'</span>                                                   <span style=\"color: #7f7f7f; text-decoration-color: #7f7f7f\">                        </span>\n",
       "<span style=\"color: #7fbfbf; text-decoration-color: #7fbfbf\">                    </span>                                                                       <span style=\"color: #7f7f7f; text-decoration-color: #7f7f7f\">                        </span>\n",
       "</pre>\n"
      ],
      "text/plain": [
       "\u001b[2;36m                   \u001b[0m\u001b[2;36m \u001b[0m\u001b[32mINFO    \u001b[0m                                                               \u001b]8;id=202682;file://c:\\Users\\PC\\Desktop\\ManimCE1\\mce\\lib\\site-packages\\manim\\scene\\scene_file_writer.py\u001b\\\u001b[2mscene_file_writer.py\u001b[0m\u001b]8;;\u001b\\\u001b[2m:\u001b[0m\u001b]8;id=307426;file://c:\\Users\\PC\\Desktop\\ManimCE1\\mce\\lib\\site-packages\\manim\\scene\\scene_file_writer.py#736\u001b\\\u001b[2m736\u001b[0m\u001b]8;;\u001b\\\n",
       "\u001b[2;36m                    \u001b[0m         \u001b[1;33mFile\u001b[0m ready at                                                 \u001b[2m                        \u001b[0m\n",
       "\u001b[2;36m                    \u001b[0m         \u001b[32m'C:\\Users\\PC\\Desktop\\ManimCE1\\media\\videos\\720p30\\IntegralAni\u001b[0m \u001b[2m                        \u001b[0m\n",
       "\u001b[2;36m                    \u001b[0m         \u001b[32mmation.mp4'\u001b[0m                                                   \u001b[2m                        \u001b[0m\n",
       "\u001b[2;36m                    \u001b[0m                                                                       \u001b[2m                        \u001b[0m\n"
      ]
     },
     "metadata": {},
     "output_type": "display_data"
    },
    {
     "data": {
      "text/html": [
       "<pre style=\"white-space:pre;overflow-x:auto;line-height:normal;font-family:Menlo,'DejaVu Sans Mono',consolas,'Courier New',monospace\"><span style=\"color: #7fbfbf; text-decoration-color: #7fbfbf\">                    </span><span style=\"color: #008000; text-decoration-color: #008000\">INFO    </span> <span style=\"color: #808000; text-decoration-color: #808000; font-weight: bold\">Rendered</span> IntegralAnimation                                                <a href=\"file://c:\\Users\\PC\\Desktop\\ManimCE1\\mce\\lib\\site-packages\\manim\\scene\\scene.py\" target=\"_blank\"><span style=\"color: #7f7f7f; text-decoration-color: #7f7f7f\">scene.py</span></a><span style=\"color: #7f7f7f; text-decoration-color: #7f7f7f\">:</span><a href=\"file://c:\\Users\\PC\\Desktop\\ManimCE1\\mce\\lib\\site-packages\\manim\\scene\\scene.py#241\" target=\"_blank\"><span style=\"color: #7f7f7f; text-decoration-color: #7f7f7f\">241</span></a>\n",
       "<span style=\"color: #7fbfbf; text-decoration-color: #7fbfbf\">                    </span>         <span style=\"color: #808000; text-decoration-color: #808000; font-weight: bold\">Played</span> <span style=\"color: #008000; text-decoration-color: #008000\">18</span> <span style=\"color: #808000; text-decoration-color: #808000; font-weight: bold\">animations</span>                                                      <span style=\"color: #7f7f7f; text-decoration-color: #7f7f7f\">            </span>\n",
       "</pre>\n"
      ],
      "text/plain": [
       "\u001b[2;36m                   \u001b[0m\u001b[2;36m \u001b[0m\u001b[32mINFO    \u001b[0m \u001b[1;33mRendered\u001b[0m IntegralAnimation                                                \u001b]8;id=114410;file://c:\\Users\\PC\\Desktop\\ManimCE1\\mce\\lib\\site-packages\\manim\\scene\\scene.py\u001b\\\u001b[2mscene.py\u001b[0m\u001b]8;;\u001b\\\u001b[2m:\u001b[0m\u001b]8;id=81913;file://c:\\Users\\PC\\Desktop\\ManimCE1\\mce\\lib\\site-packages\\manim\\scene\\scene.py#241\u001b\\\u001b[2m241\u001b[0m\u001b]8;;\u001b\\\n",
       "\u001b[2;36m                    \u001b[0m         \u001b[1;33mPlayed\u001b[0m \u001b[32m18\u001b[0m \u001b[1;33manimations\u001b[0m                                                      \u001b[2m            \u001b[0m\n"
      ]
     },
     "metadata": {},
     "output_type": "display_data"
    }
   ],
   "source": [
    "from manim import *\n",
    "from manim.mobject.graphing.coordinate_systems import CoordinateSystem\n",
    "\n",
    "def f(x):\n",
    "    return  1/4*x**2\n",
    "def point(t):\n",
    "    return t,f(t)\n",
    "l = []\n",
    "class IntegralAnimation(Scene):\n",
    "    def construct(self):\n",
    "        min_x = 0\n",
    "        min_y = 0\n",
    "        max_x = 5\n",
    "        max_y = 5\n",
    "        # 创建坐标系\n",
    "        axes = Axes(\n",
    "            x_range=[min_x, max_x],  # x轴范围\n",
    "            y_range=[min_y, max_y],  # y轴范围\n",
    "            x_length=5,       # x轴的长度\n",
    "            y_length=5,       # y轴的长度\n",
    "            x_axis_config={\"numbers_to_include\": []},  # 隐藏x轴的数字和箭头\n",
    "            y_axis_config={\"numbers_to_include\": []},  # 隐藏y轴的数字和箭头\n",
    "            axis_config={\"color\": BLUE},  # 坐标轴的配置\n",
    "            tips=True,        # 是否显示坐标轴的箭头\n",
    "        ).add_coordinates()\n",
    "\n",
    "\n",
    "        # 添加坐标轴标签\n",
    "        labels = axes.get_axis_labels(\n",
    "            Tex(\"u\").scale(0.7), Text(\"v\").scale(0.45)\n",
    "        )\n",
    "        self.play(Create(axes), Write(labels))\n",
    "\n",
    "        # 做变换，y = v(t),x = u(t)\n",
    "\n",
    "        # 绘制曲线\n",
    "        graph = axes.plot(f, color=WHITE,x_range=[min_x,max_x-1])\n",
    "        self.play(Create(graph))\n",
    "        # 绘制积分点，下限\n",
    "        t = 2\n",
    "        a = point(t)\n",
    "        dot_axes1 = Dot(axes.coords_to_point(a[0],a[1]), color=GREEN)\n",
    "        lines1 = axes.get_lines_to_point(axes.c2p(a[0],a[1]))\n",
    "        self.play(Create(dot_axes1), Create(lines1))\n",
    "        # 绘制积分点，上限\n",
    "        t = 4\n",
    "        b = point(t)\n",
    "        dot_axes2 = Dot(axes.coords_to_point(b[0],b[1]), color=RED)\n",
    "        lines2 = axes.get_lines_to_point(axes.c2p(b[0],b[1]))\n",
    "        self.play(Create(dot_axes2), Create(lines2))\n",
    "\n",
    "        # 绘制黎曼意义下的面积,关于x轴\n",
    "        u = axes.get_area(graph, x_range=[a[0], b[0]], color=YELLOW, opacity=0.2)\n",
    "        self.play(Create(u))\n",
    "\n",
    "        # 绘制黎曼意义下的面积,关于y轴\n",
    "        v = axes.get_area_y(graph, x_range=[a[0], b[0]], color=ORANGE, opacity=0.3)\n",
    "        self.play(Create(v))\n",
    "\n",
    "\n",
    "        # 绘制局部面积\n",
    "        rect2 = Rectangle(\n",
    "            width =a[0]-min_x,  # 矩形的宽度\n",
    "            height=a[1]-min_y,  # 矩形的高度\n",
    "            color=GREEN,  # 矩形的颜色\n",
    "            fill_opacity=0.5,  # 填充不透明度\n",
    "            stroke_width=1,  # 边框宽度\n",
    "            stroke_color=BLUE,  # 边框颜色\n",
    "        )\n",
    "        # 让矩形的左下角与坐标轴原点重合\n",
    "        rect2.shift(axes.c2p(0,0) - rect2.get_corner(DL))\n",
    "        self.play(Create(rect2))\n",
    "\n",
    "        # 绘制总面积\n",
    "        rect1 = Rectangle(\n",
    "            width =b[0]-min_x,  # 矩形的宽度\n",
    "            height=b[1]-min_y,  # 矩形的高度\n",
    "            color=GREEN,  # 矩形的颜色\n",
    "            fill_opacity=0.5,  # 填充不透明度\n",
    "            stroke_width=1,  # 边框宽度\n",
    "            stroke_color=WHITE,  # 边框颜色\n",
    "        )\n",
    "        # 让矩形的左下角与坐标轴原点重合\n",
    "        rect1.shift(axes.c2p(0,0) - rect1.get_corner(DL))\n",
    "        self.play(Create(rect1))\n",
    "\n",
    "\n",
    "\n",
    "        # 移动\n",
    "        group1 = Group(\n",
    "            axes,\n",
    "            labels,\n",
    "            dot_axes1,\n",
    "            dot_axes2,\n",
    "            lines1,\n",
    "            lines2,\n",
    "            graph,\n",
    "            u,\n",
    "            v,\n",
    "            rect1,\n",
    "            rect2,\n",
    "        )\n",
    "\n",
    "        # 缩放、移动\n",
    "        self.play(Transform(group1,group1.copy().scale(0.3).to_edge(UP)))\n",
    "\n",
    "        group1_cpoy1 = group1.copy()\n",
    "        group1_cpoy2 = group1.copy()\n",
    "        group1_cpoy3 = group1.copy()\n",
    "        group1_cpoy4 = group1.copy()\n",
    "        group21 = Group(\n",
    "            axes.copy(),\n",
    "            labels.copy(),\n",
    "            dot_axes1.copy(),\n",
    "            dot_axes2.copy(),\n",
    "            lines1.copy(),\n",
    "            lines2.copy(),\n",
    "            graph.copy(),\n",
    "            u.copy(),\n",
    "        )\n",
    "        group21 = Group(\n",
    "            axes.copy(),\n",
    "            labels.copy(),\n",
    "            dot_axes1.copy(),\n",
    "            dot_axes2.copy(),\n",
    "            lines1.copy(),\n",
    "            lines2.copy(),\n",
    "            graph.copy(),\n",
    "            v.copy(),\n",
    "        )\n",
    "        group22 = Group(\n",
    "            axes.copy(),\n",
    "            labels.copy(),\n",
    "            dot_axes1.copy(),\n",
    "            dot_axes2.copy(),\n",
    "            lines1.copy(),\n",
    "            lines2.copy(),\n",
    "            graph.copy(),\n",
    "            u.copy(),\n",
    "        )\n",
    "        group23 = Group(\n",
    "            axes.copy(),\n",
    "            labels.copy(),\n",
    "            dot_axes1.copy(),\n",
    "            dot_axes2.copy(),\n",
    "            lines1.copy(),\n",
    "            lines2.copy(),\n",
    "            graph.copy(),\n",
    "            rect1.copy(),\n",
    "        )\n",
    "        group24 = Group(\n",
    "            axes.copy(),\n",
    "            labels.copy(),\n",
    "            dot_axes1.copy(),\n",
    "            dot_axes2.copy(),\n",
    "            lines1.copy(),\n",
    "            lines2.copy(),\n",
    "            graph.copy(),\n",
    "            rect2.copy(),\n",
    "        )\n",
    "\n",
    "        self.play(Transform(group1_cpoy3,group23.move_to(ORIGIN+5*LEFT)))\n",
    "        self.play(Transform(group1_cpoy4,group24.next_to(group23,5*RIGHT)))\n",
    "        self.play(Transform(group1_cpoy2,group22.next_to(group24,6*RIGHT)))\n",
    "        self.play(Transform(group1_cpoy1,group21.next_to(group22,7*RIGHT)))\n",
    "\n",
    "        # 公式恒等式\n",
    "        math_formula1 = Tex(r'$S_{1} = u(b)v(b)$')\n",
    "        math_formula1.next_to(group23, DOWN)\n",
    "        math_formula2 = Tex(r'$S_{2} = u(a)v(a)$')\n",
    "        math_formula2.next_to(group24, DOWN)\n",
    "        math_formula3 = Tex(r'$S_{3} = \\int_{a}^{b}v\\frac{du}{dx}dx$')\n",
    "        math_formula3.next_to(group22, DOWN)\n",
    "        math_formula4 = Tex(r'$S_{4} = \\int_{a}^{b}u\\frac{dv}{dx}dx$')\n",
    "        math_formula4.next_to(group21, DOWN)\n",
    "        self.play(Create(math_formula1),Create(math_formula2),Create(math_formula3),Create(math_formula4),)\n",
    "\n",
    "        math_formula5 = Tex(r'$-$')\n",
    "        math_formula5.next_to(group23, 1.5*RIGHT)\n",
    "\n",
    "        math_formula6 = Tex(r'$=$')\n",
    "        math_formula6.next_to(group24, 2*RIGHT)\n",
    "\n",
    "        math_formula7 = Tex(r'$+$')\n",
    "        math_formula7.next_to(group22, 2.5*RIGHT)\n",
    "\n",
    "        self.play(Create(math_formula5),Create(math_formula6),Create(math_formula7))\n",
    "        self.wait(5)\n",
    "        math_formula8 = Tex(r'$u(b)v(b)-u(a)v(a) = \\int_{a}^{b}v\\frac{du}{dx}dx+\\int_{a}^{b}u\\frac{dv}{dx}dx$')\n",
    "\n",
    "        math_formula_group = Group(\n",
    "            math_formula1,\n",
    "            math_formula2,\n",
    "            math_formula3,\n",
    "            math_formula4\n",
    "        )\n",
    "        self.play(Transform(math_formula_group,math_formula8.move_to(ORIGIN+2*DOWN)))\n",
    "        self.wait(5)\n",
    "\n",
    "mode = 1\n",
    "if mode == 2:\n",
    "    config.pixel_height = 2160    # 设置视频高度\n",
    "    config.pixel_width = 3840     # 设置视频宽度\n",
    "    config.frame_height = 21.6    # 设置帧高度\n",
    "    config.frame_width = 38.4     # 设置帧宽度\n",
    "    config.frame_rate = 30  # 设置帧率\n",
    "    scene = IntegralAnimation()\n",
    "    scene.render()\n",
    "else:\n",
    "    config.pixel_height = 720\n",
    "    config.pixel_width = 1280\n",
    "    config.frame_height = 7.2\n",
    "    config.frame_width = 12.8\n",
    "    config.frame_rate = 30\n",
    "    scene = IntegralAnimation()\n",
    "    scene.render()\n"
   ]
  },
  {
   "cell_type": "code",
   "execution_count": 3,
   "metadata": {},
   "outputs": [
    {
     "data": {
      "text/html": [
       "<pre style=\"white-space:pre;overflow-x:auto;line-height:normal;font-family:Menlo,'DejaVu Sans Mono',consolas,'Courier New',monospace\"><span style=\"color: #7fbfbf; text-decoration-color: #7fbfbf\">[10/27/23 11:34:28] </span><span style=\"color: #800000; text-decoration-color: #800000\">WARNING </span> Font TeX Gyre Termes not in <span style=\"font-weight: bold\">[</span><span style=\"color: #008000; text-decoration-color: #008000\">'Agency FB'</span>, <span style=\"color: #008000; text-decoration-color: #008000\">'Algerian'</span>,              <a href=\"file://c:\\Users\\PC\\Desktop\\ManimCE1\\mce\\lib\\site-packages\\manim\\mobject\\text\\text_mobject.py\" target=\"_blank\"><span style=\"color: #7f7f7f; text-decoration-color: #7f7f7f\">text_mobject.py</span></a><span style=\"color: #7f7f7f; text-decoration-color: #7f7f7f\">:</span><a href=\"file://c:\\Users\\PC\\Desktop\\ManimCE1\\mce\\lib\\site-packages\\manim\\mobject\\text\\text_mobject.py#441\" target=\"_blank\"><span style=\"color: #7f7f7f; text-decoration-color: #7f7f7f\">441</span></a>\n",
       "<span style=\"color: #7fbfbf; text-decoration-color: #7fbfbf\">                    </span>         <span style=\"color: #008000; text-decoration-color: #008000\">'ArhialkhanMJ'</span>, <span style=\"color: #008000; text-decoration-color: #008000\">'Arial'</span>, <span style=\"color: #008000; text-decoration-color: #008000\">'Arial Black'</span>, <span style=\"color: #008000; text-decoration-color: #008000\">'Arial Narrow'</span>, <span style=\"color: #008000; text-decoration-color: #008000\">'Arial </span>    <span style=\"color: #7f7f7f; text-decoration-color: #7f7f7f\">                   </span>\n",
       "<span style=\"color: #7fbfbf; text-decoration-color: #7fbfbf\">                    </span>         <span style=\"color: #008000; text-decoration-color: #008000\">Rounded MT Bold'</span>, <span style=\"color: #008000; text-decoration-color: #008000\">'Bahnschrift'</span>, <span style=\"color: #008000; text-decoration-color: #008000\">'Bahnschrift Condensed'</span>,          <span style=\"color: #7f7f7f; text-decoration-color: #7f7f7f\">                   </span>\n",
       "<span style=\"color: #7fbfbf; text-decoration-color: #7fbfbf\">                    </span>         <span style=\"color: #008000; text-decoration-color: #008000\">'Bahnschrift Light'</span>, <span style=\"color: #008000; text-decoration-color: #008000\">'Bahnschrift Light Condensed'</span>, <span style=\"color: #008000; text-decoration-color: #008000\">'Bahnschrift </span>  <span style=\"color: #7f7f7f; text-decoration-color: #7f7f7f\">                   </span>\n",
       "<span style=\"color: #7fbfbf; text-decoration-color: #7fbfbf\">                    </span>         <span style=\"color: #008000; text-decoration-color: #008000\">Light SemiCondensed'</span>, <span style=\"color: #008000; text-decoration-color: #008000\">'Bahnschrift SemiBold'</span>, <span style=\"color: #008000; text-decoration-color: #008000\">'Bahnschrift </span>        <span style=\"color: #7f7f7f; text-decoration-color: #7f7f7f\">                   </span>\n",
       "<span style=\"color: #7fbfbf; text-decoration-color: #7fbfbf\">                    </span>         <span style=\"color: #008000; text-decoration-color: #008000\">SemiBold Condensed'</span>, <span style=\"color: #008000; text-decoration-color: #008000\">'Bahnschrift SemiBold SemiConden'</span>,            <span style=\"color: #7f7f7f; text-decoration-color: #7f7f7f\">                   </span>\n",
       "<span style=\"color: #7fbfbf; text-decoration-color: #7fbfbf\">                    </span>         <span style=\"color: #008000; text-decoration-color: #008000\">'Bahnschrift SemiCondensed'</span>, <span style=\"color: #008000; text-decoration-color: #008000\">'Bahnschrift SemiLight'</span>, <span style=\"color: #008000; text-decoration-color: #008000\">'Bahnschrift</span> <span style=\"color: #7f7f7f; text-decoration-color: #7f7f7f\">                   </span>\n",
       "<span style=\"color: #7fbfbf; text-decoration-color: #7fbfbf\">                    </span>         <span style=\"color: #008000; text-decoration-color: #008000\">SemiLight Condensed'</span>, <span style=\"color: #008000; text-decoration-color: #008000\">'Bahnschrift SemiLight SemiConde'</span>,           <span style=\"color: #7f7f7f; text-decoration-color: #7f7f7f\">                   </span>\n",
       "<span style=\"color: #7fbfbf; text-decoration-color: #7fbfbf\">                    </span>         <span style=\"color: #008000; text-decoration-color: #008000\">'Baskerville Old Face'</span>, <span style=\"color: #008000; text-decoration-color: #008000\">'Bauhaus 93'</span>, <span style=\"color: #008000; text-decoration-color: #008000\">'Bell MT'</span>, <span style=\"color: #008000; text-decoration-color: #008000\">'Berlin Sans FB'</span>, <span style=\"color: #7f7f7f; text-decoration-color: #7f7f7f\">                   </span>\n",
       "<span style=\"color: #7fbfbf; text-decoration-color: #7fbfbf\">                    </span>         <span style=\"color: #008000; text-decoration-color: #008000\">'Berlin Sans FB Demi'</span>, <span style=\"color: #008000; text-decoration-color: #008000\">'Bernard MT Condensed'</span>, <span style=\"color: #008000; text-decoration-color: #008000\">'BijoyMJ'</span>,          <span style=\"color: #7f7f7f; text-decoration-color: #7f7f7f\">                   </span>\n",
       "<span style=\"color: #7fbfbf; text-decoration-color: #7fbfbf\">                    </span>         <span style=\"color: #008000; text-decoration-color: #008000\">'Blackadder ITC'</span>, <span style=\"color: #008000; text-decoration-color: #008000\">'Bodoni MT'</span>, <span style=\"color: #008000; text-decoration-color: #008000\">'Bodoni MT Black'</span>, <span style=\"color: #008000; text-decoration-color: #008000\">'Bodoni MT </span>      <span style=\"color: #7f7f7f; text-decoration-color: #7f7f7f\">                   </span>\n",
       "<span style=\"color: #7fbfbf; text-decoration-color: #7fbfbf\">                    </span>         <span style=\"color: #008000; text-decoration-color: #008000\">Condensed'</span>, <span style=\"color: #008000; text-decoration-color: #008000\">'Bodoni MT Poster Compressed'</span>, <span style=\"color: #008000; text-decoration-color: #008000\">'Book Antiqua'</span>,         <span style=\"color: #7f7f7f; text-decoration-color: #7f7f7f\">                   </span>\n",
       "<span style=\"color: #7fbfbf; text-decoration-color: #7fbfbf\">                    </span>         <span style=\"color: #008000; text-decoration-color: #008000\">'Bookman Old Style'</span>, <span style=\"color: #008000; text-decoration-color: #008000\">'Bradley Hand ITC'</span>, <span style=\"color: #008000; text-decoration-color: #008000\">'BrahmaputraMJ'</span>,          <span style=\"color: #7f7f7f; text-decoration-color: #7f7f7f\">                   </span>\n",
       "<span style=\"color: #7fbfbf; text-decoration-color: #7fbfbf\">                    </span>         <span style=\"color: #008000; text-decoration-color: #008000\">'Britannic Bold'</span>, <span style=\"color: #008000; text-decoration-color: #008000\">'Broadway'</span>, <span style=\"color: #008000; text-decoration-color: #008000\">'Brush Script MT'</span>,                   <span style=\"color: #7f7f7f; text-decoration-color: #7f7f7f\">                   </span>\n",
       "<span style=\"color: #7fbfbf; text-decoration-color: #7fbfbf\">                    </span>         <span style=\"color: #008000; text-decoration-color: #008000\">'BurigangaSushreeMJ'</span>, <span style=\"color: #008000; text-decoration-color: #008000\">'Calibri'</span>, <span style=\"color: #008000; text-decoration-color: #008000\">'Calibri Light'</span>, <span style=\"color: #008000; text-decoration-color: #008000\">'Californian </span>    <span style=\"color: #7f7f7f; text-decoration-color: #7f7f7f\">                   </span>\n",
       "<span style=\"color: #7fbfbf; text-decoration-color: #7fbfbf\">                    </span>         <span style=\"color: #008000; text-decoration-color: #008000\">FB'</span>, <span style=\"color: #008000; text-decoration-color: #008000\">'Calisto MT'</span>, <span style=\"color: #008000; text-decoration-color: #008000\">'Cambria'</span>, <span style=\"color: #008000; text-decoration-color: #008000\">'Cambria Math'</span>, <span style=\"color: #008000; text-decoration-color: #008000\">'Candara'</span>, <span style=\"color: #008000; text-decoration-color: #008000\">'Candara </span> <span style=\"color: #7f7f7f; text-decoration-color: #7f7f7f\">                   </span>\n",
       "<span style=\"color: #7fbfbf; text-decoration-color: #7fbfbf\">                    </span>         <span style=\"color: #008000; text-decoration-color: #008000\">Light'</span>, <span style=\"color: #008000; text-decoration-color: #008000\">'Cascadia Code'</span>, <span style=\"color: #008000; text-decoration-color: #008000\">'Cascadia Code ExtraLight'</span>, <span style=\"color: #008000; text-decoration-color: #008000\">'Cascadia </span>    <span style=\"color: #7f7f7f; text-decoration-color: #7f7f7f\">                   </span>\n",
       "<span style=\"color: #7fbfbf; text-decoration-color: #7fbfbf\">                    </span>         <span style=\"color: #008000; text-decoration-color: #008000\">Code Light'</span>, <span style=\"color: #008000; text-decoration-color: #008000\">'Cascadia Code SemiBold'</span>, <span style=\"color: #008000; text-decoration-color: #008000\">'Cascadia Code SemiLight'</span>,  <span style=\"color: #7f7f7f; text-decoration-color: #7f7f7f\">                   </span>\n",
       "<span style=\"color: #7fbfbf; text-decoration-color: #7fbfbf\">                    </span>         <span style=\"color: #008000; text-decoration-color: #008000\">'Cascadia Mono'</span>, <span style=\"color: #008000; text-decoration-color: #008000\">'Cascadia Mono ExtraLight'</span>, <span style=\"color: #008000; text-decoration-color: #008000\">'Cascadia Mono </span>       <span style=\"color: #7f7f7f; text-decoration-color: #7f7f7f\">                   </span>\n",
       "<span style=\"color: #7fbfbf; text-decoration-color: #7fbfbf\">                    </span>         <span style=\"color: #008000; text-decoration-color: #008000\">Light'</span>, <span style=\"color: #008000; text-decoration-color: #008000\">'Cascadia Mono SemiBold'</span>, <span style=\"color: #008000; text-decoration-color: #008000\">'Cascadia Mono SemiLight'</span>,       <span style=\"color: #7f7f7f; text-decoration-color: #7f7f7f\">                   </span>\n",
       "<span style=\"color: #7fbfbf; text-decoration-color: #7fbfbf\">                    </span>         <span style=\"color: #008000; text-decoration-color: #008000\">'Castellar'</span>, <span style=\"color: #008000; text-decoration-color: #008000\">'Centaur'</span>, <span style=\"color: #008000; text-decoration-color: #008000\">'Century'</span>, <span style=\"color: #008000; text-decoration-color: #008000\">'Century Gothic'</span>, <span style=\"color: #008000; text-decoration-color: #008000\">'Century </span>     <span style=\"color: #7f7f7f; text-decoration-color: #7f7f7f\">                   </span>\n",
       "<span style=\"color: #7fbfbf; text-decoration-color: #7fbfbf\">                    </span>         <span style=\"color: #008000; text-decoration-color: #008000\">Schoolbook'</span>, <span style=\"color: #008000; text-decoration-color: #008000\">'ChandrabatiMJ'</span>, <span style=\"color: #008000; text-decoration-color: #008000\">'ChandrabatiMatraMJ'</span>, <span style=\"color: #008000; text-decoration-color: #008000\">'Chiller'</span>,     <span style=\"color: #7f7f7f; text-decoration-color: #7f7f7f\">                   </span>\n",
       "<span style=\"color: #7fbfbf; text-decoration-color: #7fbfbf\">                    </span>         <span style=\"color: #008000; text-decoration-color: #008000\">'Colonna MT'</span>, <span style=\"color: #008000; text-decoration-color: #008000\">'Comic Sans MS'</span>, <span style=\"color: #008000; text-decoration-color: #008000\">'Consolas'</span>, <span style=\"color: #008000; text-decoration-color: #008000\">'Constantia'</span>, <span style=\"color: #008000; text-decoration-color: #008000\">'Cooper </span>  <span style=\"color: #7f7f7f; text-decoration-color: #7f7f7f\">                   </span>\n",
       "<span style=\"color: #7fbfbf; text-decoration-color: #7fbfbf\">                    </span>         <span style=\"color: #008000; text-decoration-color: #008000\">Black'</span>, <span style=\"color: #008000; text-decoration-color: #008000\">'Copperplate Gothic Bold'</span>, <span style=\"color: #008000; text-decoration-color: #008000\">'Copperplate Gothic Light'</span>,     <span style=\"color: #7f7f7f; text-decoration-color: #7f7f7f\">                   </span>\n",
       "<span style=\"color: #7fbfbf; text-decoration-color: #7fbfbf\">                    </span>         <span style=\"color: #008000; text-decoration-color: #008000\">'Corbel'</span>, <span style=\"color: #008000; text-decoration-color: #008000\">'Corbel Light'</span>, <span style=\"color: #008000; text-decoration-color: #008000\">'Courier New'</span>, <span style=\"color: #008000; text-decoration-color: #008000\">'Curlz MT'</span>, <span style=\"color: #008000; text-decoration-color: #008000\">'Cursive'</span>,    <span style=\"color: #7f7f7f; text-decoration-color: #7f7f7f\">                   </span>\n",
       "<span style=\"color: #7fbfbf; text-decoration-color: #7fbfbf\">                    </span>         <span style=\"color: #008000; text-decoration-color: #008000\">'DhakarChithiMJ'</span>, <span style=\"color: #008000; text-decoration-color: #008000\">'DholeshwariMJ'</span>, <span style=\"color: #008000; text-decoration-color: #008000\">'Ebrima'</span>, <span style=\"color: #008000; text-decoration-color: #008000\">'Edwardian Script </span>    <span style=\"color: #7f7f7f; text-decoration-color: #7f7f7f\">                   </span>\n",
       "<span style=\"color: #7fbfbf; text-decoration-color: #7fbfbf\">                    </span>         <span style=\"color: #008000; text-decoration-color: #008000\">ITC'</span>, <span style=\"color: #008000; text-decoration-color: #008000\">'Elephant'</span>, <span style=\"color: #008000; text-decoration-color: #008000\">'Engravers MT'</span>, <span style=\"color: #008000; text-decoration-color: #008000\">'Eras Bold ITC'</span>, <span style=\"color: #008000; text-decoration-color: #008000\">'Eras Demi </span>     <span style=\"color: #7f7f7f; text-decoration-color: #7f7f7f\">                   </span>\n",
       "<span style=\"color: #7fbfbf; text-decoration-color: #7fbfbf\">                    </span>         <span style=\"color: #008000; text-decoration-color: #008000\">ITC'</span>, <span style=\"color: #008000; text-decoration-color: #008000\">'Eras Light ITC'</span>, <span style=\"color: #008000; text-decoration-color: #008000\">'Eras Medium ITC'</span>, <span style=\"color: #008000; text-decoration-color: #008000\">'Fantasy'</span>, <span style=\"color: #008000; text-decoration-color: #008000\">'Felix </span>      <span style=\"color: #7f7f7f; text-decoration-color: #7f7f7f\">                   </span>\n",
       "<span style=\"color: #7fbfbf; text-decoration-color: #7fbfbf\">                    </span>         <span style=\"color: #008000; text-decoration-color: #008000\">Titling'</span>, <span style=\"color: #008000; text-decoration-color: #008000\">'Footlight MT Light'</span>, <span style=\"color: #008000; text-decoration-color: #008000\">'Forte'</span>, <span style=\"color: #008000; text-decoration-color: #008000\">'Franklin Gothic Book'</span>,   <span style=\"color: #7f7f7f; text-decoration-color: #7f7f7f\">                   </span>\n",
       "<span style=\"color: #7fbfbf; text-decoration-color: #7fbfbf\">                    </span>         <span style=\"color: #008000; text-decoration-color: #008000\">'Franklin Gothic Demi'</span>, <span style=\"color: #008000; text-decoration-color: #008000\">'Franklin Gothic Demi Cond'</span>, <span style=\"color: #008000; text-decoration-color: #008000\">'Franklin </span>    <span style=\"color: #7f7f7f; text-decoration-color: #7f7f7f\">                   </span>\n",
       "<span style=\"color: #7fbfbf; text-decoration-color: #7fbfbf\">                    </span>         <span style=\"color: #008000; text-decoration-color: #008000\">Gothic Heavy'</span>, <span style=\"color: #008000; text-decoration-color: #008000\">'Franklin Gothic Medium'</span>, <span style=\"color: #008000; text-decoration-color: #008000\">'Franklin Gothic Medium </span>  <span style=\"color: #7f7f7f; text-decoration-color: #7f7f7f\">                   </span>\n",
       "<span style=\"color: #7fbfbf; text-decoration-color: #7fbfbf\">                    </span>         <span style=\"color: #008000; text-decoration-color: #008000\">Cond'</span>, <span style=\"color: #008000; text-decoration-color: #008000\">'Freestyle Script'</span>, <span style=\"color: #008000; text-decoration-color: #008000\">'French Script MT'</span>, <span style=\"color: #008000; text-decoration-color: #008000\">'Gabriola'</span>,         <span style=\"color: #7f7f7f; text-decoration-color: #7f7f7f\">                   </span>\n",
       "<span style=\"color: #7fbfbf; text-decoration-color: #7fbfbf\">                    </span>         <span style=\"color: #008000; text-decoration-color: #008000\">'Gadugi'</span>, <span style=\"color: #008000; text-decoration-color: #008000\">'GangaMJ'</span>, <span style=\"color: #008000; text-decoration-color: #008000\">'GangaSagarMJ'</span>, <span style=\"color: #008000; text-decoration-color: #008000\">'Garamond'</span>, <span style=\"color: #008000; text-decoration-color: #008000\">'Georgia'</span>,        <span style=\"color: #7f7f7f; text-decoration-color: #7f7f7f\">                   </span>\n",
       "<span style=\"color: #7fbfbf; text-decoration-color: #7fbfbf\">                    </span>         <span style=\"color: #008000; text-decoration-color: #008000\">'Gigi'</span>, <span style=\"color: #008000; text-decoration-color: #008000\">'Gill Sans MT'</span>, <span style=\"color: #008000; text-decoration-color: #008000\">'Gill Sans MT Condensed'</span>, <span style=\"color: #008000; text-decoration-color: #008000\">'Gill Sans MT </span>   <span style=\"color: #7f7f7f; text-decoration-color: #7f7f7f\">                   </span>\n",
       "<span style=\"color: #7fbfbf; text-decoration-color: #7fbfbf\">                    </span>         <span style=\"color: #008000; text-decoration-color: #008000\">Ext Condensed Bold'</span>, <span style=\"color: #008000; text-decoration-color: #008000\">'Gill Sans Ultra Bold'</span>, <span style=\"color: #008000; text-decoration-color: #008000\">'Gill Sans Ultra Bold</span> <span style=\"color: #7f7f7f; text-decoration-color: #7f7f7f\">                   </span>\n",
       "<span style=\"color: #7fbfbf; text-decoration-color: #7fbfbf\">                    </span>         <span style=\"color: #008000; text-decoration-color: #008000\">Condensed'</span>, <span style=\"color: #008000; text-decoration-color: #008000\">'Gloucester MT Extra Condensed'</span>, <span style=\"color: #008000; text-decoration-color: #008000\">'Goudy Old Style'</span>,    <span style=\"color: #7f7f7f; text-decoration-color: #7f7f7f\">                   </span>\n",
       "<span style=\"color: #7fbfbf; text-decoration-color: #7fbfbf\">                    </span>         <span style=\"color: #008000; text-decoration-color: #008000\">'Goudy Stout'</span>, <span style=\"color: #008000; text-decoration-color: #008000\">'Haettenschweiler'</span>, <span style=\"color: #008000; text-decoration-color: #008000\">'Harlow Solid Italic'</span>,          <span style=\"color: #7f7f7f; text-decoration-color: #7f7f7f\">                   </span>\n",
       "<span style=\"color: #7fbfbf; text-decoration-color: #7fbfbf\">                    </span>         <span style=\"color: #008000; text-decoration-color: #008000\">'Harrington'</span>, <span style=\"color: #008000; text-decoration-color: #008000\">'High Tower Text'</span>, <span style=\"color: #008000; text-decoration-color: #008000\">'HoloLens MDL2 Assets'</span>, <span style=\"color: #008000; text-decoration-color: #008000\">'Impact'</span>, <span style=\"color: #7f7f7f; text-decoration-color: #7f7f7f\">                   </span>\n",
       "<span style=\"color: #7fbfbf; text-decoration-color: #7fbfbf\">                    </span>         <span style=\"color: #008000; text-decoration-color: #008000\">'Imprint MT Shadow'</span>, <span style=\"color: #008000; text-decoration-color: #008000\">'Informal Roman'</span>, <span style=\"color: #008000; text-decoration-color: #008000\">'Ink Free'</span>, <span style=\"color: #008000; text-decoration-color: #008000\">'IrabotiMJ'</span>,    <span style=\"color: #7f7f7f; text-decoration-color: #7f7f7f\">                   </span>\n",
       "<span style=\"color: #7fbfbf; text-decoration-color: #7fbfbf\">                    </span>         <span style=\"color: #008000; text-decoration-color: #008000\">'JaJaDiMJ'</span>, <span style=\"color: #008000; text-decoration-color: #008000\">'Javanese Text'</span>, <span style=\"color: #008000; text-decoration-color: #008000\">'Jokerman'</span>, <span style=\"color: #008000; text-decoration-color: #008000\">'Juice ITC'</span>, <span style=\"color: #008000; text-decoration-color: #008000\">'Kalpurush'</span>, <span style=\"color: #7f7f7f; text-decoration-color: #7f7f7f\">                   </span>\n",
       "<span style=\"color: #7fbfbf; text-decoration-color: #7fbfbf\">                    </span>         <span style=\"color: #008000; text-decoration-color: #008000\">'Kalpurush ANSI'</span>, <span style=\"color: #008000; text-decoration-color: #008000\">'KhooaiMJ'</span>, <span style=\"color: #008000; text-decoration-color: #008000\">'Kristen ITC'</span>, <span style=\"color: #008000; text-decoration-color: #008000\">'Kunstler Script'</span>,    <span style=\"color: #7f7f7f; text-decoration-color: #7f7f7f\">                   </span>\n",
       "<span style=\"color: #7fbfbf; text-decoration-color: #7fbfbf\">                    </span>         <span style=\"color: #008000; text-decoration-color: #008000\">'Leelawadee'</span>, <span style=\"color: #008000; text-decoration-color: #008000\">'Leelawadee UI'</span>, <span style=\"color: #008000; text-decoration-color: #008000\">'Leelawadee UI Semilight'</span>, <span style=\"color: #008000; text-decoration-color: #008000\">'Lucida </span> <span style=\"color: #7f7f7f; text-decoration-color: #7f7f7f\">                   </span>\n",
       "<span style=\"color: #7fbfbf; text-decoration-color: #7fbfbf\">                    </span>         <span style=\"color: #008000; text-decoration-color: #008000\">Bright'</span>, <span style=\"color: #008000; text-decoration-color: #008000\">'Lucida Calligraphy'</span>, <span style=\"color: #008000; text-decoration-color: #008000\">'Lucida Console'</span>, <span style=\"color: #008000; text-decoration-color: #008000\">'Lucida Fax'</span>,     <span style=\"color: #7f7f7f; text-decoration-color: #7f7f7f\">                   </span>\n",
       "<span style=\"color: #7fbfbf; text-decoration-color: #7fbfbf\">                    </span>         <span style=\"color: #008000; text-decoration-color: #008000\">'Lucida Handwriting'</span>, <span style=\"color: #008000; text-decoration-color: #008000\">'Lucida Sans'</span>, <span style=\"color: #008000; text-decoration-color: #008000\">'Lucida Sans Typewriter'</span>,     <span style=\"color: #7f7f7f; text-decoration-color: #7f7f7f\">                   </span>\n",
       "<span style=\"color: #7fbfbf; text-decoration-color: #7fbfbf\">                    </span>         <span style=\"color: #008000; text-decoration-color: #008000\">'Lucida Sans Unicode'</span>, <span style=\"color: #008000; text-decoration-color: #008000\">'MS Gothic'</span>, <span style=\"color: #008000; text-decoration-color: #008000\">'MS PGothic'</span>, <span style=\"color: #008000; text-decoration-color: #008000\">'MS Reference </span>   <span style=\"color: #7f7f7f; text-decoration-color: #7f7f7f\">                   </span>\n",
       "<span style=\"color: #7fbfbf; text-decoration-color: #7fbfbf\">                    </span>         <span style=\"color: #008000; text-decoration-color: #008000\">Sans Serif'</span>, <span style=\"color: #008000; text-decoration-color: #008000\">'MS UI Gothic'</span>, <span style=\"color: #008000; text-decoration-color: #008000\">'MV Boli'</span>, <span style=\"color: #008000; text-decoration-color: #008000\">'Magneto'</span>, <span style=\"color: #008000; text-decoration-color: #008000\">'Maiandra GD'</span>,  <span style=\"color: #7f7f7f; text-decoration-color: #7f7f7f\">                   </span>\n",
       "<span style=\"color: #7fbfbf; text-decoration-color: #7fbfbf\">                    </span>         <span style=\"color: #008000; text-decoration-color: #008000\">'Malgun Gothic'</span>, <span style=\"color: #008000; text-decoration-color: #008000\">'Malgun Gothic Semilight'</span>, <span style=\"color: #008000; text-decoration-color: #008000\">'MatamuhuriMJ'</span>,        <span style=\"color: #7f7f7f; text-decoration-color: #7f7f7f\">                   </span>\n",
       "<span style=\"color: #7fbfbf; text-decoration-color: #7fbfbf\">                    </span>         <span style=\"color: #008000; text-decoration-color: #008000\">'Matura MT Script Capitals'</span>, <span style=\"color: #008000; text-decoration-color: #008000\">'Microsoft Himalaya'</span>, <span style=\"color: #008000; text-decoration-color: #008000\">'Microsoft </span>     <span style=\"color: #7f7f7f; text-decoration-color: #7f7f7f\">                   </span>\n",
       "<span style=\"color: #7fbfbf; text-decoration-color: #7fbfbf\">                    </span>         <span style=\"color: #008000; text-decoration-color: #008000\">JhengHei'</span>, <span style=\"color: #008000; text-decoration-color: #008000\">'Microsoft JhengHei Light'</span>, <span style=\"color: #008000; text-decoration-color: #008000\">'Microsoft JhengHei UI'</span>,    <span style=\"color: #7f7f7f; text-decoration-color: #7f7f7f\">                   </span>\n",
       "<span style=\"color: #7fbfbf; text-decoration-color: #7fbfbf\">                    </span>         <span style=\"color: #008000; text-decoration-color: #008000\">'Microsoft JhengHei UI Light'</span>, <span style=\"color: #008000; text-decoration-color: #008000\">'Microsoft New Tai Lue'</span>, <span style=\"color: #008000; text-decoration-color: #008000\">'Microsoft</span> <span style=\"color: #7f7f7f; text-decoration-color: #7f7f7f\">                   </span>\n",
       "<span style=\"color: #7fbfbf; text-decoration-color: #7fbfbf\">                    </span>         <span style=\"color: #008000; text-decoration-color: #008000\">PhagsPa'</span>, <span style=\"color: #008000; text-decoration-color: #008000\">'Microsoft Sans Serif'</span>, <span style=\"color: #008000; text-decoration-color: #008000\">'Microsoft Tai Le'</span>, <span style=\"color: #008000; text-decoration-color: #008000\">'Microsoft </span>  <span style=\"color: #7f7f7f; text-decoration-color: #7f7f7f\">                   </span>\n",
       "<span style=\"color: #7fbfbf; text-decoration-color: #7fbfbf\">                    </span>         <span style=\"color: #008000; text-decoration-color: #008000\">Uighur'</span>, <span style=\"color: #008000; text-decoration-color: #008000\">'Microsoft YaHei'</span>, <span style=\"color: #008000; text-decoration-color: #008000\">'Microsoft YaHei Light'</span>, <span style=\"color: #008000; text-decoration-color: #008000\">'Microsoft </span>   <span style=\"color: #7f7f7f; text-decoration-color: #7f7f7f\">                   </span>\n",
       "<span style=\"color: #7fbfbf; text-decoration-color: #7fbfbf\">                    </span>         <span style=\"color: #008000; text-decoration-color: #008000\">YaHei UI'</span>, <span style=\"color: #008000; text-decoration-color: #008000\">'Microsoft YaHei UI Light'</span>, <span style=\"color: #008000; text-decoration-color: #008000\">'Microsoft Yi Baiti'</span>,       <span style=\"color: #7f7f7f; text-decoration-color: #7f7f7f\">                   </span>\n",
       "<span style=\"color: #7fbfbf; text-decoration-color: #7fbfbf\">                    </span>         <span style=\"color: #008000; text-decoration-color: #008000\">'MingLiU-ExtB'</span>, <span style=\"color: #008000; text-decoration-color: #008000\">'MingLiU_HKSCS-ExtB'</span>, <span style=\"color: #008000; text-decoration-color: #008000\">'Mistral'</span>, <span style=\"color: #008000; text-decoration-color: #008000\">'Modern No. 20'</span>,  <span style=\"color: #7f7f7f; text-decoration-color: #7f7f7f\">                   </span>\n",
       "<span style=\"color: #7fbfbf; text-decoration-color: #7fbfbf\">                    </span>         <span style=\"color: #008000; text-decoration-color: #008000\">'Mongolian Baiti'</span>, <span style=\"color: #008000; text-decoration-color: #008000\">'Monospace'</span>, <span style=\"color: #008000; text-decoration-color: #008000\">'Monotype Corsiva'</span>, <span style=\"color: #008000; text-decoration-color: #008000\">'MuhuriMJ'</span>,    <span style=\"color: #7f7f7f; text-decoration-color: #7f7f7f\">                   </span>\n",
       "<span style=\"color: #7fbfbf; text-decoration-color: #7fbfbf\">                    </span>         <span style=\"color: #008000; text-decoration-color: #008000\">'Myanmar Text'</span>, <span style=\"color: #008000; text-decoration-color: #008000\">'NSimSun'</span>, <span style=\"color: #008000; text-decoration-color: #008000\">'Niagara Engraved'</span>, <span style=\"color: #008000; text-decoration-color: #008000\">'Niagara Solid'</span>,    <span style=\"color: #7f7f7f; text-decoration-color: #7f7f7f\">                   </span>\n",
       "<span style=\"color: #7fbfbf; text-decoration-color: #7fbfbf\">                    </span>         <span style=\"color: #008000; text-decoration-color: #008000\">'Nirmala UI'</span>, <span style=\"color: #008000; text-decoration-color: #008000\">'Nirmala UI Semilight'</span>, <span style=\"color: #008000; text-decoration-color: #008000\">'OCR A Extended'</span>, <span style=\"color: #008000; text-decoration-color: #008000\">'Old </span>      <span style=\"color: #7f7f7f; text-decoration-color: #7f7f7f\">                   </span>\n",
       "<span style=\"color: #7fbfbf; text-decoration-color: #7fbfbf\">                    </span>         <span style=\"color: #008000; text-decoration-color: #008000\">English Text MT'</span>, <span style=\"color: #008000; text-decoration-color: #008000\">'Onyx'</span>, <span style=\"color: #008000; text-decoration-color: #008000\">'PMingLiU-ExtB'</span>, <span style=\"color: #008000; text-decoration-color: #008000\">'Palace Script MT'</span>,     <span style=\"color: #7f7f7f; text-decoration-color: #7f7f7f\">                   </span>\n",
       "<span style=\"color: #7fbfbf; text-decoration-color: #7fbfbf\">                    </span>         <span style=\"color: #008000; text-decoration-color: #008000\">'Palatino Linotype'</span>, <span style=\"color: #008000; text-decoration-color: #008000\">'Papyrus'</span>, <span style=\"color: #008000; text-decoration-color: #008000\">'ParashSushreeMJ'</span>, <span style=\"color: #008000; text-decoration-color: #008000\">'Parchment'</span>,    <span style=\"color: #7f7f7f; text-decoration-color: #7f7f7f\">                   </span>\n",
       "<span style=\"color: #7fbfbf; text-decoration-color: #7fbfbf\">                    </span>         <span style=\"color: #008000; text-decoration-color: #008000\">'Perpetua'</span>, <span style=\"color: #008000; text-decoration-color: #008000\">'Perpetua Titling MT'</span>, <span style=\"color: #008000; text-decoration-color: #008000\">'PinkiyMJ'</span>, <span style=\"color: #008000; text-decoration-color: #008000\">'Playbill'</span>, <span style=\"color: #008000; text-decoration-color: #008000\">'Poor </span>  <span style=\"color: #7f7f7f; text-decoration-color: #7f7f7f\">                   </span>\n",
       "<span style=\"color: #7fbfbf; text-decoration-color: #7fbfbf\">                    </span>         <span style=\"color: #008000; text-decoration-color: #008000\">Richard'</span>, <span style=\"color: #008000; text-decoration-color: #008000\">'Pristina'</span>, <span style=\"color: #008000; text-decoration-color: #008000\">'RabeyaSreeMJ'</span>, <span style=\"color: #008000; text-decoration-color: #008000\">'Rage Italic'</span>, <span style=\"color: #008000; text-decoration-color: #008000\">'Ravie'</span>,      <span style=\"color: #7f7f7f; text-decoration-color: #7f7f7f\">                   </span>\n",
       "<span style=\"color: #7fbfbf; text-decoration-color: #7fbfbf\">                    </span>         <span style=\"color: #008000; text-decoration-color: #008000\">'RinkiyMJ'</span>, <span style=\"color: #008000; text-decoration-color: #008000\">'RinkiySreeMJ'</span>, <span style=\"color: #008000; text-decoration-color: #008000\">'RinkiySushreeMJ'</span>, <span style=\"color: #008000; text-decoration-color: #008000\">'Rockwell'</span>,         <span style=\"color: #7f7f7f; text-decoration-color: #7f7f7f\">                   </span>\n",
       "<span style=\"color: #7fbfbf; text-decoration-color: #7fbfbf\">                    </span>         <span style=\"color: #008000; text-decoration-color: #008000\">'Rockwell Condensed'</span>, <span style=\"color: #008000; text-decoration-color: #008000\">'Rockwell Extra Bold'</span>, <span style=\"color: #008000; text-decoration-color: #008000\">'Sans'</span>, <span style=\"color: #008000; text-decoration-color: #008000\">'Script MT </span>   <span style=\"color: #7f7f7f; text-decoration-color: #7f7f7f\">                   </span>\n",
       "<span style=\"color: #7fbfbf; text-decoration-color: #7fbfbf\">                    </span>         <span style=\"color: #008000; text-decoration-color: #008000\">Bold'</span>, <span style=\"color: #008000; text-decoration-color: #008000\">'Segoe Fluent Icons'</span>, <span style=\"color: #008000; text-decoration-color: #008000\">'Segoe MDL2 Assets'</span>, <span style=\"color: #008000; text-decoration-color: #008000\">'Segoe Print'</span>,   <span style=\"color: #7f7f7f; text-decoration-color: #7f7f7f\">                   </span>\n",
       "<span style=\"color: #7fbfbf; text-decoration-color: #7fbfbf\">                    </span>         <span style=\"color: #008000; text-decoration-color: #008000\">'Segoe Script'</span>, <span style=\"color: #008000; text-decoration-color: #008000\">'Segoe UI'</span>, <span style=\"color: #008000; text-decoration-color: #008000\">'Segoe UI Black'</span>, <span style=\"color: #008000; text-decoration-color: #008000\">'Segoe UI Emoji'</span>,    <span style=\"color: #7f7f7f; text-decoration-color: #7f7f7f\">                   </span>\n",
       "<span style=\"color: #7fbfbf; text-decoration-color: #7fbfbf\">                    </span>         <span style=\"color: #008000; text-decoration-color: #008000\">'Segoe UI Historic'</span>, <span style=\"color: #008000; text-decoration-color: #008000\">'Segoe UI Light'</span>, <span style=\"color: #008000; text-decoration-color: #008000\">'Segoe UI Semibold'</span>, <span style=\"color: #008000; text-decoration-color: #008000\">'Segoe</span> <span style=\"color: #7f7f7f; text-decoration-color: #7f7f7f\">                   </span>\n",
       "<span style=\"color: #7fbfbf; text-decoration-color: #7fbfbf\">                    </span>         <span style=\"color: #008000; text-decoration-color: #008000\">UI Semilight'</span>, <span style=\"color: #008000; text-decoration-color: #008000\">'Segoe UI Symbol'</span>, <span style=\"color: #008000; text-decoration-color: #008000\">'Segoe UI Variable Display'</span>,     <span style=\"color: #7f7f7f; text-decoration-color: #7f7f7f\">                   </span>\n",
       "<span style=\"color: #7fbfbf; text-decoration-color: #7fbfbf\">                    </span>         <span style=\"color: #008000; text-decoration-color: #008000\">'Segoe UI Variable Display Light'</span>, <span style=\"color: #008000; text-decoration-color: #008000\">'Segoe UI Variable Display </span>     <span style=\"color: #7f7f7f; text-decoration-color: #7f7f7f\">                   </span>\n",
       "<span style=\"color: #7fbfbf; text-decoration-color: #7fbfbf\">                    </span>         <span style=\"color: #008000; text-decoration-color: #008000\">Semib'</span>, <span style=\"color: #008000; text-decoration-color: #008000\">'Segoe UI Variable Display Semil'</span>, <span style=\"color: #008000; text-decoration-color: #008000\">'Segoe UI Variable </span>     <span style=\"color: #7f7f7f; text-decoration-color: #7f7f7f\">                   </span>\n",
       "<span style=\"color: #7fbfbf; text-decoration-color: #7fbfbf\">                    </span>         <span style=\"color: #008000; text-decoration-color: #008000\">Small'</span>, <span style=\"color: #008000; text-decoration-color: #008000\">'Segoe UI Variable Small Light'</span>, <span style=\"color: #008000; text-decoration-color: #008000\">'Segoe UI Variable Small </span> <span style=\"color: #7f7f7f; text-decoration-color: #7f7f7f\">                   </span>\n",
       "<span style=\"color: #7fbfbf; text-decoration-color: #7fbfbf\">                    </span>         <span style=\"color: #008000; text-decoration-color: #008000\">Semibol'</span>, <span style=\"color: #008000; text-decoration-color: #008000\">'Segoe UI Variable Small Semilig'</span>, <span style=\"color: #008000; text-decoration-color: #008000\">'Segoe UI Variable </span>   <span style=\"color: #7f7f7f; text-decoration-color: #7f7f7f\">                   </span>\n",
       "<span style=\"color: #7fbfbf; text-decoration-color: #7fbfbf\">                    </span>         <span style=\"color: #008000; text-decoration-color: #008000\">Text'</span>, <span style=\"color: #008000; text-decoration-color: #008000\">'Segoe UI Variable Text Light'</span>, <span style=\"color: #008000; text-decoration-color: #008000\">'Segoe UI Variable Text </span>    <span style=\"color: #7f7f7f; text-decoration-color: #7f7f7f\">                   </span>\n",
       "<span style=\"color: #7fbfbf; text-decoration-color: #7fbfbf\">                    </span>         <span style=\"color: #008000; text-decoration-color: #008000\">Semibold'</span>, <span style=\"color: #008000; text-decoration-color: #008000\">'Segoe UI Variable Text Semiligh'</span>, <span style=\"color: #008000; text-decoration-color: #008000\">'Serif'</span>, <span style=\"color: #008000; text-decoration-color: #008000\">'Showcard </span>  <span style=\"color: #7f7f7f; text-decoration-color: #7f7f7f\">                   </span>\n",
       "<span style=\"color: #7fbfbf; text-decoration-color: #7fbfbf\">                    </span>         <span style=\"color: #008000; text-decoration-color: #008000\">Gothic'</span>, <span style=\"color: #008000; text-decoration-color: #008000\">'SimSun'</span>, <span style=\"color: #008000; text-decoration-color: #008000\">'SimSun-ExtB'</span>, <span style=\"color: #008000; text-decoration-color: #008000\">'Sitka Banner'</span>, <span style=\"color: #008000; text-decoration-color: #008000\">'Sitka Banner </span>   <span style=\"color: #7f7f7f; text-decoration-color: #7f7f7f\">                   </span>\n",
       "<span style=\"color: #7fbfbf; text-decoration-color: #7fbfbf\">                    </span>         <span style=\"color: #008000; text-decoration-color: #008000\">Semibold'</span>, <span style=\"color: #008000; text-decoration-color: #008000\">'Sitka Display'</span>, <span style=\"color: #008000; text-decoration-color: #008000\">'Sitka Display Semibold'</span>, <span style=\"color: #008000; text-decoration-color: #008000\">'Sitka </span>      <span style=\"color: #7f7f7f; text-decoration-color: #7f7f7f\">                   </span>\n",
       "<span style=\"color: #7fbfbf; text-decoration-color: #7fbfbf\">                    </span>         <span style=\"color: #008000; text-decoration-color: #008000\">Heading'</span>, <span style=\"color: #008000; text-decoration-color: #008000\">'Sitka Heading Semibold'</span>, <span style=\"color: #008000; text-decoration-color: #008000\">'Sitka Small'</span>, <span style=\"color: #008000; text-decoration-color: #008000\">'Sitka Small </span>   <span style=\"color: #7f7f7f; text-decoration-color: #7f7f7f\">                   </span>\n",
       "<span style=\"color: #7fbfbf; text-decoration-color: #7fbfbf\">                    </span>         <span style=\"color: #008000; text-decoration-color: #008000\">Semibold'</span>, <span style=\"color: #008000; text-decoration-color: #008000\">'Sitka Subheading'</span>, <span style=\"color: #008000; text-decoration-color: #008000\">'Sitka Subheading Semibold'</span>, <span style=\"color: #008000; text-decoration-color: #008000\">'Sitka</span> <span style=\"color: #7f7f7f; text-decoration-color: #7f7f7f\">                   </span>\n",
       "<span style=\"color: #7fbfbf; text-decoration-color: #7fbfbf\">                    </span>         <span style=\"color: #008000; text-decoration-color: #008000\">Text'</span>, <span style=\"color: #008000; text-decoration-color: #008000\">'Sitka Text Semibold'</span>, <span style=\"color: #008000; text-decoration-color: #008000\">'Siyam Rupali'</span>, <span style=\"color: #008000; text-decoration-color: #008000\">'Siyam Rupali ANSI'</span>, <span style=\"color: #7f7f7f; text-decoration-color: #7f7f7f\">                   </span>\n",
       "<span style=\"color: #7fbfbf; text-decoration-color: #7fbfbf\">                    </span>         <span style=\"color: #008000; text-decoration-color: #008000\">'Snap ITC'</span>, <span style=\"color: #008000; text-decoration-color: #008000\">'SonkhoMJ'</span>, <span style=\"color: #008000; text-decoration-color: #008000\">'Stencil'</span>, <span style=\"color: #008000; text-decoration-color: #008000\">'SumeshwariMJ'</span>, <span style=\"color: #008000; text-decoration-color: #008000\">'SutonnyMJ'</span>,    <span style=\"color: #7f7f7f; text-decoration-color: #7f7f7f\">                   </span>\n",
       "<span style=\"color: #7fbfbf; text-decoration-color: #7fbfbf\">                    </span>         <span style=\"color: #008000; text-decoration-color: #008000\">'SutonnyOMJ'</span>, <span style=\"color: #008000; text-decoration-color: #008000\">'SutonnySushreeMJ'</span>, <span style=\"color: #008000; text-decoration-color: #008000\">'SutonnySushreeOMJ'</span>,             <span style=\"color: #7f7f7f; text-decoration-color: #7f7f7f\">                   </span>\n",
       "<span style=\"color: #7fbfbf; text-decoration-color: #7fbfbf\">                    </span>         <span style=\"color: #008000; text-decoration-color: #008000\">'SutonnyUniBanglaOMJ'</span>, <span style=\"color: #008000; text-decoration-color: #008000\">'Sylfaen'</span>, <span style=\"color: #008000; text-decoration-color: #008000\">'System-ui'</span>, <span style=\"color: #008000; text-decoration-color: #008000\">'Tahoma'</span>,           <span style=\"color: #7f7f7f; text-decoration-color: #7f7f7f\">                   </span>\n",
       "<span style=\"color: #7fbfbf; text-decoration-color: #7fbfbf\">                    </span>         <span style=\"color: #008000; text-decoration-color: #008000\">'TangonMJ'</span>, <span style=\"color: #008000; text-decoration-color: #008000\">'TangonMotaMJ'</span>, <span style=\"color: #008000; text-decoration-color: #008000\">'TeeshtaMJ'</span>, <span style=\"color: #008000; text-decoration-color: #008000\">'Tempus Sans ITC'</span>, <span style=\"color: #008000; text-decoration-color: #008000\">'Times</span> <span style=\"color: #7f7f7f; text-decoration-color: #7f7f7f\">                   </span>\n",
       "<span style=\"color: #7fbfbf; text-decoration-color: #7fbfbf\">                    </span>         <span style=\"color: #008000; text-decoration-color: #008000\">New Roman'</span>, <span style=\"color: #008000; text-decoration-color: #008000\">'TonnyBanglaMJ'</span>, <span style=\"color: #008000; text-decoration-color: #008000\">'TonnySushreeMJ'</span>, <span style=\"color: #008000; text-decoration-color: #008000\">'Trebuchet MS'</span>, <span style=\"color: #008000; text-decoration-color: #008000\">'Tw</span> <span style=\"color: #7f7f7f; text-decoration-color: #7f7f7f\">                   </span>\n",
       "<span style=\"color: #7fbfbf; text-decoration-color: #7fbfbf\">                    </span>         <span style=\"color: #008000; text-decoration-color: #008000\">Cen MT'</span>, <span style=\"color: #008000; text-decoration-color: #008000\">'Tw Cen MT Condensed'</span>, <span style=\"color: #008000; text-decoration-color: #008000\">'Tw Cen MT Condensed Extra Bold'</span>,  <span style=\"color: #7f7f7f; text-decoration-color: #7f7f7f\">                   </span>\n",
       "<span style=\"color: #7fbfbf; text-decoration-color: #7fbfbf\">                    </span>         <span style=\"color: #008000; text-decoration-color: #008000\">'UrmeeMJ'</span>, <span style=\"color: #008000; text-decoration-color: #008000\">'Verdana'</span>, <span style=\"color: #008000; text-decoration-color: #008000\">'Viner Hand ITC'</span>, <span style=\"color: #008000; text-decoration-color: #008000\">'Vivaldi'</span>, <span style=\"color: #008000; text-decoration-color: #008000\">'Vladimir </span>      <span style=\"color: #7f7f7f; text-decoration-color: #7f7f7f\">                   </span>\n",
       "<span style=\"color: #7fbfbf; text-decoration-color: #7fbfbf\">                    </span>         <span style=\"color: #008000; text-decoration-color: #008000\">Script'</span>, <span style=\"color: #008000; text-decoration-color: #008000\">'Wide Latin'</span>, <span style=\"color: #008000; text-decoration-color: #008000\">'Yu Gothic'</span>, <span style=\"color: #008000; text-decoration-color: #008000\">'Yu Gothic Light'</span>, <span style=\"color: #008000; text-decoration-color: #008000\">'Yu Gothic </span> <span style=\"color: #7f7f7f; text-decoration-color: #7f7f7f\">                   </span>\n",
       "<span style=\"color: #7fbfbf; text-decoration-color: #7fbfbf\">                    </span>         <span style=\"color: #008000; text-decoration-color: #008000\">Medium'</span>, <span style=\"color: #008000; text-decoration-color: #008000\">'Yu Gothic UI'</span>, <span style=\"color: #008000; text-decoration-color: #008000\">'Yu Gothic UI Light'</span>, <span style=\"color: #008000; text-decoration-color: #008000\">'Yu Gothic UI </span>      <span style=\"color: #7f7f7f; text-decoration-color: #7f7f7f\">                   </span>\n",
       "<span style=\"color: #7fbfbf; text-decoration-color: #7fbfbf\">                    </span>         <span style=\"color: #008000; text-decoration-color: #008000\">Semibold'</span>, <span style=\"color: #008000; text-decoration-color: #008000\">'Yu Gothic UI Semilight'</span><span style=\"font-weight: bold\">]</span>.                              <span style=\"color: #7f7f7f; text-decoration-color: #7f7f7f\">                   </span>\n",
       "</pre>\n"
      ],
      "text/plain": [
       "\u001b[2;36m[10/27/23 11:34:28]\u001b[0m\u001b[2;36m \u001b[0m\u001b[31mWARNING \u001b[0m Font TeX Gyre Termes not in \u001b[1m[\u001b[0m\u001b[32m'Agency FB'\u001b[0m, \u001b[32m'Algerian'\u001b[0m,              \u001b]8;id=411338;file://c:\\Users\\PC\\Desktop\\ManimCE1\\mce\\lib\\site-packages\\manim\\mobject\\text\\text_mobject.py\u001b\\\u001b[2mtext_mobject.py\u001b[0m\u001b]8;;\u001b\\\u001b[2m:\u001b[0m\u001b]8;id=13846;file://c:\\Users\\PC\\Desktop\\ManimCE1\\mce\\lib\\site-packages\\manim\\mobject\\text\\text_mobject.py#441\u001b\\\u001b[2m441\u001b[0m\u001b]8;;\u001b\\\n",
       "\u001b[2;36m                    \u001b[0m         \u001b[32m'ArhialkhanMJ'\u001b[0m, \u001b[32m'Arial'\u001b[0m, \u001b[32m'Arial Black'\u001b[0m, \u001b[32m'Arial Narrow'\u001b[0m, \u001b[32m'Arial \u001b[0m    \u001b[2m                   \u001b[0m\n",
       "\u001b[2;36m                    \u001b[0m         \u001b[32mRounded MT Bold'\u001b[0m, \u001b[32m'Bahnschrift'\u001b[0m, \u001b[32m'Bahnschrift Condensed'\u001b[0m,          \u001b[2m                   \u001b[0m\n",
       "\u001b[2;36m                    \u001b[0m         \u001b[32m'Bahnschrift Light'\u001b[0m, \u001b[32m'Bahnschrift Light Condensed'\u001b[0m, \u001b[32m'Bahnschrift \u001b[0m  \u001b[2m                   \u001b[0m\n",
       "\u001b[2;36m                    \u001b[0m         \u001b[32mLight SemiCondensed'\u001b[0m, \u001b[32m'Bahnschrift SemiBold'\u001b[0m, \u001b[32m'Bahnschrift \u001b[0m        \u001b[2m                   \u001b[0m\n",
       "\u001b[2;36m                    \u001b[0m         \u001b[32mSemiBold Condensed'\u001b[0m, \u001b[32m'Bahnschrift SemiBold SemiConden'\u001b[0m,            \u001b[2m                   \u001b[0m\n",
       "\u001b[2;36m                    \u001b[0m         \u001b[32m'Bahnschrift SemiCondensed'\u001b[0m, \u001b[32m'Bahnschrift SemiLight'\u001b[0m, \u001b[32m'Bahnschrift\u001b[0m \u001b[2m                   \u001b[0m\n",
       "\u001b[2;36m                    \u001b[0m         \u001b[32mSemiLight Condensed'\u001b[0m, \u001b[32m'Bahnschrift SemiLight SemiConde'\u001b[0m,           \u001b[2m                   \u001b[0m\n",
       "\u001b[2;36m                    \u001b[0m         \u001b[32m'Baskerville Old Face'\u001b[0m, \u001b[32m'Bauhaus 93'\u001b[0m, \u001b[32m'Bell MT'\u001b[0m, \u001b[32m'Berlin Sans FB'\u001b[0m, \u001b[2m                   \u001b[0m\n",
       "\u001b[2;36m                    \u001b[0m         \u001b[32m'Berlin Sans FB Demi'\u001b[0m, \u001b[32m'Bernard MT Condensed'\u001b[0m, \u001b[32m'BijoyMJ'\u001b[0m,          \u001b[2m                   \u001b[0m\n",
       "\u001b[2;36m                    \u001b[0m         \u001b[32m'Blackadder ITC'\u001b[0m, \u001b[32m'Bodoni MT'\u001b[0m, \u001b[32m'Bodoni MT Black'\u001b[0m, \u001b[32m'Bodoni MT \u001b[0m      \u001b[2m                   \u001b[0m\n",
       "\u001b[2;36m                    \u001b[0m         \u001b[32mCondensed'\u001b[0m, \u001b[32m'Bodoni MT Poster Compressed'\u001b[0m, \u001b[32m'Book Antiqua'\u001b[0m,         \u001b[2m                   \u001b[0m\n",
       "\u001b[2;36m                    \u001b[0m         \u001b[32m'Bookman Old Style'\u001b[0m, \u001b[32m'Bradley Hand ITC'\u001b[0m, \u001b[32m'BrahmaputraMJ'\u001b[0m,          \u001b[2m                   \u001b[0m\n",
       "\u001b[2;36m                    \u001b[0m         \u001b[32m'Britannic Bold'\u001b[0m, \u001b[32m'Broadway'\u001b[0m, \u001b[32m'Brush Script MT'\u001b[0m,                   \u001b[2m                   \u001b[0m\n",
       "\u001b[2;36m                    \u001b[0m         \u001b[32m'BurigangaSushreeMJ'\u001b[0m, \u001b[32m'Calibri'\u001b[0m, \u001b[32m'Calibri Light'\u001b[0m, \u001b[32m'Californian \u001b[0m    \u001b[2m                   \u001b[0m\n",
       "\u001b[2;36m                    \u001b[0m         \u001b[32mFB'\u001b[0m, \u001b[32m'Calisto MT'\u001b[0m, \u001b[32m'Cambria'\u001b[0m, \u001b[32m'Cambria Math'\u001b[0m, \u001b[32m'Candara'\u001b[0m, \u001b[32m'Candara \u001b[0m \u001b[2m                   \u001b[0m\n",
       "\u001b[2;36m                    \u001b[0m         \u001b[32mLight'\u001b[0m, \u001b[32m'Cascadia Code'\u001b[0m, \u001b[32m'Cascadia Code ExtraLight'\u001b[0m, \u001b[32m'Cascadia \u001b[0m    \u001b[2m                   \u001b[0m\n",
       "\u001b[2;36m                    \u001b[0m         \u001b[32mCode Light'\u001b[0m, \u001b[32m'Cascadia Code SemiBold'\u001b[0m, \u001b[32m'Cascadia Code SemiLight'\u001b[0m,  \u001b[2m                   \u001b[0m\n",
       "\u001b[2;36m                    \u001b[0m         \u001b[32m'Cascadia Mono'\u001b[0m, \u001b[32m'Cascadia Mono ExtraLight'\u001b[0m, \u001b[32m'Cascadia Mono \u001b[0m       \u001b[2m                   \u001b[0m\n",
       "\u001b[2;36m                    \u001b[0m         \u001b[32mLight'\u001b[0m, \u001b[32m'Cascadia Mono SemiBold'\u001b[0m, \u001b[32m'Cascadia Mono SemiLight'\u001b[0m,       \u001b[2m                   \u001b[0m\n",
       "\u001b[2;36m                    \u001b[0m         \u001b[32m'Castellar'\u001b[0m, \u001b[32m'Centaur'\u001b[0m, \u001b[32m'Century'\u001b[0m, \u001b[32m'Century Gothic'\u001b[0m, \u001b[32m'Century \u001b[0m     \u001b[2m                   \u001b[0m\n",
       "\u001b[2;36m                    \u001b[0m         \u001b[32mSchoolbook'\u001b[0m, \u001b[32m'ChandrabatiMJ'\u001b[0m, \u001b[32m'ChandrabatiMatraMJ'\u001b[0m, \u001b[32m'Chiller'\u001b[0m,     \u001b[2m                   \u001b[0m\n",
       "\u001b[2;36m                    \u001b[0m         \u001b[32m'Colonna MT'\u001b[0m, \u001b[32m'Comic Sans MS'\u001b[0m, \u001b[32m'Consolas'\u001b[0m, \u001b[32m'Constantia'\u001b[0m, \u001b[32m'Cooper \u001b[0m  \u001b[2m                   \u001b[0m\n",
       "\u001b[2;36m                    \u001b[0m         \u001b[32mBlack'\u001b[0m, \u001b[32m'Copperplate Gothic Bold'\u001b[0m, \u001b[32m'Copperplate Gothic Light'\u001b[0m,     \u001b[2m                   \u001b[0m\n",
       "\u001b[2;36m                    \u001b[0m         \u001b[32m'Corbel'\u001b[0m, \u001b[32m'Corbel Light'\u001b[0m, \u001b[32m'Courier New'\u001b[0m, \u001b[32m'Curlz MT'\u001b[0m, \u001b[32m'Cursive'\u001b[0m,    \u001b[2m                   \u001b[0m\n",
       "\u001b[2;36m                    \u001b[0m         \u001b[32m'DhakarChithiMJ'\u001b[0m, \u001b[32m'DholeshwariMJ'\u001b[0m, \u001b[32m'Ebrima'\u001b[0m, \u001b[32m'Edwardian Script \u001b[0m    \u001b[2m                   \u001b[0m\n",
       "\u001b[2;36m                    \u001b[0m         \u001b[32mITC'\u001b[0m, \u001b[32m'Elephant'\u001b[0m, \u001b[32m'Engravers MT'\u001b[0m, \u001b[32m'Eras Bold ITC'\u001b[0m, \u001b[32m'Eras Demi \u001b[0m     \u001b[2m                   \u001b[0m\n",
       "\u001b[2;36m                    \u001b[0m         \u001b[32mITC'\u001b[0m, \u001b[32m'Eras Light ITC'\u001b[0m, \u001b[32m'Eras Medium ITC'\u001b[0m, \u001b[32m'Fantasy'\u001b[0m, \u001b[32m'Felix \u001b[0m      \u001b[2m                   \u001b[0m\n",
       "\u001b[2;36m                    \u001b[0m         \u001b[32mTitling'\u001b[0m, \u001b[32m'Footlight MT Light'\u001b[0m, \u001b[32m'Forte'\u001b[0m, \u001b[32m'Franklin Gothic Book'\u001b[0m,   \u001b[2m                   \u001b[0m\n",
       "\u001b[2;36m                    \u001b[0m         \u001b[32m'Franklin Gothic Demi'\u001b[0m, \u001b[32m'Franklin Gothic Demi Cond'\u001b[0m, \u001b[32m'Franklin \u001b[0m    \u001b[2m                   \u001b[0m\n",
       "\u001b[2;36m                    \u001b[0m         \u001b[32mGothic Heavy'\u001b[0m, \u001b[32m'Franklin Gothic Medium'\u001b[0m, \u001b[32m'Franklin Gothic Medium \u001b[0m  \u001b[2m                   \u001b[0m\n",
       "\u001b[2;36m                    \u001b[0m         \u001b[32mCond'\u001b[0m, \u001b[32m'Freestyle Script'\u001b[0m, \u001b[32m'French Script MT'\u001b[0m, \u001b[32m'Gabriola'\u001b[0m,         \u001b[2m                   \u001b[0m\n",
       "\u001b[2;36m                    \u001b[0m         \u001b[32m'Gadugi'\u001b[0m, \u001b[32m'GangaMJ'\u001b[0m, \u001b[32m'GangaSagarMJ'\u001b[0m, \u001b[32m'Garamond'\u001b[0m, \u001b[32m'Georgia'\u001b[0m,        \u001b[2m                   \u001b[0m\n",
       "\u001b[2;36m                    \u001b[0m         \u001b[32m'Gigi'\u001b[0m, \u001b[32m'Gill Sans MT'\u001b[0m, \u001b[32m'Gill Sans MT Condensed'\u001b[0m, \u001b[32m'Gill Sans MT \u001b[0m   \u001b[2m                   \u001b[0m\n",
       "\u001b[2;36m                    \u001b[0m         \u001b[32mExt Condensed Bold'\u001b[0m, \u001b[32m'Gill Sans Ultra Bold'\u001b[0m, \u001b[32m'Gill Sans Ultra Bold\u001b[0m \u001b[2m                   \u001b[0m\n",
       "\u001b[2;36m                    \u001b[0m         \u001b[32mCondensed'\u001b[0m, \u001b[32m'Gloucester MT Extra Condensed'\u001b[0m, \u001b[32m'Goudy Old Style'\u001b[0m,    \u001b[2m                   \u001b[0m\n",
       "\u001b[2;36m                    \u001b[0m         \u001b[32m'Goudy Stout'\u001b[0m, \u001b[32m'Haettenschweiler'\u001b[0m, \u001b[32m'Harlow Solid Italic'\u001b[0m,          \u001b[2m                   \u001b[0m\n",
       "\u001b[2;36m                    \u001b[0m         \u001b[32m'Harrington'\u001b[0m, \u001b[32m'High Tower Text'\u001b[0m, \u001b[32m'HoloLens MDL2 Assets'\u001b[0m, \u001b[32m'Impact'\u001b[0m, \u001b[2m                   \u001b[0m\n",
       "\u001b[2;36m                    \u001b[0m         \u001b[32m'Imprint MT Shadow'\u001b[0m, \u001b[32m'Informal Roman'\u001b[0m, \u001b[32m'Ink Free'\u001b[0m, \u001b[32m'IrabotiMJ'\u001b[0m,    \u001b[2m                   \u001b[0m\n",
       "\u001b[2;36m                    \u001b[0m         \u001b[32m'JaJaDiMJ'\u001b[0m, \u001b[32m'Javanese Text'\u001b[0m, \u001b[32m'Jokerman'\u001b[0m, \u001b[32m'Juice ITC'\u001b[0m, \u001b[32m'Kalpurush'\u001b[0m, \u001b[2m                   \u001b[0m\n",
       "\u001b[2;36m                    \u001b[0m         \u001b[32m'Kalpurush ANSI'\u001b[0m, \u001b[32m'KhooaiMJ'\u001b[0m, \u001b[32m'Kristen ITC'\u001b[0m, \u001b[32m'Kunstler Script'\u001b[0m,    \u001b[2m                   \u001b[0m\n",
       "\u001b[2;36m                    \u001b[0m         \u001b[32m'Leelawadee'\u001b[0m, \u001b[32m'Leelawadee UI'\u001b[0m, \u001b[32m'Leelawadee UI Semilight'\u001b[0m, \u001b[32m'Lucida \u001b[0m \u001b[2m                   \u001b[0m\n",
       "\u001b[2;36m                    \u001b[0m         \u001b[32mBright'\u001b[0m, \u001b[32m'Lucida Calligraphy'\u001b[0m, \u001b[32m'Lucida Console'\u001b[0m, \u001b[32m'Lucida Fax'\u001b[0m,     \u001b[2m                   \u001b[0m\n",
       "\u001b[2;36m                    \u001b[0m         \u001b[32m'Lucida Handwriting'\u001b[0m, \u001b[32m'Lucida Sans'\u001b[0m, \u001b[32m'Lucida Sans Typewriter'\u001b[0m,     \u001b[2m                   \u001b[0m\n",
       "\u001b[2;36m                    \u001b[0m         \u001b[32m'Lucida Sans Unicode'\u001b[0m, \u001b[32m'MS Gothic'\u001b[0m, \u001b[32m'MS PGothic'\u001b[0m, \u001b[32m'MS Reference \u001b[0m   \u001b[2m                   \u001b[0m\n",
       "\u001b[2;36m                    \u001b[0m         \u001b[32mSans Serif'\u001b[0m, \u001b[32m'MS UI Gothic'\u001b[0m, \u001b[32m'MV Boli'\u001b[0m, \u001b[32m'Magneto'\u001b[0m, \u001b[32m'Maiandra GD'\u001b[0m,  \u001b[2m                   \u001b[0m\n",
       "\u001b[2;36m                    \u001b[0m         \u001b[32m'Malgun Gothic'\u001b[0m, \u001b[32m'Malgun Gothic Semilight'\u001b[0m, \u001b[32m'MatamuhuriMJ'\u001b[0m,        \u001b[2m                   \u001b[0m\n",
       "\u001b[2;36m                    \u001b[0m         \u001b[32m'Matura MT Script Capitals'\u001b[0m, \u001b[32m'Microsoft Himalaya'\u001b[0m, \u001b[32m'Microsoft \u001b[0m     \u001b[2m                   \u001b[0m\n",
       "\u001b[2;36m                    \u001b[0m         \u001b[32mJhengHei'\u001b[0m, \u001b[32m'Microsoft JhengHei Light'\u001b[0m, \u001b[32m'Microsoft JhengHei UI'\u001b[0m,    \u001b[2m                   \u001b[0m\n",
       "\u001b[2;36m                    \u001b[0m         \u001b[32m'Microsoft JhengHei UI Light'\u001b[0m, \u001b[32m'Microsoft New Tai Lue'\u001b[0m, \u001b[32m'Microsoft\u001b[0m \u001b[2m                   \u001b[0m\n",
       "\u001b[2;36m                    \u001b[0m         \u001b[32mPhagsPa'\u001b[0m, \u001b[32m'Microsoft Sans Serif'\u001b[0m, \u001b[32m'Microsoft Tai Le'\u001b[0m, \u001b[32m'Microsoft \u001b[0m  \u001b[2m                   \u001b[0m\n",
       "\u001b[2;36m                    \u001b[0m         \u001b[32mUighur'\u001b[0m, \u001b[32m'Microsoft YaHei'\u001b[0m, \u001b[32m'Microsoft YaHei Light'\u001b[0m, \u001b[32m'Microsoft \u001b[0m   \u001b[2m                   \u001b[0m\n",
       "\u001b[2;36m                    \u001b[0m         \u001b[32mYaHei UI'\u001b[0m, \u001b[32m'Microsoft YaHei UI Light'\u001b[0m, \u001b[32m'Microsoft Yi Baiti'\u001b[0m,       \u001b[2m                   \u001b[0m\n",
       "\u001b[2;36m                    \u001b[0m         \u001b[32m'MingLiU-ExtB'\u001b[0m, \u001b[32m'MingLiU_HKSCS-ExtB'\u001b[0m, \u001b[32m'Mistral'\u001b[0m, \u001b[32m'Modern No. 20'\u001b[0m,  \u001b[2m                   \u001b[0m\n",
       "\u001b[2;36m                    \u001b[0m         \u001b[32m'Mongolian Baiti'\u001b[0m, \u001b[32m'Monospace'\u001b[0m, \u001b[32m'Monotype Corsiva'\u001b[0m, \u001b[32m'MuhuriMJ'\u001b[0m,    \u001b[2m                   \u001b[0m\n",
       "\u001b[2;36m                    \u001b[0m         \u001b[32m'Myanmar Text'\u001b[0m, \u001b[32m'NSimSun'\u001b[0m, \u001b[32m'Niagara Engraved'\u001b[0m, \u001b[32m'Niagara Solid'\u001b[0m,    \u001b[2m                   \u001b[0m\n",
       "\u001b[2;36m                    \u001b[0m         \u001b[32m'Nirmala UI'\u001b[0m, \u001b[32m'Nirmala UI Semilight'\u001b[0m, \u001b[32m'OCR A Extended'\u001b[0m, \u001b[32m'Old \u001b[0m      \u001b[2m                   \u001b[0m\n",
       "\u001b[2;36m                    \u001b[0m         \u001b[32mEnglish Text MT'\u001b[0m, \u001b[32m'Onyx'\u001b[0m, \u001b[32m'PMingLiU-ExtB'\u001b[0m, \u001b[32m'Palace Script MT'\u001b[0m,     \u001b[2m                   \u001b[0m\n",
       "\u001b[2;36m                    \u001b[0m         \u001b[32m'Palatino Linotype'\u001b[0m, \u001b[32m'Papyrus'\u001b[0m, \u001b[32m'ParashSushreeMJ'\u001b[0m, \u001b[32m'Parchment'\u001b[0m,    \u001b[2m                   \u001b[0m\n",
       "\u001b[2;36m                    \u001b[0m         \u001b[32m'Perpetua'\u001b[0m, \u001b[32m'Perpetua Titling MT'\u001b[0m, \u001b[32m'PinkiyMJ'\u001b[0m, \u001b[32m'Playbill'\u001b[0m, \u001b[32m'Poor \u001b[0m  \u001b[2m                   \u001b[0m\n",
       "\u001b[2;36m                    \u001b[0m         \u001b[32mRichard'\u001b[0m, \u001b[32m'Pristina'\u001b[0m, \u001b[32m'RabeyaSreeMJ'\u001b[0m, \u001b[32m'Rage Italic'\u001b[0m, \u001b[32m'Ravie'\u001b[0m,      \u001b[2m                   \u001b[0m\n",
       "\u001b[2;36m                    \u001b[0m         \u001b[32m'RinkiyMJ'\u001b[0m, \u001b[32m'RinkiySreeMJ'\u001b[0m, \u001b[32m'RinkiySushreeMJ'\u001b[0m, \u001b[32m'Rockwell'\u001b[0m,         \u001b[2m                   \u001b[0m\n",
       "\u001b[2;36m                    \u001b[0m         \u001b[32m'Rockwell Condensed'\u001b[0m, \u001b[32m'Rockwell Extra Bold'\u001b[0m, \u001b[32m'Sans'\u001b[0m, \u001b[32m'Script MT \u001b[0m   \u001b[2m                   \u001b[0m\n",
       "\u001b[2;36m                    \u001b[0m         \u001b[32mBold'\u001b[0m, \u001b[32m'Segoe Fluent Icons'\u001b[0m, \u001b[32m'Segoe MDL2 Assets'\u001b[0m, \u001b[32m'Segoe Print'\u001b[0m,   \u001b[2m                   \u001b[0m\n",
       "\u001b[2;36m                    \u001b[0m         \u001b[32m'Segoe Script'\u001b[0m, \u001b[32m'Segoe UI'\u001b[0m, \u001b[32m'Segoe UI Black'\u001b[0m, \u001b[32m'Segoe UI Emoji'\u001b[0m,    \u001b[2m                   \u001b[0m\n",
       "\u001b[2;36m                    \u001b[0m         \u001b[32m'Segoe UI Historic'\u001b[0m, \u001b[32m'Segoe UI Light'\u001b[0m, \u001b[32m'Segoe UI Semibold'\u001b[0m, \u001b[32m'Segoe\u001b[0m \u001b[2m                   \u001b[0m\n",
       "\u001b[2;36m                    \u001b[0m         \u001b[32mUI Semilight'\u001b[0m, \u001b[32m'Segoe UI Symbol'\u001b[0m, \u001b[32m'Segoe UI Variable Display'\u001b[0m,     \u001b[2m                   \u001b[0m\n",
       "\u001b[2;36m                    \u001b[0m         \u001b[32m'Segoe UI Variable Display Light'\u001b[0m, \u001b[32m'Segoe UI Variable Display \u001b[0m     \u001b[2m                   \u001b[0m\n",
       "\u001b[2;36m                    \u001b[0m         \u001b[32mSemib'\u001b[0m, \u001b[32m'Segoe UI Variable Display Semil'\u001b[0m, \u001b[32m'Segoe UI Variable \u001b[0m     \u001b[2m                   \u001b[0m\n",
       "\u001b[2;36m                    \u001b[0m         \u001b[32mSmall'\u001b[0m, \u001b[32m'Segoe UI Variable Small Light'\u001b[0m, \u001b[32m'Segoe UI Variable Small \u001b[0m \u001b[2m                   \u001b[0m\n",
       "\u001b[2;36m                    \u001b[0m         \u001b[32mSemibol'\u001b[0m, \u001b[32m'Segoe UI Variable Small Semilig'\u001b[0m, \u001b[32m'Segoe UI Variable \u001b[0m   \u001b[2m                   \u001b[0m\n",
       "\u001b[2;36m                    \u001b[0m         \u001b[32mText'\u001b[0m, \u001b[32m'Segoe UI Variable Text Light'\u001b[0m, \u001b[32m'Segoe UI Variable Text \u001b[0m    \u001b[2m                   \u001b[0m\n",
       "\u001b[2;36m                    \u001b[0m         \u001b[32mSemibold'\u001b[0m, \u001b[32m'Segoe UI Variable Text Semiligh'\u001b[0m, \u001b[32m'Serif'\u001b[0m, \u001b[32m'Showcard \u001b[0m  \u001b[2m                   \u001b[0m\n",
       "\u001b[2;36m                    \u001b[0m         \u001b[32mGothic'\u001b[0m, \u001b[32m'SimSun'\u001b[0m, \u001b[32m'SimSun-ExtB'\u001b[0m, \u001b[32m'Sitka Banner'\u001b[0m, \u001b[32m'Sitka Banner \u001b[0m   \u001b[2m                   \u001b[0m\n",
       "\u001b[2;36m                    \u001b[0m         \u001b[32mSemibold'\u001b[0m, \u001b[32m'Sitka Display'\u001b[0m, \u001b[32m'Sitka Display Semibold'\u001b[0m, \u001b[32m'Sitka \u001b[0m      \u001b[2m                   \u001b[0m\n",
       "\u001b[2;36m                    \u001b[0m         \u001b[32mHeading'\u001b[0m, \u001b[32m'Sitka Heading Semibold'\u001b[0m, \u001b[32m'Sitka Small'\u001b[0m, \u001b[32m'Sitka Small \u001b[0m   \u001b[2m                   \u001b[0m\n",
       "\u001b[2;36m                    \u001b[0m         \u001b[32mSemibold'\u001b[0m, \u001b[32m'Sitka Subheading'\u001b[0m, \u001b[32m'Sitka Subheading Semibold'\u001b[0m, \u001b[32m'Sitka\u001b[0m \u001b[2m                   \u001b[0m\n",
       "\u001b[2;36m                    \u001b[0m         \u001b[32mText'\u001b[0m, \u001b[32m'Sitka Text Semibold'\u001b[0m, \u001b[32m'Siyam Rupali'\u001b[0m, \u001b[32m'Siyam Rupali ANSI'\u001b[0m, \u001b[2m                   \u001b[0m\n",
       "\u001b[2;36m                    \u001b[0m         \u001b[32m'Snap ITC'\u001b[0m, \u001b[32m'SonkhoMJ'\u001b[0m, \u001b[32m'Stencil'\u001b[0m, \u001b[32m'SumeshwariMJ'\u001b[0m, \u001b[32m'SutonnyMJ'\u001b[0m,    \u001b[2m                   \u001b[0m\n",
       "\u001b[2;36m                    \u001b[0m         \u001b[32m'SutonnyOMJ'\u001b[0m, \u001b[32m'SutonnySushreeMJ'\u001b[0m, \u001b[32m'SutonnySushreeOMJ'\u001b[0m,             \u001b[2m                   \u001b[0m\n",
       "\u001b[2;36m                    \u001b[0m         \u001b[32m'SutonnyUniBanglaOMJ'\u001b[0m, \u001b[32m'Sylfaen'\u001b[0m, \u001b[32m'System-ui'\u001b[0m, \u001b[32m'Tahoma'\u001b[0m,           \u001b[2m                   \u001b[0m\n",
       "\u001b[2;36m                    \u001b[0m         \u001b[32m'TangonMJ'\u001b[0m, \u001b[32m'TangonMotaMJ'\u001b[0m, \u001b[32m'TeeshtaMJ'\u001b[0m, \u001b[32m'Tempus Sans ITC'\u001b[0m, \u001b[32m'Times\u001b[0m \u001b[2m                   \u001b[0m\n",
       "\u001b[2;36m                    \u001b[0m         \u001b[32mNew Roman'\u001b[0m, \u001b[32m'TonnyBanglaMJ'\u001b[0m, \u001b[32m'TonnySushreeMJ'\u001b[0m, \u001b[32m'Trebuchet MS'\u001b[0m, \u001b[32m'Tw\u001b[0m \u001b[2m                   \u001b[0m\n",
       "\u001b[2;36m                    \u001b[0m         \u001b[32mCen MT'\u001b[0m, \u001b[32m'Tw Cen MT Condensed'\u001b[0m, \u001b[32m'Tw Cen MT Condensed Extra Bold'\u001b[0m,  \u001b[2m                   \u001b[0m\n",
       "\u001b[2;36m                    \u001b[0m         \u001b[32m'UrmeeMJ'\u001b[0m, \u001b[32m'Verdana'\u001b[0m, \u001b[32m'Viner Hand ITC'\u001b[0m, \u001b[32m'Vivaldi'\u001b[0m, \u001b[32m'Vladimir \u001b[0m      \u001b[2m                   \u001b[0m\n",
       "\u001b[2;36m                    \u001b[0m         \u001b[32mScript'\u001b[0m, \u001b[32m'Wide Latin'\u001b[0m, \u001b[32m'Yu Gothic'\u001b[0m, \u001b[32m'Yu Gothic Light'\u001b[0m, \u001b[32m'Yu Gothic \u001b[0m \u001b[2m                   \u001b[0m\n",
       "\u001b[2;36m                    \u001b[0m         \u001b[32mMedium'\u001b[0m, \u001b[32m'Yu Gothic UI'\u001b[0m, \u001b[32m'Yu Gothic UI Light'\u001b[0m, \u001b[32m'Yu Gothic UI \u001b[0m      \u001b[2m                   \u001b[0m\n",
       "\u001b[2;36m                    \u001b[0m         \u001b[32mSemibold'\u001b[0m, \u001b[32m'Yu Gothic UI Semilight'\u001b[0m\u001b[1m]\u001b[0m.                              \u001b[2m                   \u001b[0m\n"
      ]
     },
     "metadata": {},
     "output_type": "display_data"
    },
    {
     "name": "stderr",
     "output_type": "stream",
     "text": [
      "                                                            \r"
     ]
    },
    {
     "data": {
      "text/html": [
       "<pre style=\"white-space:pre;overflow-x:auto;line-height:normal;font-family:Menlo,'DejaVu Sans Mono',consolas,'Courier New',monospace\"><span style=\"color: #7fbfbf; text-decoration-color: #7fbfbf\">[10/27/23 11:34:30] </span><span style=\"color: #008000; text-decoration-color: #008000\">INFO    </span> Animation <span style=\"color: #008000; text-decoration-color: #008000\">0</span> : Partial movie file written in                   <a href=\"file://c:\\Users\\PC\\Desktop\\ManimCE1\\mce\\lib\\site-packages\\manim\\scene\\scene_file_writer.py\" target=\"_blank\"><span style=\"color: #7f7f7f; text-decoration-color: #7f7f7f\">scene_file_writer.py</span></a><span style=\"color: #7f7f7f; text-decoration-color: #7f7f7f\">:</span><a href=\"file://c:\\Users\\PC\\Desktop\\ManimCE1\\mce\\lib\\site-packages\\manim\\scene\\scene_file_writer.py#527\" target=\"_blank\"><span style=\"color: #7f7f7f; text-decoration-color: #7f7f7f\">527</span></a>\n",
       "<span style=\"color: #7fbfbf; text-decoration-color: #7fbfbf\">                    </span>         <span style=\"color: #008000; text-decoration-color: #008000\">'C:\\Users\\PC\\Desktop\\ManimCE1\\media\\videos\\ManimCE1\\720p30\\pa</span> <span style=\"color: #7f7f7f; text-decoration-color: #7f7f7f\">                        </span>\n",
       "<span style=\"color: #7fbfbf; text-decoration-color: #7fbfbf\">                    </span>         <span style=\"color: #008000; text-decoration-color: #008000\">rtial_movie_files\\Cycloid\\274514146_929228134_426164518.mp4'</span>  <span style=\"color: #7f7f7f; text-decoration-color: #7f7f7f\">                        </span>\n",
       "</pre>\n"
      ],
      "text/plain": [
       "\u001b[2;36m[10/27/23 11:34:30]\u001b[0m\u001b[2;36m \u001b[0m\u001b[32mINFO    \u001b[0m Animation \u001b[32m0\u001b[0m : Partial movie file written in                   \u001b]8;id=2955;file://c:\\Users\\PC\\Desktop\\ManimCE1\\mce\\lib\\site-packages\\manim\\scene\\scene_file_writer.py\u001b\\\u001b[2mscene_file_writer.py\u001b[0m\u001b]8;;\u001b\\\u001b[2m:\u001b[0m\u001b]8;id=86071;file://c:\\Users\\PC\\Desktop\\ManimCE1\\mce\\lib\\site-packages\\manim\\scene\\scene_file_writer.py#527\u001b\\\u001b[2m527\u001b[0m\u001b]8;;\u001b\\\n",
       "\u001b[2;36m                    \u001b[0m         \u001b[32m'C:\\Users\\PC\\Desktop\\ManimCE1\\media\\videos\\ManimCE1\\720p30\\pa\u001b[0m \u001b[2m                        \u001b[0m\n",
       "\u001b[2;36m                    \u001b[0m         \u001b[32mrtial_movie_files\\Cycloid\\274514146_929228134_426164518.mp4'\u001b[0m  \u001b[2m                        \u001b[0m\n"
      ]
     },
     "metadata": {},
     "output_type": "display_data"
    },
    {
     "name": "stderr",
     "output_type": "stream",
     "text": [
      "                                                           \r"
     ]
    },
    {
     "data": {
      "text/html": [
       "<pre style=\"white-space:pre;overflow-x:auto;line-height:normal;font-family:Menlo,'DejaVu Sans Mono',consolas,'Courier New',monospace\"><span style=\"color: #7fbfbf; text-decoration-color: #7fbfbf\">[10/27/23 11:34:31] </span><span style=\"color: #008000; text-decoration-color: #008000\">INFO    </span> Animation <span style=\"color: #008000; text-decoration-color: #008000\">1</span> : Partial movie file written in                   <a href=\"file://c:\\Users\\PC\\Desktop\\ManimCE1\\mce\\lib\\site-packages\\manim\\scene\\scene_file_writer.py\" target=\"_blank\"><span style=\"color: #7f7f7f; text-decoration-color: #7f7f7f\">scene_file_writer.py</span></a><span style=\"color: #7f7f7f; text-decoration-color: #7f7f7f\">:</span><a href=\"file://c:\\Users\\PC\\Desktop\\ManimCE1\\mce\\lib\\site-packages\\manim\\scene\\scene_file_writer.py#527\" target=\"_blank\"><span style=\"color: #7f7f7f; text-decoration-color: #7f7f7f\">527</span></a>\n",
       "<span style=\"color: #7fbfbf; text-decoration-color: #7fbfbf\">                    </span>         <span style=\"color: #008000; text-decoration-color: #008000\">'C:\\Users\\PC\\Desktop\\ManimCE1\\media\\videos\\ManimCE1\\720p30\\pa</span> <span style=\"color: #7f7f7f; text-decoration-color: #7f7f7f\">                        </span>\n",
       "<span style=\"color: #7fbfbf; text-decoration-color: #7fbfbf\">                    </span>         <span style=\"color: #008000; text-decoration-color: #008000\">rtial_movie_files\\Cycloid\\207390714_87370825_3440655875.mp4'</span>  <span style=\"color: #7f7f7f; text-decoration-color: #7f7f7f\">                        </span>\n",
       "</pre>\n"
      ],
      "text/plain": [
       "\u001b[2;36m[10/27/23 11:34:31]\u001b[0m\u001b[2;36m \u001b[0m\u001b[32mINFO    \u001b[0m Animation \u001b[32m1\u001b[0m : Partial movie file written in                   \u001b]8;id=273764;file://c:\\Users\\PC\\Desktop\\ManimCE1\\mce\\lib\\site-packages\\manim\\scene\\scene_file_writer.py\u001b\\\u001b[2mscene_file_writer.py\u001b[0m\u001b]8;;\u001b\\\u001b[2m:\u001b[0m\u001b]8;id=742101;file://c:\\Users\\PC\\Desktop\\ManimCE1\\mce\\lib\\site-packages\\manim\\scene\\scene_file_writer.py#527\u001b\\\u001b[2m527\u001b[0m\u001b]8;;\u001b\\\n",
       "\u001b[2;36m                    \u001b[0m         \u001b[32m'C:\\Users\\PC\\Desktop\\ManimCE1\\media\\videos\\ManimCE1\\720p30\\pa\u001b[0m \u001b[2m                        \u001b[0m\n",
       "\u001b[2;36m                    \u001b[0m         \u001b[32mrtial_movie_files\\Cycloid\\207390714_87370825_3440655875.mp4'\u001b[0m  \u001b[2m                        \u001b[0m\n"
      ]
     },
     "metadata": {},
     "output_type": "display_data"
    },
    {
     "name": "stderr",
     "output_type": "stream",
     "text": [
      "                                                                                    \r"
     ]
    },
    {
     "data": {
      "text/html": [
       "<pre style=\"white-space:pre;overflow-x:auto;line-height:normal;font-family:Menlo,'DejaVu Sans Mono',consolas,'Courier New',monospace\"><span style=\"color: #7fbfbf; text-decoration-color: #7fbfbf\">[10/27/23 11:34:33] </span><span style=\"color: #008000; text-decoration-color: #008000\">INFO    </span> Animation <span style=\"color: #008000; text-decoration-color: #008000\">2</span> : Partial movie file written in                   <a href=\"file://c:\\Users\\PC\\Desktop\\ManimCE1\\mce\\lib\\site-packages\\manim\\scene\\scene_file_writer.py\" target=\"_blank\"><span style=\"color: #7f7f7f; text-decoration-color: #7f7f7f\">scene_file_writer.py</span></a><span style=\"color: #7f7f7f; text-decoration-color: #7f7f7f\">:</span><a href=\"file://c:\\Users\\PC\\Desktop\\ManimCE1\\mce\\lib\\site-packages\\manim\\scene\\scene_file_writer.py#527\" target=\"_blank\"><span style=\"color: #7f7f7f; text-decoration-color: #7f7f7f\">527</span></a>\n",
       "<span style=\"color: #7fbfbf; text-decoration-color: #7fbfbf\">                    </span>         <span style=\"color: #008000; text-decoration-color: #008000\">'C:\\Users\\PC\\Desktop\\ManimCE1\\media\\videos\\ManimCE1\\720p30\\pa</span> <span style=\"color: #7f7f7f; text-decoration-color: #7f7f7f\">                        </span>\n",
       "<span style=\"color: #7fbfbf; text-decoration-color: #7fbfbf\">                    </span>         <span style=\"color: #008000; text-decoration-color: #008000\">rtial_movie_files\\Cycloid\\207390714_3494636263_3073688435.mp4</span> <span style=\"color: #7f7f7f; text-decoration-color: #7f7f7f\">                        </span>\n",
       "<span style=\"color: #7fbfbf; text-decoration-color: #7fbfbf\">                    </span>         <span style=\"color: #008000; text-decoration-color: #008000\">'</span>                                                             <span style=\"color: #7f7f7f; text-decoration-color: #7f7f7f\">                        </span>\n",
       "</pre>\n"
      ],
      "text/plain": [
       "\u001b[2;36m[10/27/23 11:34:33]\u001b[0m\u001b[2;36m \u001b[0m\u001b[32mINFO    \u001b[0m Animation \u001b[32m2\u001b[0m : Partial movie file written in                   \u001b]8;id=910051;file://c:\\Users\\PC\\Desktop\\ManimCE1\\mce\\lib\\site-packages\\manim\\scene\\scene_file_writer.py\u001b\\\u001b[2mscene_file_writer.py\u001b[0m\u001b]8;;\u001b\\\u001b[2m:\u001b[0m\u001b]8;id=555285;file://c:\\Users\\PC\\Desktop\\ManimCE1\\mce\\lib\\site-packages\\manim\\scene\\scene_file_writer.py#527\u001b\\\u001b[2m527\u001b[0m\u001b]8;;\u001b\\\n",
       "\u001b[2;36m                    \u001b[0m         \u001b[32m'C:\\Users\\PC\\Desktop\\ManimCE1\\media\\videos\\ManimCE1\\720p30\\pa\u001b[0m \u001b[2m                        \u001b[0m\n",
       "\u001b[2;36m                    \u001b[0m         \u001b[32mrtial_movie_files\\Cycloid\\207390714_3494636263_3073688435.mp4\u001b[0m \u001b[2m                        \u001b[0m\n",
       "\u001b[2;36m                    \u001b[0m         \u001b[32m'\u001b[0m                                                             \u001b[2m                        \u001b[0m\n"
      ]
     },
     "metadata": {},
     "output_type": "display_data"
    },
    {
     "data": {
      "text/html": [
       "<pre style=\"white-space:pre;overflow-x:auto;line-height:normal;font-family:Menlo,'DejaVu Sans Mono',consolas,'Courier New',monospace\"><span style=\"color: #7fbfbf; text-decoration-color: #7fbfbf\">                    </span><span style=\"color: #008000; text-decoration-color: #008000\">INFO    </span> Animation <span style=\"color: #008000; text-decoration-color: #008000\">3</span> : Partial movie file written in                   <a href=\"file://c:\\Users\\PC\\Desktop\\ManimCE1\\mce\\lib\\site-packages\\manim\\scene\\scene_file_writer.py\" target=\"_blank\"><span style=\"color: #7f7f7f; text-decoration-color: #7f7f7f\">scene_file_writer.py</span></a><span style=\"color: #7f7f7f; text-decoration-color: #7f7f7f\">:</span><a href=\"file://c:\\Users\\PC\\Desktop\\ManimCE1\\mce\\lib\\site-packages\\manim\\scene\\scene_file_writer.py#527\" target=\"_blank\"><span style=\"color: #7f7f7f; text-decoration-color: #7f7f7f\">527</span></a>\n",
       "<span style=\"color: #7fbfbf; text-decoration-color: #7fbfbf\">                    </span>         <span style=\"color: #008000; text-decoration-color: #008000\">'C:\\Users\\PC\\Desktop\\ManimCE1\\media\\videos\\ManimCE1\\720p30\\pa</span> <span style=\"color: #7f7f7f; text-decoration-color: #7f7f7f\">                        </span>\n",
       "<span style=\"color: #7fbfbf; text-decoration-color: #7fbfbf\">                    </span>         <span style=\"color: #008000; text-decoration-color: #008000\">rtial_movie_files\\Cycloid\\207390714_3837998516_146040224.mp4'</span> <span style=\"color: #7f7f7f; text-decoration-color: #7f7f7f\">                        </span>\n",
       "</pre>\n"
      ],
      "text/plain": [
       "\u001b[2;36m                   \u001b[0m\u001b[2;36m \u001b[0m\u001b[32mINFO    \u001b[0m Animation \u001b[32m3\u001b[0m : Partial movie file written in                   \u001b]8;id=227933;file://c:\\Users\\PC\\Desktop\\ManimCE1\\mce\\lib\\site-packages\\manim\\scene\\scene_file_writer.py\u001b\\\u001b[2mscene_file_writer.py\u001b[0m\u001b]8;;\u001b\\\u001b[2m:\u001b[0m\u001b]8;id=962068;file://c:\\Users\\PC\\Desktop\\ManimCE1\\mce\\lib\\site-packages\\manim\\scene\\scene_file_writer.py#527\u001b\\\u001b[2m527\u001b[0m\u001b]8;;\u001b\\\n",
       "\u001b[2;36m                    \u001b[0m         \u001b[32m'C:\\Users\\PC\\Desktop\\ManimCE1\\media\\videos\\ManimCE1\\720p30\\pa\u001b[0m \u001b[2m                        \u001b[0m\n",
       "\u001b[2;36m                    \u001b[0m         \u001b[32mrtial_movie_files\\Cycloid\\207390714_3837998516_146040224.mp4'\u001b[0m \u001b[2m                        \u001b[0m\n"
      ]
     },
     "metadata": {},
     "output_type": "display_data"
    },
    {
     "data": {
      "text/html": [
       "<pre style=\"white-space:pre;overflow-x:auto;line-height:normal;font-family:Menlo,'DejaVu Sans Mono',consolas,'Courier New',monospace\"><span style=\"color: #7fbfbf; text-decoration-color: #7fbfbf\">                    </span><span style=\"color: #008000; text-decoration-color: #008000\">INFO    </span> Combining to Movie file.                                      <a href=\"file://c:\\Users\\PC\\Desktop\\ManimCE1\\mce\\lib\\site-packages\\manim\\scene\\scene_file_writer.py\" target=\"_blank\"><span style=\"color: #7f7f7f; text-decoration-color: #7f7f7f\">scene_file_writer.py</span></a><span style=\"color: #7f7f7f; text-decoration-color: #7f7f7f\">:</span><a href=\"file://c:\\Users\\PC\\Desktop\\ManimCE1\\mce\\lib\\site-packages\\manim\\scene\\scene_file_writer.py#617\" target=\"_blank\"><span style=\"color: #7f7f7f; text-decoration-color: #7f7f7f\">617</span></a>\n",
       "</pre>\n"
      ],
      "text/plain": [
       "\u001b[2;36m                   \u001b[0m\u001b[2;36m \u001b[0m\u001b[32mINFO    \u001b[0m Combining to Movie file.                                      \u001b]8;id=592426;file://c:\\Users\\PC\\Desktop\\ManimCE1\\mce\\lib\\site-packages\\manim\\scene\\scene_file_writer.py\u001b\\\u001b[2mscene_file_writer.py\u001b[0m\u001b]8;;\u001b\\\u001b[2m:\u001b[0m\u001b]8;id=538816;file://c:\\Users\\PC\\Desktop\\ManimCE1\\mce\\lib\\site-packages\\manim\\scene\\scene_file_writer.py#617\u001b\\\u001b[2m617\u001b[0m\u001b]8;;\u001b\\\n"
      ]
     },
     "metadata": {},
     "output_type": "display_data"
    },
    {
     "data": {
      "text/html": [
       "<pre style=\"white-space:pre;overflow-x:auto;line-height:normal;font-family:Menlo,'DejaVu Sans Mono',consolas,'Courier New',monospace\"><span style=\"color: #7fbfbf; text-decoration-color: #7fbfbf\">                    </span><span style=\"color: #008000; text-decoration-color: #008000\">INFO    </span>                                                               <a href=\"file://c:\\Users\\PC\\Desktop\\ManimCE1\\mce\\lib\\site-packages\\manim\\scene\\scene_file_writer.py\" target=\"_blank\"><span style=\"color: #7f7f7f; text-decoration-color: #7f7f7f\">scene_file_writer.py</span></a><span style=\"color: #7f7f7f; text-decoration-color: #7f7f7f\">:</span><a href=\"file://c:\\Users\\PC\\Desktop\\ManimCE1\\mce\\lib\\site-packages\\manim\\scene\\scene_file_writer.py#736\" target=\"_blank\"><span style=\"color: #7f7f7f; text-decoration-color: #7f7f7f\">736</span></a>\n",
       "<span style=\"color: #7fbfbf; text-decoration-color: #7fbfbf\">                    </span>         <span style=\"color: #808000; text-decoration-color: #808000; font-weight: bold\">File</span> ready at                                                 <span style=\"color: #7f7f7f; text-decoration-color: #7f7f7f\">                        </span>\n",
       "<span style=\"color: #7fbfbf; text-decoration-color: #7fbfbf\">                    </span>         <span style=\"color: #008000; text-decoration-color: #008000\">'C:\\Users\\PC\\Desktop\\ManimCE1\\media\\videos\\ManimCE1\\720p30\\Cy</span> <span style=\"color: #7f7f7f; text-decoration-color: #7f7f7f\">                        </span>\n",
       "<span style=\"color: #7fbfbf; text-decoration-color: #7fbfbf\">                    </span>         <span style=\"color: #008000; text-decoration-color: #008000\">cloid.mp4'</span>                                                    <span style=\"color: #7f7f7f; text-decoration-color: #7f7f7f\">                        </span>\n",
       "<span style=\"color: #7fbfbf; text-decoration-color: #7fbfbf\">                    </span>                                                                       <span style=\"color: #7f7f7f; text-decoration-color: #7f7f7f\">                        </span>\n",
       "</pre>\n"
      ],
      "text/plain": [
       "\u001b[2;36m                   \u001b[0m\u001b[2;36m \u001b[0m\u001b[32mINFO    \u001b[0m                                                               \u001b]8;id=567626;file://c:\\Users\\PC\\Desktop\\ManimCE1\\mce\\lib\\site-packages\\manim\\scene\\scene_file_writer.py\u001b\\\u001b[2mscene_file_writer.py\u001b[0m\u001b]8;;\u001b\\\u001b[2m:\u001b[0m\u001b]8;id=411837;file://c:\\Users\\PC\\Desktop\\ManimCE1\\mce\\lib\\site-packages\\manim\\scene\\scene_file_writer.py#736\u001b\\\u001b[2m736\u001b[0m\u001b]8;;\u001b\\\n",
       "\u001b[2;36m                    \u001b[0m         \u001b[1;33mFile\u001b[0m ready at                                                 \u001b[2m                        \u001b[0m\n",
       "\u001b[2;36m                    \u001b[0m         \u001b[32m'C:\\Users\\PC\\Desktop\\ManimCE1\\media\\videos\\ManimCE1\\720p30\\Cy\u001b[0m \u001b[2m                        \u001b[0m\n",
       "\u001b[2;36m                    \u001b[0m         \u001b[32mcloid.mp4'\u001b[0m                                                    \u001b[2m                        \u001b[0m\n",
       "\u001b[2;36m                    \u001b[0m                                                                       \u001b[2m                        \u001b[0m\n"
      ]
     },
     "metadata": {},
     "output_type": "display_data"
    },
    {
     "data": {
      "text/html": [
       "<pre style=\"white-space:pre;overflow-x:auto;line-height:normal;font-family:Menlo,'DejaVu Sans Mono',consolas,'Courier New',monospace\"><span style=\"color: #7fbfbf; text-decoration-color: #7fbfbf\">                    </span><span style=\"color: #008000; text-decoration-color: #008000\">INFO    </span> <span style=\"color: #808000; text-decoration-color: #808000; font-weight: bold\">Rendered</span> Cycloid                                                          <a href=\"file://c:\\Users\\PC\\Desktop\\ManimCE1\\mce\\lib\\site-packages\\manim\\scene\\scene.py\" target=\"_blank\"><span style=\"color: #7f7f7f; text-decoration-color: #7f7f7f\">scene.py</span></a><span style=\"color: #7f7f7f; text-decoration-color: #7f7f7f\">:</span><a href=\"file://c:\\Users\\PC\\Desktop\\ManimCE1\\mce\\lib\\site-packages\\manim\\scene\\scene.py#241\" target=\"_blank\"><span style=\"color: #7f7f7f; text-decoration-color: #7f7f7f\">241</span></a>\n",
       "<span style=\"color: #7fbfbf; text-decoration-color: #7fbfbf\">                    </span>         <span style=\"color: #808000; text-decoration-color: #808000; font-weight: bold\">Played</span> <span style=\"color: #008000; text-decoration-color: #008000\">4</span> <span style=\"color: #808000; text-decoration-color: #808000; font-weight: bold\">animations</span>                                                       <span style=\"color: #7f7f7f; text-decoration-color: #7f7f7f\">            </span>\n",
       "</pre>\n"
      ],
      "text/plain": [
       "\u001b[2;36m                   \u001b[0m\u001b[2;36m \u001b[0m\u001b[32mINFO    \u001b[0m \u001b[1;33mRendered\u001b[0m Cycloid                                                          \u001b]8;id=105534;file://c:\\Users\\PC\\Desktop\\ManimCE1\\mce\\lib\\site-packages\\manim\\scene\\scene.py\u001b\\\u001b[2mscene.py\u001b[0m\u001b]8;;\u001b\\\u001b[2m:\u001b[0m\u001b]8;id=531965;file://c:\\Users\\PC\\Desktop\\ManimCE1\\mce\\lib\\site-packages\\manim\\scene\\scene.py#241\u001b\\\u001b[2m241\u001b[0m\u001b]8;;\u001b\\\n",
       "\u001b[2;36m                    \u001b[0m         \u001b[1;33mPlayed\u001b[0m \u001b[32m4\u001b[0m \u001b[1;33manimations\u001b[0m                                                       \u001b[2m            \u001b[0m\n"
      ]
     },
     "metadata": {},
     "output_type": "display_data"
    },
    {
     "data": {
      "text/html": [
       "<video src=\"media\\jupyter\\Cycloid@2023-10-27@11-34-33.mp4\" controls autoplay loop style=\"max-width: 60%;\"  >\n",
       "      Your browser does not support the <code>video</code> element.\n",
       "    </video>"
      ],
      "text/plain": [
       "<IPython.core.display.Video object>"
      ]
     },
     "metadata": {},
     "output_type": "display_data"
    }
   ],
   "source": [
    "%%manim -qm Cycloid\n",
    "\n",
    "from manim import *\n",
    "\n",
    "class Cycloid(Scene):\n",
    "\n",
    "    def construct(self):\n",
    "\n",
    "        CycloidTxt = Text(\"Cycloid\", font=\"TeX Gyre Termes\").scale(1.5).to_edge(UP)\n",
    "\n",
    "        r = 3 / PI\n",
    "        corr = 1 / config.frame_rate  # missed frame correction\n",
    "\n",
    "        BL = NumberLine().shift(DOWN * r * 2)  # Base Line\n",
    "\n",
    "        C = Circle(r, color=\"#F72119\").next_to(BL.n2p(-6), UP, buff=0)\n",
    "        DL = DashedLine(C.get_center(), C.get_top(), color=\"#A5ADAD\")\n",
    "        CP = Dot(DL.get_start(), color=\"#ff3503\")  # Center Point\n",
    "        TP = Dot(DL.get_end(), color=\"#00EAFF\").scale(1.2)  # Tracing Point\n",
    "\n",
    "        RC = VGroup(C, DL, CP, TP)  # Rolling Circle\n",
    "\n",
    "        self.dir = 1  # direction of motion\n",
    "\n",
    "        def Rolling(m, dt):  # update_function\n",
    "            theta = self.dir * -PI\n",
    "            m.rotate(dt * theta, about_point=m[0].get_center()).shift(dt * LEFT * theta * r)\n",
    "\n",
    "        Cycloid = TracedPath(TP.get_center, stroke_width=6.5, stroke_color=\"#4AF1F2\")\n",
    "\n",
    "        self.add(CycloidTxt, BL, Cycloid, RC)\n",
    "\n",
    "        RC.add_updater(Rolling)\n",
    "        self.wait(4 + corr)\n",
    "\n",
    "        RC.suspend_updating(Rolling)\n",
    "        Cycloid.clear_updaters()\n",
    "\n",
    "        self.wait()\n",
    "        self.dir = -1  # direction change, rolling back\n",
    "\n",
    "        RC.resume_updating(Rolling)\n",
    "        self.play(Uncreate(Cycloid, rate_func=lambda t: linear(1 - t), run_time=4 + corr))\n",
    "            \n",
    "        RC.clear_updaters()\n",
    "        self.wait()"
   ]
  },
  {
   "cell_type": "code",
   "execution_count": 3,
   "metadata": {},
   "outputs": [],
   "source": [
    "from manim import *\n",
    "\n",
    "class SquareToCircle(Scene):\n",
    "    def construct(self):\n",
    "        circle = Circle()\n",
    "        circle.set_fill(BLUE, opacity=0.5)\n",
    "        circle.set_stroke(BLUE_E, width=4)\n",
    "\n",
    "        self.add(circle)"
   ]
  },
  {
   "cell_type": "code",
   "execution_count": 11,
   "metadata": {},
   "outputs": [
    {
     "data": {
      "text/html": [
       "<pre style=\"white-space:pre;overflow-x:auto;line-height:normal;font-family:Menlo,'DejaVu Sans Mono',consolas,'Courier New',monospace\"><span style=\"color: #7fbfbf; text-decoration-color: #7fbfbf\">[10/27/23 23:50:30] </span><span style=\"color: #008000; text-decoration-color: #008000\">INFO    </span> Animation <span style=\"color: #008000; text-decoration-color: #008000\">0</span> : Partial movie file written in                   <a href=\"file://c:\\Users\\PC\\Desktop\\ManimCE1\\mce\\lib\\site-packages\\manim\\scene\\scene_file_writer.py\" target=\"_blank\"><span style=\"color: #7f7f7f; text-decoration-color: #7f7f7f\">scene_file_writer.py</span></a><span style=\"color: #7f7f7f; text-decoration-color: #7f7f7f\">:</span><a href=\"file://c:\\Users\\PC\\Desktop\\ManimCE1\\mce\\lib\\site-packages\\manim\\scene\\scene_file_writer.py#527\" target=\"_blank\"><span style=\"color: #7f7f7f; text-decoration-color: #7f7f7f\">527</span></a>\n",
       "<span style=\"color: #7fbfbf; text-decoration-color: #7fbfbf\">                    </span>         <span style=\"color: #008000; text-decoration-color: #008000\">'C:\\Users\\PC\\Desktop\\ManimCE1\\media\\videos\\ManimCE1\\720p30\\pa</span> <span style=\"color: #7f7f7f; text-decoration-color: #7f7f7f\">                        </span>\n",
       "<span style=\"color: #7fbfbf; text-decoration-color: #7fbfbf\">                    </span>         <span style=\"color: #008000; text-decoration-color: #008000\">rtial_movie_files\\CircleCalculus\\274514146_3837998516_2727057</span> <span style=\"color: #7f7f7f; text-decoration-color: #7f7f7f\">                        </span>\n",
       "<span style=\"color: #7fbfbf; text-decoration-color: #7fbfbf\">                    </span>         <span style=\"color: #008000; text-decoration-color: #008000\">854.mp4'</span>                                                      <span style=\"color: #7f7f7f; text-decoration-color: #7f7f7f\">                        </span>\n",
       "</pre>\n"
      ],
      "text/plain": [
       "\u001b[2;36m[10/27/23 23:50:30]\u001b[0m\u001b[2;36m \u001b[0m\u001b[32mINFO    \u001b[0m Animation \u001b[32m0\u001b[0m : Partial movie file written in                   \u001b]8;id=518940;file://c:\\Users\\PC\\Desktop\\ManimCE1\\mce\\lib\\site-packages\\manim\\scene\\scene_file_writer.py\u001b\\\u001b[2mscene_file_writer.py\u001b[0m\u001b]8;;\u001b\\\u001b[2m:\u001b[0m\u001b]8;id=684517;file://c:\\Users\\PC\\Desktop\\ManimCE1\\mce\\lib\\site-packages\\manim\\scene\\scene_file_writer.py#527\u001b\\\u001b[2m527\u001b[0m\u001b]8;;\u001b\\\n",
       "\u001b[2;36m                    \u001b[0m         \u001b[32m'C:\\Users\\PC\\Desktop\\ManimCE1\\media\\videos\\ManimCE1\\720p30\\pa\u001b[0m \u001b[2m                        \u001b[0m\n",
       "\u001b[2;36m                    \u001b[0m         \u001b[32mrtial_movie_files\\CircleCalculus\\274514146_3837998516_2727057\u001b[0m \u001b[2m                        \u001b[0m\n",
       "\u001b[2;36m                    \u001b[0m         \u001b[32m854.mp4'\u001b[0m                                                      \u001b[2m                        \u001b[0m\n"
      ]
     },
     "metadata": {},
     "output_type": "display_data"
    },
    {
     "name": "stderr",
     "output_type": "stream",
     "text": [
      "                                                                                                       \r"
     ]
    },
    {
     "data": {
      "text/html": [
       "<pre style=\"white-space:pre;overflow-x:auto;line-height:normal;font-family:Menlo,'DejaVu Sans Mono',consolas,'Courier New',monospace\"><span style=\"color: #7fbfbf; text-decoration-color: #7fbfbf\">[10/27/23 23:50:32] </span><span style=\"color: #008000; text-decoration-color: #008000\">INFO    </span> Animation <span style=\"color: #008000; text-decoration-color: #008000\">1</span> : Partial movie file written in                   <a href=\"file://c:\\Users\\PC\\Desktop\\ManimCE1\\mce\\lib\\site-packages\\manim\\scene\\scene_file_writer.py\" target=\"_blank\"><span style=\"color: #7f7f7f; text-decoration-color: #7f7f7f\">scene_file_writer.py</span></a><span style=\"color: #7f7f7f; text-decoration-color: #7f7f7f\">:</span><a href=\"file://c:\\Users\\PC\\Desktop\\ManimCE1\\mce\\lib\\site-packages\\manim\\scene\\scene_file_writer.py#527\" target=\"_blank\"><span style=\"color: #7f7f7f; text-decoration-color: #7f7f7f\">527</span></a>\n",
       "<span style=\"color: #7fbfbf; text-decoration-color: #7fbfbf\">                    </span>         <span style=\"color: #008000; text-decoration-color: #008000\">'C:\\Users\\PC\\Desktop\\ManimCE1\\media\\videos\\ManimCE1\\720p30\\pa</span> <span style=\"color: #7f7f7f; text-decoration-color: #7f7f7f\">                        </span>\n",
       "<span style=\"color: #7fbfbf; text-decoration-color: #7fbfbf\">                    </span>         <span style=\"color: #008000; text-decoration-color: #008000\">rtial_movie_files\\CircleCalculus\\207390714_461250310_14637002</span> <span style=\"color: #7f7f7f; text-decoration-color: #7f7f7f\">                        </span>\n",
       "<span style=\"color: #7fbfbf; text-decoration-color: #7fbfbf\">                    </span>         <span style=\"color: #008000; text-decoration-color: #008000\">04.mp4'</span>                                                       <span style=\"color: #7f7f7f; text-decoration-color: #7f7f7f\">                        </span>\n",
       "</pre>\n"
      ],
      "text/plain": [
       "\u001b[2;36m[10/27/23 23:50:32]\u001b[0m\u001b[2;36m \u001b[0m\u001b[32mINFO    \u001b[0m Animation \u001b[32m1\u001b[0m : Partial movie file written in                   \u001b]8;id=677435;file://c:\\Users\\PC\\Desktop\\ManimCE1\\mce\\lib\\site-packages\\manim\\scene\\scene_file_writer.py\u001b\\\u001b[2mscene_file_writer.py\u001b[0m\u001b]8;;\u001b\\\u001b[2m:\u001b[0m\u001b]8;id=249459;file://c:\\Users\\PC\\Desktop\\ManimCE1\\mce\\lib\\site-packages\\manim\\scene\\scene_file_writer.py#527\u001b\\\u001b[2m527\u001b[0m\u001b]8;;\u001b\\\n",
       "\u001b[2;36m                    \u001b[0m         \u001b[32m'C:\\Users\\PC\\Desktop\\ManimCE1\\media\\videos\\ManimCE1\\720p30\\pa\u001b[0m \u001b[2m                        \u001b[0m\n",
       "\u001b[2;36m                    \u001b[0m         \u001b[32mrtial_movie_files\\CircleCalculus\\207390714_461250310_14637002\u001b[0m \u001b[2m                        \u001b[0m\n",
       "\u001b[2;36m                    \u001b[0m         \u001b[32m04.mp4'\u001b[0m                                                       \u001b[2m                        \u001b[0m\n"
      ]
     },
     "metadata": {},
     "output_type": "display_data"
    },
    {
     "name": "stderr",
     "output_type": "stream",
     "text": [
      "                                                                                              \r"
     ]
    },
    {
     "data": {
      "text/html": [
       "<pre style=\"white-space:pre;overflow-x:auto;line-height:normal;font-family:Menlo,'DejaVu Sans Mono',consolas,'Courier New',monospace\"><span style=\"color: #7fbfbf; text-decoration-color: #7fbfbf\">[10/27/23 23:50:39] </span><span style=\"color: #008000; text-decoration-color: #008000\">INFO    </span> Animation <span style=\"color: #008000; text-decoration-color: #008000\">2</span> : Partial movie file written in                   <a href=\"file://c:\\Users\\PC\\Desktop\\ManimCE1\\mce\\lib\\site-packages\\manim\\scene\\scene_file_writer.py\" target=\"_blank\"><span style=\"color: #7f7f7f; text-decoration-color: #7f7f7f\">scene_file_writer.py</span></a><span style=\"color: #7f7f7f; text-decoration-color: #7f7f7f\">:</span><a href=\"file://c:\\Users\\PC\\Desktop\\ManimCE1\\mce\\lib\\site-packages\\manim\\scene\\scene_file_writer.py#527\" target=\"_blank\"><span style=\"color: #7f7f7f; text-decoration-color: #7f7f7f\">527</span></a>\n",
       "<span style=\"color: #7fbfbf; text-decoration-color: #7fbfbf\">                    </span>         <span style=\"color: #008000; text-decoration-color: #008000\">'C:\\Users\\PC\\Desktop\\ManimCE1\\media\\videos\\ManimCE1\\720p30\\pa</span> <span style=\"color: #7f7f7f; text-decoration-color: #7f7f7f\">                        </span>\n",
       "<span style=\"color: #7fbfbf; text-decoration-color: #7fbfbf\">                    </span>         <span style=\"color: #008000; text-decoration-color: #008000\">rtial_movie_files\\CircleCalculus\\207390714_2862383551_2471708</span> <span style=\"color: #7f7f7f; text-decoration-color: #7f7f7f\">                        </span>\n",
       "<span style=\"color: #7fbfbf; text-decoration-color: #7fbfbf\">                    </span>         <span style=\"color: #008000; text-decoration-color: #008000\">72.mp4'</span>                                                       <span style=\"color: #7f7f7f; text-decoration-color: #7f7f7f\">                        </span>\n",
       "</pre>\n"
      ],
      "text/plain": [
       "\u001b[2;36m[10/27/23 23:50:39]\u001b[0m\u001b[2;36m \u001b[0m\u001b[32mINFO    \u001b[0m Animation \u001b[32m2\u001b[0m : Partial movie file written in                   \u001b]8;id=661310;file://c:\\Users\\PC\\Desktop\\ManimCE1\\mce\\lib\\site-packages\\manim\\scene\\scene_file_writer.py\u001b\\\u001b[2mscene_file_writer.py\u001b[0m\u001b]8;;\u001b\\\u001b[2m:\u001b[0m\u001b]8;id=527239;file://c:\\Users\\PC\\Desktop\\ManimCE1\\mce\\lib\\site-packages\\manim\\scene\\scene_file_writer.py#527\u001b\\\u001b[2m527\u001b[0m\u001b]8;;\u001b\\\n",
       "\u001b[2;36m                    \u001b[0m         \u001b[32m'C:\\Users\\PC\\Desktop\\ManimCE1\\media\\videos\\ManimCE1\\720p30\\pa\u001b[0m \u001b[2m                        \u001b[0m\n",
       "\u001b[2;36m                    \u001b[0m         \u001b[32mrtial_movie_files\\CircleCalculus\\207390714_2862383551_2471708\u001b[0m \u001b[2m                        \u001b[0m\n",
       "\u001b[2;36m                    \u001b[0m         \u001b[32m72.mp4'\u001b[0m                                                       \u001b[2m                        \u001b[0m\n"
      ]
     },
     "metadata": {},
     "output_type": "display_data"
    },
    {
     "data": {
      "text/html": [
       "<pre style=\"white-space:pre;overflow-x:auto;line-height:normal;font-family:Menlo,'DejaVu Sans Mono',consolas,'Courier New',monospace\"><span style=\"color: #7fbfbf; text-decoration-color: #7fbfbf\">                    </span><span style=\"color: #008000; text-decoration-color: #008000\">INFO    </span> Animation <span style=\"color: #008000; text-decoration-color: #008000\">3</span> : Using cached data <span style=\"font-weight: bold\">(</span>hash :                           <a href=\"file://c:\\Users\\PC\\Desktop\\ManimCE1\\mce\\lib\\site-packages\\manim\\renderer\\cairo_renderer.py\" target=\"_blank\"><span style=\"color: #7f7f7f; text-decoration-color: #7f7f7f\">cairo_renderer.py</span></a><span style=\"color: #7f7f7f; text-decoration-color: #7f7f7f\">:</span><a href=\"file://c:\\Users\\PC\\Desktop\\ManimCE1\\mce\\lib\\site-packages\\manim\\renderer\\cairo_renderer.py#78\" target=\"_blank\"><span style=\"color: #7f7f7f; text-decoration-color: #7f7f7f\">78</span></a>\n",
       "<span style=\"color: #7fbfbf; text-decoration-color: #7fbfbf\">                    </span>         207390714_227837695_1216648113<span style=\"font-weight: bold\">)</span>                                   <span style=\"color: #7f7f7f; text-decoration-color: #7f7f7f\">                    </span>\n",
       "</pre>\n"
      ],
      "text/plain": [
       "\u001b[2;36m                   \u001b[0m\u001b[2;36m \u001b[0m\u001b[32mINFO    \u001b[0m Animation \u001b[32m3\u001b[0m : Using cached data \u001b[1m(\u001b[0mhash :                           \u001b]8;id=395428;file://c:\\Users\\PC\\Desktop\\ManimCE1\\mce\\lib\\site-packages\\manim\\renderer\\cairo_renderer.py\u001b\\\u001b[2mcairo_renderer.py\u001b[0m\u001b]8;;\u001b\\\u001b[2m:\u001b[0m\u001b]8;id=286234;file://c:\\Users\\PC\\Desktop\\ManimCE1\\mce\\lib\\site-packages\\manim\\renderer\\cairo_renderer.py#78\u001b\\\u001b[2m78\u001b[0m\u001b]8;;\u001b\\\n",
       "\u001b[2;36m                    \u001b[0m         207390714_227837695_1216648113\u001b[1m)\u001b[0m                                   \u001b[2m                    \u001b[0m\n"
      ]
     },
     "metadata": {},
     "output_type": "display_data"
    },
    {
     "name": "stderr",
     "output_type": "stream",
     "text": [
      "<string>:61: DeprecationWarning: This method is not guaranteed to stay around. Please prefer getting the attribute normally.\n",
      "<string>:66: DeprecationWarning: This method is not guaranteed to stay around. Please prefer getting the attribute normally.\n",
      "                                                                                                \r"
     ]
    },
    {
     "data": {
      "text/html": [
       "<pre style=\"white-space:pre;overflow-x:auto;line-height:normal;font-family:Menlo,'DejaVu Sans Mono',consolas,'Courier New',monospace\"><span style=\"color: #7fbfbf; text-decoration-color: #7fbfbf\">[10/27/23 23:50:40] </span><span style=\"color: #008000; text-decoration-color: #008000\">INFO    </span> Animation <span style=\"color: #008000; text-decoration-color: #008000\">4</span> : Partial movie file written in                   <a href=\"file://c:\\Users\\PC\\Desktop\\ManimCE1\\mce\\lib\\site-packages\\manim\\scene\\scene_file_writer.py\" target=\"_blank\"><span style=\"color: #7f7f7f; text-decoration-color: #7f7f7f\">scene_file_writer.py</span></a><span style=\"color: #7f7f7f; text-decoration-color: #7f7f7f\">:</span><a href=\"file://c:\\Users\\PC\\Desktop\\ManimCE1\\mce\\lib\\site-packages\\manim\\scene\\scene_file_writer.py#527\" target=\"_blank\"><span style=\"color: #7f7f7f; text-decoration-color: #7f7f7f\">527</span></a>\n",
       "<span style=\"color: #7fbfbf; text-decoration-color: #7fbfbf\">                    </span>         <span style=\"color: #008000; text-decoration-color: #008000\">'C:\\Users\\PC\\Desktop\\ManimCE1\\media\\videos\\ManimCE1\\720p30\\pa</span> <span style=\"color: #7f7f7f; text-decoration-color: #7f7f7f\">                        </span>\n",
       "<span style=\"color: #7fbfbf; text-decoration-color: #7fbfbf\">                    </span>         <span style=\"color: #008000; text-decoration-color: #008000\">rtial_movie_files\\CircleCalculus\\207390714_564045457_11811652</span> <span style=\"color: #7f7f7f; text-decoration-color: #7f7f7f\">                        </span>\n",
       "<span style=\"color: #7fbfbf; text-decoration-color: #7fbfbf\">                    </span>         <span style=\"color: #008000; text-decoration-color: #008000\">04.mp4'</span>                                                       <span style=\"color: #7f7f7f; text-decoration-color: #7f7f7f\">                        </span>\n",
       "</pre>\n"
      ],
      "text/plain": [
       "\u001b[2;36m[10/27/23 23:50:40]\u001b[0m\u001b[2;36m \u001b[0m\u001b[32mINFO    \u001b[0m Animation \u001b[32m4\u001b[0m : Partial movie file written in                   \u001b]8;id=307165;file://c:\\Users\\PC\\Desktop\\ManimCE1\\mce\\lib\\site-packages\\manim\\scene\\scene_file_writer.py\u001b\\\u001b[2mscene_file_writer.py\u001b[0m\u001b]8;;\u001b\\\u001b[2m:\u001b[0m\u001b]8;id=818151;file://c:\\Users\\PC\\Desktop\\ManimCE1\\mce\\lib\\site-packages\\manim\\scene\\scene_file_writer.py#527\u001b\\\u001b[2m527\u001b[0m\u001b]8;;\u001b\\\n",
       "\u001b[2;36m                    \u001b[0m         \u001b[32m'C:\\Users\\PC\\Desktop\\ManimCE1\\media\\videos\\ManimCE1\\720p30\\pa\u001b[0m \u001b[2m                        \u001b[0m\n",
       "\u001b[2;36m                    \u001b[0m         \u001b[32mrtial_movie_files\\CircleCalculus\\207390714_564045457_11811652\u001b[0m \u001b[2m                        \u001b[0m\n",
       "\u001b[2;36m                    \u001b[0m         \u001b[32m04.mp4'\u001b[0m                                                       \u001b[2m                        \u001b[0m\n"
      ]
     },
     "metadata": {},
     "output_type": "display_data"
    },
    {
     "name": "stderr",
     "output_type": "stream",
     "text": [
      "<string>:77: DeprecationWarning: This method is not guaranteed to stay around. Please prefer getting the attribute normally.\n"
     ]
    },
    {
     "data": {
      "text/html": [
       "<pre style=\"white-space:pre;overflow-x:auto;line-height:normal;font-family:Menlo,'DejaVu Sans Mono',consolas,'Courier New',monospace\"><span style=\"color: #7fbfbf; text-decoration-color: #7fbfbf\">                    </span><span style=\"color: #008000; text-decoration-color: #008000\">INFO    </span> Animation <span style=\"color: #008000; text-decoration-color: #008000\">5</span> : Using cached data <span style=\"font-weight: bold\">(</span>hash :                           <a href=\"file://c:\\Users\\PC\\Desktop\\ManimCE1\\mce\\lib\\site-packages\\manim\\renderer\\cairo_renderer.py\" target=\"_blank\"><span style=\"color: #7f7f7f; text-decoration-color: #7f7f7f\">cairo_renderer.py</span></a><span style=\"color: #7f7f7f; text-decoration-color: #7f7f7f\">:</span><a href=\"file://c:\\Users\\PC\\Desktop\\ManimCE1\\mce\\lib\\site-packages\\manim\\renderer\\cairo_renderer.py#78\" target=\"_blank\"><span style=\"color: #7f7f7f; text-decoration-color: #7f7f7f\">78</span></a>\n",
       "<span style=\"color: #7fbfbf; text-decoration-color: #7fbfbf\">                    </span>         207390714_1849157315_4245047254<span style=\"font-weight: bold\">)</span>                                  <span style=\"color: #7f7f7f; text-decoration-color: #7f7f7f\">                    </span>\n",
       "</pre>\n"
      ],
      "text/plain": [
       "\u001b[2;36m                   \u001b[0m\u001b[2;36m \u001b[0m\u001b[32mINFO    \u001b[0m Animation \u001b[32m5\u001b[0m : Using cached data \u001b[1m(\u001b[0mhash :                           \u001b]8;id=999070;file://c:\\Users\\PC\\Desktop\\ManimCE1\\mce\\lib\\site-packages\\manim\\renderer\\cairo_renderer.py\u001b\\\u001b[2mcairo_renderer.py\u001b[0m\u001b]8;;\u001b\\\u001b[2m:\u001b[0m\u001b]8;id=304467;file://c:\\Users\\PC\\Desktop\\ManimCE1\\mce\\lib\\site-packages\\manim\\renderer\\cairo_renderer.py#78\u001b\\\u001b[2m78\u001b[0m\u001b]8;;\u001b\\\n",
       "\u001b[2;36m                    \u001b[0m         207390714_1849157315_4245047254\u001b[1m)\u001b[0m                                  \u001b[2m                    \u001b[0m\n"
      ]
     },
     "metadata": {},
     "output_type": "display_data"
    },
    {
     "name": "stderr",
     "output_type": "stream",
     "text": [
      "                                                                                       \r"
     ]
    },
    {
     "data": {
      "text/html": [
       "<pre style=\"white-space:pre;overflow-x:auto;line-height:normal;font-family:Menlo,'DejaVu Sans Mono',consolas,'Courier New',monospace\"><span style=\"color: #7fbfbf; text-decoration-color: #7fbfbf\">                    </span><span style=\"color: #008000; text-decoration-color: #008000\">INFO    </span> Animation <span style=\"color: #008000; text-decoration-color: #008000\">6</span> : Partial movie file written in                   <a href=\"file://c:\\Users\\PC\\Desktop\\ManimCE1\\mce\\lib\\site-packages\\manim\\scene\\scene_file_writer.py\" target=\"_blank\"><span style=\"color: #7f7f7f; text-decoration-color: #7f7f7f\">scene_file_writer.py</span></a><span style=\"color: #7f7f7f; text-decoration-color: #7f7f7f\">:</span><a href=\"file://c:\\Users\\PC\\Desktop\\ManimCE1\\mce\\lib\\site-packages\\manim\\scene\\scene_file_writer.py#527\" target=\"_blank\"><span style=\"color: #7f7f7f; text-decoration-color: #7f7f7f\">527</span></a>\n",
       "<span style=\"color: #7fbfbf; text-decoration-color: #7fbfbf\">                    </span>         <span style=\"color: #008000; text-decoration-color: #008000\">'C:\\Users\\PC\\Desktop\\ManimCE1\\media\\videos\\ManimCE1\\720p30\\pa</span> <span style=\"color: #7f7f7f; text-decoration-color: #7f7f7f\">                        </span>\n",
       "<span style=\"color: #7fbfbf; text-decoration-color: #7fbfbf\">                    </span>         <span style=\"color: #008000; text-decoration-color: #008000\">rtial_movie_files\\CircleCalculus\\207390714_2474512999_4340023</span> <span style=\"color: #7f7f7f; text-decoration-color: #7f7f7f\">                        </span>\n",
       "<span style=\"color: #7fbfbf; text-decoration-color: #7fbfbf\">                    </span>         <span style=\"color: #008000; text-decoration-color: #008000\">46.mp4'</span>                                                       <span style=\"color: #7f7f7f; text-decoration-color: #7f7f7f\">                        </span>\n",
       "</pre>\n"
      ],
      "text/plain": [
       "\u001b[2;36m                   \u001b[0m\u001b[2;36m \u001b[0m\u001b[32mINFO    \u001b[0m Animation \u001b[32m6\u001b[0m : Partial movie file written in                   \u001b]8;id=86702;file://c:\\Users\\PC\\Desktop\\ManimCE1\\mce\\lib\\site-packages\\manim\\scene\\scene_file_writer.py\u001b\\\u001b[2mscene_file_writer.py\u001b[0m\u001b]8;;\u001b\\\u001b[2m:\u001b[0m\u001b]8;id=802940;file://c:\\Users\\PC\\Desktop\\ManimCE1\\mce\\lib\\site-packages\\manim\\scene\\scene_file_writer.py#527\u001b\\\u001b[2m527\u001b[0m\u001b]8;;\u001b\\\n",
       "\u001b[2;36m                    \u001b[0m         \u001b[32m'C:\\Users\\PC\\Desktop\\ManimCE1\\media\\videos\\ManimCE1\\720p30\\pa\u001b[0m \u001b[2m                        \u001b[0m\n",
       "\u001b[2;36m                    \u001b[0m         \u001b[32mrtial_movie_files\\CircleCalculus\\207390714_2474512999_4340023\u001b[0m \u001b[2m                        \u001b[0m\n",
       "\u001b[2;36m                    \u001b[0m         \u001b[32m46.mp4'\u001b[0m                                                       \u001b[2m                        \u001b[0m\n"
      ]
     },
     "metadata": {},
     "output_type": "display_data"
    },
    {
     "data": {
      "text/html": [
       "<pre style=\"white-space:pre;overflow-x:auto;line-height:normal;font-family:Menlo,'DejaVu Sans Mono',consolas,'Courier New',monospace\"><span style=\"color: #7fbfbf; text-decoration-color: #7fbfbf\">                    </span><span style=\"color: #008000; text-decoration-color: #008000\">INFO    </span> Combining to Movie file.                                      <a href=\"file://c:\\Users\\PC\\Desktop\\ManimCE1\\mce\\lib\\site-packages\\manim\\scene\\scene_file_writer.py\" target=\"_blank\"><span style=\"color: #7f7f7f; text-decoration-color: #7f7f7f\">scene_file_writer.py</span></a><span style=\"color: #7f7f7f; text-decoration-color: #7f7f7f\">:</span><a href=\"file://c:\\Users\\PC\\Desktop\\ManimCE1\\mce\\lib\\site-packages\\manim\\scene\\scene_file_writer.py#617\" target=\"_blank\"><span style=\"color: #7f7f7f; text-decoration-color: #7f7f7f\">617</span></a>\n",
       "</pre>\n"
      ],
      "text/plain": [
       "\u001b[2;36m                   \u001b[0m\u001b[2;36m \u001b[0m\u001b[32mINFO    \u001b[0m Combining to Movie file.                                      \u001b]8;id=390404;file://c:\\Users\\PC\\Desktop\\ManimCE1\\mce\\lib\\site-packages\\manim\\scene\\scene_file_writer.py\u001b\\\u001b[2mscene_file_writer.py\u001b[0m\u001b]8;;\u001b\\\u001b[2m:\u001b[0m\u001b]8;id=587892;file://c:\\Users\\PC\\Desktop\\ManimCE1\\mce\\lib\\site-packages\\manim\\scene\\scene_file_writer.py#617\u001b\\\u001b[2m617\u001b[0m\u001b]8;;\u001b\\\n"
      ]
     },
     "metadata": {},
     "output_type": "display_data"
    },
    {
     "data": {
      "text/html": [
       "<pre style=\"white-space:pre;overflow-x:auto;line-height:normal;font-family:Menlo,'DejaVu Sans Mono',consolas,'Courier New',monospace\"><span style=\"color: #7fbfbf; text-decoration-color: #7fbfbf\">[10/27/23 23:50:41] </span><span style=\"color: #008000; text-decoration-color: #008000\">INFO    </span>                                                               <a href=\"file://c:\\Users\\PC\\Desktop\\ManimCE1\\mce\\lib\\site-packages\\manim\\scene\\scene_file_writer.py\" target=\"_blank\"><span style=\"color: #7f7f7f; text-decoration-color: #7f7f7f\">scene_file_writer.py</span></a><span style=\"color: #7f7f7f; text-decoration-color: #7f7f7f\">:</span><a href=\"file://c:\\Users\\PC\\Desktop\\ManimCE1\\mce\\lib\\site-packages\\manim\\scene\\scene_file_writer.py#736\" target=\"_blank\"><span style=\"color: #7f7f7f; text-decoration-color: #7f7f7f\">736</span></a>\n",
       "<span style=\"color: #7fbfbf; text-decoration-color: #7fbfbf\">                    </span>         <span style=\"color: #808000; text-decoration-color: #808000; font-weight: bold\">File</span> ready at                                                 <span style=\"color: #7f7f7f; text-decoration-color: #7f7f7f\">                        </span>\n",
       "<span style=\"color: #7fbfbf; text-decoration-color: #7fbfbf\">                    </span>         <span style=\"color: #008000; text-decoration-color: #008000\">'C:\\Users\\PC\\Desktop\\ManimCE1\\media\\videos\\ManimCE1\\720p30\\Ci</span> <span style=\"color: #7f7f7f; text-decoration-color: #7f7f7f\">                        </span>\n",
       "<span style=\"color: #7fbfbf; text-decoration-color: #7fbfbf\">                    </span>         <span style=\"color: #008000; text-decoration-color: #008000\">rcleCalculus.mp4'</span>                                             <span style=\"color: #7f7f7f; text-decoration-color: #7f7f7f\">                        </span>\n",
       "<span style=\"color: #7fbfbf; text-decoration-color: #7fbfbf\">                    </span>                                                                       <span style=\"color: #7f7f7f; text-decoration-color: #7f7f7f\">                        </span>\n",
       "</pre>\n"
      ],
      "text/plain": [
       "\u001b[2;36m[10/27/23 23:50:41]\u001b[0m\u001b[2;36m \u001b[0m\u001b[32mINFO    \u001b[0m                                                               \u001b]8;id=136424;file://c:\\Users\\PC\\Desktop\\ManimCE1\\mce\\lib\\site-packages\\manim\\scene\\scene_file_writer.py\u001b\\\u001b[2mscene_file_writer.py\u001b[0m\u001b]8;;\u001b\\\u001b[2m:\u001b[0m\u001b]8;id=596324;file://c:\\Users\\PC\\Desktop\\ManimCE1\\mce\\lib\\site-packages\\manim\\scene\\scene_file_writer.py#736\u001b\\\u001b[2m736\u001b[0m\u001b]8;;\u001b\\\n",
       "\u001b[2;36m                    \u001b[0m         \u001b[1;33mFile\u001b[0m ready at                                                 \u001b[2m                        \u001b[0m\n",
       "\u001b[2;36m                    \u001b[0m         \u001b[32m'C:\\Users\\PC\\Desktop\\ManimCE1\\media\\videos\\ManimCE1\\720p30\\Ci\u001b[0m \u001b[2m                        \u001b[0m\n",
       "\u001b[2;36m                    \u001b[0m         \u001b[32mrcleCalculus.mp4'\u001b[0m                                             \u001b[2m                        \u001b[0m\n",
       "\u001b[2;36m                    \u001b[0m                                                                       \u001b[2m                        \u001b[0m\n"
      ]
     },
     "metadata": {},
     "output_type": "display_data"
    },
    {
     "data": {
      "text/html": [
       "<pre style=\"white-space:pre;overflow-x:auto;line-height:normal;font-family:Menlo,'DejaVu Sans Mono',consolas,'Courier New',monospace\"><span style=\"color: #7fbfbf; text-decoration-color: #7fbfbf\">                    </span><span style=\"color: #008000; text-decoration-color: #008000\">INFO    </span> <span style=\"color: #808000; text-decoration-color: #808000; font-weight: bold\">Rendered</span> CircleCalculus                                                   <a href=\"file://c:\\Users\\PC\\Desktop\\ManimCE1\\mce\\lib\\site-packages\\manim\\scene\\scene.py\" target=\"_blank\"><span style=\"color: #7f7f7f; text-decoration-color: #7f7f7f\">scene.py</span></a><span style=\"color: #7f7f7f; text-decoration-color: #7f7f7f\">:</span><a href=\"file://c:\\Users\\PC\\Desktop\\ManimCE1\\mce\\lib\\site-packages\\manim\\scene\\scene.py#241\" target=\"_blank\"><span style=\"color: #7f7f7f; text-decoration-color: #7f7f7f\">241</span></a>\n",
       "<span style=\"color: #7fbfbf; text-decoration-color: #7fbfbf\">                    </span>         <span style=\"color: #808000; text-decoration-color: #808000; font-weight: bold\">Played</span> <span style=\"color: #008000; text-decoration-color: #008000\">7</span> <span style=\"color: #808000; text-decoration-color: #808000; font-weight: bold\">animations</span>                                                       <span style=\"color: #7f7f7f; text-decoration-color: #7f7f7f\">            </span>\n",
       "</pre>\n"
      ],
      "text/plain": [
       "\u001b[2;36m                   \u001b[0m\u001b[2;36m \u001b[0m\u001b[32mINFO    \u001b[0m \u001b[1;33mRendered\u001b[0m CircleCalculus                                                   \u001b]8;id=58467;file://c:\\Users\\PC\\Desktop\\ManimCE1\\mce\\lib\\site-packages\\manim\\scene\\scene.py\u001b\\\u001b[2mscene.py\u001b[0m\u001b]8;;\u001b\\\u001b[2m:\u001b[0m\u001b]8;id=733545;file://c:\\Users\\PC\\Desktop\\ManimCE1\\mce\\lib\\site-packages\\manim\\scene\\scene.py#241\u001b\\\u001b[2m241\u001b[0m\u001b]8;;\u001b\\\n",
       "\u001b[2;36m                    \u001b[0m         \u001b[1;33mPlayed\u001b[0m \u001b[32m7\u001b[0m \u001b[1;33manimations\u001b[0m                                                       \u001b[2m            \u001b[0m\n"
      ]
     },
     "metadata": {},
     "output_type": "display_data"
    },
    {
     "data": {
      "text/html": [
       "<video src=\"media\\jupyter\\CircleCalculus@2023-10-27@23-50-41.mp4\" controls autoplay loop style=\"max-width: 50%;\"  >\n",
       "      Your browser does not support the <code>video</code> element.\n",
       "    </video>"
      ],
      "text/plain": [
       "<IPython.core.display.Video object>"
      ]
     },
     "metadata": {},
     "output_type": "display_data"
    },
    {
     "data": {
      "text/html": [
       "<pre style=\"white-space:pre;overflow-x:auto;line-height:normal;font-family:Menlo,'DejaVu Sans Mono',consolas,'Courier New',monospace\"><span style=\"color: #7fbfbf; text-decoration-color: #7fbfbf\">                    </span><span style=\"color: #008000; text-decoration-color: #008000\">INFO    </span> <span style=\"color: #808000; text-decoration-color: #808000; font-weight: bold\">Writing</span> 3B1B Circle Calculus Tutorial to                        <a href=\"file://c:\\Users\\PC\\Desktop\\ManimCE1\\mce\\lib\\site-packages\\manim\\utils\\tex_file_writing.py\" target=\"_blank\"><span style=\"color: #7f7f7f; text-decoration-color: #7f7f7f\">tex_file_writing.py</span></a><span style=\"color: #7f7f7f; text-decoration-color: #7f7f7f\">:</span><a href=\"file://c:\\Users\\PC\\Desktop\\ManimCE1\\mce\\lib\\site-packages\\manim\\utils\\tex_file_writing.py#97\" target=\"_blank\"><span style=\"color: #7f7f7f; text-decoration-color: #7f7f7f\">97</span></a>\n",
       "<span style=\"color: #7fbfbf; text-decoration-color: #7fbfbf\">                    </span>         media\\Tex\\92427541dace9e0f.tex                                  <span style=\"color: #7f7f7f; text-decoration-color: #7f7f7f\">                      </span>\n",
       "</pre>\n"
      ],
      "text/plain": [
       "\u001b[2;36m                   \u001b[0m\u001b[2;36m \u001b[0m\u001b[32mINFO    \u001b[0m \u001b[1;33mWriting\u001b[0m 3B1B Circle Calculus Tutorial to                        \u001b]8;id=490690;file://c:\\Users\\PC\\Desktop\\ManimCE1\\mce\\lib\\site-packages\\manim\\utils\\tex_file_writing.py\u001b\\\u001b[2mtex_file_writing.py\u001b[0m\u001b]8;;\u001b\\\u001b[2m:\u001b[0m\u001b]8;id=655266;file://c:\\Users\\PC\\Desktop\\ManimCE1\\mce\\lib\\site-packages\\manim\\utils\\tex_file_writing.py#97\u001b\\\u001b[2m97\u001b[0m\u001b]8;;\u001b\\\n",
       "\u001b[2;36m                    \u001b[0m         media\\Tex\\92427541dace9e0f.tex                                  \u001b[2m                      \u001b[0m\n"
      ]
     },
     "metadata": {},
     "output_type": "display_data"
    },
    {
     "name": "stderr",
     "output_type": "stream",
     "text": [
      "<string>:119: DeprecationWarning: This method is not guaranteed to stay around. Please prefer getting the attribute normally.\n"
     ]
    },
    {
     "data": {
      "text/html": [
       "<pre style=\"white-space:pre;overflow-x:auto;line-height:normal;font-family:Menlo,'DejaVu Sans Mono',consolas,'Courier New',monospace\"><span style=\"color: #7fbfbf; text-decoration-color: #7fbfbf\">[10/27/23 23:50:43] </span><span style=\"color: #008000; text-decoration-color: #008000\">INFO    </span> Animation <span style=\"color: #008000; text-decoration-color: #008000\">0</span> : Partial movie file written in                   <a href=\"file://c:\\Users\\PC\\Desktop\\ManimCE1\\mce\\lib\\site-packages\\manim\\scene\\scene_file_writer.py\" target=\"_blank\"><span style=\"color: #7f7f7f; text-decoration-color: #7f7f7f\">scene_file_writer.py</span></a><span style=\"color: #7f7f7f; text-decoration-color: #7f7f7f\">:</span><a href=\"file://c:\\Users\\PC\\Desktop\\ManimCE1\\mce\\lib\\site-packages\\manim\\scene\\scene_file_writer.py#527\" target=\"_blank\"><span style=\"color: #7f7f7f; text-decoration-color: #7f7f7f\">527</span></a>\n",
       "<span style=\"color: #7fbfbf; text-decoration-color: #7fbfbf\">                    </span>         <span style=\"color: #008000; text-decoration-color: #008000\">'C:\\Users\\PC\\Desktop\\ManimCE1\\media\\videos\\ManimCE1\\720p30\\pa</span> <span style=\"color: #7f7f7f; text-decoration-color: #7f7f7f\">                        </span>\n",
       "<span style=\"color: #7fbfbf; text-decoration-color: #7fbfbf\">                    </span>         <span style=\"color: #008000; text-decoration-color: #008000\">rtial_movie_files\\Thumbnail\\274514146_3837998516_1647167446.m</span> <span style=\"color: #7f7f7f; text-decoration-color: #7f7f7f\">                        </span>\n",
       "<span style=\"color: #7fbfbf; text-decoration-color: #7fbfbf\">                    </span>         <span style=\"color: #008000; text-decoration-color: #008000\">p4'</span>                                                           <span style=\"color: #7f7f7f; text-decoration-color: #7f7f7f\">                        </span>\n",
       "</pre>\n"
      ],
      "text/plain": [
       "\u001b[2;36m[10/27/23 23:50:43]\u001b[0m\u001b[2;36m \u001b[0m\u001b[32mINFO    \u001b[0m Animation \u001b[32m0\u001b[0m : Partial movie file written in                   \u001b]8;id=528626;file://c:\\Users\\PC\\Desktop\\ManimCE1\\mce\\lib\\site-packages\\manim\\scene\\scene_file_writer.py\u001b\\\u001b[2mscene_file_writer.py\u001b[0m\u001b]8;;\u001b\\\u001b[2m:\u001b[0m\u001b]8;id=734496;file://c:\\Users\\PC\\Desktop\\ManimCE1\\mce\\lib\\site-packages\\manim\\scene\\scene_file_writer.py#527\u001b\\\u001b[2m527\u001b[0m\u001b]8;;\u001b\\\n",
       "\u001b[2;36m                    \u001b[0m         \u001b[32m'C:\\Users\\PC\\Desktop\\ManimCE1\\media\\videos\\ManimCE1\\720p30\\pa\u001b[0m \u001b[2m                        \u001b[0m\n",
       "\u001b[2;36m                    \u001b[0m         \u001b[32mrtial_movie_files\\Thumbnail\\274514146_3837998516_1647167446.m\u001b[0m \u001b[2m                        \u001b[0m\n",
       "\u001b[2;36m                    \u001b[0m         \u001b[32mp4'\u001b[0m                                                           \u001b[2m                        \u001b[0m\n"
      ]
     },
     "metadata": {},
     "output_type": "display_data"
    },
    {
     "data": {
      "text/html": [
       "<pre style=\"white-space:pre;overflow-x:auto;line-height:normal;font-family:Menlo,'DejaVu Sans Mono',consolas,'Courier New',monospace\"><span style=\"color: #7fbfbf; text-decoration-color: #7fbfbf\">                    </span><span style=\"color: #008000; text-decoration-color: #008000\">INFO    </span> Combining to Movie file.                                      <a href=\"file://c:\\Users\\PC\\Desktop\\ManimCE1\\mce\\lib\\site-packages\\manim\\scene\\scene_file_writer.py\" target=\"_blank\"><span style=\"color: #7f7f7f; text-decoration-color: #7f7f7f\">scene_file_writer.py</span></a><span style=\"color: #7f7f7f; text-decoration-color: #7f7f7f\">:</span><a href=\"file://c:\\Users\\PC\\Desktop\\ManimCE1\\mce\\lib\\site-packages\\manim\\scene\\scene_file_writer.py#617\" target=\"_blank\"><span style=\"color: #7f7f7f; text-decoration-color: #7f7f7f\">617</span></a>\n",
       "</pre>\n"
      ],
      "text/plain": [
       "\u001b[2;36m                   \u001b[0m\u001b[2;36m \u001b[0m\u001b[32mINFO    \u001b[0m Combining to Movie file.                                      \u001b]8;id=918872;file://c:\\Users\\PC\\Desktop\\ManimCE1\\mce\\lib\\site-packages\\manim\\scene\\scene_file_writer.py\u001b\\\u001b[2mscene_file_writer.py\u001b[0m\u001b]8;;\u001b\\\u001b[2m:\u001b[0m\u001b]8;id=277368;file://c:\\Users\\PC\\Desktop\\ManimCE1\\mce\\lib\\site-packages\\manim\\scene\\scene_file_writer.py#617\u001b\\\u001b[2m617\u001b[0m\u001b]8;;\u001b\\\n"
      ]
     },
     "metadata": {},
     "output_type": "display_data"
    },
    {
     "data": {
      "text/html": [
       "<pre style=\"white-space:pre;overflow-x:auto;line-height:normal;font-family:Menlo,'DejaVu Sans Mono',consolas,'Courier New',monospace\"><span style=\"color: #7fbfbf; text-decoration-color: #7fbfbf\">                    </span><span style=\"color: #008000; text-decoration-color: #008000\">INFO    </span>                                                               <a href=\"file://c:\\Users\\PC\\Desktop\\ManimCE1\\mce\\lib\\site-packages\\manim\\scene\\scene_file_writer.py\" target=\"_blank\"><span style=\"color: #7f7f7f; text-decoration-color: #7f7f7f\">scene_file_writer.py</span></a><span style=\"color: #7f7f7f; text-decoration-color: #7f7f7f\">:</span><a href=\"file://c:\\Users\\PC\\Desktop\\ManimCE1\\mce\\lib\\site-packages\\manim\\scene\\scene_file_writer.py#736\" target=\"_blank\"><span style=\"color: #7f7f7f; text-decoration-color: #7f7f7f\">736</span></a>\n",
       "<span style=\"color: #7fbfbf; text-decoration-color: #7fbfbf\">                    </span>         <span style=\"color: #808000; text-decoration-color: #808000; font-weight: bold\">File</span> ready at                                                 <span style=\"color: #7f7f7f; text-decoration-color: #7f7f7f\">                        </span>\n",
       "<span style=\"color: #7fbfbf; text-decoration-color: #7fbfbf\">                    </span>         <span style=\"color: #008000; text-decoration-color: #008000\">'C:\\Users\\PC\\Desktop\\ManimCE1\\media\\videos\\ManimCE1\\720p30\\Th</span> <span style=\"color: #7f7f7f; text-decoration-color: #7f7f7f\">                        </span>\n",
       "<span style=\"color: #7fbfbf; text-decoration-color: #7fbfbf\">                    </span>         <span style=\"color: #008000; text-decoration-color: #008000\">umbnail.mp4'</span>                                                  <span style=\"color: #7f7f7f; text-decoration-color: #7f7f7f\">                        </span>\n",
       "<span style=\"color: #7fbfbf; text-decoration-color: #7fbfbf\">                    </span>                                                                       <span style=\"color: #7f7f7f; text-decoration-color: #7f7f7f\">                        </span>\n",
       "</pre>\n"
      ],
      "text/plain": [
       "\u001b[2;36m                   \u001b[0m\u001b[2;36m \u001b[0m\u001b[32mINFO    \u001b[0m                                                               \u001b]8;id=415659;file://c:\\Users\\PC\\Desktop\\ManimCE1\\mce\\lib\\site-packages\\manim\\scene\\scene_file_writer.py\u001b\\\u001b[2mscene_file_writer.py\u001b[0m\u001b]8;;\u001b\\\u001b[2m:\u001b[0m\u001b]8;id=248722;file://c:\\Users\\PC\\Desktop\\ManimCE1\\mce\\lib\\site-packages\\manim\\scene\\scene_file_writer.py#736\u001b\\\u001b[2m736\u001b[0m\u001b]8;;\u001b\\\n",
       "\u001b[2;36m                    \u001b[0m         \u001b[1;33mFile\u001b[0m ready at                                                 \u001b[2m                        \u001b[0m\n",
       "\u001b[2;36m                    \u001b[0m         \u001b[32m'C:\\Users\\PC\\Desktop\\ManimCE1\\media\\videos\\ManimCE1\\720p30\\Th\u001b[0m \u001b[2m                        \u001b[0m\n",
       "\u001b[2;36m                    \u001b[0m         \u001b[32mumbnail.mp4'\u001b[0m                                                  \u001b[2m                        \u001b[0m\n",
       "\u001b[2;36m                    \u001b[0m                                                                       \u001b[2m                        \u001b[0m\n"
      ]
     },
     "metadata": {},
     "output_type": "display_data"
    },
    {
     "data": {
      "text/html": [
       "<pre style=\"white-space:pre;overflow-x:auto;line-height:normal;font-family:Menlo,'DejaVu Sans Mono',consolas,'Courier New',monospace\"><span style=\"color: #7fbfbf; text-decoration-color: #7fbfbf\">                    </span><span style=\"color: #008000; text-decoration-color: #008000\">INFO    </span> <span style=\"color: #808000; text-decoration-color: #808000; font-weight: bold\">Rendered</span> Thumbnail                                                        <a href=\"file://c:\\Users\\PC\\Desktop\\ManimCE1\\mce\\lib\\site-packages\\manim\\scene\\scene.py\" target=\"_blank\"><span style=\"color: #7f7f7f; text-decoration-color: #7f7f7f\">scene.py</span></a><span style=\"color: #7f7f7f; text-decoration-color: #7f7f7f\">:</span><a href=\"file://c:\\Users\\PC\\Desktop\\ManimCE1\\mce\\lib\\site-packages\\manim\\scene\\scene.py#241\" target=\"_blank\"><span style=\"color: #7f7f7f; text-decoration-color: #7f7f7f\">241</span></a>\n",
       "<span style=\"color: #7fbfbf; text-decoration-color: #7fbfbf\">                    </span>         <span style=\"color: #808000; text-decoration-color: #808000; font-weight: bold\">Played</span> <span style=\"color: #008000; text-decoration-color: #008000\">1</span> <span style=\"color: #808000; text-decoration-color: #808000; font-weight: bold\">animations</span>                                                       <span style=\"color: #7f7f7f; text-decoration-color: #7f7f7f\">            </span>\n",
       "</pre>\n"
      ],
      "text/plain": [
       "\u001b[2;36m                   \u001b[0m\u001b[2;36m \u001b[0m\u001b[32mINFO    \u001b[0m \u001b[1;33mRendered\u001b[0m Thumbnail                                                        \u001b]8;id=637923;file://c:\\Users\\PC\\Desktop\\ManimCE1\\mce\\lib\\site-packages\\manim\\scene\\scene.py\u001b\\\u001b[2mscene.py\u001b[0m\u001b]8;;\u001b\\\u001b[2m:\u001b[0m\u001b]8;id=847155;file://c:\\Users\\PC\\Desktop\\ManimCE1\\mce\\lib\\site-packages\\manim\\scene\\scene.py#241\u001b\\\u001b[2m241\u001b[0m\u001b]8;;\u001b\\\n",
       "\u001b[2;36m                    \u001b[0m         \u001b[1;33mPlayed\u001b[0m \u001b[32m1\u001b[0m \u001b[1;33manimations\u001b[0m                                                       \u001b[2m            \u001b[0m\n"
      ]
     },
     "metadata": {},
     "output_type": "display_data"
    },
    {
     "data": {
      "text/html": [
       "<video src=\"media\\jupyter\\Thumbnail@2023-10-27@23-50-43.mp4\" controls autoplay loop style=\"max-width: 50%;\"  >\n",
       "      Your browser does not support the <code>video</code> element.\n",
       "    </video>"
      ],
      "text/plain": [
       "<IPython.core.display.Video object>"
      ]
     },
     "metadata": {},
     "output_type": "display_data"
    }
   ],
   "source": [
    "%manim -qm CircleCalculus \n",
    "%manim -qm Thumbnail  \n",
    "\n",
    "\n",
    "\n",
    "def dx_circle(x_min=0, x_max=3, dx=0.1):\n",
    "    circles = VGroup()\n",
    "    for x in np.arange(x_min, x_max, dx):\n",
    "        c = Circle(radius=x, stroke_width=4, stroke_color=[BLUE, GREEN])\n",
    "        circles.add(c)\n",
    "    return circles\n",
    "\n",
    "\n",
    "def dx_circumferences(x_min=0, x_max=3, dx=0.1):\n",
    "    circumferences = VGroup()\n",
    "    for x in np.arange(x_min, x_max, dx):\n",
    "        circumf = Rectangle(\n",
    "            width=2 * x * PI,\n",
    "            height=dx,\n",
    "            stroke_color=[BLUE, GREEN],\n",
    "            fill_color=[BLUE, GREEN],\n",
    "            fill_opacity=0.75,\n",
    "        )\n",
    "        circumferences.add(circumf)\n",
    "    circumferences.arrange(DOWN, buff=0.1).to_edge(DL)\n",
    "    return circumferences\n",
    "\n",
    "\n",
    "class CircleCalculus(Scene):\n",
    "    def construct(self):\n",
    "\n",
    "        axes = Axes(\n",
    "            x_range=[0, 1.01],\n",
    "            x_length=1,\n",
    "            y_range=[0, 7],\n",
    "            y_length=7,\n",
    "            axis_config={\"include_numbers\": True, \"include_tip\": False},\n",
    "        ).to_edge(RIGHT, buff=2)\n",
    "\n",
    "        k = ValueTracker(0.2)\n",
    "\n",
    "        circles = always_redraw(lambda: dx_circle(x_min=0, x_max=1, dx=k.get_value()))\n",
    "        circumferences = always_redraw(\n",
    "            lambda: dx_circumferences(x_min=0, x_max=1, dx=k.get_value())\n",
    "        )\n",
    "\n",
    "        self.add(circles, circumferences)\n",
    "        self.wait()\n",
    "        self.play(DrawBorderThenFill(axes))\n",
    "        self.play(k.animate.set_value(0.05), run_time=5)\n",
    "\n",
    "        self.play(\n",
    "            Wiggle(\n",
    "                VGroup(circles[6], circles[14], circumferences[6], circumferences[14])\n",
    "            )\n",
    "        )\n",
    "        self.play(\n",
    "            circumferences[6]\n",
    "            .copy()\n",
    "            .animate.rotate(PI / 2)\n",
    "            .move_to(axes.c2p(6 / 20, 0))\n",
    "            .shift(UP * (circumferences[6].get_width()) / 2),\n",
    "            circumferences[14]\n",
    "            .copy()\n",
    "            .animate.rotate(PI / 2)\n",
    "            .move_to(axes.c2p(14 / 20, 0))\n",
    "            .shift(UP * (circumferences[14].get_width()) / 2),\n",
    "            run_time=2,\n",
    "        )\n",
    "\n",
    "        area_under_curve = VGroup()\n",
    "        for p in range(20):\n",
    "            rect = (\n",
    "                circumferences[p]\n",
    "                .copy()\n",
    "                .rotate(PI / 2)\n",
    "                .move_to(axes.c2p(p / 20, 0))\n",
    "                .shift(UP * (circumferences[p].get_width()) / 2)\n",
    "            )\n",
    "            area_under_curve.add(rect)\n",
    "\n",
    "        self.play(Transform(circumferences.copy(), area_under_curve), run_time=2)\n",
    "\n",
    "        self.wait()\n",
    "\n",
    "\n",
    "class Thumbnail(Scene):\n",
    "    def construct(self):\n",
    "\n",
    "        text = (\n",
    "            Tex(\"3B1B Circle Calculus Tutorial\")\n",
    "            .scale(2)\n",
    "            .add_background_rectangle()\n",
    "            .to_edge(UP)\n",
    "        )\n",
    "\n",
    "        axes = Axes(\n",
    "            x_range=[0, 1.01],\n",
    "            x_length=1,\n",
    "            y_range=[0, 7],\n",
    "            y_length=7,\n",
    "            axis_config={\"include_numbers\": True, \"include_tip\": False},\n",
    "        ).to_edge(RIGHT, buff=2)\n",
    "\n",
    "        k = ValueTracker(0.05)\n",
    "\n",
    "        circles = always_redraw(lambda: dx_circle(x_min=0, x_max=2, dx=k.get_value()))\n",
    "        circumferences = always_redraw(\n",
    "            lambda: dx_circumferences(x_min=0, x_max=1, dx=k.get_value())\n",
    "        )\n",
    "\n",
    "        self.add(circles, circumferences, axes)\n",
    "        area_under_curve = VGroup()\n",
    "        for p in range(20):\n",
    "            rect = (\n",
    "                circumferences[p]\n",
    "                .copy()\n",
    "                .rotate(PI / 2)\n",
    "                .move_to(axes.c2p(p / 20, 0))\n",
    "                .shift(UP * (circumferences[p].get_width()) / 2)\n",
    "            )\n",
    "            area_under_curve.add(rect)\n",
    "\n",
    "        self.add(area_under_curve, text)\n",
    "\n",
    "        self.wait()"
   ]
  },
  {
   "cell_type": "code",
   "execution_count": 10,
   "metadata": {},
   "outputs": [
    {
     "data": {
      "text/html": [
       "<pre style=\"white-space:pre;overflow-x:auto;line-height:normal;font-family:Menlo,'DejaVu Sans Mono',consolas,'Courier New',monospace\"><span style=\"color: #7fbfbf; text-decoration-color: #7fbfbf\">[10/28/23 23:03:15] </span><span style=\"color: #008000; text-decoration-color: #008000\">INFO    </span> Animation <span style=\"color: #008000; text-decoration-color: #008000\">0</span> : Partial movie file written in                   <a href=\"file://c:\\Users\\PC\\Desktop\\ManimCE1\\mce\\lib\\site-packages\\manim\\scene\\scene_file_writer.py\" target=\"_blank\"><span style=\"color: #7f7f7f; text-decoration-color: #7f7f7f\">scene_file_writer.py</span></a><span style=\"color: #7f7f7f; text-decoration-color: #7f7f7f\">:</span><a href=\"file://c:\\Users\\PC\\Desktop\\ManimCE1\\mce\\lib\\site-packages\\manim\\scene\\scene_file_writer.py#527\" target=\"_blank\"><span style=\"color: #7f7f7f; text-decoration-color: #7f7f7f\">527</span></a>\n",
       "<span style=\"color: #7fbfbf; text-decoration-color: #7fbfbf\">                    </span>         <span style=\"color: #008000; text-decoration-color: #008000\">'C:\\Users\\PC\\Desktop\\ManimCE1\\media\\videos\\ManimCE1\\720p30\\pa</span> <span style=\"color: #7f7f7f; text-decoration-color: #7f7f7f\">                        </span>\n",
       "<span style=\"color: #7fbfbf; text-decoration-color: #7fbfbf\">                    </span>         <span style=\"color: #008000; text-decoration-color: #008000\">rtial_movie_files\\PhiCurve\\1858673185_1804042621_4086315657.m</span> <span style=\"color: #7f7f7f; text-decoration-color: #7f7f7f\">                        </span>\n",
       "<span style=\"color: #7fbfbf; text-decoration-color: #7fbfbf\">                    </span>         <span style=\"color: #008000; text-decoration-color: #008000\">p4'</span>                                                           <span style=\"color: #7f7f7f; text-decoration-color: #7f7f7f\">                        </span>\n",
       "</pre>\n"
      ],
      "text/plain": [
       "\u001b[2;36m[10/28/23 23:03:15]\u001b[0m\u001b[2;36m \u001b[0m\u001b[32mINFO    \u001b[0m Animation \u001b[32m0\u001b[0m : Partial movie file written in                   \u001b]8;id=866166;file://c:\\Users\\PC\\Desktop\\ManimCE1\\mce\\lib\\site-packages\\manim\\scene\\scene_file_writer.py\u001b\\\u001b[2mscene_file_writer.py\u001b[0m\u001b]8;;\u001b\\\u001b[2m:\u001b[0m\u001b]8;id=368021;file://c:\\Users\\PC\\Desktop\\ManimCE1\\mce\\lib\\site-packages\\manim\\scene\\scene_file_writer.py#527\u001b\\\u001b[2m527\u001b[0m\u001b]8;;\u001b\\\n",
       "\u001b[2;36m                    \u001b[0m         \u001b[32m'C:\\Users\\PC\\Desktop\\ManimCE1\\media\\videos\\ManimCE1\\720p30\\pa\u001b[0m \u001b[2m                        \u001b[0m\n",
       "\u001b[2;36m                    \u001b[0m         \u001b[32mrtial_movie_files\\PhiCurve\\1858673185_1804042621_4086315657.m\u001b[0m \u001b[2m                        \u001b[0m\n",
       "\u001b[2;36m                    \u001b[0m         \u001b[32mp4'\u001b[0m                                                           \u001b[2m                        \u001b[0m\n"
      ]
     },
     "metadata": {},
     "output_type": "display_data"
    },
    {
     "data": {
      "text/html": [
       "<pre style=\"white-space:pre;overflow-x:auto;line-height:normal;font-family:Menlo,'DejaVu Sans Mono',consolas,'Courier New',monospace\"><span style=\"color: #7fbfbf; text-decoration-color: #7fbfbf\">                    </span><span style=\"color: #008000; text-decoration-color: #008000\">INFO    </span> Combining to Movie file.                                      <a href=\"file://c:\\Users\\PC\\Desktop\\ManimCE1\\mce\\lib\\site-packages\\manim\\scene\\scene_file_writer.py\" target=\"_blank\"><span style=\"color: #7f7f7f; text-decoration-color: #7f7f7f\">scene_file_writer.py</span></a><span style=\"color: #7f7f7f; text-decoration-color: #7f7f7f\">:</span><a href=\"file://c:\\Users\\PC\\Desktop\\ManimCE1\\mce\\lib\\site-packages\\manim\\scene\\scene_file_writer.py#617\" target=\"_blank\"><span style=\"color: #7f7f7f; text-decoration-color: #7f7f7f\">617</span></a>\n",
       "</pre>\n"
      ],
      "text/plain": [
       "\u001b[2;36m                   \u001b[0m\u001b[2;36m \u001b[0m\u001b[32mINFO    \u001b[0m Combining to Movie file.                                      \u001b]8;id=489936;file://c:\\Users\\PC\\Desktop\\ManimCE1\\mce\\lib\\site-packages\\manim\\scene\\scene_file_writer.py\u001b\\\u001b[2mscene_file_writer.py\u001b[0m\u001b]8;;\u001b\\\u001b[2m:\u001b[0m\u001b]8;id=890363;file://c:\\Users\\PC\\Desktop\\ManimCE1\\mce\\lib\\site-packages\\manim\\scene\\scene_file_writer.py#617\u001b\\\u001b[2m617\u001b[0m\u001b]8;;\u001b\\\n"
      ]
     },
     "metadata": {},
     "output_type": "display_data"
    },
    {
     "data": {
      "text/html": [
       "<pre style=\"white-space:pre;overflow-x:auto;line-height:normal;font-family:Menlo,'DejaVu Sans Mono',consolas,'Courier New',monospace\"><span style=\"color: #7fbfbf; text-decoration-color: #7fbfbf\">                    </span><span style=\"color: #008000; text-decoration-color: #008000\">INFO    </span>                                                               <a href=\"file://c:\\Users\\PC\\Desktop\\ManimCE1\\mce\\lib\\site-packages\\manim\\scene\\scene_file_writer.py\" target=\"_blank\"><span style=\"color: #7f7f7f; text-decoration-color: #7f7f7f\">scene_file_writer.py</span></a><span style=\"color: #7f7f7f; text-decoration-color: #7f7f7f\">:</span><a href=\"file://c:\\Users\\PC\\Desktop\\ManimCE1\\mce\\lib\\site-packages\\manim\\scene\\scene_file_writer.py#736\" target=\"_blank\"><span style=\"color: #7f7f7f; text-decoration-color: #7f7f7f\">736</span></a>\n",
       "<span style=\"color: #7fbfbf; text-decoration-color: #7fbfbf\">                    </span>         <span style=\"color: #808000; text-decoration-color: #808000; font-weight: bold\">File</span> ready at                                                 <span style=\"color: #7f7f7f; text-decoration-color: #7f7f7f\">                        </span>\n",
       "<span style=\"color: #7fbfbf; text-decoration-color: #7fbfbf\">                    </span>         <span style=\"color: #008000; text-decoration-color: #008000\">'C:\\Users\\PC\\Desktop\\ManimCE1\\media\\videos\\ManimCE1\\720p30\\Ph</span> <span style=\"color: #7f7f7f; text-decoration-color: #7f7f7f\">                        </span>\n",
       "<span style=\"color: #7fbfbf; text-decoration-color: #7fbfbf\">                    </span>         <span style=\"color: #008000; text-decoration-color: #008000\">iCurve.mp4'</span>                                                   <span style=\"color: #7f7f7f; text-decoration-color: #7f7f7f\">                        </span>\n",
       "<span style=\"color: #7fbfbf; text-decoration-color: #7fbfbf\">                    </span>                                                                       <span style=\"color: #7f7f7f; text-decoration-color: #7f7f7f\">                        </span>\n",
       "</pre>\n"
      ],
      "text/plain": [
       "\u001b[2;36m                   \u001b[0m\u001b[2;36m \u001b[0m\u001b[32mINFO    \u001b[0m                                                               \u001b]8;id=333956;file://c:\\Users\\PC\\Desktop\\ManimCE1\\mce\\lib\\site-packages\\manim\\scene\\scene_file_writer.py\u001b\\\u001b[2mscene_file_writer.py\u001b[0m\u001b]8;;\u001b\\\u001b[2m:\u001b[0m\u001b]8;id=469123;file://c:\\Users\\PC\\Desktop\\ManimCE1\\mce\\lib\\site-packages\\manim\\scene\\scene_file_writer.py#736\u001b\\\u001b[2m736\u001b[0m\u001b]8;;\u001b\\\n",
       "\u001b[2;36m                    \u001b[0m         \u001b[1;33mFile\u001b[0m ready at                                                 \u001b[2m                        \u001b[0m\n",
       "\u001b[2;36m                    \u001b[0m         \u001b[32m'C:\\Users\\PC\\Desktop\\ManimCE1\\media\\videos\\ManimCE1\\720p30\\Ph\u001b[0m \u001b[2m                        \u001b[0m\n",
       "\u001b[2;36m                    \u001b[0m         \u001b[32miCurve.mp4'\u001b[0m                                                   \u001b[2m                        \u001b[0m\n",
       "\u001b[2;36m                    \u001b[0m                                                                       \u001b[2m                        \u001b[0m\n"
      ]
     },
     "metadata": {},
     "output_type": "display_data"
    },
    {
     "data": {
      "text/html": [
       "<pre style=\"white-space:pre;overflow-x:auto;line-height:normal;font-family:Menlo,'DejaVu Sans Mono',consolas,'Courier New',monospace\"><span style=\"color: #7fbfbf; text-decoration-color: #7fbfbf\">                    </span><span style=\"color: #008000; text-decoration-color: #008000\">INFO    </span> <span style=\"color: #808000; text-decoration-color: #808000; font-weight: bold\">Rendered</span> PhiCurve                                                         <a href=\"file://c:\\Users\\PC\\Desktop\\ManimCE1\\mce\\lib\\site-packages\\manim\\scene\\scene.py\" target=\"_blank\"><span style=\"color: #7f7f7f; text-decoration-color: #7f7f7f\">scene.py</span></a><span style=\"color: #7f7f7f; text-decoration-color: #7f7f7f\">:</span><a href=\"file://c:\\Users\\PC\\Desktop\\ManimCE1\\mce\\lib\\site-packages\\manim\\scene\\scene.py#241\" target=\"_blank\"><span style=\"color: #7f7f7f; text-decoration-color: #7f7f7f\">241</span></a>\n",
       "<span style=\"color: #7fbfbf; text-decoration-color: #7fbfbf\">                    </span>         <span style=\"color: #808000; text-decoration-color: #808000; font-weight: bold\">Played</span> <span style=\"color: #008000; text-decoration-color: #008000\">1</span> <span style=\"color: #808000; text-decoration-color: #808000; font-weight: bold\">animations</span>                                                       <span style=\"color: #7f7f7f; text-decoration-color: #7f7f7f\">            </span>\n",
       "</pre>\n"
      ],
      "text/plain": [
       "\u001b[2;36m                   \u001b[0m\u001b[2;36m \u001b[0m\u001b[32mINFO    \u001b[0m \u001b[1;33mRendered\u001b[0m PhiCurve                                                         \u001b]8;id=423874;file://c:\\Users\\PC\\Desktop\\ManimCE1\\mce\\lib\\site-packages\\manim\\scene\\scene.py\u001b\\\u001b[2mscene.py\u001b[0m\u001b]8;;\u001b\\\u001b[2m:\u001b[0m\u001b]8;id=466108;file://c:\\Users\\PC\\Desktop\\ManimCE1\\mce\\lib\\site-packages\\manim\\scene\\scene.py#241\u001b\\\u001b[2m241\u001b[0m\u001b]8;;\u001b\\\n",
       "\u001b[2;36m                    \u001b[0m         \u001b[1;33mPlayed\u001b[0m \u001b[32m1\u001b[0m \u001b[1;33manimations\u001b[0m                                                       \u001b[2m            \u001b[0m\n"
      ]
     },
     "metadata": {},
     "output_type": "display_data"
    },
    {
     "data": {
      "text/html": [
       "<video src=\"media\\jupyter\\PhiCurve@2023-10-28@23-03-15.mp4\" controls autoplay loop style=\"max-width: 50%;\"  >\n",
       "      Your browser does not support the <code>video</code> element.\n",
       "    </video>"
      ],
      "text/plain": [
       "<IPython.core.display.Video object>"
      ]
     },
     "metadata": {},
     "output_type": "display_data"
    }
   ],
   "source": [
    "%%manim -qm PhiCurve\n",
    "\n",
    "class PhiCurve(ThreeDScene):\n",
    "    def construct(self):\n",
    "        # Define the function phi(u, v)\n",
    "        def phi(u, v):\n",
    "            return u**2 + v**2\n",
    "\n",
    "        # Surface representing phi(u, v)\n",
    "        surface = Surface(\n",
    "            lambda u, v: np.array([u, v, phi(u, v)]),\n",
    "            resolution=(20, 20)\n",
    "        ).set_opacity(0.6)\n",
    "\n",
    "        # Initial point (u, v)\n",
    "        initialPoint = np.array([1, 1, phi(1, 1)])\n",
    "        initialDot = Dot3D(initialPoint, color=RED, radius=0.1)\n",
    "\n",
    "        # New point after increasing u by du\n",
    "        du = 0.1\n",
    "        newPoint = np.array([1 + du, 1, phi(1 + du, 1)])\n",
    "        newDot = Dot3D(newPoint, color=BLUE, radius=0.1)\n",
    "\n",
    "        # Dashed line connecting the two points\n",
    "        line = DashedLine(initialPoint, newPoint)\n",
    "\n",
    "        # Add objects to the scene\n",
    "        self.add(surface, initialDot, newDot, line)\n",
    "        self.set_camera_orientation(phi=60 * DEGREES, theta=-60 * DEGREES)\n",
    "        self.wait()\n"
   ]
  },
  {
   "cell_type": "code",
   "execution_count": 11,
   "metadata": {},
   "outputs": [
    {
     "name": "stderr",
     "output_type": "stream",
     "text": [
      "                                                            \r"
     ]
    },
    {
     "data": {
      "text/html": [
       "<pre style=\"white-space:pre;overflow-x:auto;line-height:normal;font-family:Menlo,'DejaVu Sans Mono',consolas,'Courier New',monospace\"><span style=\"color: #7fbfbf; text-decoration-color: #7fbfbf\">[10/28/23 23:09:24] </span><span style=\"color: #008000; text-decoration-color: #008000\">INFO    </span> Animation <span style=\"color: #008000; text-decoration-color: #008000\">0</span> : Partial movie file written in                   <a href=\"file://c:\\Users\\PC\\Desktop\\ManimCE1\\mce\\lib\\site-packages\\manim\\scene\\scene_file_writer.py\" target=\"_blank\"><span style=\"color: #7f7f7f; text-decoration-color: #7f7f7f\">scene_file_writer.py</span></a><span style=\"color: #7f7f7f; text-decoration-color: #7f7f7f\">:</span><a href=\"file://c:\\Users\\PC\\Desktop\\ManimCE1\\mce\\lib\\site-packages\\manim\\scene\\scene_file_writer.py#527\" target=\"_blank\"><span style=\"color: #7f7f7f; text-decoration-color: #7f7f7f\">527</span></a>\n",
       "<span style=\"color: #7fbfbf; text-decoration-color: #7fbfbf\">                    </span>         <span style=\"color: #008000; text-decoration-color: #008000\">'C:\\Users\\PC\\Desktop\\ManimCE1\\media\\videos\\ManimCE1\\720p30\\pa</span> <span style=\"color: #7f7f7f; text-decoration-color: #7f7f7f\">                        </span>\n",
       "<span style=\"color: #7fbfbf; text-decoration-color: #7fbfbf\">                    </span>         <span style=\"color: #008000; text-decoration-color: #008000\">rtial_movie_files\\PhiCurve1\\3833608645_2909433013_4123315701.</span> <span style=\"color: #7f7f7f; text-decoration-color: #7f7f7f\">                        </span>\n",
       "<span style=\"color: #7fbfbf; text-decoration-color: #7fbfbf\">                    </span>         <span style=\"color: #008000; text-decoration-color: #008000\">mp4'</span>                                                          <span style=\"color: #7f7f7f; text-decoration-color: #7f7f7f\">                        </span>\n",
       "</pre>\n"
      ],
      "text/plain": [
       "\u001b[2;36m[10/28/23 23:09:24]\u001b[0m\u001b[2;36m \u001b[0m\u001b[32mINFO    \u001b[0m Animation \u001b[32m0\u001b[0m : Partial movie file written in                   \u001b]8;id=357103;file://c:\\Users\\PC\\Desktop\\ManimCE1\\mce\\lib\\site-packages\\manim\\scene\\scene_file_writer.py\u001b\\\u001b[2mscene_file_writer.py\u001b[0m\u001b]8;;\u001b\\\u001b[2m:\u001b[0m\u001b]8;id=497894;file://c:\\Users\\PC\\Desktop\\ManimCE1\\mce\\lib\\site-packages\\manim\\scene\\scene_file_writer.py#527\u001b\\\u001b[2m527\u001b[0m\u001b]8;;\u001b\\\n",
       "\u001b[2;36m                    \u001b[0m         \u001b[32m'C:\\Users\\PC\\Desktop\\ManimCE1\\media\\videos\\ManimCE1\\720p30\\pa\u001b[0m \u001b[2m                        \u001b[0m\n",
       "\u001b[2;36m                    \u001b[0m         \u001b[32mrtial_movie_files\\PhiCurve1\\3833608645_2909433013_4123315701.\u001b[0m \u001b[2m                        \u001b[0m\n",
       "\u001b[2;36m                    \u001b[0m         \u001b[32mmp4'\u001b[0m                                                          \u001b[2m                        \u001b[0m\n"
      ]
     },
     "metadata": {},
     "output_type": "display_data"
    },
    {
     "data": {
      "text/html": [
       "<pre style=\"white-space:pre;overflow-x:auto;line-height:normal;font-family:Menlo,'DejaVu Sans Mono',consolas,'Courier New',monospace\"><span style=\"color: #7fbfbf; text-decoration-color: #7fbfbf\">                    </span><span style=\"color: #008000; text-decoration-color: #008000\">INFO    </span> Combining to Movie file.                                      <a href=\"file://c:\\Users\\PC\\Desktop\\ManimCE1\\mce\\lib\\site-packages\\manim\\scene\\scene_file_writer.py\" target=\"_blank\"><span style=\"color: #7f7f7f; text-decoration-color: #7f7f7f\">scene_file_writer.py</span></a><span style=\"color: #7f7f7f; text-decoration-color: #7f7f7f\">:</span><a href=\"file://c:\\Users\\PC\\Desktop\\ManimCE1\\mce\\lib\\site-packages\\manim\\scene\\scene_file_writer.py#617\" target=\"_blank\"><span style=\"color: #7f7f7f; text-decoration-color: #7f7f7f\">617</span></a>\n",
       "</pre>\n"
      ],
      "text/plain": [
       "\u001b[2;36m                   \u001b[0m\u001b[2;36m \u001b[0m\u001b[32mINFO    \u001b[0m Combining to Movie file.                                      \u001b]8;id=160789;file://c:\\Users\\PC\\Desktop\\ManimCE1\\mce\\lib\\site-packages\\manim\\scene\\scene_file_writer.py\u001b\\\u001b[2mscene_file_writer.py\u001b[0m\u001b]8;;\u001b\\\u001b[2m:\u001b[0m\u001b]8;id=484685;file://c:\\Users\\PC\\Desktop\\ManimCE1\\mce\\lib\\site-packages\\manim\\scene\\scene_file_writer.py#617\u001b\\\u001b[2m617\u001b[0m\u001b]8;;\u001b\\\n"
      ]
     },
     "metadata": {},
     "output_type": "display_data"
    },
    {
     "data": {
      "text/html": [
       "<pre style=\"white-space:pre;overflow-x:auto;line-height:normal;font-family:Menlo,'DejaVu Sans Mono',consolas,'Courier New',monospace\"><span style=\"color: #7fbfbf; text-decoration-color: #7fbfbf\">                    </span><span style=\"color: #008000; text-decoration-color: #008000\">INFO    </span>                                                               <a href=\"file://c:\\Users\\PC\\Desktop\\ManimCE1\\mce\\lib\\site-packages\\manim\\scene\\scene_file_writer.py\" target=\"_blank\"><span style=\"color: #7f7f7f; text-decoration-color: #7f7f7f\">scene_file_writer.py</span></a><span style=\"color: #7f7f7f; text-decoration-color: #7f7f7f\">:</span><a href=\"file://c:\\Users\\PC\\Desktop\\ManimCE1\\mce\\lib\\site-packages\\manim\\scene\\scene_file_writer.py#736\" target=\"_blank\"><span style=\"color: #7f7f7f; text-decoration-color: #7f7f7f\">736</span></a>\n",
       "<span style=\"color: #7fbfbf; text-decoration-color: #7fbfbf\">                    </span>         <span style=\"color: #808000; text-decoration-color: #808000; font-weight: bold\">File</span> ready at                                                 <span style=\"color: #7f7f7f; text-decoration-color: #7f7f7f\">                        </span>\n",
       "<span style=\"color: #7fbfbf; text-decoration-color: #7fbfbf\">                    </span>         <span style=\"color: #008000; text-decoration-color: #008000\">'C:\\Users\\PC\\Desktop\\ManimCE1\\media\\videos\\ManimCE1\\720p30\\Ph</span> <span style=\"color: #7f7f7f; text-decoration-color: #7f7f7f\">                        </span>\n",
       "<span style=\"color: #7fbfbf; text-decoration-color: #7fbfbf\">                    </span>         <span style=\"color: #008000; text-decoration-color: #008000\">iCurve1.mp4'</span>                                                  <span style=\"color: #7f7f7f; text-decoration-color: #7f7f7f\">                        </span>\n",
       "<span style=\"color: #7fbfbf; text-decoration-color: #7fbfbf\">                    </span>                                                                       <span style=\"color: #7f7f7f; text-decoration-color: #7f7f7f\">                        </span>\n",
       "</pre>\n"
      ],
      "text/plain": [
       "\u001b[2;36m                   \u001b[0m\u001b[2;36m \u001b[0m\u001b[32mINFO    \u001b[0m                                                               \u001b]8;id=488777;file://c:\\Users\\PC\\Desktop\\ManimCE1\\mce\\lib\\site-packages\\manim\\scene\\scene_file_writer.py\u001b\\\u001b[2mscene_file_writer.py\u001b[0m\u001b]8;;\u001b\\\u001b[2m:\u001b[0m\u001b]8;id=76755;file://c:\\Users\\PC\\Desktop\\ManimCE1\\mce\\lib\\site-packages\\manim\\scene\\scene_file_writer.py#736\u001b\\\u001b[2m736\u001b[0m\u001b]8;;\u001b\\\n",
       "\u001b[2;36m                    \u001b[0m         \u001b[1;33mFile\u001b[0m ready at                                                 \u001b[2m                        \u001b[0m\n",
       "\u001b[2;36m                    \u001b[0m         \u001b[32m'C:\\Users\\PC\\Desktop\\ManimCE1\\media\\videos\\ManimCE1\\720p30\\Ph\u001b[0m \u001b[2m                        \u001b[0m\n",
       "\u001b[2;36m                    \u001b[0m         \u001b[32miCurve1.mp4'\u001b[0m                                                  \u001b[2m                        \u001b[0m\n",
       "\u001b[2;36m                    \u001b[0m                                                                       \u001b[2m                        \u001b[0m\n"
      ]
     },
     "metadata": {},
     "output_type": "display_data"
    },
    {
     "data": {
      "text/html": [
       "<pre style=\"white-space:pre;overflow-x:auto;line-height:normal;font-family:Menlo,'DejaVu Sans Mono',consolas,'Courier New',monospace\"><span style=\"color: #7fbfbf; text-decoration-color: #7fbfbf\">                    </span><span style=\"color: #008000; text-decoration-color: #008000\">INFO    </span> <span style=\"color: #808000; text-decoration-color: #808000; font-weight: bold\">Rendered</span> PhiCurve1                                                        <a href=\"file://c:\\Users\\PC\\Desktop\\ManimCE1\\mce\\lib\\site-packages\\manim\\scene\\scene.py\" target=\"_blank\"><span style=\"color: #7f7f7f; text-decoration-color: #7f7f7f\">scene.py</span></a><span style=\"color: #7f7f7f; text-decoration-color: #7f7f7f\">:</span><a href=\"file://c:\\Users\\PC\\Desktop\\ManimCE1\\mce\\lib\\site-packages\\manim\\scene\\scene.py#241\" target=\"_blank\"><span style=\"color: #7f7f7f; text-decoration-color: #7f7f7f\">241</span></a>\n",
       "<span style=\"color: #7fbfbf; text-decoration-color: #7fbfbf\">                    </span>         <span style=\"color: #808000; text-decoration-color: #808000; font-weight: bold\">Played</span> <span style=\"color: #008000; text-decoration-color: #008000\">1</span> <span style=\"color: #808000; text-decoration-color: #808000; font-weight: bold\">animations</span>                                                       <span style=\"color: #7f7f7f; text-decoration-color: #7f7f7f\">            </span>\n",
       "</pre>\n"
      ],
      "text/plain": [
       "\u001b[2;36m                   \u001b[0m\u001b[2;36m \u001b[0m\u001b[32mINFO    \u001b[0m \u001b[1;33mRendered\u001b[0m PhiCurve1                                                        \u001b]8;id=572695;file://c:\\Users\\PC\\Desktop\\ManimCE1\\mce\\lib\\site-packages\\manim\\scene\\scene.py\u001b\\\u001b[2mscene.py\u001b[0m\u001b]8;;\u001b\\\u001b[2m:\u001b[0m\u001b]8;id=390405;file://c:\\Users\\PC\\Desktop\\ManimCE1\\mce\\lib\\site-packages\\manim\\scene\\scene.py#241\u001b\\\u001b[2m241\u001b[0m\u001b]8;;\u001b\\\n",
       "\u001b[2;36m                    \u001b[0m         \u001b[1;33mPlayed\u001b[0m \u001b[32m1\u001b[0m \u001b[1;33manimations\u001b[0m                                                       \u001b[2m            \u001b[0m\n"
      ]
     },
     "metadata": {},
     "output_type": "display_data"
    },
    {
     "data": {
      "text/html": [
       "<video src=\"media\\jupyter\\PhiCurve1@2023-10-28@23-09-24.mp4\" controls autoplay loop style=\"max-width: 50%;\"  >\n",
       "      Your browser does not support the <code>video</code> element.\n",
       "    </video>"
      ],
      "text/plain": [
       "<IPython.core.display.Video object>"
      ]
     },
     "metadata": {},
     "output_type": "display_data"
    }
   ],
   "source": [
    "%%manim -qm PhiCurve1\n",
    "\n",
    "class PhiCurve1(ThreeDScene):\n",
    "    def construct(self):\n",
    "        # Define the function phi(u, v)\n",
    "        def phi(u, v):\n",
    "            return u**2 + v**2\n",
    "\n",
    "        # Surface representing phi(u, v)\n",
    "        u_range = [0, 2]\n",
    "        v_range = [0, 2]\n",
    "        surface = Surface(\n",
    "            lambda u, v: np.array([u, v, phi(u, v)]),\n",
    "            u_range=u_range,\n",
    "            v_range=v_range,\n",
    "            resolution=(40, 40)\n",
    "        ).set_opacity(0.6)\n",
    "\n",
    "        # Initial point (u, v)\n",
    "        initialPoint = np.array([1, 1, phi(1, 1)])\n",
    "        initialDot = Dot3D(initialPoint, color=RED, radius=0.1)\n",
    "\n",
    "        # New point after increasing u by du\n",
    "        du = 0.1\n",
    "        newPoint = np.array([1 + du, 1, phi(1 + du, 1)])\n",
    "        newDot = Dot3D(newPoint, color=BLUE, radius=0.1)\n",
    "\n",
    "        # Dashed line connecting the two points\n",
    "        line = DashedLine(initialPoint, newPoint)\n",
    "\n",
    "        # Add objects to the scene\n",
    "        self.add(surface, initialDot, newDot, line)\n",
    "        self.set_camera_orientation(phi=60 * DEGREES, theta=-60 * DEGREES)\n",
    "        self.begin_ambient_camera_rotation(rate=0.1)  # Slow rotation for better visualization\n",
    "        self.wait(5)  # Let the scene play for 5 seconds"
   ]
  },
  {
   "cell_type": "code",
   "execution_count": 21,
   "metadata": {},
   "outputs": [
    {
     "data": {
      "text/html": [
       "<pre style=\"white-space:pre;overflow-x:auto;line-height:normal;font-family:Menlo,'DejaVu Sans Mono',consolas,'Courier New',monospace\"><span style=\"color: #7fbfbf; text-decoration-color: #7fbfbf\">[10/29/23 00:11:17] </span><span style=\"color: #008000; text-decoration-color: #008000\">INFO    </span> Animation <span style=\"color: #008000; text-decoration-color: #008000\">0</span> : Using cached data <span style=\"font-weight: bold\">(</span>hash :                           <a href=\"file://c:\\Users\\PC\\Desktop\\ManimCE1\\mce\\lib\\site-packages\\manim\\renderer\\cairo_renderer.py\" target=\"_blank\"><span style=\"color: #7f7f7f; text-decoration-color: #7f7f7f\">cairo_renderer.py</span></a><span style=\"color: #7f7f7f; text-decoration-color: #7f7f7f\">:</span><a href=\"file://c:\\Users\\PC\\Desktop\\ManimCE1\\mce\\lib\\site-packages\\manim\\renderer\\cairo_renderer.py#78\" target=\"_blank\"><span style=\"color: #7f7f7f; text-decoration-color: #7f7f7f\">78</span></a>\n",
       "<span style=\"color: #7fbfbf; text-decoration-color: #7fbfbf\">                    </span>         2386833278_3780697937_693446142<span style=\"font-weight: bold\">)</span>                                  <span style=\"color: #7f7f7f; text-decoration-color: #7f7f7f\">                    </span>\n",
       "</pre>\n"
      ],
      "text/plain": [
       "\u001b[2;36m[10/29/23 00:11:17]\u001b[0m\u001b[2;36m \u001b[0m\u001b[32mINFO    \u001b[0m Animation \u001b[32m0\u001b[0m : Using cached data \u001b[1m(\u001b[0mhash :                           \u001b]8;id=630303;file://c:\\Users\\PC\\Desktop\\ManimCE1\\mce\\lib\\site-packages\\manim\\renderer\\cairo_renderer.py\u001b\\\u001b[2mcairo_renderer.py\u001b[0m\u001b]8;;\u001b\\\u001b[2m:\u001b[0m\u001b]8;id=286013;file://c:\\Users\\PC\\Desktop\\ManimCE1\\mce\\lib\\site-packages\\manim\\renderer\\cairo_renderer.py#78\u001b\\\u001b[2m78\u001b[0m\u001b]8;;\u001b\\\n",
       "\u001b[2;36m                    \u001b[0m         2386833278_3780697937_693446142\u001b[1m)\u001b[0m                                  \u001b[2m                    \u001b[0m\n"
      ]
     },
     "metadata": {},
     "output_type": "display_data"
    },
    {
     "name": "stderr",
     "output_type": "stream",
     "text": [
      "                                                                                                  \r"
     ]
    },
    {
     "data": {
      "text/html": [
       "<pre style=\"white-space:pre;overflow-x:auto;line-height:normal;font-family:Menlo,'DejaVu Sans Mono',consolas,'Courier New',monospace\"><span style=\"color: #7fbfbf; text-decoration-color: #7fbfbf\">[10/29/23 00:11:22] </span><span style=\"color: #008000; text-decoration-color: #008000\">INFO    </span> Animation <span style=\"color: #008000; text-decoration-color: #008000\">1</span> : Partial movie file written in                   <a href=\"file://c:\\Users\\PC\\Desktop\\ManimCE1\\mce\\lib\\site-packages\\manim\\scene\\scene_file_writer.py\" target=\"_blank\"><span style=\"color: #7f7f7f; text-decoration-color: #7f7f7f\">scene_file_writer.py</span></a><span style=\"color: #7f7f7f; text-decoration-color: #7f7f7f\">:</span><a href=\"file://c:\\Users\\PC\\Desktop\\ManimCE1\\mce\\lib\\site-packages\\manim\\scene\\scene_file_writer.py#527\" target=\"_blank\"><span style=\"color: #7f7f7f; text-decoration-color: #7f7f7f\">527</span></a>\n",
       "<span style=\"color: #7fbfbf; text-decoration-color: #7fbfbf\">                    </span>         <span style=\"color: #008000; text-decoration-color: #008000\">'C:\\Users\\PC\\Desktop\\ManimCE1\\media\\videos\\ManimCE1\\720p30\\pa</span> <span style=\"color: #7f7f7f; text-decoration-color: #7f7f7f\">                        </span>\n",
       "<span style=\"color: #7fbfbf; text-decoration-color: #7fbfbf\">                    </span>         <span style=\"color: #008000; text-decoration-color: #008000\">rtial_movie_files\\PhiCurve1\\2041548254_957343386_2922688433.m</span> <span style=\"color: #7f7f7f; text-decoration-color: #7f7f7f\">                        </span>\n",
       "<span style=\"color: #7fbfbf; text-decoration-color: #7fbfbf\">                    </span>         <span style=\"color: #008000; text-decoration-color: #008000\">p4'</span>                                                           <span style=\"color: #7f7f7f; text-decoration-color: #7f7f7f\">                        </span>\n",
       "</pre>\n"
      ],
      "text/plain": [
       "\u001b[2;36m[10/29/23 00:11:22]\u001b[0m\u001b[2;36m \u001b[0m\u001b[32mINFO    \u001b[0m Animation \u001b[32m1\u001b[0m : Partial movie file written in                   \u001b]8;id=22050;file://c:\\Users\\PC\\Desktop\\ManimCE1\\mce\\lib\\site-packages\\manim\\scene\\scene_file_writer.py\u001b\\\u001b[2mscene_file_writer.py\u001b[0m\u001b]8;;\u001b\\\u001b[2m:\u001b[0m\u001b]8;id=951329;file://c:\\Users\\PC\\Desktop\\ManimCE1\\mce\\lib\\site-packages\\manim\\scene\\scene_file_writer.py#527\u001b\\\u001b[2m527\u001b[0m\u001b]8;;\u001b\\\n",
       "\u001b[2;36m                    \u001b[0m         \u001b[32m'C:\\Users\\PC\\Desktop\\ManimCE1\\media\\videos\\ManimCE1\\720p30\\pa\u001b[0m \u001b[2m                        \u001b[0m\n",
       "\u001b[2;36m                    \u001b[0m         \u001b[32mrtial_movie_files\\PhiCurve1\\2041548254_957343386_2922688433.m\u001b[0m \u001b[2m                        \u001b[0m\n",
       "\u001b[2;36m                    \u001b[0m         \u001b[32mp4'\u001b[0m                                                           \u001b[2m                        \u001b[0m\n"
      ]
     },
     "metadata": {},
     "output_type": "display_data"
    },
    {
     "data": {
      "text/html": [
       "<pre style=\"white-space:pre;overflow-x:auto;line-height:normal;font-family:Menlo,'DejaVu Sans Mono',consolas,'Courier New',monospace\"><span style=\"color: #7fbfbf; text-decoration-color: #7fbfbf\">                    </span><span style=\"color: #008000; text-decoration-color: #008000\">INFO    </span> Combining to Movie file.                                      <a href=\"file://c:\\Users\\PC\\Desktop\\ManimCE1\\mce\\lib\\site-packages\\manim\\scene\\scene_file_writer.py\" target=\"_blank\"><span style=\"color: #7f7f7f; text-decoration-color: #7f7f7f\">scene_file_writer.py</span></a><span style=\"color: #7f7f7f; text-decoration-color: #7f7f7f\">:</span><a href=\"file://c:\\Users\\PC\\Desktop\\ManimCE1\\mce\\lib\\site-packages\\manim\\scene\\scene_file_writer.py#617\" target=\"_blank\"><span style=\"color: #7f7f7f; text-decoration-color: #7f7f7f\">617</span></a>\n",
       "</pre>\n"
      ],
      "text/plain": [
       "\u001b[2;36m                   \u001b[0m\u001b[2;36m \u001b[0m\u001b[32mINFO    \u001b[0m Combining to Movie file.                                      \u001b]8;id=637474;file://c:\\Users\\PC\\Desktop\\ManimCE1\\mce\\lib\\site-packages\\manim\\scene\\scene_file_writer.py\u001b\\\u001b[2mscene_file_writer.py\u001b[0m\u001b]8;;\u001b\\\u001b[2m:\u001b[0m\u001b]8;id=620675;file://c:\\Users\\PC\\Desktop\\ManimCE1\\mce\\lib\\site-packages\\manim\\scene\\scene_file_writer.py#617\u001b\\\u001b[2m617\u001b[0m\u001b]8;;\u001b\\\n"
      ]
     },
     "metadata": {},
     "output_type": "display_data"
    },
    {
     "data": {
      "text/html": [
       "<pre style=\"white-space:pre;overflow-x:auto;line-height:normal;font-family:Menlo,'DejaVu Sans Mono',consolas,'Courier New',monospace\"><span style=\"color: #7fbfbf; text-decoration-color: #7fbfbf\">                    </span><span style=\"color: #008000; text-decoration-color: #008000\">INFO    </span>                                                               <a href=\"file://c:\\Users\\PC\\Desktop\\ManimCE1\\mce\\lib\\site-packages\\manim\\scene\\scene_file_writer.py\" target=\"_blank\"><span style=\"color: #7f7f7f; text-decoration-color: #7f7f7f\">scene_file_writer.py</span></a><span style=\"color: #7f7f7f; text-decoration-color: #7f7f7f\">:</span><a href=\"file://c:\\Users\\PC\\Desktop\\ManimCE1\\mce\\lib\\site-packages\\manim\\scene\\scene_file_writer.py#736\" target=\"_blank\"><span style=\"color: #7f7f7f; text-decoration-color: #7f7f7f\">736</span></a>\n",
       "<span style=\"color: #7fbfbf; text-decoration-color: #7fbfbf\">                    </span>         <span style=\"color: #808000; text-decoration-color: #808000; font-weight: bold\">File</span> ready at                                                 <span style=\"color: #7f7f7f; text-decoration-color: #7f7f7f\">                        </span>\n",
       "<span style=\"color: #7fbfbf; text-decoration-color: #7fbfbf\">                    </span>         <span style=\"color: #008000; text-decoration-color: #008000\">'C:\\Users\\PC\\Desktop\\ManimCE1\\media\\videos\\ManimCE1\\720p30\\Ph</span> <span style=\"color: #7f7f7f; text-decoration-color: #7f7f7f\">                        </span>\n",
       "<span style=\"color: #7fbfbf; text-decoration-color: #7fbfbf\">                    </span>         <span style=\"color: #008000; text-decoration-color: #008000\">iCurve1.mp4'</span>                                                  <span style=\"color: #7f7f7f; text-decoration-color: #7f7f7f\">                        </span>\n",
       "<span style=\"color: #7fbfbf; text-decoration-color: #7fbfbf\">                    </span>                                                                       <span style=\"color: #7f7f7f; text-decoration-color: #7f7f7f\">                        </span>\n",
       "</pre>\n"
      ],
      "text/plain": [
       "\u001b[2;36m                   \u001b[0m\u001b[2;36m \u001b[0m\u001b[32mINFO    \u001b[0m                                                               \u001b]8;id=498891;file://c:\\Users\\PC\\Desktop\\ManimCE1\\mce\\lib\\site-packages\\manim\\scene\\scene_file_writer.py\u001b\\\u001b[2mscene_file_writer.py\u001b[0m\u001b]8;;\u001b\\\u001b[2m:\u001b[0m\u001b]8;id=889812;file://c:\\Users\\PC\\Desktop\\ManimCE1\\mce\\lib\\site-packages\\manim\\scene\\scene_file_writer.py#736\u001b\\\u001b[2m736\u001b[0m\u001b]8;;\u001b\\\n",
       "\u001b[2;36m                    \u001b[0m         \u001b[1;33mFile\u001b[0m ready at                                                 \u001b[2m                        \u001b[0m\n",
       "\u001b[2;36m                    \u001b[0m         \u001b[32m'C:\\Users\\PC\\Desktop\\ManimCE1\\media\\videos\\ManimCE1\\720p30\\Ph\u001b[0m \u001b[2m                        \u001b[0m\n",
       "\u001b[2;36m                    \u001b[0m         \u001b[32miCurve1.mp4'\u001b[0m                                                  \u001b[2m                        \u001b[0m\n",
       "\u001b[2;36m                    \u001b[0m                                                                       \u001b[2m                        \u001b[0m\n"
      ]
     },
     "metadata": {},
     "output_type": "display_data"
    },
    {
     "data": {
      "text/html": [
       "<pre style=\"white-space:pre;overflow-x:auto;line-height:normal;font-family:Menlo,'DejaVu Sans Mono',consolas,'Courier New',monospace\"><span style=\"color: #7fbfbf; text-decoration-color: #7fbfbf\">                    </span><span style=\"color: #008000; text-decoration-color: #008000\">INFO    </span> <span style=\"color: #808000; text-decoration-color: #808000; font-weight: bold\">Rendered</span> PhiCurve1                                                        <a href=\"file://c:\\Users\\PC\\Desktop\\ManimCE1\\mce\\lib\\site-packages\\manim\\scene\\scene.py\" target=\"_blank\"><span style=\"color: #7f7f7f; text-decoration-color: #7f7f7f\">scene.py</span></a><span style=\"color: #7f7f7f; text-decoration-color: #7f7f7f\">:</span><a href=\"file://c:\\Users\\PC\\Desktop\\ManimCE1\\mce\\lib\\site-packages\\manim\\scene\\scene.py#241\" target=\"_blank\"><span style=\"color: #7f7f7f; text-decoration-color: #7f7f7f\">241</span></a>\n",
       "<span style=\"color: #7fbfbf; text-decoration-color: #7fbfbf\">                    </span>         <span style=\"color: #808000; text-decoration-color: #808000; font-weight: bold\">Played</span> <span style=\"color: #008000; text-decoration-color: #008000\">2</span> <span style=\"color: #808000; text-decoration-color: #808000; font-weight: bold\">animations</span>                                                       <span style=\"color: #7f7f7f; text-decoration-color: #7f7f7f\">            </span>\n",
       "</pre>\n"
      ],
      "text/plain": [
       "\u001b[2;36m                   \u001b[0m\u001b[2;36m \u001b[0m\u001b[32mINFO    \u001b[0m \u001b[1;33mRendered\u001b[0m PhiCurve1                                                        \u001b]8;id=987787;file://c:\\Users\\PC\\Desktop\\ManimCE1\\mce\\lib\\site-packages\\manim\\scene\\scene.py\u001b\\\u001b[2mscene.py\u001b[0m\u001b]8;;\u001b\\\u001b[2m:\u001b[0m\u001b]8;id=859716;file://c:\\Users\\PC\\Desktop\\ManimCE1\\mce\\lib\\site-packages\\manim\\scene\\scene.py#241\u001b\\\u001b[2m241\u001b[0m\u001b]8;;\u001b\\\n",
       "\u001b[2;36m                    \u001b[0m         \u001b[1;33mPlayed\u001b[0m \u001b[32m2\u001b[0m \u001b[1;33manimations\u001b[0m                                                       \u001b[2m            \u001b[0m\n"
      ]
     },
     "metadata": {},
     "output_type": "display_data"
    },
    {
     "data": {
      "text/html": [
       "<video src=\"media\\jupyter\\PhiCurve1@2023-10-29@00-11-22.mp4\" controls autoplay loop style=\"max-width: 100%;\"  >\n",
       "      Your browser does not support the <code>video</code> element.\n",
       "    </video>"
      ],
      "text/plain": [
       "<IPython.core.display.Video object>"
      ]
     },
     "metadata": {},
     "output_type": "display_data"
    }
   ],
   "source": [
    "%%manim -qm PhiCurve1\n",
    "config.media_width = \"100%\"\n",
    "\n",
    "class PhiCurve1(ThreeDScene):\n",
    "    def construct(self):\n",
    "        # Define the function phi(u, v)\n",
    "        def phi(u, v):\n",
    "            return u**2 + v**2\n",
    "\n",
    "        # Surface representing phi(u, v)\n",
    "        u_range = [0, 2]\n",
    "        v_range = [0, 2]\n",
    "        surface = Surface(\n",
    "            lambda u, v: np.array([u, v, phi(u, v)]),\n",
    "            u_range=u_range,\n",
    "            v_range=v_range,\n",
    "            resolution=(40, 40)\n",
    "        ).set_opacity(0.6)\n",
    "\n",
    "        # Initial point (u, v)\n",
    "        initialPoint = np.array([1, 1, phi(1, 1)])\n",
    "        initialDot = Dot3D(initialPoint, color=RED, radius=0.1)\n",
    "\n",
    "        # New point after increasing u by du\n",
    "        du = 0.1\n",
    "        newPoint = np.array([1 + du, 1, phi(1 + du, 1)])\n",
    "        newDot = Dot3D(newPoint, color=BLUE, radius=0.1)\n",
    "\n",
    "        # Trajectory for movement\n",
    "        trajectory = Line(initialPoint, newPoint)\n",
    "\n",
    "        # Axes\n",
    "        axes = ThreeDAxes()\n",
    "\n",
    "        # Animation for moving the dot\n",
    "        moveDot = MoveAlongPath(initialDot, trajectory)\n",
    "\n",
    "        # Add objects to the scene\n",
    "        self.add(surface, initialDot, axes)\n",
    "        self.set_camera_orientation(phi=45 * DEGREES, theta=45 * DEGREES)\n",
    "        self.play(moveDot)\n",
    "        self.add(newDot)\n",
    "        self.wait(2)  # Let the scene play for 2 seconds"
   ]
  },
  {
   "cell_type": "code",
   "execution_count": 34,
   "metadata": {},
   "outputs": [
    {
     "name": "stderr",
     "output_type": "stream",
     "text": [
      "                                                                                                      \r"
     ]
    },
    {
     "data": {
      "text/html": [
       "<pre style=\"white-space:pre;overflow-x:auto;line-height:normal;font-family:Menlo,'DejaVu Sans Mono',consolas,'Courier New',monospace\"><span style=\"color: #7fbfbf; text-decoration-color: #7fbfbf\">[10/29/23 01:24:31] </span><span style=\"color: #008000; text-decoration-color: #008000\">INFO    </span> Animation <span style=\"color: #008000; text-decoration-color: #008000\">0</span> : Partial movie file written in                   <a href=\"file://c:\\Users\\PC\\Desktop\\ManimCE1\\mce\\lib\\site-packages\\manim\\scene\\scene_file_writer.py\" target=\"_blank\"><span style=\"color: #7f7f7f; text-decoration-color: #7f7f7f\">scene_file_writer.py</span></a><span style=\"color: #7f7f7f; text-decoration-color: #7f7f7f\">:</span><a href=\"file://c:\\Users\\PC\\Desktop\\ManimCE1\\mce\\lib\\site-packages\\manim\\scene\\scene_file_writer.py#527\" target=\"_blank\"><span style=\"color: #7f7f7f; text-decoration-color: #7f7f7f\">527</span></a>\n",
       "<span style=\"color: #7fbfbf; text-decoration-color: #7fbfbf\">                    </span>         <span style=\"color: #008000; text-decoration-color: #008000\">'C:\\Users\\PC\\Desktop\\ManimCE1\\media\\videos\\ManimCE1\\720p30\\pa</span> <span style=\"color: #7f7f7f; text-decoration-color: #7f7f7f\">                        </span>\n",
       "<span style=\"color: #7fbfbf; text-decoration-color: #7fbfbf\">                    </span>         <span style=\"color: #008000; text-decoration-color: #008000\">rtial_movie_files\\PhiCurve2\\3231641593_3766713281_535783471.m</span> <span style=\"color: #7f7f7f; text-decoration-color: #7f7f7f\">                        </span>\n",
       "<span style=\"color: #7fbfbf; text-decoration-color: #7fbfbf\">                    </span>         <span style=\"color: #008000; text-decoration-color: #008000\">p4'</span>                                                           <span style=\"color: #7f7f7f; text-decoration-color: #7f7f7f\">                        </span>\n",
       "</pre>\n"
      ],
      "text/plain": [
       "\u001b[2;36m[10/29/23 01:24:31]\u001b[0m\u001b[2;36m \u001b[0m\u001b[32mINFO    \u001b[0m Animation \u001b[32m0\u001b[0m : Partial movie file written in                   \u001b]8;id=96820;file://c:\\Users\\PC\\Desktop\\ManimCE1\\mce\\lib\\site-packages\\manim\\scene\\scene_file_writer.py\u001b\\\u001b[2mscene_file_writer.py\u001b[0m\u001b]8;;\u001b\\\u001b[2m:\u001b[0m\u001b]8;id=239194;file://c:\\Users\\PC\\Desktop\\ManimCE1\\mce\\lib\\site-packages\\manim\\scene\\scene_file_writer.py#527\u001b\\\u001b[2m527\u001b[0m\u001b]8;;\u001b\\\n",
       "\u001b[2;36m                    \u001b[0m         \u001b[32m'C:\\Users\\PC\\Desktop\\ManimCE1\\media\\videos\\ManimCE1\\720p30\\pa\u001b[0m \u001b[2m                        \u001b[0m\n",
       "\u001b[2;36m                    \u001b[0m         \u001b[32mrtial_movie_files\\PhiCurve2\\3231641593_3766713281_535783471.m\u001b[0m \u001b[2m                        \u001b[0m\n",
       "\u001b[2;36m                    \u001b[0m         \u001b[32mp4'\u001b[0m                                                           \u001b[2m                        \u001b[0m\n"
      ]
     },
     "metadata": {},
     "output_type": "display_data"
    },
    {
     "data": {
      "text/html": [
       "<pre style=\"white-space:pre;overflow-x:auto;line-height:normal;font-family:Menlo,'DejaVu Sans Mono',consolas,'Courier New',monospace\"><span style=\"color: #7fbfbf; text-decoration-color: #7fbfbf\">[10/29/23 01:24:33] </span><span style=\"color: #008000; text-decoration-color: #008000\">INFO    </span> Animation <span style=\"color: #008000; text-decoration-color: #008000\">1</span> : Partial movie file written in                   <a href=\"file://c:\\Users\\PC\\Desktop\\ManimCE1\\mce\\lib\\site-packages\\manim\\scene\\scene_file_writer.py\" target=\"_blank\"><span style=\"color: #7f7f7f; text-decoration-color: #7f7f7f\">scene_file_writer.py</span></a><span style=\"color: #7f7f7f; text-decoration-color: #7f7f7f\">:</span><a href=\"file://c:\\Users\\PC\\Desktop\\ManimCE1\\mce\\lib\\site-packages\\manim\\scene\\scene_file_writer.py#527\" target=\"_blank\"><span style=\"color: #7f7f7f; text-decoration-color: #7f7f7f\">527</span></a>\n",
       "<span style=\"color: #7fbfbf; text-decoration-color: #7fbfbf\">                    </span>         <span style=\"color: #008000; text-decoration-color: #008000\">'C:\\Users\\PC\\Desktop\\ManimCE1\\media\\videos\\ManimCE1\\720p30\\pa</span> <span style=\"color: #7f7f7f; text-decoration-color: #7f7f7f\">                        </span>\n",
       "<span style=\"color: #7fbfbf; text-decoration-color: #7fbfbf\">                    </span>         <span style=\"color: #008000; text-decoration-color: #008000\">rtial_movie_files\\PhiCurve2\\749435400_957343386_4045194331.mp</span> <span style=\"color: #7f7f7f; text-decoration-color: #7f7f7f\">                        </span>\n",
       "<span style=\"color: #7fbfbf; text-decoration-color: #7fbfbf\">                    </span>         <span style=\"color: #008000; text-decoration-color: #008000\">4'</span>                                                            <span style=\"color: #7f7f7f; text-decoration-color: #7f7f7f\">                        </span>\n",
       "</pre>\n"
      ],
      "text/plain": [
       "\u001b[2;36m[10/29/23 01:24:33]\u001b[0m\u001b[2;36m \u001b[0m\u001b[32mINFO    \u001b[0m Animation \u001b[32m1\u001b[0m : Partial movie file written in                   \u001b]8;id=469465;file://c:\\Users\\PC\\Desktop\\ManimCE1\\mce\\lib\\site-packages\\manim\\scene\\scene_file_writer.py\u001b\\\u001b[2mscene_file_writer.py\u001b[0m\u001b]8;;\u001b\\\u001b[2m:\u001b[0m\u001b]8;id=572642;file://c:\\Users\\PC\\Desktop\\ManimCE1\\mce\\lib\\site-packages\\manim\\scene\\scene_file_writer.py#527\u001b\\\u001b[2m527\u001b[0m\u001b]8;;\u001b\\\n",
       "\u001b[2;36m                    \u001b[0m         \u001b[32m'C:\\Users\\PC\\Desktop\\ManimCE1\\media\\videos\\ManimCE1\\720p30\\pa\u001b[0m \u001b[2m                        \u001b[0m\n",
       "\u001b[2;36m                    \u001b[0m         \u001b[32mrtial_movie_files\\PhiCurve2\\749435400_957343386_4045194331.mp\u001b[0m \u001b[2m                        \u001b[0m\n",
       "\u001b[2;36m                    \u001b[0m         \u001b[32m4'\u001b[0m                                                            \u001b[2m                        \u001b[0m\n"
      ]
     },
     "metadata": {},
     "output_type": "display_data"
    },
    {
     "data": {
      "text/html": [
       "<pre style=\"white-space:pre;overflow-x:auto;line-height:normal;font-family:Menlo,'DejaVu Sans Mono',consolas,'Courier New',monospace\"><span style=\"color: #7fbfbf; text-decoration-color: #7fbfbf\">                    </span><span style=\"color: #008000; text-decoration-color: #008000\">INFO    </span> Combining to Movie file.                                      <a href=\"file://c:\\Users\\PC\\Desktop\\ManimCE1\\mce\\lib\\site-packages\\manim\\scene\\scene_file_writer.py\" target=\"_blank\"><span style=\"color: #7f7f7f; text-decoration-color: #7f7f7f\">scene_file_writer.py</span></a><span style=\"color: #7f7f7f; text-decoration-color: #7f7f7f\">:</span><a href=\"file://c:\\Users\\PC\\Desktop\\ManimCE1\\mce\\lib\\site-packages\\manim\\scene\\scene_file_writer.py#617\" target=\"_blank\"><span style=\"color: #7f7f7f; text-decoration-color: #7f7f7f\">617</span></a>\n",
       "</pre>\n"
      ],
      "text/plain": [
       "\u001b[2;36m                   \u001b[0m\u001b[2;36m \u001b[0m\u001b[32mINFO    \u001b[0m Combining to Movie file.                                      \u001b]8;id=136699;file://c:\\Users\\PC\\Desktop\\ManimCE1\\mce\\lib\\site-packages\\manim\\scene\\scene_file_writer.py\u001b\\\u001b[2mscene_file_writer.py\u001b[0m\u001b]8;;\u001b\\\u001b[2m:\u001b[0m\u001b]8;id=921569;file://c:\\Users\\PC\\Desktop\\ManimCE1\\mce\\lib\\site-packages\\manim\\scene\\scene_file_writer.py#617\u001b\\\u001b[2m617\u001b[0m\u001b]8;;\u001b\\\n"
      ]
     },
     "metadata": {},
     "output_type": "display_data"
    },
    {
     "data": {
      "text/html": [
       "<pre style=\"white-space:pre;overflow-x:auto;line-height:normal;font-family:Menlo,'DejaVu Sans Mono',consolas,'Courier New',monospace\"><span style=\"color: #7fbfbf; text-decoration-color: #7fbfbf\">                    </span><span style=\"color: #008000; text-decoration-color: #008000\">INFO    </span>                                                               <a href=\"file://c:\\Users\\PC\\Desktop\\ManimCE1\\mce\\lib\\site-packages\\manim\\scene\\scene_file_writer.py\" target=\"_blank\"><span style=\"color: #7f7f7f; text-decoration-color: #7f7f7f\">scene_file_writer.py</span></a><span style=\"color: #7f7f7f; text-decoration-color: #7f7f7f\">:</span><a href=\"file://c:\\Users\\PC\\Desktop\\ManimCE1\\mce\\lib\\site-packages\\manim\\scene\\scene_file_writer.py#736\" target=\"_blank\"><span style=\"color: #7f7f7f; text-decoration-color: #7f7f7f\">736</span></a>\n",
       "<span style=\"color: #7fbfbf; text-decoration-color: #7fbfbf\">                    </span>         <span style=\"color: #808000; text-decoration-color: #808000; font-weight: bold\">File</span> ready at                                                 <span style=\"color: #7f7f7f; text-decoration-color: #7f7f7f\">                        </span>\n",
       "<span style=\"color: #7fbfbf; text-decoration-color: #7fbfbf\">                    </span>         <span style=\"color: #008000; text-decoration-color: #008000\">'C:\\Users\\PC\\Desktop\\ManimCE1\\media\\videos\\ManimCE1\\720p30\\Ph</span> <span style=\"color: #7f7f7f; text-decoration-color: #7f7f7f\">                        </span>\n",
       "<span style=\"color: #7fbfbf; text-decoration-color: #7fbfbf\">                    </span>         <span style=\"color: #008000; text-decoration-color: #008000\">iCurve2.mp4'</span>                                                  <span style=\"color: #7f7f7f; text-decoration-color: #7f7f7f\">                        </span>\n",
       "<span style=\"color: #7fbfbf; text-decoration-color: #7fbfbf\">                    </span>                                                                       <span style=\"color: #7f7f7f; text-decoration-color: #7f7f7f\">                        </span>\n",
       "</pre>\n"
      ],
      "text/plain": [
       "\u001b[2;36m                   \u001b[0m\u001b[2;36m \u001b[0m\u001b[32mINFO    \u001b[0m                                                               \u001b]8;id=236255;file://c:\\Users\\PC\\Desktop\\ManimCE1\\mce\\lib\\site-packages\\manim\\scene\\scene_file_writer.py\u001b\\\u001b[2mscene_file_writer.py\u001b[0m\u001b]8;;\u001b\\\u001b[2m:\u001b[0m\u001b]8;id=848996;file://c:\\Users\\PC\\Desktop\\ManimCE1\\mce\\lib\\site-packages\\manim\\scene\\scene_file_writer.py#736\u001b\\\u001b[2m736\u001b[0m\u001b]8;;\u001b\\\n",
       "\u001b[2;36m                    \u001b[0m         \u001b[1;33mFile\u001b[0m ready at                                                 \u001b[2m                        \u001b[0m\n",
       "\u001b[2;36m                    \u001b[0m         \u001b[32m'C:\\Users\\PC\\Desktop\\ManimCE1\\media\\videos\\ManimCE1\\720p30\\Ph\u001b[0m \u001b[2m                        \u001b[0m\n",
       "\u001b[2;36m                    \u001b[0m         \u001b[32miCurve2.mp4'\u001b[0m                                                  \u001b[2m                        \u001b[0m\n",
       "\u001b[2;36m                    \u001b[0m                                                                       \u001b[2m                        \u001b[0m\n"
      ]
     },
     "metadata": {},
     "output_type": "display_data"
    },
    {
     "data": {
      "text/html": [
       "<pre style=\"white-space:pre;overflow-x:auto;line-height:normal;font-family:Menlo,'DejaVu Sans Mono',consolas,'Courier New',monospace\"><span style=\"color: #7fbfbf; text-decoration-color: #7fbfbf\">                    </span><span style=\"color: #008000; text-decoration-color: #008000\">INFO    </span> <span style=\"color: #808000; text-decoration-color: #808000; font-weight: bold\">Rendered</span> PhiCurve2                                                        <a href=\"file://c:\\Users\\PC\\Desktop\\ManimCE1\\mce\\lib\\site-packages\\manim\\scene\\scene.py\" target=\"_blank\"><span style=\"color: #7f7f7f; text-decoration-color: #7f7f7f\">scene.py</span></a><span style=\"color: #7f7f7f; text-decoration-color: #7f7f7f\">:</span><a href=\"file://c:\\Users\\PC\\Desktop\\ManimCE1\\mce\\lib\\site-packages\\manim\\scene\\scene.py#241\" target=\"_blank\"><span style=\"color: #7f7f7f; text-decoration-color: #7f7f7f\">241</span></a>\n",
       "<span style=\"color: #7fbfbf; text-decoration-color: #7fbfbf\">                    </span>         <span style=\"color: #808000; text-decoration-color: #808000; font-weight: bold\">Played</span> <span style=\"color: #008000; text-decoration-color: #008000\">2</span> <span style=\"color: #808000; text-decoration-color: #808000; font-weight: bold\">animations</span>                                                       <span style=\"color: #7f7f7f; text-decoration-color: #7f7f7f\">            </span>\n",
       "</pre>\n"
      ],
      "text/plain": [
       "\u001b[2;36m                   \u001b[0m\u001b[2;36m \u001b[0m\u001b[32mINFO    \u001b[0m \u001b[1;33mRendered\u001b[0m PhiCurve2                                                        \u001b]8;id=982816;file://c:\\Users\\PC\\Desktop\\ManimCE1\\mce\\lib\\site-packages\\manim\\scene\\scene.py\u001b\\\u001b[2mscene.py\u001b[0m\u001b]8;;\u001b\\\u001b[2m:\u001b[0m\u001b]8;id=229419;file://c:\\Users\\PC\\Desktop\\ManimCE1\\mce\\lib\\site-packages\\manim\\scene\\scene.py#241\u001b\\\u001b[2m241\u001b[0m\u001b]8;;\u001b\\\n",
       "\u001b[2;36m                    \u001b[0m         \u001b[1;33mPlayed\u001b[0m \u001b[32m2\u001b[0m \u001b[1;33manimations\u001b[0m                                                       \u001b[2m            \u001b[0m\n"
      ]
     },
     "metadata": {},
     "output_type": "display_data"
    },
    {
     "data": {
      "text/html": [
       "<video src=\"media\\jupyter\\PhiCurve2@2023-10-29@01-24-33.mp4\" controls autoplay loop style=\"max-width: 100%;\"  >\n",
       "      Your browser does not support the <code>video</code> element.\n",
       "    </video>"
      ],
      "text/plain": [
       "<IPython.core.display.Video object>"
      ]
     },
     "metadata": {},
     "output_type": "display_data"
    }
   ],
   "source": [
    "%%manim -qm PhiCurve2\n",
    "\n",
    "class PhiCurve2(ThreeDScene):\n",
    "    def construct(self):\n",
    "        # Define the function phi(u, v)\n",
    "        def phi(u, v):\n",
    "            return u**2 + v**2\n",
    "\n",
    "        # Surface representing phi(u, v)\n",
    "        u_range = [0, 2]\n",
    "        v_range = [0, 2]\n",
    "        surface = Surface(\n",
    "            lambda u, v: np.array([u, v, phi(u, v)]),\n",
    "            u_range=u_range,\n",
    "            v_range=v_range,\n",
    "            resolution=(10, 10)\n",
    "        ).set_opacity(0.6)\n",
    "\n",
    "        # Initial point (u, v)\n",
    "        initialPoint = np.array([1, 1, phi(1, 1)])\n",
    "        initialDot = Dot3D(initialPoint, color=RED, radius=0.05)\n",
    "\n",
    "        # Dot to be animated\n",
    "        movingDot = Dot3D(initialPoint, color=BLUE, radius=0.05)\n",
    "\n",
    "        # New point after increasing u by du\n",
    "        du = 0.3\n",
    "        newPoint = np.array([1 + du, 1, phi(1 + du, 1)])\n",
    "\n",
    "        # Trajectory for movement\n",
    "        trajectory = Line(initialPoint, newPoint)\n",
    "\n",
    "        # Axes\n",
    "        axes = ThreeDAxes()\n",
    "\n",
    "        # Animation for moving the dot\n",
    "        moveDot = MoveAlongPath(movingDot, trajectory, rate_func=linear)\n",
    "\n",
    "        # Add objects to the scene\n",
    "        self.add(surface, initialDot, movingDot, axes)\n",
    "        self.set_camera_orientation(phi=45 * DEGREES, theta=50 * DEGREES)\n",
    "        self.play(moveDot, run_time=5)  # Slowing down the movement by increasing the run_time\n",
    "        #self.begin_ambient_camera_rotation(rate=0.1)\n",
    "        self.wait(2)  # Let the scene play for 2 seconds"
   ]
  },
  {
   "cell_type": "code",
   "execution_count": 32,
   "metadata": {},
   "outputs": [
    {
     "name": "stderr",
     "output_type": "stream",
     "text": [
      "                                                                                                      \r"
     ]
    },
    {
     "data": {
      "text/html": [
       "<pre style=\"white-space:pre;overflow-x:auto;line-height:normal;font-family:Menlo,'DejaVu Sans Mono',consolas,'Courier New',monospace\"><span style=\"color: #7fbfbf; text-decoration-color: #7fbfbf\">[10/29/23 01:15:15] </span><span style=\"color: #008000; text-decoration-color: #008000\">INFO    </span> Animation <span style=\"color: #008000; text-decoration-color: #008000\">0</span> : Partial movie file written in                   <a href=\"file://c:\\Users\\PC\\Desktop\\ManimCE1\\mce\\lib\\site-packages\\manim\\scene\\scene_file_writer.py\" target=\"_blank\"><span style=\"color: #7f7f7f; text-decoration-color: #7f7f7f\">scene_file_writer.py</span></a><span style=\"color: #7f7f7f; text-decoration-color: #7f7f7f\">:</span><a href=\"file://c:\\Users\\PC\\Desktop\\ManimCE1\\mce\\lib\\site-packages\\manim\\scene\\scene_file_writer.py#527\" target=\"_blank\"><span style=\"color: #7f7f7f; text-decoration-color: #7f7f7f\">527</span></a>\n",
       "<span style=\"color: #7fbfbf; text-decoration-color: #7fbfbf\">                    </span>         <span style=\"color: #008000; text-decoration-color: #008000\">'C:\\Users\\PC\\Desktop\\ManimCE1\\media\\videos\\ManimCE1\\720p30\\pa</span> <span style=\"color: #7f7f7f; text-decoration-color: #7f7f7f\">                        </span>\n",
       "<span style=\"color: #7fbfbf; text-decoration-color: #7fbfbf\">                    </span>         <span style=\"color: #008000; text-decoration-color: #008000\">rtial_movie_files\\PhiCurve3\\196288705_2226933395_795606760.mp</span> <span style=\"color: #7f7f7f; text-decoration-color: #7f7f7f\">                        </span>\n",
       "<span style=\"color: #7fbfbf; text-decoration-color: #7fbfbf\">                    </span>         <span style=\"color: #008000; text-decoration-color: #008000\">4'</span>                                                            <span style=\"color: #7f7f7f; text-decoration-color: #7f7f7f\">                        </span>\n",
       "</pre>\n"
      ],
      "text/plain": [
       "\u001b[2;36m[10/29/23 01:15:15]\u001b[0m\u001b[2;36m \u001b[0m\u001b[32mINFO    \u001b[0m Animation \u001b[32m0\u001b[0m : Partial movie file written in                   \u001b]8;id=331503;file://c:\\Users\\PC\\Desktop\\ManimCE1\\mce\\lib\\site-packages\\manim\\scene\\scene_file_writer.py\u001b\\\u001b[2mscene_file_writer.py\u001b[0m\u001b]8;;\u001b\\\u001b[2m:\u001b[0m\u001b]8;id=59409;file://c:\\Users\\PC\\Desktop\\ManimCE1\\mce\\lib\\site-packages\\manim\\scene\\scene_file_writer.py#527\u001b\\\u001b[2m527\u001b[0m\u001b]8;;\u001b\\\n",
       "\u001b[2;36m                    \u001b[0m         \u001b[32m'C:\\Users\\PC\\Desktop\\ManimCE1\\media\\videos\\ManimCE1\\720p30\\pa\u001b[0m \u001b[2m                        \u001b[0m\n",
       "\u001b[2;36m                    \u001b[0m         \u001b[32mrtial_movie_files\\PhiCurve3\\196288705_2226933395_795606760.mp\u001b[0m \u001b[2m                        \u001b[0m\n",
       "\u001b[2;36m                    \u001b[0m         \u001b[32m4'\u001b[0m                                                            \u001b[2m                        \u001b[0m\n"
      ]
     },
     "metadata": {},
     "output_type": "display_data"
    },
    {
     "data": {
      "text/html": [
       "<pre style=\"white-space:pre;overflow-x:auto;line-height:normal;font-family:Menlo,'DejaVu Sans Mono',consolas,'Courier New',monospace\"><span style=\"color: #7fbfbf; text-decoration-color: #7fbfbf\">                    </span><span style=\"color: #008000; text-decoration-color: #008000\">INFO    </span> Combining to Movie file.                                      <a href=\"file://c:\\Users\\PC\\Desktop\\ManimCE1\\mce\\lib\\site-packages\\manim\\scene\\scene_file_writer.py\" target=\"_blank\"><span style=\"color: #7f7f7f; text-decoration-color: #7f7f7f\">scene_file_writer.py</span></a><span style=\"color: #7f7f7f; text-decoration-color: #7f7f7f\">:</span><a href=\"file://c:\\Users\\PC\\Desktop\\ManimCE1\\mce\\lib\\site-packages\\manim\\scene\\scene_file_writer.py#617\" target=\"_blank\"><span style=\"color: #7f7f7f; text-decoration-color: #7f7f7f\">617</span></a>\n",
       "</pre>\n"
      ],
      "text/plain": [
       "\u001b[2;36m                   \u001b[0m\u001b[2;36m \u001b[0m\u001b[32mINFO    \u001b[0m Combining to Movie file.                                      \u001b]8;id=753837;file://c:\\Users\\PC\\Desktop\\ManimCE1\\mce\\lib\\site-packages\\manim\\scene\\scene_file_writer.py\u001b\\\u001b[2mscene_file_writer.py\u001b[0m\u001b]8;;\u001b\\\u001b[2m:\u001b[0m\u001b]8;id=760331;file://c:\\Users\\PC\\Desktop\\ManimCE1\\mce\\lib\\site-packages\\manim\\scene\\scene_file_writer.py#617\u001b\\\u001b[2m617\u001b[0m\u001b]8;;\u001b\\\n"
      ]
     },
     "metadata": {},
     "output_type": "display_data"
    },
    {
     "data": {
      "text/html": [
       "<pre style=\"white-space:pre;overflow-x:auto;line-height:normal;font-family:Menlo,'DejaVu Sans Mono',consolas,'Courier New',monospace\"><span style=\"color: #7fbfbf; text-decoration-color: #7fbfbf\">                    </span><span style=\"color: #008000; text-decoration-color: #008000\">INFO    </span>                                                               <a href=\"file://c:\\Users\\PC\\Desktop\\ManimCE1\\mce\\lib\\site-packages\\manim\\scene\\scene_file_writer.py\" target=\"_blank\"><span style=\"color: #7f7f7f; text-decoration-color: #7f7f7f\">scene_file_writer.py</span></a><span style=\"color: #7f7f7f; text-decoration-color: #7f7f7f\">:</span><a href=\"file://c:\\Users\\PC\\Desktop\\ManimCE1\\mce\\lib\\site-packages\\manim\\scene\\scene_file_writer.py#736\" target=\"_blank\"><span style=\"color: #7f7f7f; text-decoration-color: #7f7f7f\">736</span></a>\n",
       "<span style=\"color: #7fbfbf; text-decoration-color: #7fbfbf\">                    </span>         <span style=\"color: #808000; text-decoration-color: #808000; font-weight: bold\">File</span> ready at                                                 <span style=\"color: #7f7f7f; text-decoration-color: #7f7f7f\">                        </span>\n",
       "<span style=\"color: #7fbfbf; text-decoration-color: #7fbfbf\">                    </span>         <span style=\"color: #008000; text-decoration-color: #008000\">'C:\\Users\\PC\\Desktop\\ManimCE1\\media\\videos\\ManimCE1\\720p30\\Ph</span> <span style=\"color: #7f7f7f; text-decoration-color: #7f7f7f\">                        </span>\n",
       "<span style=\"color: #7fbfbf; text-decoration-color: #7fbfbf\">                    </span>         <span style=\"color: #008000; text-decoration-color: #008000\">iCurve3.mp4'</span>                                                  <span style=\"color: #7f7f7f; text-decoration-color: #7f7f7f\">                        </span>\n",
       "<span style=\"color: #7fbfbf; text-decoration-color: #7fbfbf\">                    </span>                                                                       <span style=\"color: #7f7f7f; text-decoration-color: #7f7f7f\">                        </span>\n",
       "</pre>\n"
      ],
      "text/plain": [
       "\u001b[2;36m                   \u001b[0m\u001b[2;36m \u001b[0m\u001b[32mINFO    \u001b[0m                                                               \u001b]8;id=774605;file://c:\\Users\\PC\\Desktop\\ManimCE1\\mce\\lib\\site-packages\\manim\\scene\\scene_file_writer.py\u001b\\\u001b[2mscene_file_writer.py\u001b[0m\u001b]8;;\u001b\\\u001b[2m:\u001b[0m\u001b]8;id=875047;file://c:\\Users\\PC\\Desktop\\ManimCE1\\mce\\lib\\site-packages\\manim\\scene\\scene_file_writer.py#736\u001b\\\u001b[2m736\u001b[0m\u001b]8;;\u001b\\\n",
       "\u001b[2;36m                    \u001b[0m         \u001b[1;33mFile\u001b[0m ready at                                                 \u001b[2m                        \u001b[0m\n",
       "\u001b[2;36m                    \u001b[0m         \u001b[32m'C:\\Users\\PC\\Desktop\\ManimCE1\\media\\videos\\ManimCE1\\720p30\\Ph\u001b[0m \u001b[2m                        \u001b[0m\n",
       "\u001b[2;36m                    \u001b[0m         \u001b[32miCurve3.mp4'\u001b[0m                                                  \u001b[2m                        \u001b[0m\n",
       "\u001b[2;36m                    \u001b[0m                                                                       \u001b[2m                        \u001b[0m\n"
      ]
     },
     "metadata": {},
     "output_type": "display_data"
    },
    {
     "data": {
      "text/html": [
       "<pre style=\"white-space:pre;overflow-x:auto;line-height:normal;font-family:Menlo,'DejaVu Sans Mono',consolas,'Courier New',monospace\"><span style=\"color: #7fbfbf; text-decoration-color: #7fbfbf\">                    </span><span style=\"color: #008000; text-decoration-color: #008000\">INFO    </span> <span style=\"color: #808000; text-decoration-color: #808000; font-weight: bold\">Rendered</span> PhiCurve3                                                        <a href=\"file://c:\\Users\\PC\\Desktop\\ManimCE1\\mce\\lib\\site-packages\\manim\\scene\\scene.py\" target=\"_blank\"><span style=\"color: #7f7f7f; text-decoration-color: #7f7f7f\">scene.py</span></a><span style=\"color: #7f7f7f; text-decoration-color: #7f7f7f\">:</span><a href=\"file://c:\\Users\\PC\\Desktop\\ManimCE1\\mce\\lib\\site-packages\\manim\\scene\\scene.py#241\" target=\"_blank\"><span style=\"color: #7f7f7f; text-decoration-color: #7f7f7f\">241</span></a>\n",
       "<span style=\"color: #7fbfbf; text-decoration-color: #7fbfbf\">                    </span>         <span style=\"color: #808000; text-decoration-color: #808000; font-weight: bold\">Played</span> <span style=\"color: #008000; text-decoration-color: #008000\">1</span> <span style=\"color: #808000; text-decoration-color: #808000; font-weight: bold\">animations</span>                                                       <span style=\"color: #7f7f7f; text-decoration-color: #7f7f7f\">            </span>\n",
       "</pre>\n"
      ],
      "text/plain": [
       "\u001b[2;36m                   \u001b[0m\u001b[2;36m \u001b[0m\u001b[32mINFO    \u001b[0m \u001b[1;33mRendered\u001b[0m PhiCurve3                                                        \u001b]8;id=425499;file://c:\\Users\\PC\\Desktop\\ManimCE1\\mce\\lib\\site-packages\\manim\\scene\\scene.py\u001b\\\u001b[2mscene.py\u001b[0m\u001b]8;;\u001b\\\u001b[2m:\u001b[0m\u001b]8;id=142198;file://c:\\Users\\PC\\Desktop\\ManimCE1\\mce\\lib\\site-packages\\manim\\scene\\scene.py#241\u001b\\\u001b[2m241\u001b[0m\u001b]8;;\u001b\\\n",
       "\u001b[2;36m                    \u001b[0m         \u001b[1;33mPlayed\u001b[0m \u001b[32m1\u001b[0m \u001b[1;33manimations\u001b[0m                                                       \u001b[2m            \u001b[0m\n"
      ]
     },
     "metadata": {},
     "output_type": "display_data"
    },
    {
     "data": {
      "text/html": [
       "<video src=\"media\\jupyter\\PhiCurve3@2023-10-29@01-15-15.mp4\" controls autoplay loop style=\"max-width: 100%;\"  >\n",
       "      Your browser does not support the <code>video</code> element.\n",
       "    </video>"
      ],
      "text/plain": [
       "<IPython.core.display.Video object>"
      ]
     },
     "metadata": {},
     "output_type": "display_data"
    }
   ],
   "source": [
    "%%manim -qm PhiCurve3\n",
    "config.media_width = \"100%\"\n",
    "\n",
    "class PhiCurve3(ThreeDScene):\n",
    "    def construct(self):\n",
    "        # Define the function phi(u, v)\n",
    "        def phi(u, v):\n",
    "            return u**2 + v**2\n",
    "\n",
    "        # Surface representing phi(u, v)\n",
    "        u_range = [0, 1.5]\n",
    "        v_range = [0, 1.5]\n",
    "        surface = Surface(\n",
    "            lambda u, v: np.array([u, v, phi(u, v)]),\n",
    "            u_range=u_range,\n",
    "            v_range=v_range,\n",
    "            resolution=(10, 10)\n",
    "        ).set_opacity(0.6)\n",
    "\n",
    "        # Initial point (u, v)\n",
    "        initialPoint = np.array([1, 1, phi(1, 1)])\n",
    "        initialDot = Dot3D(initialPoint, color=RED, radius=0.05)\n",
    "\n",
    "        # Dot to be animated\n",
    "        movingDot = Dot3D(initialPoint, color=BLUE, radius=0.05)\n",
    "\n",
    "        # New point after increasing u by du\n",
    "        du = 0.3\n",
    "        newPoint = np.array([1 + du, 1, phi(1 + du, 1)])\n",
    "\n",
    "        # Trajectory for movement\n",
    "        trajectory = Line(initialPoint, newPoint)\n",
    "\n",
    "        # Axes\n",
    "        axes = ThreeDAxes()\n",
    "\n",
    "        # Animation for moving the dot\n",
    "        moveDot = MoveAlongPath(movingDot, trajectory, rate_func=linear)\n",
    "\n",
    "        # Add objects to the scene\n",
    "        self.add(surface, initialDot, movingDot, axes)\n",
    "        self.set_camera_orientation(phi=45 * DEGREES, theta=45 * DEGREES)\n",
    "\n",
    "        # Play the animation of moving dot while rotating the camera\n",
    "        self.begin_ambient_camera_rotation(rate=2 * PI / 5)  # One full rotation in 5 seconds\n",
    "        self.play(moveDot, run_time=5)\n",
    "        self.stop_ambient_camera_rotation()"
   ]
  },
  {
   "cell_type": "code",
   "execution_count": 16,
   "metadata": {},
   "outputs": [
    {
     "name": "stderr",
     "output_type": "stream",
     "text": [
      "                                                                                                      \r"
     ]
    },
    {
     "data": {
      "text/html": [
       "<pre style=\"white-space:pre;overflow-x:auto;line-height:normal;font-family:Menlo,'DejaVu Sans Mono',consolas,'Courier New',monospace\"><span style=\"color: #7fbfbf; text-decoration-color: #7fbfbf\">[10/29/23 01:52:16] </span><span style=\"color: #008000; text-decoration-color: #008000\">INFO    </span> Animation <span style=\"color: #008000; text-decoration-color: #008000\">0</span> : Partial movie file written in                   <a href=\"file://c:\\Users\\PC\\Desktop\\ManimCE1\\mce\\lib\\site-packages\\manim\\scene\\scene_file_writer.py\" target=\"_blank\"><span style=\"color: #7f7f7f; text-decoration-color: #7f7f7f\">scene_file_writer.py</span></a><span style=\"color: #7f7f7f; text-decoration-color: #7f7f7f\">:</span><a href=\"file://c:\\Users\\PC\\Desktop\\ManimCE1\\mce\\lib\\site-packages\\manim\\scene\\scene_file_writer.py#527\" target=\"_blank\"><span style=\"color: #7f7f7f; text-decoration-color: #7f7f7f\">527</span></a>\n",
       "<span style=\"color: #7fbfbf; text-decoration-color: #7fbfbf\">                    </span>         <span style=\"color: #008000; text-decoration-color: #008000\">'C:\\Users\\PC\\Desktop\\ManimCE1\\media\\videos\\ManimCE1\\720p30\\pa</span> <span style=\"color: #7f7f7f; text-decoration-color: #7f7f7f\">                        </span>\n",
       "<span style=\"color: #7fbfbf; text-decoration-color: #7fbfbf\">                    </span>         <span style=\"color: #008000; text-decoration-color: #008000\">rtial_movie_files\\PhiCurve3D\\3231641593_1688222735_2963707780</span> <span style=\"color: #7f7f7f; text-decoration-color: #7f7f7f\">                        </span>\n",
       "<span style=\"color: #7fbfbf; text-decoration-color: #7fbfbf\">                    </span>         <span style=\"color: #008000; text-decoration-color: #008000\">.mp4'</span>                                                         <span style=\"color: #7f7f7f; text-decoration-color: #7f7f7f\">                        </span>\n",
       "</pre>\n"
      ],
      "text/plain": [
       "\u001b[2;36m[10/29/23 01:52:16]\u001b[0m\u001b[2;36m \u001b[0m\u001b[32mINFO    \u001b[0m Animation \u001b[32m0\u001b[0m : Partial movie file written in                   \u001b]8;id=878760;file://c:\\Users\\PC\\Desktop\\ManimCE1\\mce\\lib\\site-packages\\manim\\scene\\scene_file_writer.py\u001b\\\u001b[2mscene_file_writer.py\u001b[0m\u001b]8;;\u001b\\\u001b[2m:\u001b[0m\u001b]8;id=535519;file://c:\\Users\\PC\\Desktop\\ManimCE1\\mce\\lib\\site-packages\\manim\\scene\\scene_file_writer.py#527\u001b\\\u001b[2m527\u001b[0m\u001b]8;;\u001b\\\n",
       "\u001b[2;36m                    \u001b[0m         \u001b[32m'C:\\Users\\PC\\Desktop\\ManimCE1\\media\\videos\\ManimCE1\\720p30\\pa\u001b[0m \u001b[2m                        \u001b[0m\n",
       "\u001b[2;36m                    \u001b[0m         \u001b[32mrtial_movie_files\\PhiCurve3D\\3231641593_1688222735_2963707780\u001b[0m \u001b[2m                        \u001b[0m\n",
       "\u001b[2;36m                    \u001b[0m         \u001b[32m.mp4'\u001b[0m                                                         \u001b[2m                        \u001b[0m\n"
      ]
     },
     "metadata": {},
     "output_type": "display_data"
    },
    {
     "data": {
      "text/html": [
       "<pre style=\"white-space:pre;overflow-x:auto;line-height:normal;font-family:Menlo,'DejaVu Sans Mono',consolas,'Courier New',monospace\"><span style=\"color: #7fbfbf; text-decoration-color: #7fbfbf\">                    </span><span style=\"color: #008000; text-decoration-color: #008000\">INFO    </span> Combining to Movie file.                                      <a href=\"file://c:\\Users\\PC\\Desktop\\ManimCE1\\mce\\lib\\site-packages\\manim\\scene\\scene_file_writer.py\" target=\"_blank\"><span style=\"color: #7f7f7f; text-decoration-color: #7f7f7f\">scene_file_writer.py</span></a><span style=\"color: #7f7f7f; text-decoration-color: #7f7f7f\">:</span><a href=\"file://c:\\Users\\PC\\Desktop\\ManimCE1\\mce\\lib\\site-packages\\manim\\scene\\scene_file_writer.py#617\" target=\"_blank\"><span style=\"color: #7f7f7f; text-decoration-color: #7f7f7f\">617</span></a>\n",
       "</pre>\n"
      ],
      "text/plain": [
       "\u001b[2;36m                   \u001b[0m\u001b[2;36m \u001b[0m\u001b[32mINFO    \u001b[0m Combining to Movie file.                                      \u001b]8;id=256249;file://c:\\Users\\PC\\Desktop\\ManimCE1\\mce\\lib\\site-packages\\manim\\scene\\scene_file_writer.py\u001b\\\u001b[2mscene_file_writer.py\u001b[0m\u001b]8;;\u001b\\\u001b[2m:\u001b[0m\u001b]8;id=48956;file://c:\\Users\\PC\\Desktop\\ManimCE1\\mce\\lib\\site-packages\\manim\\scene\\scene_file_writer.py#617\u001b\\\u001b[2m617\u001b[0m\u001b]8;;\u001b\\\n"
      ]
     },
     "metadata": {},
     "output_type": "display_data"
    },
    {
     "data": {
      "text/html": [
       "<pre style=\"white-space:pre;overflow-x:auto;line-height:normal;font-family:Menlo,'DejaVu Sans Mono',consolas,'Courier New',monospace\"><span style=\"color: #7fbfbf; text-decoration-color: #7fbfbf\">                    </span><span style=\"color: #008000; text-decoration-color: #008000\">INFO    </span>                                                               <a href=\"file://c:\\Users\\PC\\Desktop\\ManimCE1\\mce\\lib\\site-packages\\manim\\scene\\scene_file_writer.py\" target=\"_blank\"><span style=\"color: #7f7f7f; text-decoration-color: #7f7f7f\">scene_file_writer.py</span></a><span style=\"color: #7f7f7f; text-decoration-color: #7f7f7f\">:</span><a href=\"file://c:\\Users\\PC\\Desktop\\ManimCE1\\mce\\lib\\site-packages\\manim\\scene\\scene_file_writer.py#736\" target=\"_blank\"><span style=\"color: #7f7f7f; text-decoration-color: #7f7f7f\">736</span></a>\n",
       "<span style=\"color: #7fbfbf; text-decoration-color: #7fbfbf\">                    </span>         <span style=\"color: #808000; text-decoration-color: #808000; font-weight: bold\">File</span> ready at                                                 <span style=\"color: #7f7f7f; text-decoration-color: #7f7f7f\">                        </span>\n",
       "<span style=\"color: #7fbfbf; text-decoration-color: #7fbfbf\">                    </span>         <span style=\"color: #008000; text-decoration-color: #008000\">'C:\\Users\\PC\\Desktop\\ManimCE1\\media\\videos\\ManimCE1\\720p30\\Ph</span> <span style=\"color: #7f7f7f; text-decoration-color: #7f7f7f\">                        </span>\n",
       "<span style=\"color: #7fbfbf; text-decoration-color: #7fbfbf\">                    </span>         <span style=\"color: #008000; text-decoration-color: #008000\">iCurve3D.mp4'</span>                                                 <span style=\"color: #7f7f7f; text-decoration-color: #7f7f7f\">                        </span>\n",
       "<span style=\"color: #7fbfbf; text-decoration-color: #7fbfbf\">                    </span>                                                                       <span style=\"color: #7f7f7f; text-decoration-color: #7f7f7f\">                        </span>\n",
       "</pre>\n"
      ],
      "text/plain": [
       "\u001b[2;36m                   \u001b[0m\u001b[2;36m \u001b[0m\u001b[32mINFO    \u001b[0m                                                               \u001b]8;id=831722;file://c:\\Users\\PC\\Desktop\\ManimCE1\\mce\\lib\\site-packages\\manim\\scene\\scene_file_writer.py\u001b\\\u001b[2mscene_file_writer.py\u001b[0m\u001b]8;;\u001b\\\u001b[2m:\u001b[0m\u001b]8;id=816619;file://c:\\Users\\PC\\Desktop\\ManimCE1\\mce\\lib\\site-packages\\manim\\scene\\scene_file_writer.py#736\u001b\\\u001b[2m736\u001b[0m\u001b]8;;\u001b\\\n",
       "\u001b[2;36m                    \u001b[0m         \u001b[1;33mFile\u001b[0m ready at                                                 \u001b[2m                        \u001b[0m\n",
       "\u001b[2;36m                    \u001b[0m         \u001b[32m'C:\\Users\\PC\\Desktop\\ManimCE1\\media\\videos\\ManimCE1\\720p30\\Ph\u001b[0m \u001b[2m                        \u001b[0m\n",
       "\u001b[2;36m                    \u001b[0m         \u001b[32miCurve3D.mp4'\u001b[0m                                                 \u001b[2m                        \u001b[0m\n",
       "\u001b[2;36m                    \u001b[0m                                                                       \u001b[2m                        \u001b[0m\n"
      ]
     },
     "metadata": {},
     "output_type": "display_data"
    },
    {
     "data": {
      "text/html": [
       "<pre style=\"white-space:pre;overflow-x:auto;line-height:normal;font-family:Menlo,'DejaVu Sans Mono',consolas,'Courier New',monospace\"><span style=\"color: #7fbfbf; text-decoration-color: #7fbfbf\">                    </span><span style=\"color: #008000; text-decoration-color: #008000\">INFO    </span> <span style=\"color: #808000; text-decoration-color: #808000; font-weight: bold\">Rendered</span> PhiCurve3D                                                       <a href=\"file://c:\\Users\\PC\\Desktop\\ManimCE1\\mce\\lib\\site-packages\\manim\\scene\\scene.py\" target=\"_blank\"><span style=\"color: #7f7f7f; text-decoration-color: #7f7f7f\">scene.py</span></a><span style=\"color: #7f7f7f; text-decoration-color: #7f7f7f\">:</span><a href=\"file://c:\\Users\\PC\\Desktop\\ManimCE1\\mce\\lib\\site-packages\\manim\\scene\\scene.py#241\" target=\"_blank\"><span style=\"color: #7f7f7f; text-decoration-color: #7f7f7f\">241</span></a>\n",
       "<span style=\"color: #7fbfbf; text-decoration-color: #7fbfbf\">                    </span>         <span style=\"color: #808000; text-decoration-color: #808000; font-weight: bold\">Played</span> <span style=\"color: #008000; text-decoration-color: #008000\">1</span> <span style=\"color: #808000; text-decoration-color: #808000; font-weight: bold\">animations</span>                                                       <span style=\"color: #7f7f7f; text-decoration-color: #7f7f7f\">            </span>\n",
       "</pre>\n"
      ],
      "text/plain": [
       "\u001b[2;36m                   \u001b[0m\u001b[2;36m \u001b[0m\u001b[32mINFO    \u001b[0m \u001b[1;33mRendered\u001b[0m PhiCurve3D                                                       \u001b]8;id=517640;file://c:\\Users\\PC\\Desktop\\ManimCE1\\mce\\lib\\site-packages\\manim\\scene\\scene.py\u001b\\\u001b[2mscene.py\u001b[0m\u001b]8;;\u001b\\\u001b[2m:\u001b[0m\u001b]8;id=583785;file://c:\\Users\\PC\\Desktop\\ManimCE1\\mce\\lib\\site-packages\\manim\\scene\\scene.py#241\u001b\\\u001b[2m241\u001b[0m\u001b]8;;\u001b\\\n",
       "\u001b[2;36m                    \u001b[0m         \u001b[1;33mPlayed\u001b[0m \u001b[32m1\u001b[0m \u001b[1;33manimations\u001b[0m                                                       \u001b[2m            \u001b[0m\n"
      ]
     },
     "metadata": {},
     "output_type": "display_data"
    },
    {
     "data": {
      "text/html": [
       "<video src=\"media\\jupyter\\PhiCurve3D@2023-10-29@01-52-16.mp4\" controls autoplay loop style=\"max-width: 100%;\"  >\n",
       "      Your browser does not support the <code>video</code> element.\n",
       "    </video>"
      ],
      "text/plain": [
       "<IPython.core.display.Video object>"
      ]
     },
     "metadata": {},
     "output_type": "display_data"
    }
   ],
   "source": [
    "%%manim -qm PhiCurve3D\n",
    "\n",
    "class PhiCurve3D(ThreeDScene):\n",
    "    def construct(self):\n",
    "        # Define the function phi(u, v)\n",
    "        def phi(u, v):\n",
    "            return u**2 + v**2\n",
    "\n",
    "        # Surface representing phi(u, v)\n",
    "        u_range = [0, 2]\n",
    "        v_range = [0, 2]\n",
    "        surface = Surface(\n",
    "            lambda u, v: np.array([u, v, phi(u, v)]),\n",
    "            u_range=u_range,\n",
    "            v_range=v_range,\n",
    "            resolution=(10, 10)\n",
    "        ).set_opacity(0.6).scale(0.75)  # scaled down\n",
    "\n",
    "        # Initial point (u, v)\n",
    "        initialPoint = np.array([1, 1, phi(1, 1)])\n",
    "        initialDot = Dot3D(initialPoint, color=RED, radius=0.05)\n",
    "\n",
    "        # New point after increasing u by du and v by dv\n",
    "        du = 0.1\n",
    "        dv = 0.1\n",
    "        newPoint = np.array([1 + du, 1 + dv, phi(1 + du, 1 + dv)])\n",
    "\n",
    "        # Trajectory for movement (dashed line)\n",
    "        def trajectory(t):\n",
    "            return np.array([\n",
    "                initialPoint[0] + t * (newPoint[0] - initialPoint[0]),\n",
    "                initialPoint[1] + t * (newPoint[1] - initialPoint[1]),\n",
    "                initialPoint[2] + t * (newPoint[2] - initialPoint[2])\n",
    "            ])\n",
    "        \n",
    "        trajectoryPath = ParametricFunction(\n",
    "            trajectory, t_range=[0, 1, 0.01], color=YELLOW\n",
    "        ).set_stroke(None, 2, opacity=0.75)  # Making it look dashed\n",
    "\n",
    "        movingDot = Dot3D(initialPoint, color=BLUE, radius=0.05)\n",
    "\n",
    "        # Axes\n",
    "        axes = ThreeDAxes()\n",
    "\n",
    "        # Add objects to the scene\n",
    "        self.add(surface, initialDot, trajectoryPath, movingDot, axes)\n",
    "        self.set_camera_orientation(phi=45 * DEGREES, theta=50 * DEGREES)\n",
    "\n",
    "        # Animation for moving the dot along the trajectory\n",
    "        moveDot = MoveAlongPath(movingDot, trajectoryPath, rate_func=linear)\n",
    "        \n",
    "        #self.play(Create(movingDot))\n",
    "        self.play(moveDot,run_time=5)"
   ]
  },
  {
   "cell_type": "code",
   "execution_count": 2,
   "metadata": {},
   "outputs": [
    {
     "name": "stderr",
     "output_type": "stream",
     "text": [
      "                                                                                     \r"
     ]
    },
    {
     "data": {
      "text/html": [
       "<video src=\"media\\jupyter\\MyScene@2023-10-31@20-01-50.mp4\" controls autoplay loop style=\"max-width: 50%;\"  >\n",
       "      Your browser does not support the <code>video</code> element.\n",
       "    </video>"
      ],
      "text/plain": [
       "<IPython.core.display.Video object>"
      ]
     },
     "metadata": {},
     "output_type": "display_data"
    }
   ],
   "source": [
    "%%manim -v WARNING --disable_caching -qm MyScene\n",
    "\n",
    "class MyScene(Scene):\n",
    "    def construct(self):\n",
    "        circle = Circle()\n",
    "        self.play(GrowFromCenter(circle))\n",
    "        self.wait()"
   ]
  },
  {
   "cell_type": "code",
   "execution_count": 5,
   "metadata": {},
   "outputs": [
    {
     "name": "stderr",
     "output_type": "stream",
     "text": [
      "                                                                                                    \r"
     ]
    },
    {
     "data": {
      "text/html": [
       "<video src=\"media\\jupyter\\SphereDiagram1@2023-10-31@20-09-21.mp4\" controls autoplay loop style=\"max-width: 50%;\"  >\n",
       "      Your browser does not support the <code>video</code> element.\n",
       "    </video>"
      ],
      "text/plain": [
       "<IPython.core.display.Video object>"
      ]
     },
     "metadata": {},
     "output_type": "display_data"
    }
   ],
   "source": [
    "%%manim -v WARNING --disable_caching -qm SphereDiagram1\n",
    "\n",
    "class SphereDiagram1(ThreeDScene):\n",
    "    def construct(self):\n",
    "        # Main circle representing the sphere\n",
    "        circle = Circle(radius=2, color=WHITE).set_stroke(width=1)\n",
    "\n",
    "        # Adjust these rotations to achieve the desired perspective for the dashed circles\n",
    "        dashed_circle_vertical = DashedVMobject(Circle(radius=2, color=WHITE)).rotate(PI/2).rotate(PI/4, axis=RIGHT)\n",
    "        dashed_circle_horizontal = DashedVMobject(Circle(radius=2, color=WHITE)).rotate(PI/7, axis=OUT)\n",
    "\n",
    "        # Axes\n",
    "        axes = VGroup(\n",
    "            Arrow(start=[0, -2.5, 0], end=[0, 2.5, 0], color=WHITE),  # y-axis\n",
    "            Arrow(start=[-2.5, 0, 0], end=[2.5, 0, 0], color=WHITE),  # x-axis\n",
    "            Arrow(start=[0, 0, -2.5], end=[0, 0, 2.5], color=WHITE)   # z-axis\n",
    "        )\n",
    "\n",
    "        # Rho arrow and label\n",
    "        rho_arrow = Arrow([0, 0, 0], [1.5, 1.5, 0], color=RED, buff=0)\n",
    "        rho_label = MathTex(\"\\\\rho\").next_to(rho_arrow.get_end(), UR, buff=0.1)\n",
    "\n",
    "        # Phi arc and label\n",
    "        phi_arc = Arc(radius=1.2, start_angle=PI/4, angle=-PI/4, color=GREEN)\n",
    "        phi_label = MathTex(\"\\\\phi\").next_to(phi_arc, RIGHT, buff=0.2).shift(0.2*RIGHT)\n",
    "\n",
    "        # Theta arc and label\n",
    "        theta_arc = Arc(radius=0.6, start_angle=0, angle=PI/2, color=BLUE)\n",
    "        theta_label = MathTex(\"\\\\theta\").next_to(theta_arc, DOWN, buff=0.2)\n",
    "\n",
    "        # Coordinate labels\n",
    "        coords_label = VGroup(\n",
    "            Tex(\"x\").next_to(axes[1], RIGHT),\n",
    "            Tex(\"y\").next_to(axes[0], UP),\n",
    "            Tex(\"z\").next_to(axes[2], UP)\n",
    "        )\n",
    "\n",
    "        # Animations\n",
    "        self.play(Create(circle))\n",
    "        self.play(Create(dashed_circle_horizontal), Create(dashed_circle_vertical))\n",
    "        self.play(FadeIn(axes), FadeIn(coords_label))\n",
    "        self.play(Create(rho_arrow), Write(rho_label))\n",
    "        self.play(Create(phi_arc), Write(phi_label))\n",
    "        self.play(Create(theta_arc), Write(theta_label))\n",
    "        self.wait(2)"
   ]
  },
  {
   "cell_type": "code",
   "execution_count": 15,
   "metadata": {},
   "outputs": [
    {
     "name": "stderr",
     "output_type": "stream",
     "text": [
      "                                                                                                    \r"
     ]
    },
    {
     "data": {
      "text/html": [
       "<video src=\"media\\jupyter\\SphereDiagram3@2023-10-31@20-59-58.mp4\" controls autoplay loop style=\"max-width: 50%;\"  >\n",
       "      Your browser does not support the <code>video</code> element.\n",
       "    </video>"
      ],
      "text/plain": [
       "<IPython.core.display.Video object>"
      ]
     },
     "metadata": {},
     "output_type": "display_data"
    }
   ],
   "source": [
    "%%manim -v WARNING --disable_caching -qm SphereDiagram3\n",
    "\n",
    "class SphereDiagram3(ThreeDScene):\n",
    "    def construct(self):\n",
    "        # Main circle representing the sphere in the XY plane\n",
    "        dashed_circle_horizontal = DashedVMobject(Circle(radius=2, color=WHITE))\n",
    "\n",
    "        # Circle oriented vertically around the X axis\n",
    "        dashed_circle_vertical_x = DashedVMobject(Circle(radius=2, color=WHITE)).rotate(PI/2, axis=RIGHT)\n",
    "\n",
    "        # Circle oriented vertically around the Y axis\n",
    "        dashed_circle_vertical_y = DashedVMobject(Circle(radius=2, color=WHITE)).rotate(PI/2, axis=UP)\n",
    "\n",
    "        # Axes\n",
    "        axes = VGroup(\n",
    "            Arrow(start=[0, -2.5, 0], end=[0, 2.5, 0], color=WHITE),  # y-axis\n",
    "            Arrow(start=[-2.5, 0, 0], end=[2.5, 0, 0], color=WHITE),  # x-axis\n",
    "            Arrow(start=[0, 0, -2.5], end=[0, 0, 2.5], color=WHITE)   # z-axis\n",
    "        )\n",
    "\n",
    "        # Rho arrow and label\n",
    "        rho_arrow = Arrow([0, 0, 0], [1.5, 1.5, 0], color=RED, buff=0)\n",
    "        rho_label = MathTex(\"\\\\rho\").next_to(rho_arrow.get_end(), UR, buff=0.1)\n",
    "\n",
    "        # Phi arc and label\n",
    "        phi_arc = Arc(radius=1.2, start_angle=PI/4, angle=-PI/4, color=GREEN)\n",
    "        phi_label = MathTex(\"\\\\phi\").next_to(phi_arc, RIGHT, buff=0.2).shift(0.2*RIGHT)\n",
    "\n",
    "        # Theta arc and label\n",
    "        theta_arc = Arc(radius=0.6, start_angle=0, angle=PI/2, color=BLUE)\n",
    "        theta_label = MathTex(\"\\\\theta\").next_to(theta_arc, DOWN, buff=0.2)\n",
    "\n",
    "        # Coordinate labels\n",
    "        coords_label = VGroup(\n",
    "            Tex(\"x\").next_to(axes[1], RIGHT),\n",
    "            Tex(\"y\").next_to(axes[0], UP),\n",
    "            Tex(\"z\").next_to(axes[2], UP)\n",
    "        )\n",
    "\n",
    "        # Animations\n",
    "        self.play(Create(dashed_circle_horizontal), Create(dashed_circle_vertical_x), Create(dashed_circle_vertical_y))\n",
    "        self.play(FadeIn(axes), FadeIn(coords_label))\n",
    "        self.play(Create(rho_arrow), Write(rho_label))\n",
    "        self.play(Create(phi_arc), Write(phi_label))\n",
    "        self.play(Create(theta_arc), Write(theta_label))\n",
    "        self.wait(2)"
   ]
  },
  {
   "cell_type": "code",
   "execution_count": 14,
   "metadata": {},
   "outputs": [
    {
     "name": "stderr",
     "output_type": "stream",
     "text": [
      "                                                                                                      \r"
     ]
    },
    {
     "data": {
      "text/html": [
       "<video src=\"media\\jupyter\\SphereDiagram2@2023-10-31@20-57-50.mp4\" controls autoplay loop style=\"max-width: 50%;\"  >\n",
       "      Your browser does not support the <code>video</code> element.\n",
       "    </video>"
      ],
      "text/plain": [
       "<IPython.core.display.Video object>"
      ]
     },
     "metadata": {},
     "output_type": "display_data"
    }
   ],
   "source": [
    "%%manim -v WARNING --disable_caching -qm SphereDiagram2\n",
    "\n",
    "class SphereDiagram2(ThreeDScene):\n",
    "    def construct(self):\n",
    "        # Setting the camera orientation\n",
    "        self.set_camera_orientation(phi=60 * DEGREES, theta=30 * DEGREES)\n",
    "\n",
    "        # Main circle representing the sphere in the XY plane\n",
    "        circle = Circle(radius=2, color=WHITE).set_stroke(width=1)\n",
    "\n",
    "        # Circle oriented vertically around the X axis\n",
    "        dashed_circle_vertical_x = DashedVMobject(Circle(radius=2, color=WHITE)).rotate(PI/2, axis=RIGHT)\n",
    "\n",
    "        # Circle oriented vertically around the Y axis\n",
    "        dashed_circle_vertical_y = DashedVMobject(Circle(radius=2, color=WHITE)).rotate(PI/2, axis=UP)\n",
    "\n",
    "        # 3D Axes\n",
    "        axes = ThreeDAxes()\n",
    "\n",
    "        # Rho arrow and label\n",
    "        rho_arrow = Arrow3D([0, 0, 0], [1.5, 1.5, 0], color=RED)\n",
    "        rho_label = MathTex(\"\\\\rho\").next_to(rho_arrow.get_end(), UR, buff=0.1)\n",
    "\n",
    "        # Phi arc and label (in XY plane)\n",
    "        phi_arc = Arc(radius=1.2, start_angle=PI/4, angle=-PI/4, color=GREEN)\n",
    "        phi_label = MathTex(\"\\\\phi\").next_to(phi_arc, RIGHT, buff=0.2).shift(0.2*RIGHT)\n",
    "\n",
    "        # Theta arc and label (rotated to YZ plane)\n",
    "        #theta_arc = ArcBetweenPoints(rho_arrow.get_end(), [0, 2, 0], radius=1.4, color=BLUE)\n",
    "        #theta_arc = Arc(radius=0.6, start_angle=0, angle=PI/2, color=BLUE).rotate(PI/2, axis=RIGHT)\n",
    "\n",
    "        theta_arc = ArcBetweenPoints(phi_arc.get_start(), [0, 0, 0.5], color=BLUE)\n",
    "        theta_label = MathTex(\"\\\\theta\").next_to(theta_arc, UP, buff=0.1)\n",
    "\n",
    "        #theta_label = MathTex(\"\\\\theta\").next_to(theta_arc, DOWN, buff=0.2)\n",
    "\n",
    "        # Animations\n",
    "        self.play(Create(circle))\n",
    "        self.play(Create(dashed_circle_vertical_x), Create(dashed_circle_vertical_y))\n",
    "        self.play(FadeIn(axes))\n",
    "        self.play(Create(rho_arrow), Write(rho_label))\n",
    "        self.play(Create(phi_arc), Write(phi_label))\n",
    "        self.play(Create(theta_arc), Write(theta_label))\n",
    "        self.wait(2)"
   ]
  },
  {
   "cell_type": "code",
   "execution_count": 22,
   "metadata": {},
   "outputs": [
    {
     "name": "stderr",
     "output_type": "stream",
     "text": [
      "                                                                                                               \r"
     ]
    },
    {
     "data": {
      "text/html": [
       "<video src=\"media\\jupyter\\TexMethodsDemo@2023-10-31@21-39-10.mp4\" controls autoplay loop style=\"max-width: 100%;\"  >\n",
       "      Your browser does not support the <code>video</code> element.\n",
       "    </video>"
      ],
      "text/plain": [
       "<IPython.core.display.Video object>"
      ]
     },
     "metadata": {},
     "output_type": "display_data"
    }
   ],
   "source": [
    "%%manim -v WARNING --disable_caching -qm TexMethodsDemo\n",
    "\n",
    "config.media_width = \"100%\"\n",
    "\n",
    "class TexMethodsDemo(Scene):\n",
    "    def construct(self):\n",
    "        # Create the equation\n",
    "        equation = MathTex(\"x\", \"=\", \"y\", \"^2\", \"+\", \"y\", \"+\", \"a\")\n",
    "        self.play(Write(equation))\n",
    "\n",
    "        # Demonstrate get_part_by_tex\n",
    "        y_square = equation.get_part_by_tex(\"^2\")\n",
    "        self.play(y_square.animate.set_color(RED))\n",
    "        self.wait(1)\n",
    "\n",
    "        # Demonstrate get_parts_by_tex\n",
    "        y_terms = equation.get_parts_by_tex(\"y\")\n",
    "        self.play(*[part.animate.set_color(BLUE) for part in y_terms])\n",
    "        self.wait(1)\n",
    "\n",
    "        # Demonstrate index_of_part (Using y_square as the part from previous example)\n",
    "        index = equation.index_of_part(y_square)\n",
    "        self.play(Indicate(y_square))\n",
    "        self.wait(1)\n",
    "\n",
    "        # Demonstrate index_of_part_by_tex\n",
    "        index_y = equation.index_of_part_by_tex(\"y\")\n",
    "        y_part_at_index = equation.submobjects[index_y]\n",
    "        self.play(Indicate(y_part_at_index))\n",
    "        self.wait(1)\n",
    "\n",
    "        # Demonstrate set_color_by_tex\n",
    "        equation.set_color_by_tex(\"^2\", color=GREEN)\n",
    "        self.wait(1)\n",
    "\n",
    "        # Demonstrate set_color_by_tex_to_color_map\n",
    "        color_map = {\"x\": YELLOW, \"^2\": PURPLE}\n",
    "        equation.set_color_by_tex_to_color_map(color_map)\n",
    "        self.wait(1)\n",
    "\n",
    "        # Demonstrate set_opacity_by_tex\n",
    "        equation.set_opacity_by_tex(\"^2\", opacity=0.5)\n",
    "        self.wait(1)\n",
    "\n",
    "        # Demonstrate sort_alphabetically (this doesn't visibly change the equation, so we'll just wait a bit)\n",
    "        equation.sort_alphabetically()\n",
    "        self.wait(1)\n",
    "\n",
    "        self.play(FadeOut(equation))"
   ]
  },
  {
   "cell_type": "code",
   "execution_count": 28,
   "metadata": {},
   "outputs": [
    {
     "name": "stderr",
     "output_type": "stream",
     "text": [
      "                                                                                                               \r"
     ]
    },
    {
     "data": {
      "text/html": [
       "<video src=\"media\\jupyter\\TexMethodsDemo1@2023-10-31@23-42-35.mp4\" controls autoplay loop style=\"max-width: 100%;\"  >\n",
       "      Your browser does not support the <code>video</code> element.\n",
       "    </video>"
      ],
      "text/plain": [
       "<IPython.core.display.Video object>"
      ]
     },
     "metadata": {},
     "output_type": "display_data"
    }
   ],
   "source": [
    "%%manim -v WARNING --disable_caching -qm TexMethodsDemo1\n",
    "\n",
    "class TexMethodsDemo1(Scene):\n",
    "    def construct(self):\n",
    "        # Create the equation\n",
    "        equation = MathTex(\"x\", \"=\", \"y\", \"^2\", \"+\", \"y\", \"+\", \"a\").move_to(UP * 2)\n",
    "        self.play(Write(equation))\n",
    "\n",
    "        # Demonstrate get_part_by_tex\n",
    "        y_square = equation.get_part_by_tex(\"^2\")\n",
    "        self.play(y_square.animate.set_color(RED))\n",
    "        description = Text(\"get_part_by_tex\").next_to(equation, DOWN)\n",
    "        self.play(Write(description))\n",
    "        self.wait(1)\n",
    "\n",
    "        # Demonstrate get_parts_by_tex\n",
    "        y_terms = equation.get_parts_by_tex(\"y\")\n",
    "        self.play(*[part.animate.set_color(BLUE) for part in y_terms])\n",
    "        self.remove(description)\n",
    "        description = Text(\"get_parts_by_tex\").next_to(equation, DOWN)\n",
    "        self.play(Transform(description, description.copy()))\n",
    "        self.wait(1)\n",
    "\n",
    "        # Demonstrate index_of_part (Using y_square as the part from previous example)\n",
    "        index = equation.index_of_part(y_square)\n",
    "        self.play(Indicate(y_square))\n",
    "        self.remove(description)\n",
    "        description = Text(\"index_of_part\").next_to(equation, DOWN)\n",
    "        self.play(Transform(description, description.copy()))\n",
    "        self.wait(1)\n",
    "\n",
    "        # Demonstrate index_of_part_by_tex\n",
    "        index_y = equation.index_of_part_by_tex(\"y\")\n",
    "        y_part_at_index = equation.submobjects[index_y]\n",
    "        self.play(Indicate(y_part_at_index))\n",
    "        self.remove(description)\n",
    "        description = Text(\"index_of_part_by_tex\").next_to(equation, DOWN)\n",
    "        self.play(Transform(description, description.copy()))\n",
    "        self.wait(1)\n",
    "\n",
    "        # Demonstrate set_color_by_tex\n",
    "        equation.set_color_by_tex(\"^2\", color=GREEN)\n",
    "        self.remove(description)\n",
    "        description = Text(\"set_color_by_tex\").next_to(equation, DOWN)\n",
    "        self.play(Transform(description, description.copy()))\n",
    "        self.wait(1)\n",
    "\n",
    "        # Demonstrate set_color_by_tex_to_color_map\n",
    "        color_map = {\"x\": YELLOW, \"^2\": PURPLE}\n",
    "        equation.set_color_by_tex_to_color_map(color_map)\n",
    "        self.remove(description)\n",
    "        description = Text(\"set_color_by_tex_to_color_map\").next_to(equation, DOWN)\n",
    "        self.play(Transform(description, description.copy()))\n",
    "        self.wait(1)\n",
    "\n",
    "        # Demonstrate set_opacity_by_tex\n",
    "        equation.set_opacity_by_tex(\"^2\", opacity=0.5)\n",
    "        self.remove(description)\n",
    "        description = Text(\"set_opacity_by_tex\").next_to(equation, DOWN)\n",
    "        self.play(Transform(description, description.copy()))\n",
    "        self.wait(1)\n",
    "\n",
    "        # Demonstrate sort_alphabetically (this doesn't visibly change the equation, so we'll just show the description)\n",
    "        self.remove(description)\n",
    "        description = Text(\"sort_alphabetically\").next_to(equation, DOWN)\n",
    "        self.play(Transform(description, description.copy()))\n",
    "        self.wait(1)\n",
    "\n",
    "        self.play(FadeOut(equation), FadeOut(description))"
   ]
  },
  {
   "cell_type": "code",
   "execution_count": 29,
   "metadata": {},
   "outputs": [
    {
     "name": "stderr",
     "output_type": "stream",
     "text": [
      "                                                                                                              \r"
     ]
    },
    {
     "data": {
      "text/html": [
       "<video src=\"media\\jupyter\\TexMethodsDemo2@2023-10-31@23-46-47.mp4\" controls autoplay loop style=\"max-width: 100%;\"  >\n",
       "      Your browser does not support the <code>video</code> element.\n",
       "    </video>"
      ],
      "text/plain": [
       "<IPython.core.display.Video object>"
      ]
     },
     "metadata": {},
     "output_type": "display_data"
    }
   ],
   "source": [
    "%%manim -v WARNING --disable_caching -qm TexMethodsDemo2\n",
    "\n",
    "class TexMethodsDemo2(Scene):\n",
    "    def construct(self):\n",
    "        # Create the equation\n",
    "        equation = MathTex(\"x\", \"=\", \"y\", \"^2\", \"+\", \"y\", \"+\", \"a\").move_to(UP * 2)\n",
    "        self.play(Write(equation))\n",
    "\n",
    "        # Demonstrate get_part_by_tex\n",
    "        y_square = equation.get_part_by_tex(\"^2\")\n",
    "        self.play(y_square.animate.set_color(RED))\n",
    "        description = Text(\"get_part_by_tex\").next_to(equation, DOWN)\n",
    "        self.play(Write(description))\n",
    "        self.wait(1)\n",
    "\n",
    "        # Demonstrate get_parts_by_tex\n",
    "        y_terms = equation.get_parts_by_tex(\"y\")\n",
    "        self.play(*[part.animate.set_color(BLUE) for part in y_terms])\n",
    "        self.remove(description)\n",
    "        description = Text(\"get_parts_by_tex\").next_to(equation, DOWN)\n",
    "        self.play(Write(description))\n",
    "        self.wait(1)\n",
    "\n",
    "        # Demonstrate index_of_part (Using y_square as the part from previous example)\n",
    "        index = equation.index_of_part(y_square)\n",
    "        self.play(Indicate(y_square))\n",
    "        self.remove(description)\n",
    "        description = Text(\"index_of_part\").next_to(equation, DOWN)\n",
    "        self.play(Write(description))\n",
    "        self.wait(1)\n",
    "\n",
    "        # Demonstrate index_of_part_by_tex\n",
    "        index_y = equation.index_of_part_by_tex(\"y\")\n",
    "        y_part_at_index = equation.submobjects[index_y]\n",
    "        self.play(Indicate(y_part_at_index))\n",
    "        self.remove(description)\n",
    "        description = Text(\"index_of_part_by_tex\").next_to(equation, DOWN)\n",
    "        self.play(Write(description))\n",
    "        self.wait(1)\n",
    "\n",
    "        # Demonstrate set_color_by_tex\n",
    "        equation.set_color_by_tex(\"^2\", color=GREEN)\n",
    "        self.remove(description)\n",
    "        description = Text(\"set_color_by_tex\").next_to(equation, DOWN)\n",
    "        self.play(Write(description))\n",
    "        self.wait(1)\n",
    "\n",
    "        # Demonstrate set_color_by_tex_to_color_map\n",
    "        color_map = {\"x\": YELLOW, \"^2\": PURPLE}\n",
    "        equation.set_color_by_tex_to_color_map(color_map)\n",
    "        self.remove(description)\n",
    "        description = Text(\"set_color_by_tex_to_color_map\").next_to(equation, DOWN)\n",
    "        self.play(Write(description))\n",
    "        self.wait(1)\n",
    "\n",
    "        # Demonstrate set_opacity_by_tex\n",
    "        equation.set_opacity_by_tex(\"^2\", opacity=0.5)\n",
    "        self.remove(description)\n",
    "        description = Text(\"set_opacity_by_tex\").next_to(equation, DOWN)\n",
    "        self.play(Write(description))\n",
    "        self.wait(1)\n",
    "\n",
    "        # Demonstrate sort_alphabetically (this doesn't visibly change the equation, so we'll just show the description)\n",
    "        self.remove(description)\n",
    "        description = Text(\"sort_alphabetically\").next_to(equation, DOWN)\n",
    "        self.play(Write(description))\n",
    "        self.wait(1)\n",
    "\n",
    "        self.play(FadeOut(equation), FadeOut(description))\n"
   ]
  },
  {
   "cell_type": "code",
   "execution_count": 40,
   "metadata": {},
   "outputs": [
    {
     "name": "stderr",
     "output_type": "stream",
     "text": [
      "                                                                                                          \r"
     ]
    },
    {
     "data": {
      "text/html": [
       "<video src=\"media\\jupyter\\TexMethodsDemo4@2023-11-01@00-17-18.mp4\" controls autoplay loop style=\"max-width: 100%;\"  >\n",
       "      Your browser does not support the <code>video</code> element.\n",
       "    </video>"
      ],
      "text/plain": [
       "<IPython.core.display.Video object>"
      ]
     },
     "metadata": {},
     "output_type": "display_data"
    }
   ],
   "source": [
    "%%manim -v WARNING --disable_caching -qm TexMethodsDemo4\n",
    "\n",
    "class TexMethodsDemo4(Scene):\n",
    "    def construct(self):\n",
    "        # Create the equation\n",
    "        equation = MathTex(\"x\", \"=\", \"y\", \"^2\", \"+\", \"y\", \"+\", \"a\").move_to(UP * 2)\n",
    "        self.play(Write(equation))\n",
    "\n",
    "        # Demonstrate get_part_by_tex\n",
    "        code = \"\"\"\n",
    "        y_square = equation.get_part_by_tex(\"^2\")\n",
    "        self.play(y_square.animate.set_color(RED))\n",
    "        description = Text(\"get_part_by_tex\").next_to(equation, DOWN)\n",
    "        self.play(Write(description))\n",
    "        \"\"\"\n",
    "        code_display = Code(code = code, font=\"Monospace\",tab_width=4, background=\"window\",language=\"Python\").next_to(equation, DOWN * 4).to_edge(LEFT)\n",
    "        #self.play(Write(code_display))\n",
    "        y_square = equation.get_part_by_tex(\"^2\")\n",
    "        self.play(y_square.animate.set_color(RED))\n",
    "        description = Text(\"get_part_by_tex\").next_to(equation, DOWN)\n",
    "        self.play(Write(description))\n",
    "        self.play(Write(code_display))\n",
    "        self.wait(1)\n",
    "        self.play(FadeOut(code_display))\n",
    "\n",
    "        #... [Rest of your code]\n"
   ]
  },
  {
   "cell_type": "code",
   "execution_count": 8,
   "metadata": {},
   "outputs": [
    {
     "name": "stderr",
     "output_type": "stream",
     "text": [
      "                                                                                                              \r"
     ]
    },
    {
     "data": {
      "text/html": [
       "<video src=\"media\\jupyter\\TexMethodsDemo3@2023-11-01@08-16-50.mp4\" controls autoplay loop style=\"max-width: 100%;\"  >\n",
       "      Your browser does not support the <code>video</code> element.\n",
       "    </video>"
      ],
      "text/plain": [
       "<IPython.core.display.Video object>"
      ]
     },
     "metadata": {},
     "output_type": "display_data"
    }
   ],
   "source": [
    "%%manim -v WARNING --disable_caching -qm TexMethodsDemo3\n",
    "\n",
    "config.media_width = \"100%\"\n",
    "\n",
    "class TexMethodsDemo3(Scene):\n",
    "    def construct(self):\n",
    "        # Create the equation\n",
    "        equation = MathTex(\"x\", \"=\", \"y\", \"^2\", \"+\", \"y\", \"+\", \"a\").move_to(UP * 2)\n",
    "        self.play(Write(equation))\n",
    "\n",
    "        # Demonstrate get_part_by_tex\n",
    "        y_square = equation.get_part_by_tex(\"^2\")\n",
    "        self.play(y_square.animate.set_color(RED))\n",
    "        description = Text(\"get_part_by_tex\").next_to(equation, DOWN)\n",
    "        self.play(Write(description))\n",
    "        \n",
    "        #self.play(FadeOut(code_display))\n",
    "        code = \"\"\"\n",
    "        y_square = equation.get_part_by_tex(\"^2\")\n",
    "        self.play(y_square.animate.set_color(RED))\n",
    "        description = Text(\"get_part_by_tex\").next_to(equation, DOWN)\n",
    "        self.play(Write(description))\n",
    "        \"\"\"\n",
    "        code_display = Code(code = code, font=\"Monospace\",tab_width=4, background=\"window\",language=\"Python\").next_to(description, DOWN * 2)\n",
    "        #rendered_code = Code(code=code, tab_width=4, background=\"window\",\n",
    "                            #language=\"Python\", font=\"Monospace\")\n",
    "        #self.play(Write(code_display))\n",
    "        self.play(Write(code_display))\n",
    "        self.wait(1)\n",
    "\n",
    "        self.play(FadeOut(code_display))\n",
    "\n",
    "         # Demonstrate get_part_by_tex\n",
    "        y_terms = equation.get_parts_by_tex(\"y\")\n",
    "        self.play(*[part.animate.set_color(BLUE) for part in y_terms])\n",
    "        self.remove(description)\n",
    "        #self.remove(code)\n",
    "        description = Text(\"get_parts_by_tex\").next_to(equation, DOWN)\n",
    "        \n",
    "        self.play(Write(description))\n",
    "        \n",
    "        #self.play(FadeOut(code_display))\n",
    "        code = \"\"\"\n",
    "        y_terms = equation.get_parts_by_tex(\"y\")\n",
    "        self.play(*[part.animate.set_color(BLUE) for part in y_terms])\n",
    "        self.remove(description)\n",
    "        description = Text(\"get_parts_by_tex\").next_to(equation, DOWN)\n",
    "        self.play(Write(description))\n",
    "        self.wait(1)\n",
    "        \"\"\"\n",
    "        code_display = Code(code = code, font=\"Monospace\",tab_width=4, background=\"window\",language=\"Python\").next_to(description, DOWN * 2)\n",
    "        #rendered_code = Code(code=code, tab_width=4, background=\"window\",\n",
    "                            #language=\"Python\", font=\"Monospace\")\n",
    "        #self.play(Write(code_display))\n",
    "        self.play(Write(code_display))\n",
    "        self.wait(1)"
   ]
  },
  {
   "cell_type": "code",
   "execution_count": 9,
   "metadata": {},
   "outputs": [
    {
     "name": "stderr",
     "output_type": "stream",
     "text": [
      "                                                                                                              \r"
     ]
    },
    {
     "data": {
      "text/html": [
       "<video src=\"media\\jupyter\\TexMethodsDemo3@2023-11-01@09-28-47.mp4\" controls autoplay loop style=\"max-width: 100%;\"  >\n",
       "      Your browser does not support the <code>video</code> element.\n",
       "    </video>"
      ],
      "text/plain": [
       "<IPython.core.display.Video object>"
      ]
     },
     "metadata": {},
     "output_type": "display_data"
    }
   ],
   "source": [
    "%%manim -v WARNING --disable_caching -qm TexMethodsDemo3\n",
    "\n",
    "config.media_width = \"100%\"\n",
    "\n",
    "class TexMethodsDemo3(Scene):\n",
    "    def construct(self):\n",
    "        # Create the equation\n",
    "        equation = MathTex(\"x\", \"=\", \"y\", \"^2\", \"+\", \"y\", \"+\", \"a\").move_to(UP * 2)\n",
    "        self.play(Write(equation))\n",
    "\n",
    "        # Demonstrate get_part_by_tex\n",
    "        y_square = equation.get_part_by_tex(\"^2\")\n",
    "        self.play(y_square.animate.set_color(RED))\n",
    "        description = Text(\"get_part_by_tex\").next_to(equation, DOWN)\n",
    "        self.play(Write(description))\n",
    "        \n",
    "        #self.play(FadeOut(code_display))\n",
    "        code = \"\"\"\n",
    "        y_square = equation.get_part_by_tex(\"^2\")\n",
    "        self.play(y_square.animate.set_color(RED))\n",
    "        description = Text(\"get_part_by_tex\").next_to(equation, DOWN)\n",
    "        self.play(Write(description))\n",
    "        \"\"\"\n",
    "        code_display = Code(code = code, font=\"Monospace\",tab_width=4, background=\"window\",language=\"Python\").next_to(description, DOWN * 2)\n",
    "        \n",
    "        self.play(Write(code_display))\n",
    "        self.wait(1)\n",
    "\n",
    "        self.play(FadeOut(code_display))\n",
    "\n",
    "         # Demonstrate get_part_by_tex\n",
    "        y_terms = equation.get_parts_by_tex(\"y\")\n",
    "        self.play(*[part.animate.set_color(BLUE) for part in y_terms])\n",
    "        self.remove(description)\n",
    "        #self.remove(code)\n",
    "        description = Text(\"get_parts_by_tex\").next_to(equation, DOWN)\n",
    "        \n",
    "        self.play(Write(description))\n",
    "        \n",
    "        #self.play(FadeOut(code_display))\n",
    "        code = \"\"\"\n",
    "        y_terms = equation.get_parts_by_tex(\"y\")\n",
    "        self.play(*[part.animate.set_color(BLUE) for part in y_terms])\n",
    "        self.remove(description)\n",
    "        description = Text(\"get_parts_by_tex\").next_to(equation, DOWN)\n",
    "        self.play(Write(description))\n",
    "        self.wait(1)\n",
    "        \"\"\"\n",
    "        code_display = Code(code = code, font=\"Monospace\",tab_width=4, background=\"window\",language=\"Python\").next_to(description, DOWN * 2)\n",
    "        \n",
    "        self.play(Write(code_display))\n",
    "        self.wait(1)"
   ]
  },
  {
   "cell_type": "code",
   "execution_count": 23,
   "metadata": {},
   "outputs": [
    {
     "name": "stderr",
     "output_type": "stream",
     "text": [
      "                                                                                                              \r"
     ]
    },
    {
     "data": {
      "text/html": [
       "<video src=\"media\\jupyter\\TexMethodsDemo3@2023-11-01@11-24-25.mp4\" controls autoplay loop style=\"max-width: 100%;\"  >\n",
       "      Your browser does not support the <code>video</code> element.\n",
       "    </video>"
      ],
      "text/plain": [
       "<IPython.core.display.Video object>"
      ]
     },
     "metadata": {},
     "output_type": "display_data"
    }
   ],
   "source": [
    "%%manim -v WARNING --disable_caching -qm TexMethodsDemo3\n",
    "\n",
    "class TexMethodsDemo3(Scene):\n",
    "    def construct(self):\n",
    "        # Create the equation\n",
    "        equation = MathTex(\"x\", \"=\", \"y\", \"^2\", \"+\", \"y\", \"+\", \"a\").move_to(UP * 2)\n",
    "        self.play(Write(equation))\n",
    "\n",
    "        # Demonstrate get_part_by_tex\n",
    "        y_square = equation.get_part_by_tex(\"^2\")\n",
    "        self.play(y_square.animate.set_color(RED))\n",
    "        description = Text(\"get_part_by_tex\").next_to(equation, DOWN)\n",
    "        self.play(Write(description))\n",
    "        \n",
    "        #self.play(FadeOut(code_display))\n",
    "        code = \"\"\"\n",
    "        y_square = equation.get_part_by_tex(\"^2\")\n",
    "        self.play(y_square.animate.set_color(RED))\n",
    "        description = Text(\"get_part_by_tex\").next_to(equation, DOWN)\n",
    "        self.play(Write(description))\n",
    "        \"\"\"\n",
    "        code_display = Code(code = code, font=\"Monospace\",tab_width=4, background=\"window\",language=\"Python\").next_to(description, DOWN * 2).to_edge(LEFT)\n",
    "        \n",
    "        self.play(Write(code_display))\n",
    "        self.wait(1)\n",
    "\n",
    "        #self.play(FadeOut(code_display))\n",
    "\n",
    "         # Demonstrate get_part_by_tex\n",
    "        y_terms = equation.get_parts_by_tex(\"y\")\n",
    "        self.play(*[part.animate.set_color(BLUE) for part in y_terms])\n",
    "        self.remove(description)\n",
    "        #self.remove(code)\n",
    "        description = Text(\"get_parts_by_tex\").next_to(equation, DOWN)\n",
    "        \n",
    "        self.play(Write(description))\n",
    "        \n",
    "        #self.play(FadeOut(code_display))\n",
    "        code = \"\"\"\n",
    "        y_terms = equation.get_parts_by_tex(\"y\")\n",
    "        self.play(*[part.animate.set_color(BLUE) for part in y_terms])\n",
    "        self.remove(description)\n",
    "        description = Text(\"get_parts_by_tex\").next_to(equation, DOWN)\n",
    "        self.play(Write(description))\n",
    "        self.wait(1)\n",
    "        \"\"\"\n",
    "        code_display = Code(code = code, font=\"Monospace\",tab_width=4, background=\"window\",language=\"Python\").next_to(description, DOWN * 4)\n",
    "        \n",
    "        self.play(Write(code_display))\n",
    "        self.wait(1)"
   ]
  },
  {
   "cell_type": "code",
   "execution_count": 12,
   "metadata": {},
   "outputs": [
    {
     "name": "stderr",
     "output_type": "stream",
     "text": [
      "                                                                                                          \r"
     ]
    },
    {
     "data": {
      "text/html": [
       "<video src=\"media\\jupyter\\TexMethodsDemo4@2023-11-01@10-07-50.mp4\" controls autoplay loop style=\"max-width: 100%;\"  >\n",
       "      Your browser does not support the <code>video</code> element.\n",
       "    </video>"
      ],
      "text/plain": [
       "<IPython.core.display.Video object>"
      ]
     },
     "metadata": {},
     "output_type": "display_data"
    }
   ],
   "source": [
    "%%manim -v WARNING --disable_caching -qm TexMethodsDemo4\n",
    "\n",
    "class TexMethodsDemo4(Scene):\n",
    "    def construct(self):\n",
    "        # Create the equation\n",
    "        equation = MathTex(\"x\", \"=\", \"y\", \"^2\", \"+\", \"y\", \"+\", \"a\").move_to(UP * 2)\n",
    "        self.play(Write(equation))\n",
    "\n",
    "        # Demonstrate get_part_by_tex\n",
    "       \n",
    "        y_square = equation.get_part_by_tex(\"^2\")\n",
    "        self.play(y_square.animate.set_color(RED))\n",
    "        description = Text(\"get_part_by_tex\").next_to(equation, DOWN)\n",
    "        self.play(Write(description))\n",
    "        self.wait(1)\n",
    "\n",
    "        # Demonstrate get_part_by_tex\n",
    "        y_terms = equation.get_parts_by_tex(\"y\")\n",
    "        self.play(*[part.animate.set_color(BLUE) for part in y_terms])\n",
    "        self.remove(description)\n",
    "        description = Text(\"get_parts_by_tex\").next_to(equation, DOWN)\n",
    "        \n",
    "        self.play(Write(description))\n",
    "        \n",
    "        self.wait(1)"
   ]
  },
  {
   "cell_type": "code",
   "execution_count": 15,
   "metadata": {},
   "outputs": [
    {
     "name": "stderr",
     "output_type": "stream",
     "text": [
      "                                                                                                                                                                                                                                                                                                                                                           \r"
     ]
    },
    {
     "data": {
      "text/html": [
       "<video src=\"media\\jupyter\\TexMethodsDemo6@2023-11-01@10-37-24.mp4\" controls autoplay loop style=\"max-width: 100%;\"  >\n",
       "      Your browser does not support the <code>video</code> element.\n",
       "    </video>"
      ],
      "text/plain": [
       "<IPython.core.display.Video object>"
      ]
     },
     "metadata": {},
     "output_type": "display_data"
    }
   ],
   "source": [
    "%%manim -v WARNING --disable_caching -qm TexMethodsDemo5\n",
    "\n",
    "class TexMethodsDemo5(Scene):\n",
    "    def construct(self):\n",
    "        # Create the equation\n",
    "        equation = MathTex(\"x\", \"=\", \"y\", \"^2\", \"+\", \"y\", \"+\", \"a\").move_to(UP * 2)\n",
    "        self.play(Write(equation))\n",
    "\n",
    "        # Demonstrate get_part_by_tex\n",
    "        y_square = equation.get_part_by_tex(\"^2\")\n",
    "        self.play(y_square.animate.set_color(RED))\n",
    "        description = Text(\"get_part_by_tex\").next_to(equation, DOWN)\n",
    "        self.play(Write(description))\n",
    "        \n",
    "        # Add the provided text after the description\n",
    "        additional_text1 = Text(\"\"\"\n",
    "        Gaza has in recent days seen fierce battles \n",
    "        between Israeli ground troops and militants as \n",
    "        Israel has pressed its mission to \"crush\" Hamas \n",
    "        after it went on a rampage killing 1,400 people, \n",
    "        mostly civilians.\n",
    "        \"\"\", line_spacing=1.2).next_to(description, DOWN).align_to(description, LEFT).scale(0.6)\n",
    "        \n",
    "        self.play(Write(additional_text1))\n",
    "        self.wait(1)\n",
    "\n",
    "        # Demonstrate get_parts_by_tex\n",
    "        y_terms = equation.get_parts_by_tex(\"y\")\n",
    "        self.play(*[part.animate.set_color(BLUE) for part in y_terms])\n",
    "        self.remove(description, additional_text1)  # Remove the previous description and additional text\n",
    "        description = Text(\"get_parts_by_tex\").next_to(equation, DOWN)\n",
    "        self.play(Write(description))\n",
    "        \n",
    "        # Add the second provided text after the new description\n",
    "        additional_text2 = Text(\"\"\"\n",
    "        Since then, Israel has hit back with an unstinting \n",
    "        aerial bombardment, which the health ministry in \n",
    "        Hamas-controlled Gaza says has now killed more \n",
    "        than 8,500 Palestinians, two-thirds of them women \n",
    "        and children.\n",
    "        \"\"\", line_spacing=1.2).next_to(description, DOWN).align_to(description, RIGHT).scale(0.6)\n",
    "        \n",
    "        self.play(Write(additional_text2))\n",
    "        self.wait(1)\n"
   ]
  },
  {
   "cell_type": "code",
   "execution_count": 22,
   "metadata": {},
   "outputs": [
    {
     "name": "stderr",
     "output_type": "stream",
     "text": [
      "                                                                                                                                                                                                                                                                                                                                                      \r"
     ]
    },
    {
     "data": {
      "text/html": [
       "<video src=\"media\\jupyter\\TexMethodsDemo7@2023-11-01@11-17-42.mp4\" controls autoplay loop style=\"max-width: 100%;\"  >\n",
       "      Your browser does not support the <code>video</code> element.\n",
       "    </video>"
      ],
      "text/plain": [
       "<IPython.core.display.Video object>"
      ]
     },
     "metadata": {},
     "output_type": "display_data"
    }
   ],
   "source": [
    "%%manim -v WARNING --disable_caching -qm TexMethodsDemo7\n",
    "\n",
    "class TexMethodsDemo7(Scene):\n",
    "    def construct(self):\n",
    "        # Create the equation\n",
    "        equation = MathTex(\"x\", \"=\", \"y\", \"^2\", \"+\", \"y\", \"+\", \"a\").move_to(UP * 3)\n",
    "        self.play(Write(equation))\n",
    "\n",
    "        # Demonstrate get_part_by_tex\n",
    "        y_square = equation.get_part_by_tex(\"^2\")\n",
    "        self.play(y_square.animate.set_color(RED))\n",
    "        description = Text(\"get_part_by_tex\").next_to(equation, DOWN)\n",
    "        self.play(Write(description))\n",
    "        \n",
    "        # Add the provided text after the description\n",
    "        additional_text1 = Text(\"\"\"\n",
    "        Gaza has in recent days seen fierce battles \n",
    "        between Israeli ground troops and militants as \n",
    "        Israel has pressed its mission to \"crush\" Hamas \n",
    "        after it went on a rampage killing 1,400 people, \n",
    "        mostly civilians.\n",
    "        \"\"\", line_spacing=1.2).next_to(description, DOWN, buff=0.5).scale(0.55).to_edge(DOWN)\n",
    "        \n",
    "        self.play(Write(additional_text1))\n",
    "        self.wait(1)\n"
   ]
  },
  {
   "cell_type": "code",
   "execution_count": 18,
   "metadata": {},
   "outputs": [
    {
     "name": "stderr",
     "output_type": "stream",
     "text": [
      "                                                                                                                                                                                                                                                                                                                                                           \r"
     ]
    },
    {
     "data": {
      "text/html": [
       "<video src=\"media\\jupyter\\TexMethodsDemo4@2023-11-01@10-55-36.mp4\" controls autoplay loop style=\"max-width: 100%;\"  >\n",
       "      Your browser does not support the <code>video</code> element.\n",
       "    </video>"
      ],
      "text/plain": [
       "<IPython.core.display.Video object>"
      ]
     },
     "metadata": {},
     "output_type": "display_data"
    }
   ],
   "source": [
    "%%manim -v WARNING --disable_caching -qm TexMethodsDemo4\n",
    "\n",
    "class TexMethodsDemo4(Scene):\n",
    "    def construct(self):\n",
    "        # Create the equation\n",
    "        equation = MathTex(\"x\", \"=\", \"y\", \"^2\", \"+\", \"y\", \"+\", \"a\").move_to(UP * 3)\n",
    "        self.play(Write(equation))\n",
    "\n",
    "        # Demonstrate get_part_by_tex\n",
    "        y_square = equation.get_part_by_tex(\"^2\")\n",
    "        self.play(y_square.animate.set_color(RED))\n",
    "        description = Text(\"get_part_by_tex\").next_to(equation, DOWN)\n",
    "        self.play(Write(description))\n",
    "        \n",
    "        # Add the provided text after the description\n",
    "        additional_text1 = Text(\"\"\"\n",
    "        Gaza has in recent days seen fierce battles \n",
    "        between Israeli ground troops and militants as \n",
    "        Israel has pressed its mission to \"crush\" Hamas \n",
    "        after it went on a rampage killing 1,400 people, \n",
    "        mostly civilians.\n",
    "        \"\"\", line_spacing=1.2).scale(0.55)\n",
    "        \n",
    "        # Position the text block center and align the texts to the left\n",
    "        group1 = VGroup(description, additional_text1).arrange(DOWN, aligned_edge=LEFT).move_to(DOWN)\n",
    "        self.play(Write(additional_text1))\n",
    "        self.wait(1)\n",
    "\n",
    "        # Demonstrate get_parts_by_tex\n",
    "        y_terms = equation.get_parts_by_tex(\"y\")\n",
    "        self.play(*[part.animate.set_color(BLUE) for part in y_terms])\n",
    "        self.remove(group1)  # Remove the previous text block\n",
    "        description = Text(\"get_parts_by_tex\").next_to(equation, DOWN)\n",
    "        self.play(Write(description))\n",
    "        \n",
    "        # Add the second provided text after the new description\n",
    "        additional_text2 = Text(\"\"\"\n",
    "        Since then, Israel has hit back with an unstinting \n",
    "        aerial bombardment, which the health ministry in \n",
    "        Hamas-controlled Gaza says has now killed more \n",
    "        than 8,500 Palestinians, two-thirds of them women \n",
    "        and children.\n",
    "        \"\"\", line_spacing=1.2).scale(0.55)\n",
    "        \n",
    "        # Position the new text block center and align the texts to the left\n",
    "        group2 = VGroup(description, additional_text2).arrange(DOWN, aligned_edge=LEFT).move_to(DOWN)\n",
    "        self.play(Write(additional_text2))\n",
    "        self.wait(1)"
   ]
  },
  {
   "cell_type": "code",
   "execution_count": 28,
   "metadata": {},
   "outputs": [
    {
     "name": "stderr",
     "output_type": "stream",
     "text": [
      "                                                                                \r"
     ]
    },
    {
     "data": {
      "text/html": [
       "<video src=\"media\\jupyter\\AlignExample@2023-11-01@11-26-31.mp4\" controls autoplay loop style=\"max-width: 100%;\"  >\n",
       "      Your browser does not support the <code>video</code> element.\n",
       "    </video>"
      ],
      "text/plain": [
       "<IPython.core.display.Video object>"
      ]
     },
     "metadata": {},
     "output_type": "display_data"
    }
   ],
   "source": [
    "%%manim -v WARNING --disable_caching -qm AlignExample\n",
    "\n",
    "class AlignExample(Scene):\n",
    "    def construct(self):\n",
    "        # Create a circle and position it at the center of the screen\n",
    "        circle = Circle(color=BLUE)\n",
    "        self.play(Write(circle))\n",
    "\n",
    "        # Create a square and position it to the right of the screen\n",
    "        square = Square(color=RED).next_to(circle, RIGHT, buff=2)\n",
    "        self.play(Write(square))\n",
    "\n",
    "        # Align the top of the square to the bottom of the circle\n",
    "        square.align_to(circle, direction=DOWN)\n",
    "        self.play(Transform(square, square))\n",
    "\n",
    "        self.wait(1)"
   ]
  },
  {
   "cell_type": "code",
   "execution_count": 36,
   "metadata": {},
   "outputs": [
    {
     "name": "stderr",
     "output_type": "stream",
     "text": [
      "                                                                                       \r"
     ]
    },
    {
     "data": {
      "text/html": [
       "<video src=\"media\\jupyter\\Fucking@2023-11-01@11-37-39.mp4\" controls autoplay loop style=\"max-width: 100%;\"  >\n",
       "      Your browser does not support the <code>video</code> element.\n",
       "    </video>"
      ],
      "text/plain": [
       "<IPython.core.display.Video object>"
      ]
     },
     "metadata": {},
     "output_type": "display_data"
    }
   ],
   "source": [
    "%%manim -v WARNING --disable_caching -qm Fucking\n",
    "\n",
    "class Fucking(Scene):\n",
    "    def construct(self):\n",
    "        # Create a rectangle on the left side\n",
    "        rectangle = Rectangle(width=3, height=2, color=BLUE).to_edge(LEFT, buff=1)\n",
    "        self.play(Write(rectangle))\n",
    "\n",
    "        # Create a circle on the right side\n",
    "        circle = Circle(radius=1, color=RED).to_edge(RIGHT, buff=1)\n",
    "        self.play(Write(circle))\n",
    "\n",
    "        # Position the circle to the right of the rectangle\n",
    "        circle.next_to(rectangle, direction=RIGHT, buff=0.5)\n",
    "        self.play(circle.animate.move_to(rectangle.get_right() + RIGHT * 0.5))\n",
    "\n",
    "        self.wait(1)"
   ]
  },
  {
   "cell_type": "code",
   "execution_count": 41,
   "metadata": {},
   "outputs": [
    {
     "name": "stderr",
     "output_type": "stream",
     "text": [
      "                                                                            \r"
     ]
    },
    {
     "data": {
      "text/html": [
       "<video src=\"media\\jupyter\\SimplifiedAlignExample@2023-11-01@11-45-04.mp4\" controls autoplay loop style=\"max-width: 100%;\"  >\n",
       "      Your browser does not support the <code>video</code> element.\n",
       "    </video>"
      ],
      "text/plain": [
       "<IPython.core.display.Video object>"
      ]
     },
     "metadata": {},
     "output_type": "display_data"
    }
   ],
   "source": [
    "%%manim -v WARNING --disable_caching -qm SimplifiedAlignExample\n",
    "\n",
    "class SimplifiedAlignExample(Scene):\n",
    "    def construct(self):\n",
    "        # Create a square at the center\n",
    "        square = Square(side_length=2, color=BLUE)\n",
    "        self.play(Write(square))\n",
    "\n",
    "        # Create a circle\n",
    "        circle = Circle(radius=1, color=RED)\n",
    "        \n",
    "        # Position the circle below the square\n",
    "        circle.next_to(square, DOWN)\n",
    "        self.play(Write(circle))\n",
    "\n",
    "        self.wait(1)\n",
    "\n"
   ]
  },
  {
   "cell_type": "code",
   "execution_count": 42,
   "metadata": {},
   "outputs": [
    {
     "name": "stderr",
     "output_type": "stream",
     "text": [
      "                                                                                                \r"
     ]
    },
    {
     "ename": "IndentationError",
     "evalue": "unexpected indent (<string>, line 2)",
     "output_type": "error",
     "traceback": [
      "Traceback \u001b[1;36m(most recent call last)\u001b[0m:\n",
      "\u001b[0m  File \u001b[0;32mc:\\Users\\PC\\Desktop\\ManimCE1\\mce\\lib\\site-packages\\IPython\\core\\interactiveshell.py:3508\u001b[0m in \u001b[0;35mrun_code\u001b[0m\n    exec(code_obj, self.user_global_ns, self.user_ns)\u001b[0m\n",
      "\u001b[0m  Cell \u001b[0;32mIn[42], line 1\u001b[0m\n    get_ipython().run_cell_magic('manim', '-v WARNING --disable_caching -qm TexMethodsDemo4', '\\nclass TexMethodsDemo4(Scene):\\n    def construct(self):\\n        # Create the equation\\n        equation = MathTex(\"x\", \"=\", \"y\", \"^2\", \"+\", \"y\", \"+\", \"a\").move_to(UP * 2)\\n        self.play(Write(equation))\\n\\n        # Method demonstrations with code snippets\\n        methods = [\\n            (\"get_part_by_tex\", \"\"\"\\n            y_square = equation.get_part_by_tex(\"^2\")\\n            self.play(y_square.animate.set_color(RED))\\n            \"\"\"),\\n            (\"get_parts_by_tex\", \"\"\"\\n            y_terms = equation.get_parts_by_tex(\"y\")\\n            self.play(*[part.animate.set_color(BLUE) for part in y_terms])\\n            \"\"\"),\\n            (\"index_of_part\", \"\"\"\\n            index = equation.index_of_part(y_square)\\n            self.play(Indicate(y_square))\\n            \"\"\"),\\n            (\"index_of_part_by_tex\", \"\"\"\\n            index_y = equation.index_of_part_by_tex(\"y\")\\n            y_part_at_index = equation.submobjects[index_y]\\n            self.play(Indicate(y_part_at_index))\\n            \"\"\"),\\n            (\"set_color_by_tex\", \"\"\"\\n            equation.set_color_by_tex(\"^2\", color=GREEN)\\n            \"\"\"),\\n            (\"set_color_by_tex_to_color_map\", \"\"\"\\n            color_map = {\"x\": YELLOW, \"^2\": PURPLE}\\n            equation.set_color_by_tex_to_color_map(color_map)\\n            \"\"\"),\\n            (\"set_opacity_by_tex\", \"\"\"\\n            equation.set_opacity_by_tex(\"^2\", opacity=0.5)\\n            \"\"\"),\\n            (\"sort_alphabetically\", \"\"\"\\n            equation.sort_alphabetically()\\n            # This doesn\\'t visibly change the equation.\\n            \"\"\")\\n        ]\\n\\n        for method_name, code in methods:\\n            code_display = Code(code=code, font=\"Monospace\", tab_width=4, background=\"window\", language=\"Python\").next_to(equation, DOWN * 3.5).to_edge(LEFT)\\n            self.play(Write(code_display))\\n            exec(code)  # Execute the code for each method demonstration\\n            description = Text(method_name).next_to(equation, DOWN)\\n            self.play(Write(description))\\n            self.wait(1)\\n            self.play(FadeOut(code_display), FadeOut(description))\\n')\u001b[0m\n",
      "\u001b[0m  File \u001b[0;32mc:\\Users\\PC\\Desktop\\ManimCE1\\mce\\lib\\site-packages\\IPython\\core\\interactiveshell.py:2478\u001b[0m in \u001b[0;35mrun_cell_magic\u001b[0m\n    result = fn(*args, **kwargs)\u001b[0m\n",
      "\u001b[0m  File \u001b[0;32mc:\\Users\\PC\\Desktop\\ManimCE1\\mce\\lib\\site-packages\\manim\\utils\\ipython_magic.py:141\u001b[0m in \u001b[0;35mmanim\u001b[0m\n    scene.render()\u001b[0m\n",
      "\u001b[0m  File \u001b[0;32mc:\\Users\\PC\\Desktop\\ManimCE1\\mce\\lib\\site-packages\\manim\\scene\\scene.py:223\u001b[0m in \u001b[0;35mrender\u001b[0m\n    self.construct()\u001b[0m\n",
      "\u001b[1;36m  File \u001b[1;32m<string>:46\u001b[1;36m in \u001b[1;35mconstruct\u001b[1;36m\n",
      "\u001b[1;36m  File \u001b[1;32m<string>:2\u001b[1;36m\u001b[0m\n\u001b[1;33m    y_square = equation.get_part_by_tex(\"^2\")\u001b[0m\n\u001b[1;37m    ^\u001b[0m\n\u001b[1;31mIndentationError\u001b[0m\u001b[1;31m:\u001b[0m unexpected indent\n"
     ]
    }
   ],
   "source": [
    "%%manim -v WARNING --disable_caching -qm TexMethodsDemo4\n",
    "\n",
    "class TexMethodsDemo4(Scene):\n",
    "    def construct(self):\n",
    "        # Create the equation\n",
    "        equation = MathTex(\"x\", \"=\", \"y\", \"^2\", \"+\", \"y\", \"+\", \"a\").move_to(UP * 2)\n",
    "        self.play(Write(equation))\n",
    "\n",
    "        # Method demonstrations with code snippets\n",
    "        methods = [\n",
    "            (\"get_part_by_tex\", \"\"\"\n",
    "            y_square = equation.get_part_by_tex(\"^2\")\n",
    "            self.play(y_square.animate.set_color(RED))\n",
    "            \"\"\"),\n",
    "            (\"get_parts_by_tex\", \"\"\"\n",
    "            y_terms = equation.get_parts_by_tex(\"y\")\n",
    "            self.play(*[part.animate.set_color(BLUE) for part in y_terms])\n",
    "            \"\"\"),\n",
    "            (\"index_of_part\", \"\"\"\n",
    "            index = equation.index_of_part(y_square)\n",
    "            self.play(Indicate(y_square))\n",
    "            \"\"\"),\n",
    "            (\"index_of_part_by_tex\", \"\"\"\n",
    "            index_y = equation.index_of_part_by_tex(\"y\")\n",
    "            y_part_at_index = equation.submobjects[index_y]\n",
    "            self.play(Indicate(y_part_at_index))\n",
    "            \"\"\"),\n",
    "            (\"set_color_by_tex\", \"\"\"\n",
    "            equation.set_color_by_tex(\"^2\", color=GREEN)\n",
    "            \"\"\"),\n",
    "            (\"set_color_by_tex_to_color_map\", \"\"\"\n",
    "            color_map = {\"x\": YELLOW, \"^2\": PURPLE}\n",
    "            equation.set_color_by_tex_to_color_map(color_map)\n",
    "            \"\"\"),\n",
    "            (\"set_opacity_by_tex\", \"\"\"\n",
    "            equation.set_opacity_by_tex(\"^2\", opacity=0.5)\n",
    "            \"\"\"),\n",
    "            (\"sort_alphabetically\", \"\"\"\n",
    "            equation.sort_alphabetically()\n",
    "            # This doesn't visibly change the equation.\n",
    "            \"\"\")\n",
    "        ]\n",
    "\n",
    "        for method_name, code in methods:\n",
    "            code_display = Code(code=code, font=\"Monospace\", tab_width=4, background=\"window\", language=\"Python\").next_to(equation, DOWN * 3.5).to_edge(LEFT)\n",
    "            self.play(Write(code_display))\n",
    "            exec(code)  # Execute the code for each method demonstration\n",
    "            description = Text(method_name).next_to(equation, DOWN)\n",
    "            self.play(Write(description))\n",
    "            self.wait(1)\n",
    "            self.play(FadeOut(code_display), FadeOut(description))"
   ]
  },
  {
   "cell_type": "code",
   "execution_count": 63,
   "metadata": {},
   "outputs": [
    {
     "name": "stderr",
     "output_type": "stream",
     "text": [
      "                                                                                                              \r"
     ]
    },
    {
     "data": {
      "text/html": [
       "<video src=\"media\\jupyter\\TexMethodsDemo1@2023-11-01@13-14-37.mp4\" controls autoplay loop style=\"max-width: 100%;\"  >\n",
       "      Your browser does not support the <code>video</code> element.\n",
       "    </video>"
      ],
      "text/plain": [
       "<IPython.core.display.Video object>"
      ]
     },
     "metadata": {},
     "output_type": "display_data"
    }
   ],
   "source": [
    "%%manim -v WARNING --disable_caching -qm TexMethodsDemo1\n",
    "\n",
    "class TexMethodsDemo1(Scene):\n",
    "    def construct(self):\n",
    "        # Create the equation\n",
    "        equation = MathTex(\"x\", \"=\", \"y\", \"^2\", \"+\", \"y\", \"+\", \"a\").move_to(UP * 2)\n",
    "        self.play(Write(equation))\n",
    "\n",
    "        # Initialize a dictionary to store the local variables across demonstrations\n",
    "        local_vars = {}\n",
    "\n",
    "        # To keep track of the previous description\n",
    "        prev_description = None\n",
    "\n",
    "        # Display and execute a method demonstration\n",
    "        def show_method(method_code, exec_code):\n",
    "            nonlocal prev_description\n",
    "\n",
    "            code_display = Code(code=method_code, font=\"Monospace\", tab_width=4, background=\"window\", language=\"Python\").next_to(equation, DOWN * 3.5).to_edge(LEFT)\n",
    "            self.play(Write(code_display))\n",
    "\n",
    "            # Fade out the previous description if it exists\n",
    "            if prev_description:\n",
    "                self.play(FadeOut(prev_description))\n",
    "\n",
    "            # Merge existing local_vars with the locals of this function to preserve variables across demonstrations\n",
    "            merged_vars = {**local_vars, **locals()}\n",
    "            exec(exec_code, globals(), merged_vars)  # pass merged variables to the exec function\n",
    "\n",
    "            # Update the local_vars dictionary with the merged_vars to capture any new variables\n",
    "            local_vars.update(merged_vars)\n",
    "\n",
    "            description = local_vars.get(\"description\", None)\n",
    "            if description:\n",
    "                self.wait(1)\n",
    "                self.play(FadeOut(code_display))\n",
    "                # Set the current description as the previous description for the next function call\n",
    "                prev_description = description\n",
    "\n",
    "\n",
    "        # Demonstrate get_part_by_tex\n",
    "        code1 = \"\"\"y_square = equation.get_part_by_tex(\"^2\")\n",
    "self.play(y_square.animate.set_color(RED))\n",
    "description = Text(\"get_part_by_tex\").next_to(equation, DOWN)\n",
    "self.play(Write(description))\"\"\"\n",
    "        show_method(code1, code1)\n",
    "\n",
    "        # Demonstrate get_parts_by_tex\n",
    "        code2 = \"\"\"y_terms = equation.get_parts_by_tex(\"y\")\n",
    "self.play(*[part.animate.set_color(BLUE) for part in y_terms])\n",
    "description = Text(\"get_parts_by_tex\").next_to(equation, DOWN)\n",
    "self.play(Write(description))\"\"\"\n",
    "        show_method(code2, code2)\n",
    "\n",
    "        # Demonstrate index_of_part\n",
    "        code3 = \"\"\"index = equation.index_of_part(y_square)\n",
    "self.play(Indicate(y_square))\n",
    "description = Text(\"index_of_part\").next_to(equation, DOWN)\n",
    "self.play(Write(description))\"\"\"\n",
    "        show_method(code3, code3)\n",
    "\n",
    "        # Demonstrate index_of_part_by_tex\n",
    "        code4 = \"\"\"index_y = equation.index_of_part_by_tex(\"y\")\n",
    "y_part_at_index = equation.submobjects[index_y]\n",
    "self.play(Indicate(y_part_at_index))\n",
    "description = Text(\"index_of_part_by_tex\").next_to(equation, DOWN)\n",
    "self.play(Write(description))\"\"\"\n",
    "        show_method(code4, code4)\n",
    "\n",
    "        # Demonstrate set_color_by_tex\n",
    "        code5 = \"\"\"equation.set_color_by_tex(\"^2\", color=GREEN)\n",
    "description = Text(\"set_color_by_tex\").next_to(equation, DOWN)\n",
    "self.play(Write(description))\"\"\"\n",
    "        show_method(code5, code5)\n",
    "\n",
    "        # Demonstrate set_color_by_tex_to_color_map\n",
    "        code6 = \"\"\"color_map = {\"x\": YELLOW, \"^2\": PURPLE}\n",
    "equation.set_color_by_tex_to_color_map(color_map)\n",
    "description = Text(\"set_color_by_tex_to_color_map\").next_to(equation, DOWN)\n",
    "self.play(Write(description))\"\"\"\n",
    "        show_method(code6, code6)\n",
    "\n",
    "        # Demonstrate set_opacity_by_tex\n",
    "        code7 = \"\"\"equation.set_opacity_by_tex(\"^2\", opacity=0.5)\n",
    "description = Text(\"set_opacity_by_tex\").next_to(equation, DOWN)\n",
    "self.play(Write(description))\"\"\"\n",
    "        show_method(code7, code7)\n",
    "\n",
    "        # Demonstrate sort_alphabetically\n",
    "        code8 = \"\"\"# This method doesn't visibly change the equation.\n",
    "description = Text(\"sort_alphabetically\").next_to(equation, DOWN)\n",
    "self.play(Write(description))\"\"\"\n",
    "        show_method(code8, code8)\n",
    "\n",
    "        self.play(FadeOut(equation))\n"
   ]
  },
  {
   "cell_type": "code",
   "execution_count": 61,
   "metadata": {},
   "outputs": [
    {
     "name": "stderr",
     "output_type": "stream",
     "text": [
      "                                                                                                                  \r"
     ]
    },
    {
     "data": {
      "text/html": [
       "<video src=\"media\\jupyter\\TexMethodsDemo2@2023-11-01@12-56-16.mp4\" controls autoplay loop style=\"max-width: 100%;\"  >\n",
       "      Your browser does not support the <code>video</code> element.\n",
       "    </video>"
      ],
      "text/plain": [
       "<IPython.core.display.Video object>"
      ]
     },
     "metadata": {},
     "output_type": "display_data"
    }
   ],
   "source": [
    "%%manim -v WARNING --disable_caching -qm TexMethodsDemo2\n",
    "\n",
    "class TexMethodsDemo2(Scene):\n",
    "    def construct(self):\n",
    "         \n",
    "         # Create the equation\n",
    "        equation = MathTex(\"x\", \"=\", \"y\", \"^2\", \"+\", \"y\", \"+\", \"a\").move_to(UP * 2)\n",
    "        self.play(Write(equation))\n",
    "\n",
    "        local_vars = {}\n",
    "        previous_description = None  # Store the previous description to fade it out\n",
    "\n",
    "        # Display and execute a method demonstration\n",
    "        def show_method(method_code, exec_code):\n",
    "            nonlocal previous_description\n",
    "            nonlocal equation\n",
    "            nonlocal local_vars\n",
    "            \n",
    "            code_display = Code(code=method_code, font=\"Monospace\", tab_width=4, background=\"window\", language=\"Python\").next_to(equation, DOWN * 3.5).to_edge(LEFT)\n",
    "            self.play(Write(code_display))\n",
    "            \n",
    "            # Merge existing local_vars with the locals of this function to preserve variables across demonstrations\n",
    "            merged_vars = {**local_vars, **locals()}\n",
    "            exec(exec_code, globals(), merged_vars)  # pass merged variables to the exec function\n",
    "            \n",
    "            # Update the local_vars dictionary with the merged_vars to capture any new variables\n",
    "            local_vars.update(merged_vars)\n",
    "            \n",
    "            # Fade out the previous description if it exists\n",
    "            if previous_description:\n",
    "                self.play(FadeOut(previous_description))\n",
    "            \n",
    "            description = Text(method_code.split()[2]).next_to(equation, DOWN)  # Get method name from code string and create description\n",
    "            self.play(Write(description))\n",
    "            previous_description = description  # Store the current description as previous\n",
    "            \n",
    "            self.wait(1)\n",
    "            self.play(FadeOut(code_display))\n",
    "\n",
    "\n",
    "        # Demonstrate get_part_by_tex\n",
    "        code1 = \"\"\"y_square = equation.get_part_by_tex(\"^2\")\n",
    "self.play(y_square.animate.set_color(RED))\n",
    "description = Text(\"get_part_by_tex\").next_to(equation, DOWN)\n",
    "self.play(Write(description))\"\"\"\n",
    "        show_method(code1, code1)\n",
    "\n",
    "        # Demonstrate get_parts_by_tex\n",
    "        code2 = \"\"\"y_terms = equation.get_parts_by_tex(\"y\")\n",
    "self.play(*[part.animate.set_color(BLUE) for part in y_terms])\n",
    "description = Text(\"get_parts_by_tex\").next_to(equation, DOWN)\n",
    "self.play(Write(description))\"\"\"\n",
    "        show_method(code2, code2)\n",
    "\n",
    "        # Demonstrate index_of_part\n",
    "        code3 = \"\"\"index = equation.index_of_part(y_square)\n",
    "self.play(Indicate(y_square))\n",
    "description = Text(\"index_of_part\").next_to(equation, DOWN)\n",
    "self.play(Write(description))\"\"\"\n",
    "        show_method(code3, code3)\n",
    "\n",
    "        # Demonstrate index_of_part_by_tex\n",
    "        code4 = \"\"\"index_y = equation.index_of_part_by_tex(\"y\")\n",
    "y_part_at_index = equation.submobjects[index_y]\n",
    "self.play(Indicate(y_part_at_index))\n",
    "description = Text(\"index_of_part_by_tex\").next_to(equation, DOWN)\n",
    "self.play(Write(description))\"\"\"\n",
    "        show_method(code4, code4)\n",
    "\n",
    "        # Demonstrate set_color_by_tex\n",
    "        code5 = \"\"\"equation.set_color_by_tex(\"^2\", color=GREEN)\n",
    "description = Text(\"set_color_by_tex\").next_to(equation, DOWN)\n",
    "self.play(Write(description))\"\"\"\n",
    "        show_method(code5, code5)\n",
    "\n",
    "        # Demonstrate set_color_by_tex_to_color_map\n",
    "        code6 = \"\"\"color_map = {\"x\": YELLOW, \"^2\": PURPLE}\n",
    "equation.set_color_by_tex_to_color_map(color_map)\n",
    "description = Text(\"set_color_by_tex_to_color_map\").next_to(equation, DOWN)\n",
    "self.play(Write(description))\"\"\"\n",
    "        show_method(code6, code6)\n",
    "\n",
    "        # Demonstrate set_opacity_by_tex\n",
    "        code7 = \"\"\"equation.set_opacity_by_tex(\"^2\", opacity=0.5)\n",
    "description = Text(\"set_opacity_by_tex\").next_to(equation, DOWN)\n",
    "self.play(Write(description))\"\"\"\n",
    "        show_method(code7, code7)\n",
    "\n",
    "        # Demonstrate sort_alphabetically\n",
    "        code8 = \"\"\"# This method doesn't visibly change the equation.\n",
    "description = Text(\"sort_alphabetically\").next_to(equation, DOWN)\n",
    "self.play(Write(description))\"\"\"\n",
    "        show_method(code8, code8)\n",
    "\n",
    "        self.play(FadeOut(equation))"
   ]
  },
  {
   "cell_type": "code",
   "execution_count": 49,
   "metadata": {},
   "outputs": [
    {
     "name": "stderr",
     "output_type": "stream",
     "text": [
      "                                                                                                              \r"
     ]
    },
    {
     "data": {
      "text/html": [
       "<video src=\"media\\jupyter\\TexMethodsDemo2@2023-11-01@12-23-34.mp4\" controls autoplay loop style=\"max-width: 100%;\"  >\n",
       "      Your browser does not support the <code>video</code> element.\n",
       "    </video>"
      ],
      "text/plain": [
       "<IPython.core.display.Video object>"
      ]
     },
     "metadata": {},
     "output_type": "display_data"
    }
   ],
   "source": [
    "%%manim -v WARNING --disable_caching -qm TexMethodsDemo2\n",
    "\n",
    "class TexMethodsDemo2(Scene):\n",
    "    def construct(self):\n",
    "        equation = MathTex(\"x\", \"=\", \"y\", \"^2\", \"+\", \"y\", \"+\", \"a\").move_to(UP * 2)\n",
    "        self.play(Write(equation))\n",
    "\n",
    "        # Method demonstrations\n",
    "        self.demo_get_part_by_tex(equation)\n",
    "        self.demo_get_parts_by_tex(equation)\n",
    "        self.demo_index_of_part(equation)\n",
    "        self.demo_index_of_part_by_tex(equation)\n",
    "        self.demo_set_color_by_tex(equation)\n",
    "        self.demo_set_color_by_tex_to_color_map(equation)\n",
    "        self.demo_set_opacity_by_tex(equation)\n",
    "        self.demo_sort_alphabetically(equation)\n",
    "\n",
    "        self.play(FadeOut(equation))\n",
    "\n",
    "    def demo_get_part_by_tex(self, equation):\n",
    "        y_square = equation.get_part_by_tex(\"^2\")\n",
    "        self.play(y_square.animate.set_color(RED))\n",
    "        description = Text(\"get_part_by_tex\").next_to(equation, DOWN)\n",
    "        self.play(Write(description))\n",
    "        self.wait(1)\n",
    "        self.play(FadeOut(description))\n",
    "\n",
    "    def demo_get_parts_by_tex(self, equation):\n",
    "        y_terms = equation.get_parts_by_tex(\"y\")\n",
    "        self.play(*[part.animate.set_color(BLUE) for part in y_terms])\n",
    "        description = Text(\"get_parts_by_tex\").next_to(equation, DOWN)\n",
    "        self.play(Write(description))\n",
    "        self.wait(1)\n",
    "        self.play(FadeOut(description))\n",
    "\n",
    "    def demo_index_of_part(self, equation):\n",
    "        y_square = equation.get_part_by_tex(\"^2\")\n",
    "        index = equation.index_of_part(y_square)\n",
    "        self.play(Indicate(y_square))\n",
    "        description = Text(\"index_of_part\").next_to(equation, DOWN)\n",
    "        self.play(Write(description))\n",
    "        self.wait(1)\n",
    "        self.play(FadeOut(description))\n",
    "\n",
    "    def demo_index_of_part_by_tex(self, equation):\n",
    "        index_y = equation.index_of_part_by_tex(\"y\")\n",
    "        y_part_at_index = equation.submobjects[index_y]\n",
    "        self.play(Indicate(y_part_at_index))\n",
    "        description = Text(\"index_of_part_by_tex\").next_to(equation, DOWN)\n",
    "        self.play(Write(description))\n",
    "        self.wait(1)\n",
    "        self.play(FadeOut(description))\n",
    "\n",
    "    def demo_set_color_by_tex(self, equation):\n",
    "        equation.set_color_by_tex(\"^2\", color=GREEN)\n",
    "        description = Text(\"set_color_by_tex\").next_to(equation, DOWN)\n",
    "        self.play(Write(description))\n",
    "        self.wait(1)\n",
    "        self.play(FadeOut(description))\n",
    "\n",
    "    def demo_set_color_by_tex_to_color_map(self, equation):\n",
    "        color_map = {\"x\": YELLOW, \"^2\": PURPLE}\n",
    "        equation.set_color_by_tex_to_color_map(color_map)\n",
    "        description = Text(\"set_color_by_tex_to_color_map\").next_to(equation, DOWN)\n",
    "        self.play(Write(description))\n",
    "        self.wait(1)\n",
    "        self.play(FadeOut(description))\n",
    "\n",
    "    def demo_set_opacity_by_tex(self, equation):\n",
    "        equation.set_opacity_by_tex(\"^2\", opacity=0.5)\n",
    "        description = Text(\"set_opacity_by_tex\").next_to(equation, DOWN)\n",
    "        self.play(Write(description))\n",
    "        self.wait(1)\n",
    "        self.play(FadeOut(description))\n",
    "\n",
    "    def demo_sort_alphabetically(self, equation):\n",
    "        # This method doesn't visibly change the equation.\n",
    "        description = Text(\"sort_alphabetically\").next_to(equation, DOWN)\n",
    "        self.play(Write(description))\n",
    "        self.wait(1)\n",
    "        self.play(FadeOut(description))"
   ]
  }
 ],
 "metadata": {
  "kernelspec": {
   "display_name": "mce",
   "language": "python",
   "name": "python3"
  },
  "language_info": {
   "codemirror_mode": {
    "name": "ipython",
    "version": 3
   },
   "file_extension": ".py",
   "mimetype": "text/x-python",
   "name": "python",
   "nbconvert_exporter": "python",
   "pygments_lexer": "ipython3",
   "version": "3.8.7"
  }
 },
 "nbformat": 4,
 "nbformat_minor": 2
}
